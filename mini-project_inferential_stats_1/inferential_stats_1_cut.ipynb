{
 "cells": [
  {
   "cell_type": "code",
   "execution_count": 9,
   "metadata": {},
   "outputs": [
    {
     "data": {
      "text/plain": [
       "array([98.13      , 98.36617308])"
      ]
     },
     "execution_count": 9,
     "metadata": {},
     "output_type": "execute_result"
    }
   ],
   "source": [
    "# Define function to compute bootstrap confidence interval\n",
    "def bootstrap_ci(data, statistic, n_samples, q=[2.5, 97.5]):\n",
    "    # Create n_samples bootstrap samples, each filling one column\n",
    "    samples = np.random.choice(data, size=(len(data), n_samples))\n",
    "    # For each sample, create boostrap replicate\n",
    "    replicates = np.apply_along_axis(func1d=statistic, \n",
    "                                     axis=0,\n",
    "                                     arr=samples)\n",
    "    # Compute confidence interval from bootstrap replicates\n",
    "    ci = np.percentile(replicates, q)\n",
    "    return(ci)\n",
    "\n",
    "# Computes bootstrap confidence interval for mean temperature\n",
    "bootstrap_ci(data=df.temperature, \n",
    "             statistic=np.mean, \n",
    "             n_samples=1000)"
   ]
  },
  {
   "cell_type": "code",
   "execution_count": null,
   "metadata": {},
   "outputs": [],
   "source": []
  }
 ],
 "metadata": {
  "kernelspec": {
   "display_name": "Python 3",
   "language": "python",
   "name": "python3"
  },
  "language_info": {
   "codemirror_mode": {
    "name": "ipython",
    "version": 3
   },
   "file_extension": ".py",
   "mimetype": "text/x-python",
   "name": "python",
   "nbconvert_exporter": "python",
   "pygments_lexer": "ipython3",
   "version": "3.6.6"
  }
 },
 "nbformat": 4,
 "nbformat_minor": 2
}
