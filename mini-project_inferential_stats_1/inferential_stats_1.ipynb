{
 "cells": [
  {
   "cell_type": "markdown",
   "metadata": {},
   "source": [
    "# What is the True Normal Human Body Temperature? \n",
    "\n",
    "#### Background\n",
    "\n",
    "The mean normal body temperature was held to be 37°C or 98.6°F for more than 120 years since it was first conceptualized and reported by Carl Wunderlich in a famous 1868 book. But, is this value statistically correct?\n",
    "\n",
    "<h3>Exercises</h3>\n",
    "\n",
    "<p>In this exercise, you will analyze a dataset of human body temperatures and employ the concepts of hypothesis testing, confidence intervals, and statistical significance.</p>\n",
    "\n",
    "<p>Answer the following questions <b>in this notebook below and submit to your Github account</b>.</p> \n",
    "\n",
    "<ol>"
   ]
  },
  {
   "cell_type": "markdown",
   "metadata": {},
   "source": [
    "**<li>  Is the distribution of body temperatures normal? \n",
    "    <ul>\n",
    "    <li> Although this is not a requirement for the Central Limit Theorem to hold (read the introduction on Wikipedia's page about the CLT carefully: https://en.wikipedia.org/wiki/Central_limit_theorem), it gives us some peace of mind that the population may also be normally distributed if we assume that this sample is representative of the population.\n",
    "    <li> Think about the way you're going to check for the normality of the distribution. Graphical methods are usually used first, but there are also other ways: https://en.wikipedia.org/wiki/Normality_test\n",
    "    </ul>**"
   ]
  },
  {
   "cell_type": "markdown",
   "metadata": {},
   "source": [
    "We will start by importing necessary packages. Then we will read in the data and make sure they were imported correctly."
   ]
  },
  {
   "cell_type": "code",
   "execution_count": 1,
   "metadata": {},
   "outputs": [
    {
     "data": {
      "text/html": [
       "<div>\n",
       "<style scoped>\n",
       "    .dataframe tbody tr th:only-of-type {\n",
       "        vertical-align: middle;\n",
       "    }\n",
       "\n",
       "    .dataframe tbody tr th {\n",
       "        vertical-align: top;\n",
       "    }\n",
       "\n",
       "    .dataframe thead th {\n",
       "        text-align: right;\n",
       "    }\n",
       "</style>\n",
       "<table border=\"1\" class=\"dataframe\">\n",
       "  <thead>\n",
       "    <tr style=\"text-align: right;\">\n",
       "      <th></th>\n",
       "      <th>temperature</th>\n",
       "      <th>gender</th>\n",
       "    </tr>\n",
       "  </thead>\n",
       "  <tbody>\n",
       "    <tr>\n",
       "      <th>0</th>\n",
       "      <td>99.3</td>\n",
       "      <td>F</td>\n",
       "    </tr>\n",
       "    <tr>\n",
       "      <th>1</th>\n",
       "      <td>98.4</td>\n",
       "      <td>F</td>\n",
       "    </tr>\n",
       "    <tr>\n",
       "      <th>2</th>\n",
       "      <td>97.8</td>\n",
       "      <td>M</td>\n",
       "    </tr>\n",
       "    <tr>\n",
       "      <th>3</th>\n",
       "      <td>99.2</td>\n",
       "      <td>F</td>\n",
       "    </tr>\n",
       "    <tr>\n",
       "      <th>4</th>\n",
       "      <td>98.0</td>\n",
       "      <td>F</td>\n",
       "    </tr>\n",
       "  </tbody>\n",
       "</table>\n",
       "</div>"
      ],
      "text/plain": [
       "   temperature gender\n",
       "0         99.3      F\n",
       "1         98.4      F\n",
       "2         97.8      M\n",
       "3         99.2      F\n",
       "4         98.0      F"
      ]
     },
     "execution_count": 1,
     "metadata": {},
     "output_type": "execute_result"
    }
   ],
   "source": [
    "# Import packages\n",
    "import numpy as np\n",
    "import pandas as pd\n",
    "from matplotlib import pyplot as plt\n",
    "import seaborn as sns\n",
    "\n",
    "import statsmodels\n",
    "import statsmodels.api as sm\n",
    "import scipy\n",
    "import scipy.stats as stats\n",
    "\n",
    "\n",
    "# Import data (only relevant columns)\n",
    "df = pd.read_csv('data/human_body_temperature.csv', usecols=['temperature', 'gender'])\n",
    "\n",
    "# Inspect the data\n",
    "df.head()"
   ]
  },
  {
   "cell_type": "code",
   "execution_count": 2,
   "metadata": {},
   "outputs": [
    {
     "name": "stdout",
     "output_type": "stream",
     "text": [
      "<class 'pandas.core.frame.DataFrame'>\n",
      "RangeIndex: 130 entries, 0 to 129\n",
      "Data columns (total 2 columns):\n",
      "temperature    130 non-null float64\n",
      "gender         130 non-null object\n",
      "dtypes: float64(1), object(1)\n",
      "memory usage: 2.1+ KB\n"
     ]
    }
   ],
   "source": [
    "df.info()"
   ]
  },
  {
   "cell_type": "markdown",
   "metadata": {},
   "source": [
    "The data seem to have been imported correctly.  The variables have the right types, and there are no missing values. \n",
    "\n",
    "So let's answer the question about normality. We will start with a Q-Q Plot, which plots the quantiles of the observed distribution against the quantiles we would expect if the distribution was normal:"
   ]
  },
  {
   "cell_type": "code",
   "execution_count": 3,
   "metadata": {},
   "outputs": [
    {
     "data": {
      "image/png": "[encoded data removed]",
      "text/plain": [
       "<Figure size 432x288 with 1 Axes>"
      ]
     },
     "metadata": {},
     "output_type": "display_data"
    }
   ],
   "source": [
    "fig = sm.qqplot(df.temperature, stats.norm, fit=True, line='45')\n",
    "plt.title('Q-Q Plot of Temperature')\n",
    "plt.show()"
   ]
  },
  {
   "cell_type": "markdown",
   "metadata": {},
   "source": [
    "The plot shows that the data points do not perfectly lie on the 45° line, as we would expect if the distribution was normal. The observed distribution of temperature has slightly wider tails (more extreme values) than a normal distribution. \n",
    "\n",
    "However, we cannot expect the observed and the theoretical quantile's to overlap perfectly in finite samples. Thus, we have to do a significance test to determine if this deviation could easily have been produced by random noise alone, or if it is substantial enough that we should reject the hypothesis that body temperature is normally distributed. One of the best tests for normality is the Shapiro-Wilk Test, so let's apply it:"
   ]
  },
  {
   "cell_type": "code",
   "execution_count": 4,
   "metadata": {},
   "outputs": [
    {
     "data": {
      "text/plain": [
       "0.23"
      ]
     },
     "execution_count": 4,
     "metadata": {},
     "output_type": "execute_result"
    }
   ],
   "source": [
    "# Conduct Shapiro-Wilk test, return only p-value\n",
    "round(stats.shapiro(df.temperature)[1], 2)"
   ]
  },
  {
   "cell_type": "markdown",
   "metadata": {},
   "source": [
    "The test yields a p-value of 0.23. Therefore, we cannot reject the null hypothesis that body temperature is normally distributed. "
   ]
  },
  {
   "cell_type": "markdown",
   "metadata": {},
   "source": [
    "**<li>  Is the sample size large? Are the observations independent?\n",
    "    <ul>\n",
    "    <li> Remember that this is a condition for the Central Limit Theorem, and hence the statistical tests we are using, to apply.\n",
    "    </ul>**"
   ]
  },
  {
   "cell_type": "markdown",
   "metadata": {},
   "source": [
    "First let's look at the sample size:"
   ]
  },
  {
   "cell_type": "code",
   "execution_count": 5,
   "metadata": {},
   "outputs": [
    {
     "data": {
      "text/plain": [
       "130"
      ]
     },
     "execution_count": 5,
     "metadata": {},
     "output_type": "execute_result"
    }
   ],
   "source": [
    "df.shape[0]"
   ]
  },
  {
   "cell_type": "markdown",
   "metadata": {},
   "source": [
    "We have 130 observations. There is no exact minimum number of observations for  asymptotic properties to hold, since convergence to the normal distribution depends on many factors.  For a simple t-test, 130 observation would almost certainly be enough (amongst other, because the t-test is pretty robust against all but the most extreme violations of its assumptions). \n",
    "\n",
    "However, our test does *not* rely on the CLT anyway: Since our sample seems to be normally distributed, our test statistic will also be normally distributed, and we therefore don't need the CLT and asymptotics. As a result, we don't have to worry about whether the size of the sample (except in so far as this increases the margin of error, but that is something we can observe directly).\n",
    "\n",
    "Now let's check for independence. Since we are dealing with cross-sectional observations, not a time-series, it is hard to imagine that the observations would be dependent. The only circumstance under which independence might conceivably be violated is a very specific form of measurement error that has memory (e.g., if the error at a point in time is the sum of measurement errors in the past).  Furthermore, note that even weak dependence would still be compatible with the Central Limit Theorem. Only if the dependence between observations is so strong as to make the process non-stationary would our results be invalidated.\n",
    "\n",
    "Even though such a strong dependence is extremely unlikely, let's test for independence just in case.  We will start by plotting the autocorrelation and partial autocorrelation for the first 20 lags. "
   ]
  },
  {
   "cell_type": "code",
   "execution_count": 6,
   "metadata": {},
   "outputs": [
    {
     "data": {
      "image/png": "[encoded data removed]",
      "text/plain": [
       "<Figure size 432x288 with 1 Axes>"
      ]
     },
     "metadata": {},
     "output_type": "display_data"
    },
    {
     "data": {
      "image/png": "[encoded data removed]",
      "text/plain": [
       "<Figure size 432x288 with 1 Axes>"
      ]
     },
     "metadata": {},
     "output_type": "display_data"
    }
   ],
   "source": [
    "from statsmodels.graphics.tsaplots import plot_acf, plot_pacf\n",
    "# Plot autocorrelation\n",
    "plot_acf(df.temperature, lags=20)\n",
    "plt.xlim([0.1, 21]) # Remove lag 0\n",
    "plt.ylim([-.3, .3])\n",
    "plt.ylabel('Correlation')\n",
    "plt.xlabel('Lag')\n",
    "plt.title('Autocorrelation for Temperature')\n",
    "plt.xticks(range(2, 21, 2))\n",
    "plt.show()\n",
    "\n",
    "# Plot partial autocorrelation\n",
    "plot_pacf(df. temperature, lags=20)\n",
    "plt.xlim([0.1, 21]) # Remove lag 0\n",
    "plt.ylim([-.3, .3])\n",
    "plt.ylabel('Correlation')\n",
    "plt.xlabel('Lag')\n",
    "plt.title('Partial Autocorrelation for Temperature')\n",
    "plt.xticks(range(2, 21, 2))\n",
    "plt.show()\n",
    "plt.close()"
   ]
  },
  {
   "cell_type": "markdown",
   "metadata": {},
   "source": [
    "These plots do not show any evidence of dependence. The autocorrelations for all 20 lags is within the 95% confidence interval (though one is at the border), and only one of the partial autocorrelations lies outside this confidence interval.  Since we are conducting 2\\*20=40 tests, we expect 0.05\\*40=2 of these tests to lead to significant results (to lie outside the confidence interval), even if the null hypothesis of no autocorrelation is true. Thus, since we actually observe less than that (only one, with a further one at the border), there is no evidence of autocorrelation.\n",
    "\n",
    "Now, to be on the safe side, let's conduct the bootstrap test for independence. To do so, we need to calculate the distribution of temperature's autocorrelation under the null hypothesis of independence. The most literal way of doing this would be by simply permuting the observations, and then repeat this a large number of times. \n",
    "\n",
    "However, I will use a more computationally efficient shortcut: Instead of permuting the observations (drawing *without* replacement), I will draw from them *with* replacement. This amounts to using a bootstrap. The primary advantage of this is that it allows us to create all samples in a single draw, whereas permutation would require a for-loop. (This is because if we draw without replacement, the length of the output array cannot be greater than the length of the input array, and NumPy doesn't have any other implementation for conducting multiple permutations at once.)\n",
    "\n",
    "There should not be any downsides to this shortcut, since the distribution of both autocorrelation statistics should be identical. The reason is that random sampling – whether with or without replacement – breaks any dependence between adjacent temperature samples. Furthermore, sampling with replacement (the bootstrap approach) gives us temperature samples that closely approximate the data-generating process - the \"real\" distribution (e.g., in terms of mean, variance, and higher-order moments). Since the bootstrap samples of temperature should thus have the same distribution as the permutations of temperature, the distribution of the autocorrelation statistics computed over both distributions should also be the same.\n",
    "\n",
    "Once we have the distribution of the temperature samples under the null hypothesis, we can then determine where in this distribution the observed autocorrelation falls. We simply count the proportion of observation from this distribution that are more extreme than the observed value, which gives us the one-sided p-value. Since we are conducting a two-sided test (because the autocorrelation could both be positive and negative), we multiply this number by two, which gives us the two-sided p-value."
   ]
  },
  {
   "cell_type": "code",
   "execution_count": 7,
   "metadata": {},
   "outputs": [
    {
     "data": {
      "text/plain": [
       "0.7438"
      ]
     },
     "execution_count": 7,
     "metadata": {},
     "output_type": "execute_result"
    }
   ],
   "source": [
    "def p_value(replicates, observed_stat, two_sided=True):\n",
    "    \"\"\"\n",
    "    Computes the p-value of a test statistic using bootstrap replicates.\n",
    "    \n",
    "    Parameters\n",
    "    ----------\n",
    "    replicates : pd.Series\n",
    "        bootstrap replicates (i.e., the value of the test statistic for\n",
    "        each bootstrap sample.\n",
    "    observed_stat : numeric\n",
    "        Value of the test statistic in the actual sample.\n",
    "    two_sided : bool, optional\n",
    "        Whether to conduct a one-sided or two-sided hypothesis test.\n",
    "        Default: True (two-sided).\n",
    "        \n",
    "    Returns\n",
    "    -------\n",
    "    numeric\n",
    "        p-value\n",
    "    \"\"\"\n",
    "    \n",
    "    # First compute what percentage of bootstrap replicates are LOWER\n",
    "    p = (replicates < observed_stat).mean() \n",
    "    # If more than half are LOWER, compute what percentage is HIGHER \n",
    "    # (since we are interested in what proportion is more extreme).\n",
    "    if p > 0.5:\n",
    "        p = (replicates > observed_stat).mean()\n",
    "    \n",
    "    # If conducting a 2-sided test, adjust the p-value accordingly\n",
    "    if two_sided == True:\n",
    "        p = 2 * p\n",
    "    return(p)\n",
    "\n",
    "\n",
    "def bootstrap_p_value(data, statistic, stat_observed, n_samples=10000, seed=1):\n",
    "    \"\"\"\n",
    "    Calculates the p-value for given data and test statistic using the bootstrap.\n",
    "    \n",
    "    This function can be used in two different ways:\n",
    "    1. It can be used directly if we are interested in testing for independence.\n",
    "    2. It can be called on data that have been shifted or rescaled in order to\n",
    "       simulate the distribution under the null hypothesis.This allows us to \n",
    "       test whether a sample has a given mean or variance. For example, the \n",
    "       function b_test_1samp() uses this function to conduct a one-sample test \n",
    "       for the mean.\n",
    "       \n",
    "    Parameters\n",
    "    ----------\n",
    "    data : Series or DataFrame\n",
    "        The data from which to sample the null hypothesis.\n",
    "    statistic : function\n",
    "        Test statistic to be calculated.\n",
    "    stat_observed : numeric, optional\n",
    "        Observed test statistic. \n",
    "    n_samples : int, optional \n",
    "        The number of bootstrap samples to draw. Default: 10000.\n",
    "    seed : int, optional\n",
    "        Random seed for resampling. \n",
    "        \n",
    "    Returns\n",
    "    -------\n",
    "    numeric\n",
    "        p-value of test statistic\n",
    "    \"\"\"\n",
    "   \n",
    "    # Make random number generator\n",
    "    rng = np.random.RandomState(seed)\n",
    "    # Draw bootstrap samples (each column contains one sample)\n",
    "    bootstrap_samples = rng.choice(data, size=(len(data), n_samples))\n",
    "    \n",
    "    # For each sample, compute test statistic\n",
    "    stat_replicates = np.apply_along_axis(func1d=statistic, axis=0, \n",
    "                                          arr=bootstrap_samples)\n",
    "    \n",
    "    # Compute p-value\n",
    "    return(p_value(stat_replicates, stat_observed))\n",
    " \n",
    "\n",
    "# Define a function that computes autocorrelation   \n",
    "def ac(data):\n",
    "    \"\"\"Computes the autocorrelation of a Series using NumPy\"\"\"\n",
    "    return (np.corrcoef(data[:-1], data[1:])[0,1])\n",
    "\n",
    "\n",
    "# Conduct bootstrap test for independence\n",
    "bootstrap_p_value(df.temperature, statistic=ac, stat_observed=ac(df.temperature))"
   ]
  },
  {
   "cell_type": "markdown",
   "metadata": {},
   "source": [
    "The bootstrap test supports our suspicion that the data are independent. It returns a p-value of 74%, which means that if the null hypothesis of no autocorrelation were true, there is a 74% chance of observing a correlation that is at least as far from 0 as we observed in the sample. Since this is far from being smaller than 5%, we except the alternative hypothesis that the data are indeed independent."
   ]
  },
  {
   "cell_type": "markdown",
   "metadata": {},
   "source": [
    "**<li>  Is the true population mean really 98.6 degrees F?\n",
    "    <ul>\n",
    "    <li> First, try a bootstrap hypothesis test.\n",
    "    </ul>**"
   ]
  },
  {
   "cell_type": "markdown",
   "metadata": {},
   "source": [
    "Before we conduct a test, let's see what the actual mean is in our sample:"
   ]
  },
  {
   "cell_type": "code",
   "execution_count": 8,
   "metadata": {},
   "outputs": [
    {
     "data": {
      "text/plain": [
       "98.25"
      ]
     },
     "execution_count": 8,
     "metadata": {},
     "output_type": "execute_result"
    }
   ],
   "source": [
    "round(df.temperature.mean(), 2)"
   ]
  },
  {
   "cell_type": "markdown",
   "metadata": {},
   "source": [
    "In our sample, the mean body temperature is 98.25°F. Now let's test whether this is significantly different from 98.6°F."
   ]
  },
  {
   "cell_type": "code",
   "execution_count": 9,
   "metadata": {},
   "outputs": [
    {
     "data": {
      "text/plain": [
       "0.0"
      ]
     },
     "execution_count": 9,
     "metadata": {},
     "output_type": "execute_result"
    }
   ],
   "source": [
    "def btest_1samp(data, test_value, n_samples=10000, two_sided=True):\n",
    "    \"\"\"\n",
    "    Tests whether the mean of a pd.Series is equal to a given value.\n",
    "    \n",
    "    Parameters\n",
    "    ----------\n",
    "    data : Series or DataFrame\n",
    "        The data from which to sample the null hypothesis.\n",
    "    test_value : numeric\n",
    "        The mean under the null hypothesis.\n",
    "    n_samples : int, optional \n",
    "        The number of bootstrap samples to draw. Default: 10000.\n",
    "    two_sided : bool, optional\n",
    "        Whether to conduct a one-sided or two-sided hypothesis test.\n",
    "        Default: True (two-sided).\n",
    "    \n",
    "    Returns\n",
    "    -------\n",
    "    numeric\n",
    "        p-value of test statistic\n",
    "    \"\"\"\n",
    "\n",
    "    # Compute observed mean\n",
    "    mean_observed = data.mean()\n",
    "    \n",
    "    # Compute mean of the data and make it equal to null hypothesis\n",
    "    data_shifted = data - mean_observed + test_value\n",
    "    \n",
    "    # Call bootstrap function to calculate p-value\n",
    "    p_value = bootstrap_p_value(data_shifted, \n",
    "                                stat_observed=mean_observed, \n",
    "                                statistic=np.mean)\n",
    "    \n",
    "    return(p_value)\n",
    "\n",
    "\n",
    "# Conduct bootstrap hypothesis test whether population mean is really 98.6° F\n",
    "btest_1samp(data=df.temperature, test_value=98.6)"
   ]
  },
  {
   "cell_type": "markdown",
   "metadata": {},
   "source": [
    "The bootstrap test returns a p-value of zero. This means that it is extremely unlikely that we would observe the data we did if the mean temperature was really 98.6°, as the null hypothesis assumed. Thus, we instead accept the alternative hypothesis that the average body temperature is different from 98.6°. Since our observed average was smaller than 98.6°F, we know that any hypothesis test that took any value greater than that as its null hypothesis would also be rejected. As a result, we can conclude that the true value is below 98.6°F."
   ]
  },
  {
   "cell_type": "markdown",
   "metadata": {},
   "source": [
    "**<li> Now, lets try frequentist statistical testing. Would you use a one-sample or two-sample test? Why?**"
   ]
  },
  {
   "cell_type": "markdown",
   "metadata": {},
   "source": [
    "We will need a one-sample test, because we are comparing the mean from a single sample to a given mean, 98.6, rather than comparing the means of two different examples. "
   ]
  },
  {
   "cell_type": "markdown",
   "metadata": {},
   "source": [
    "**<li> In this situation, is it appropriate to use the $t$ or $z$ statistic?**"
   ]
  },
  {
   "cell_type": "markdown",
   "metadata": {},
   "source": [
    "Our test will use the t-statistic rather than the z-score, because there is uncertainty not only about the mean (which follows a normal distribution), but also the variance (which is proportional to a chi-square distribution).  Since our test statistic – the normalized deviation of the sample mean from 98.6 – is a (modified) ratio of those 2 distributions, we get a t-distribution. This converges to a normal distribution as the sample size goes to infinity. While 130 samples is far from infinity, the two tests will probably yield similar results, because 130 samples is enough to estimate the sample variance with reasonable accuracy. However, since there is no additional cost of conducting a t-test, we might as well do so. \n",
    "\n",
    "(Before the widespread use of computers, the z-test had the advantage of only requiring a single table of the normal distribution, whereas the t-test required a separate table of the t-distribution for each number of the test's degrees of freedom.  However, this reason to prefer the z-test is now obsolete.)\n",
    "\n",
    "Now let's carry out the t-test:"
   ]
  },
  {
   "cell_type": "code",
   "execution_count": 10,
   "metadata": {},
   "outputs": [
    {
     "data": {
      "text/plain": [
       "Ttest_1sampResult(statistic=-5.4548232923645195, pvalue=2.4106320415561276e-07)"
      ]
     },
     "execution_count": 10,
     "metadata": {},
     "output_type": "execute_result"
    }
   ],
   "source": [
    "stats.ttest_1samp(df.temperature, 98.6)"
   ]
  },
  {
   "cell_type": "markdown",
   "metadata": {},
   "source": [
    "Like the bootstrap test above, the t-test clearly rejects the null hypothesis that the average body temperature is 98.6. We can be quite confident in this result, as the p-value is again very close to 0."
   ]
  },
  {
   "cell_type": "markdown",
   "metadata": {},
   "source": [
    "**    <li> Now try using the other test. How is the result different? Why?**"
   ]
  },
  {
   "cell_type": "markdown",
   "metadata": {},
   "source": [
    "Let's try the z-test:"
   ]
  },
  {
   "cell_type": "code",
   "execution_count": 11,
   "metadata": {},
   "outputs": [
    {
     "data": {
      "text/plain": [
       "(-5.4548232923645195, 4.9021570141012155e-08)"
      ]
     },
     "execution_count": 11,
     "metadata": {},
     "output_type": "execute_result"
    }
   ],
   "source": [
    "statsmodels.stats.weightstats.ztest(\n",
    "    x1=df.temperature.values, \n",
    "    value=98.6)"
   ]
  },
  {
   "cell_type": "markdown",
   "metadata": {},
   "source": [
    "The first value of the printout is the test statistic, the second value is the p-value. As expected, the result is similar to the t-test: The sample mean is far enough from 98.6 that we can confidently reject the null hypothesis. If we take a look at the p-value, we see that it is even lower, which means that the z-test is slightly overconfident.  This stems from the fact that the t-distribution has wider tails than the standard normal distribution, because the t-distribution factors in the additional uncertainty introduced by having to estimate the sample variance. However, as expected, 130 observations are enough to estimate the sample variance reasonably well. As a result, the difference between both tests is small."
   ]
  },
  {
   "cell_type": "markdown",
   "metadata": {},
   "source": [
    "**<li>  Draw a small sample of size 10 from the data and repeat both frequentist tests. \n",
    "    <ul>\n",
    "    <li> Which one is the correct one to use? \n",
    "    <li> What do you notice? What does this tell you about the difference in application of the $t$ and $z$ statistic?\n",
    "    </ul>**"
   ]
  },
  {
   "cell_type": "code",
   "execution_count": 12,
   "metadata": {},
   "outputs": [
    {
     "name": "stdout",
     "output_type": "stream",
     "text": [
      "t-test results:\n",
      " [-1.966  0.081] \n",
      "\n",
      "z-test results:\n",
      " [-1.966  0.049]\n"
     ]
    }
   ],
   "source": [
    "# Randomly sample 10 observations\n",
    "rng = np.random.RandomState(1)\n",
    "sample = rng.choice(df.temperature, size=10, replace=False)\n",
    "\n",
    "# Conduct t-test\n",
    "t_test_small = stats.ttest_1samp(sample, 98.6)\n",
    "\n",
    "print('t-test results:\\n {} \\n' \\\n",
    "      .format(np.round_(t_test_small, 3)))\n",
    "\n",
    "# Conduct z-test\n",
    "z_test_small = statsmodels.stats.weightstats.ztest(sample, value=98.6)\n",
    "\n",
    "print('z-test results:\\n {}' \\\n",
    "    .format(np.round_(z_test_small, 3)))"
   ]
  },
  {
   "cell_type": "markdown",
   "metadata": {},
   "source": [
    "Since we are only dealing with a sample of 10 observations here, the difference between both tests is more pronounced: The t-test gives us a p-value of 8%, which does not allow us to reject the null hypothesis at the conventional significance level of 5%.  By contrast, the z-test returns a p-value of 4.9%, which is marginally significant at the 5% level, and thus does allow us to reject the null hypothesis.\n",
    "\n",
    "The fact that we see a bigger difference between both tests here is that the small sample size – only 10 observations, compared to 130 for the full sample – is not enough to accurately estimate the variance of temperature. As a result, the t-test properly adjusts for this additional uncertainty by taking into account that the distribution of the test statistic thus has wider tales.  By contrast, the z-test does not do so – it treats our estimate of variance as if it were a known constant – and thus leads to overconfidence: As a result, it prematurely concludes that the difference between the sample mean and observed mean is significant, while in fact we don't have enough evidence to know whether this difference is instead caused by random noise."
   ]
  },
  {
   "cell_type": "markdown",
   "metadata": {},
   "source": [
    "**<li>  At what temperature should we consider someone's temperature to be \"abnormal\"?\n",
    "    <ul>\n",
    "    <li> As in the previous example, try calculating everything using the boostrap approach, as well as the frequentist approach.\n",
    "    <li> Start by computing the margin of error and confidence interval. When calculating the confidence interval, keep in mind that you should use the appropriate formula for one draw, and not N draws.\n",
    "    </ul>**"
   ]
  },
  {
   "cell_type": "markdown",
   "metadata": {},
   "source": [
    "Let's use the bootstrap approach to randomly draw observations of temperature.  We can then use the 2.5th and 97.5th percentile of this distribution to construct a 95% confidence interval. (Of course, we could also argue for taking the 80% or 99% confidence interval as the best operationalization of the \"normal\" temperature range.  However, it's good to follow convention, as this reduces our leeway to simply pick the confidence level that confirms our favorite hypothesis.)"
   ]
  },
  {
   "cell_type": "code",
   "execution_count": 13,
   "metadata": {},
   "outputs": [
    {
     "data": {
      "text/plain": [
       "array([96.7, 99.5])"
      ]
     },
     "execution_count": 13,
     "metadata": {},
     "output_type": "execute_result"
    }
   ],
   "source": [
    "def bootstrap_ci_indiv(data, n_samples=10000, q=[2.5, 97.5]):\n",
    "    \"\"\"Calculate a confidence interval for an individual observation.\"\"\"\n",
    "\n",
    "    # Sample n_samples points\n",
    "    samples = np.random.choice(data, size=n_samples)\n",
    "    # Compute bootstrap confidence interval\n",
    "    return(np.percentile(samples, q))\n",
    "       \n",
    "\n",
    "# Compute confidence intervals for an individual observation\n",
    "ci_i = bootstrap_ci_indiv(data=df.temperature)\n",
    "ci_i"
   ]
  },
  {
   "cell_type": "code",
   "execution_count": 14,
   "metadata": {},
   "outputs": [
    {
     "data": {
      "text/plain": [
       "1.4"
      ]
     },
     "execution_count": 14,
     "metadata": {},
     "output_type": "execute_result"
    }
   ],
   "source": [
    "# Margin of error\n",
    "m_b = (ci_i[1] - ci_i[0]) / 2\n",
    "round(m_b, 2)"
   ]
  },
  {
   "cell_type": "markdown",
   "metadata": {},
   "source": [
    "The bootstrap test yields a 95% confidence interval from 96.7° to 99.5°F, which means we can be 95% confident that the true value lies within this interval. (To be precise, in repeated samples drawn from the same data generating process, a confidence interval calculated this way will contain the true mean in 95% of cases.) The size of our confidence interval implies a margin of error of 1.4°F. \n",
    "\n",
    "The instructions don't explicitly say whether the sample disregarded sick individuals.  However, even if it did not, the 95% confidence interval should largely exclude people with a fever, because at each point in time only a small percentage of people should suffer from it. \n",
    "\n",
    "These findings imply that the normal body temperature exhibits a sizable amount of individual variation. This means that it is hard to diagnose a fever unless we have that specific person's normal temperature from previous measurements, or unless the fever is sufficiently high.\n",
    "\n",
    "Let's confirm these results by calculating a classical parametric confidence interval:"
   ]
  },
  {
   "cell_type": "code",
   "execution_count": 15,
   "metadata": {
    "scrolled": true
   },
   "outputs": [
    {
     "name": "stdout",
     "output_type": "stream",
     "text": [
      "0    96.8\n",
      "1    99.7\n",
      "dtype: float64\n"
     ]
    }
   ],
   "source": [
    "# Parametric confidence interval\n",
    "# Mean\n",
    "mean_temperature = df.temperature.mean()\n",
    "# Standard deviation\n",
    "sd_temperature = df.temperature.std()\n",
    "# 2.5th and 97.5th percentile of t-distribution\n",
    "ci = pd.Series(scipy.stats.t.interval(0.95, df=len(df)))\n",
    "\n",
    "# Confidence interval\n",
    "temperature_ci_classical = (mean_temperature + ci*sd_temperature)\n",
    "print(round(temperature_ci_classical, 2))"
   ]
  },
  {
   "cell_type": "code",
   "execution_count": 16,
   "metadata": {},
   "outputs": [
    {
     "data": {
      "text/plain": [
       "1.4505151934534553"
      ]
     },
     "execution_count": 16,
     "metadata": {},
     "output_type": "execute_result"
    }
   ],
   "source": [
    "# Margin of error\n",
    "m_p = (temperature_ci_classical[1] - temperature_ci_classical[0]) / 2\n",
    "m_p"
   ]
  },
  {
   "cell_type": "markdown",
   "metadata": {},
   "source": [
    "The parametric confidence interval is similarly wide, from 96.8°F to 99.7°F. The margin of error likewise is very close to the results from the bootstrap, at 1.4°F.  Thus, it appears that there is indeed a considerable amount of individual variation."
   ]
  },
  {
   "cell_type": "markdown",
   "metadata": {},
   "source": [
    "**<li> Is there a significant difference between males and females in normal temperature?\n",
    "    <ul>\n",
    "    <li> What testing approach did you use and why?\n",
    "    </ul>**"
   ]
  },
  {
   "cell_type": "markdown",
   "metadata": {},
   "source": [
    "To investigate whether there is a gender difference in normal body temperature, I will conduct an independent samples hypothesis test for the mean.  I will carry this out first using the bootstrap, and then using a classical t-test. The null hypothesis is that there is no difference on average. An appropriate test statistic is the difference between average male and average female body temperature. \n",
    "\n",
    "To simulate the distribution of this test statistic under the null hypothesis, we break the link between body temperature and gender by randomly assigning a gender to each temperature measurement. We then determine where in this distribution the actually observed difference lies. If it does not lie between the 2.5th and 97.5th percentiles, it is unlikely that the observed difference in body temperatures is generated from a distribution with no gender difference, and we would therefore reject this null hypothesis. "
   ]
  },
  {
   "cell_type": "code",
   "execution_count": 17,
   "metadata": {},
   "outputs": [],
   "source": [
    "def permutation_stat(dataframe, v, group, statistic, rng):\n",
    "    \"\"\"\n",
    "    Create a single permutation of the data, randomly assign groups, \n",
    "    and compute test statistic.\n",
    "    \n",
    "    Parameters\n",
    "    ----------\n",
    "    df : pd.DataFrame\n",
    "        The data frame where the relevant variables are located.\n",
    "    v : str\n",
    "        Name of the variable in the data frame that contains the\n",
    "        data for which to compute means.\n",
    "    group : str\n",
    "        Name of the variable in the data frame that contains a\n",
    "        categorical variable that identifies the two groups for\n",
    "        which to compute the test statistic.\n",
    "    statistic : function\n",
    "        Function that returns the test statistic of interest.\n",
    "    rng : np.RandomState instance\n",
    "        Random number generator.\n",
    "\n",
    "    Returns\n",
    "    -------\n",
    "    numeric\n",
    "        Value of the test statistic for the permutation sample.\n",
    "    \"\"\"\n",
    "\n",
    "    # Permute values\n",
    "    v_permuted = rng.permutation(dataframe.loc[:, v])\n",
    "    \n",
    "    # Randomly assign groups\n",
    "    group_1 = v_permuted[: group_value_counts[0]]\n",
    "    group_2 = v_permuted[group_value_counts[1]:]\n",
    "    \n",
    "    # Return test statistic\n",
    "    stat = statistic(group_1, group_2)\n",
    "    return(stat)"
   ]
  },
  {
   "cell_type": "code",
   "execution_count": 18,
   "metadata": {},
   "outputs": [
    {
     "name": "stdout",
     "output_type": "stream",
     "text": [
      "p-value:  0.0192 \n",
      "\n",
      "        temperature\n",
      "gender             \n",
      "F         98.393846\n",
      "M         98.104615\n"
     ]
    }
   ],
   "source": [
    "def btest_2samp(df, v, group, statistic, n_permutations=10000):\n",
    "    \"\"\"\n",
    "    Performs a 2-sample hypothesis test using the bootstrap\n",
    "    \n",
    "    Parameters\n",
    "    ----------\n",
    "    df : pd.DataFrame\n",
    "        The data frame where the relevant variables are located.\n",
    "    v : str\n",
    "        Name of the variable in the data frame that contains the\n",
    "        data for which to compute means.\n",
    "    group : str\n",
    "        Name of the variable in the data frame that contains a\n",
    "        categorical variable that identifies the two groups for\n",
    "        which to compute the test statistic.\n",
    "    n_permutations : numeric, optional\n",
    "        Number of bootstrap replicates.  Default: 10000\n",
    "\n",
    "    Returns\n",
    "    -------\n",
    "    numeric\n",
    "        p-value \n",
    "    \"\"\"\n",
    "\n",
    "    # Count number of observations in each group\n",
    "    global group_value_counts # For some reason, doesn't work otherwise\n",
    "    group_value_counts = df.loc[:, group].value_counts()\n",
    "    \n",
    "    # Compute actual test statistic\n",
    "    data_1 = df.loc[df[group]==group_value_counts.index[0], v]\n",
    "    data_2 = df.loc[df[group]==group_value_counts.index[1], v]\n",
    "    actual_stat = statistic(data_1, data_2)\n",
    "    \n",
    "    # Create random number generator\n",
    "    rng = np.random.RandomState(3)\n",
    "    \n",
    "    # Compute test statistic for each permutation replicate\n",
    "    permutation_stats = np.empty(shape=n_permutations)\n",
    "    for replicate in range(n_permutations):\n",
    "        permutation_stats[replicate] = permutation_stat(df, v, group, \n",
    "                                                        statistic, rng)\n",
    "\n",
    "    # Compute p-value\n",
    "    return(p_value(permutation_stats, actual_stat))\n",
    "\n",
    "\n",
    "# Define function to compute difference in means\n",
    "def diff_in_means(s1, s2):\n",
    "    \"\"\" Returns the difference in means between two pd.Series.\"\"\"\n",
    "    return (s1.mean() - s2.mean())\n",
    "\n",
    "\n",
    "# Conduct 2-sample hypothesis test\n",
    "print('p-value: ', btest_2samp(df, 'temperature', group='gender', \n",
    "                    statistic=diff_in_means), '\\n')\n",
    "\n",
    "# Take a look at actual means to determine which group has the higher mean\n",
    "print(df.groupby('gender').mean())"
   ]
  },
  {
   "cell_type": "markdown",
   "metadata": {},
   "source": [
    "The test returns a two-sided p-value of 2.7%.  In other words, if the null hypothesis – that there is no gender difference in average body temperature – was true, then there is only a small chance that we would observe a difference in temperature as big as in our sample. Thus, we can reject the null hypothesis of no difference at the conventional significance level of 5%. Instead, we can be pretty sure that women's body temperature is higher than men's. Note, however, that the effect size is small: The observed difference is only about 0.2°F.\n",
    "\n",
    "To check the result, let's also conduct a classical t-test for independent samples:"
   ]
  },
  {
   "cell_type": "code",
   "execution_count": 19,
   "metadata": {},
   "outputs": [
    {
     "data": {
      "text/plain": [
       "array([-2.29,  0.02])"
      ]
     },
     "execution_count": 19,
     "metadata": {},
     "output_type": "execute_result"
    }
   ],
   "source": [
    "# Conduct a parametric hypothesis test\n",
    "np.round_(  \n",
    "    stats.ttest_ind(df.loc[df.gender=='M', 'temperature'], \n",
    "                    df.loc[df.gender=='F', 'temperature']), \n",
    "    2)"
   ]
  },
  {
   "cell_type": "markdown",
   "metadata": {},
   "source": [
    "The classical t-test yields a similar conclusion: It returns a p-value of 2.4%, and thus would lead us to draw the same conclusion."
   ]
  },
  {
   "cell_type": "markdown",
   "metadata": {},
   "source": [
    "**<li> Write a story with your conclusion in the context of the original problem.**"
   ]
  },
  {
   "cell_type": "markdown",
   "metadata": {},
   "source": [
    "It has long been assumed that the normal human temperature is 98.6°F (37.0°C). However, our analysis above suggests that it is in fact lower than that.  Our sample of 130 people puts the best estimate (i.e., the maximum likelihood estimate) at 98.25°.\n",
    "\n",
    "At the same time, it is also important to take into account that there is quite a bit of individual variation: For any given person, the 95% confidence interval spans from 96.7° to 99.5°. Furthermore, there is also a small but significant gender difference: women's body temperature is, on average, 0.2°F higher than men's.\n",
    "\n",
    "Overall, it does appear that the long-standing estimate of 98.6°F might just have been chosen because it corresponds to a rounded number in degrees Celsius. For many applications, this may be close enough – especially since there is also a sizable individual variation. However, if increased accuracy is needed, we should remember that the most precise estimate of the average body temperature is lower."
   ]
  }
 ],
 "metadata": {
  "kernelspec": {
   "display_name": "Python 3",
   "language": "python",
   "name": "python3"
  },
  "language_info": {
   "codemirror_mode": {
    "name": "ipython",
    "version": 3
   },
   "file_extension": ".py",
   "mimetype": "text/x-python",
   "name": "python",
   "nbconvert_exporter": "python",
   "pygments_lexer": "ipython3",
   "version": "3.6.5"
  }
 },
 "nbformat": 4,
 "nbformat_minor": 1
}
