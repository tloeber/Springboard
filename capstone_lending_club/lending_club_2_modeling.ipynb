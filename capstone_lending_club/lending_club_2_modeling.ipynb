{
 "cells": [
  {
   "cell_type": "markdown",
   "metadata": {},
   "source": [
    "# Lending Club Loan Default Predictions 1\n",
    "**Author: Thomas Loeber**"
   ]
  },
  {
   "cell_type": "markdown",
   "metadata": {
    "toc": true
   },
   "source": [
    "<h1>Table of Contents<span class=\"tocSkip\"></span></h1>\n",
    "<div class=\"toc\"><ul class=\"toc-item\"><li><span><a href=\"#Load-data-and-saved-models\" data-toc-modified-id=\"Load-data-and-saved-models-1\"><span class=\"toc-item-num\">1&nbsp;&nbsp;</span>Load data and saved models</a></span></li><li><span><a href=\"#Preprocessing\" data-toc-modified-id=\"Preprocessing-2\"><span class=\"toc-item-num\">2&nbsp;&nbsp;</span>Preprocessing</a></span></li><li><span><a href=\"#PCA\" data-toc-modified-id=\"PCA-3\"><span class=\"toc-item-num\">3&nbsp;&nbsp;</span>PCA</a></span></li><li><span><a href=\"#Random-forests\" data-toc-modified-id=\"Random-forests-4\"><span class=\"toc-item-num\">4&nbsp;&nbsp;</span>Random forests</a></span></li><li><span><a href=\"#Logistic-regression\" data-toc-modified-id=\"Logistic-regression-5\"><span class=\"toc-item-num\">5&nbsp;&nbsp;</span>Logistic regression</a></span><ul class=\"toc-item\"><li><span><a href=\"#Ridge/Lasso-+-LogisticRegressionCV\" data-toc-modified-id=\"Ridge/Lasso-+-LogisticRegressionCV-5.1\"><span class=\"toc-item-num\">5.1&nbsp;&nbsp;</span>Ridge/Lasso + LogisticRegressionCV</a></span></li><li><span><a href=\"#SGDClassifier-(elastic-net)-+-GridSearchCV\" data-toc-modified-id=\"SGDClassifier-(elastic-net)-+-GridSearchCV-5.2\"><span class=\"toc-item-num\">5.2&nbsp;&nbsp;</span>SGDClassifier (elastic net) + GridSearchCV</a></span></li></ul></li><li><span><a href=\"#Load-pickled-data\" data-toc-modified-id=\"Load-pickled-data-6\"><span class=\"toc-item-num\">6&nbsp;&nbsp;</span>Load pickled data</a></span></li></ul></div>"
   ]
  },
  {
   "cell_type": "code",
   "execution_count": 83,
   "metadata": {},
   "outputs": [],
   "source": [
    "import pdb \n",
    "import glob\n",
    "import copy\n",
    "import math\n",
    "import pickle\n",
    "\n",
    "import numpy as np\n",
    "import pandas as pd\n",
    "import scipy as sp\n",
    "import sklearn\n",
    "\n",
    "import matplotlib as mpl\n",
    "import matplotlib.pyplot as plt\n",
    "import matplotlib.cm as cm\n",
    "import seaborn as sns\n",
    "import missingno  # for visualizing missing data\n",
    "\n",
    "from sklearn.compose import ColumnTransformer\n",
    "from sklearn.pipeline import Pipeline\n",
    "from sklearn.impute import SimpleImputer\n",
    "from sklearn.preprocessing import StandardScaler, OneHotEncoder\n",
    "\n",
    "from sklearn.linear_model import LogisticRegression, LogisticRegressionCV, SGDClassifier\n",
    "from sklearn.model_selection import GridSearchCV\n",
    "from sklearn.decomposition import PCA\n",
    "from sklearn.ensemble import RandomForestClassifier\n",
    "from sklearn.metrics import precision_recall_curve, average_precision_score\n",
    "\n",
    "\n",
    "from sklearn.externals import joblib\n",
    "from sklearn.utils import resample\n",
    "from sklearn.utils.fixes import signature\n",
    "\n",
    "# Set up pandas table display\n",
    "pd.set_option('display.width', 120)\n",
    "pd.set_option('display.max_columns', 100)\n",
    "pd.set_option('display.notebook_repr_html', True)\n",
    "\n",
    "# Set plotting options\n",
    "sns.set() # Use seaborn defaults for plotting\n",
    "%matplotlib inline "
   ]
  },
  {
   "cell_type": "markdown",
   "metadata": {},
   "source": [
    "## Load data and saved models"
   ]
  },
  {
   "cell_type": "code",
   "execution_count": 3,
   "metadata": {},
   "outputs": [],
   "source": [
    "# Load original data\n",
    "with open('data_processed/all_data.pickle', 'rb') as pickled_file: \n",
    "    all_data = pickle.load(pickled_file) "
   ]
  },
  {
   "cell_type": "code",
   "execution_count": null,
   "metadata": {},
   "outputs": [],
   "source": [
    "# Load preprocessed data and models\n"
   ]
  },
  {
   "cell_type": "markdown",
   "metadata": {},
   "source": [
    "## Preprocessing"
   ]
  },
  {
   "cell_type": "code",
   "execution_count": 4,
   "metadata": {},
   "outputs": [],
   "source": [
    "# Train-test split (for now only select 1% for training)\n",
    "from sklearn.model_selection import train_test_split\n",
    "X_train, X_test, y_train, y_test = \\\n",
    "    train_test_split(all_data.drop('default', axis='columns'),\n",
    "                     all_data.default,\n",
    "                     test_size=0.99, random_state=1,\n",
    "                     shuffle=True, stratify=all_data.default) "
   ]
  },
  {
   "cell_type": "code",
   "execution_count": 29,
   "metadata": {},
   "outputs": [],
   "source": [
    "# Create smaller test set\n",
    "X_test_small, y_test_small = resample(\n",
    "    X_test, y_test, replace=False, \n",
    "    n_samples= 10000, random_state=1)"
   ]
  },
  {
   "cell_type": "code",
   "execution_count": 5,
   "metadata": {},
   "outputs": [],
   "source": [
    "# Imputation and standardization for numeric features\n",
    "numeric_features = X_train.select_dtypes(include=[np.number]).columns\n",
    "numeric_transformer = Pipeline(steps =[\n",
    "    ('imputer', SimpleImputer(strategy='median')),\n",
    "    ('scaler', StandardScaler())])\n",
    "\n",
    "# Imputation and one-hot encoding for categorical features\n",
    "categorical_features = X_train.select_dtypes(include=[object]).columns\n",
    "categorical_transformer = Pipeline(steps =[\n",
    "    ('imputer', SimpleImputer(strategy='most_frequent')),\n",
    "    ('onehot', OneHotEncoder())])\n",
    "\n",
    "# Combining preprocessing for both kinds of features\n",
    "preprocessor = ColumnTransformer(\n",
    "    transformers=[\n",
    "        ('num', numeric_transformer, numeric_features),\n",
    "        ('', categorical_transformer, categorical_features)],\n",
    "    remainder='passthrough', n_jobs=3)\n",
    "\n",
    "# Apply preprocessing\n",
    "X_train_p = preprocessor.fit_transform(X_train)\n",
    "\n",
    "X_test_small_p = preprocessor.transform(X_test_small)"
   ]
  },
  {
   "cell_type": "code",
   "execution_count": 41,
   "metadata": {},
   "outputs": [],
   "source": [
    "# Save preprocessed data\n",
    "for split_data in ['X_train_p', 'X_test_small_p', 'y_train', 'y_test_small']:\n",
    "    joblib.dump(split_data,\n",
    "                'data_processed/{}.joblib'.format(split_data))"
   ]
  },
  {
   "cell_type": "code",
   "execution_count": 42,
   "metadata": {},
   "outputs": [
    {
     "data": {
      "text/plain": [
       "(10233, 168)"
      ]
     },
     "execution_count": 42,
     "metadata": {},
     "output_type": "execute_result"
    }
   ],
   "source": [
    "X_train_p.shape"
   ]
  },
  {
   "cell_type": "code",
   "execution_count": 65,
   "metadata": {},
   "outputs": [
    {
     "data": {
      "text/plain": [
       "0    8139\n",
       "1    2094\n",
       "Name: default, dtype: int64"
      ]
     },
     "execution_count": 65,
     "metadata": {},
     "output_type": "execute_result"
    }
   ],
   "source": [
    "# Look how imbalanced our data are\n",
    "y_train.value_counts()"
   ]
  },
  {
   "cell_type": "code",
   "execution_count": 67,
   "metadata": {},
   "outputs": [
    {
     "data": {
      "text/plain": [
       "0    7950\n",
       "1    2050\n",
       "Name: default, dtype: int64"
      ]
     },
     "execution_count": 67,
     "metadata": {},
     "output_type": "execute_result"
    }
   ],
   "source": [
    "y_test_small.value_counts()"
   ]
  },
  {
   "cell_type": "markdown",
   "metadata": {},
   "source": [
    "## PCA"
   ]
  },
  {
   "cell_type": "code",
   "execution_count": 6,
   "metadata": {},
   "outputs": [
    {
     "data": {
      "image/png": "[encoded data removed]",
      "text/plain": [
       "<Figure size 864x504 with 1 Axes>"
      ]
     },
     "metadata": {
      "needs_background": "light"
     },
     "output_type": "display_data"
    }
   ],
   "source": [
    "# Use PCA to assess whether features lie in lower-\n",
    "# dimensional subspace\n",
    "pca = PCA()\n",
    "pca.fit(X_train_p)\n",
    "explained_var = pca.explained_variance_ratio_\n",
    "\n",
    "# Plot results\n",
    "plt.figure(figsize=(12, 7))\n",
    "plt.step(range(1, len(explained_var)+2),\n",
    "         np.hstack([[0], np.cumsum(explained_var)]),\n",
    "         color='black', label='Cumulative')\n",
    "plt.bar(range(1, len(explained_var)+1),\n",
    "        explained_var, \n",
    "        label='per principal component')\n",
    "plt.legend('lowerright')\n",
    "plt.title('Explained variance for different numbers of principal component')\n",
    "plt.ylim(0,1.05)\n",
    "plt.xlabel('Number of Component')\n",
    "plt.ylabel('Explained Variance Ratio')\n",
    "plt.show();"
   ]
  },
  {
   "cell_type": "markdown",
   "metadata": {},
   "source": [
    "## Random forests"
   ]
  },
  {
   "cell_type": "code",
   "execution_count": 43,
   "metadata": {},
   "outputs": [
    {
     "data": {
      "text/plain": [
       "RandomForestClassifier(bootstrap=True, class_weight='balanced_subsample',\n",
       "            criterion='gini', max_depth=None, max_features='auto',\n",
       "            max_leaf_nodes=None, min_impurity_decrease=0.0,\n",
       "            min_impurity_split=None, min_samples_leaf=1,\n",
       "            min_samples_split=2, min_weight_fraction_leaf=0.0,\n",
       "            n_estimators=100, n_jobs=3, oob_score=True, random_state=1,\n",
       "            verbose=0, warm_start=False)"
      ]
     },
     "execution_count": 43,
     "metadata": {},
     "output_type": "execute_result"
    }
   ],
   "source": [
    "rf = RandomForestClassifier(n_estimators=100, \n",
    "        oob_score=True, n_jobs=3, random_state=1,\n",
    "        class_weight='balanced_subsample')\n",
    "rf.fit(X_train_p, y_train)"
   ]
  },
  {
   "cell_type": "code",
   "execution_count": 44,
   "metadata": {},
   "outputs": [
    {
     "data": {
      "text/plain": [
       "0.999413661682791"
      ]
     },
     "execution_count": 44,
     "metadata": {},
     "output_type": "execute_result"
    }
   ],
   "source": [
    "rf.oob_score_"
   ]
  },
  {
   "cell_type": "code",
   "execution_count": 45,
   "metadata": {},
   "outputs": [
    {
     "data": {
      "text/plain": [
       "0.9998"
      ]
     },
     "execution_count": 45,
     "metadata": {},
     "output_type": "execute_result"
    }
   ],
   "source": [
    "rf.score(X_test_small_p, y_test_small)"
   ]
  },
  {
   "cell_type": "code",
   "execution_count": 99,
   "metadata": {},
   "outputs": [],
   "source": [
    "y_pred_rf = rf.predict(X_test_small_p)"
   ]
  },
  {
   "cell_type": "code",
   "execution_count": 101,
   "metadata": {},
   "outputs": [],
   "source": [
    "def plot_precision_recall(y_test, y_pred):\n",
    "    \"\"\"Plots precision-recall curve.\"\"\"\n",
    "\n",
    "    average_precision = average_precision_score(y_test, y_pred)\n",
    "    precision, recall, _ = precision_recall_curve(y_test, y_pred)\n",
    "\n",
    "    step_kwargs = ({'step': 'post'}\n",
    "                   if 'step' in signature(plt.fill_between).parameters\n",
    "                   else {})\n",
    "    plt.step(recall, precision, color='b', alpha=0.2,\n",
    "             where='post')\n",
    "    plt.fill_between(recall, precision, alpha=0.2, color='b', **step_kwargs)\n",
    "\n",
    "    plt.xlabel('Recall')\n",
    "    plt.ylabel('Precision')\n",
    "    plt.ylim([0.0, 1.05])\n",
    "    plt.xlim([0.0, 1.0])\n",
    "    plt.title('Precision-Recall curve: Average Precision={0:0.3f}'.format(\n",
    "              average_precision))\n",
    "    plt.show();"
   ]
  },
  {
   "cell_type": "code",
   "execution_count": 103,
   "metadata": {},
   "outputs": [
    {
     "data": {
      "image/png": "[encoded data removed]",
      "text/plain": [
       "<Figure size 432x288 with 1 Axes>"
      ]
     },
     "metadata": {
      "needs_background": "light"
     },
     "output_type": "display_data"
    }
   ],
   "source": [
    "# Plot precision recall curve for random forests classifier\n",
    "plot_precision_recall(y_test_small, y_pred_rf)"
   ]
  },
  {
   "cell_type": "markdown",
   "metadata": {},
   "source": [
    "## Logistic regression\n",
    "### Ridge/Lasso + LogisticRegressionCV"
   ]
  },
  {
   "cell_type": "code",
   "execution_count": 53,
   "metadata": {},
   "outputs": [
    {
     "name": "stderr",
     "output_type": "stream",
     "text": [
      "C:\\Users\\t\\Anaconda3\\lib\\site-packages\\sklearn\\linear_model\\sag.py:334: ConvergenceWarning: The max_iter was reached which means the coef_ did not converge\n",
      "  \"the coef_ did not converge\", ConvergenceWarning)\n",
      "C:\\Users\\t\\Anaconda3\\lib\\site-packages\\sklearn\\linear_model\\sag.py:334: ConvergenceWarning: The max_iter was reached which means the coef_ did not converge\n",
      "  \"the coef_ did not converge\", ConvergenceWarning)\n",
      "C:\\Users\\t\\Anaconda3\\lib\\site-packages\\sklearn\\linear_model\\sag.py:334: ConvergenceWarning: The max_iter was reached which means the coef_ did not converge\n",
      "  \"the coef_ did not converge\", ConvergenceWarning)\n",
      "C:\\Users\\t\\Anaconda3\\lib\\site-packages\\sklearn\\linear_model\\sag.py:334: ConvergenceWarning: The max_iter was reached which means the coef_ did not converge\n",
      "  \"the coef_ did not converge\", ConvergenceWarning)\n",
      "C:\\Users\\t\\Anaconda3\\lib\\site-packages\\sklearn\\linear_model\\sag.py:334: ConvergenceWarning: The max_iter was reached which means the coef_ did not converge\n",
      "  \"the coef_ did not converge\", ConvergenceWarning)\n",
      "C:\\Users\\t\\Anaconda3\\lib\\site-packages\\sklearn\\linear_model\\sag.py:334: ConvergenceWarning: The max_iter was reached which means the coef_ did not converge\n",
      "  \"the coef_ did not converge\", ConvergenceWarning)\n",
      "C:\\Users\\t\\Anaconda3\\lib\\site-packages\\sklearn\\linear_model\\sag.py:334: ConvergenceWarning: The max_iter was reached which means the coef_ did not converge\n",
      "  \"the coef_ did not converge\", ConvergenceWarning)\n",
      "C:\\Users\\t\\Anaconda3\\lib\\site-packages\\sklearn\\linear_model\\sag.py:334: ConvergenceWarning: The max_iter was reached which means the coef_ did not converge\n",
      "  \"the coef_ did not converge\", ConvergenceWarning)\n",
      "C:\\Users\\t\\Anaconda3\\lib\\site-packages\\sklearn\\linear_model\\sag.py:334: ConvergenceWarning: The max_iter was reached which means the coef_ did not converge\n",
      "  \"the coef_ did not converge\", ConvergenceWarning)\n",
      "C:\\Users\\t\\Anaconda3\\lib\\site-packages\\sklearn\\linear_model\\sag.py:334: ConvergenceWarning: The max_iter was reached which means the coef_ did not converge\n",
      "  \"the coef_ did not converge\", ConvergenceWarning)\n"
     ]
    },
    {
     "data": {
      "text/plain": [
       "LogisticRegressionCV(Cs=4, class_weight='balanced', cv=3, dual=False,\n",
       "           fit_intercept=True, intercept_scaling=1.0, max_iter=100,\n",
       "           multi_class='warn', n_jobs=None, penalty='l2', random_state=1,\n",
       "           refit=True, scoring=None, solver='saga', tol=0.0001, verbose=0)"
      ]
     },
     "execution_count": 53,
     "metadata": {},
     "output_type": "execute_result"
    }
   ],
   "source": [
    "# Ridge CV, stochastic gradient descent\n",
    "lr_ridge_cv = LogisticRegressionCV(Cs = 4, solver='saga', cv=3,\n",
    "    random_state=1, penalty='l2', class_weight='balanced')\n",
    "lr_ridge_cv.fit(X_train_p, y_train) "
   ]
  },
  {
   "cell_type": "code",
   "execution_count": 54,
   "metadata": {},
   "outputs": [
    {
     "data": {
      "text/plain": [
       "{1: array([[0.85019056, 0.99794782, 0.99736148, 0.99765465],\n",
       "        [0.88155966, 1.        , 1.        , 1.        ],\n",
       "        [0.87716212, 0.99970683, 0.99970683, 0.99970683]])}"
      ]
     },
     "execution_count": 54,
     "metadata": {},
     "output_type": "execute_result"
    }
   ],
   "source": [
    "# Performance during cross-validation\n",
    "lr_ridge_cv.scores_"
   ]
  },
  {
   "cell_type": "code",
   "execution_count": 55,
   "metadata": {},
   "outputs": [
    {
     "data": {
      "text/plain": [
       "0.9991"
      ]
     },
     "execution_count": 55,
     "metadata": {},
     "output_type": "execute_result"
    }
   ],
   "source": [
    "# Performance on test set\n",
    "lr_ridge_cv.score(X_test_small_p, y_test_small)"
   ]
  },
  {
   "cell_type": "markdown",
   "metadata": {},
   "source": [
    "**Try more iterations**"
   ]
  },
  {
   "cell_type": "code",
   "execution_count": 56,
   "metadata": {},
   "outputs": [
    {
     "name": "stderr",
     "output_type": "stream",
     "text": [
      "C:\\Users\\t\\Anaconda3\\lib\\site-packages\\sklearn\\linear_model\\sag.py:334: ConvergenceWarning: The max_iter was reached which means the coef_ did not converge\n",
      "  \"the coef_ did not converge\", ConvergenceWarning)\n",
      "C:\\Users\\t\\Anaconda3\\lib\\site-packages\\sklearn\\linear_model\\sag.py:334: ConvergenceWarning: The max_iter was reached which means the coef_ did not converge\n",
      "  \"the coef_ did not converge\", ConvergenceWarning)\n",
      "C:\\Users\\t\\Anaconda3\\lib\\site-packages\\sklearn\\linear_model\\sag.py:334: ConvergenceWarning: The max_iter was reached which means the coef_ did not converge\n",
      "  \"the coef_ did not converge\", ConvergenceWarning)\n"
     ]
    },
    {
     "data": {
      "text/plain": [
       "LogisticRegressionCV(Cs=4, class_weight='balanced', cv=3, dual=False,\n",
       "           fit_intercept=True, intercept_scaling=1.0, max_iter=1000,\n",
       "           multi_class='warn', n_jobs=None, penalty='l2', random_state=1,\n",
       "           refit=True, scoring=None, solver='saga', tol=0.0001, verbose=0)"
      ]
     },
     "execution_count": 56,
     "metadata": {},
     "output_type": "execute_result"
    }
   ],
   "source": [
    "# Try more iterations (Ridge CV, stochastic gradient descent)\n",
    "lr_ridge_cv = LogisticRegressionCV(Cs = 4, solver='saga', cv=3,\n",
    "    random_state=1, penalty='l2', class_weight='balanced', \n",
    "    max_iter=1000)\n",
    "lr_ridge_cv.fit(X_train_p, y_train) "
   ]
  },
  {
   "cell_type": "code",
   "execution_count": 57,
   "metadata": {},
   "outputs": [
    {
     "data": {
      "text/plain": [
       "{1: array([[0.85019056, 0.99824099, 0.99882732, 0.99882732],\n",
       "        [0.88155966, 1.        , 1.        , 1.        ],\n",
       "        [0.87716212, 0.99970683, 1.        , 1.        ]])}"
      ]
     },
     "execution_count": 57,
     "metadata": {},
     "output_type": "execute_result"
    }
   ],
   "source": [
    "# Performance during cross-validation\n",
    "lr_ridge_cv.scores_"
   ]
  },
  {
   "cell_type": "code",
   "execution_count": 58,
   "metadata": {},
   "outputs": [
    {
     "data": {
      "text/plain": [
       "1.0"
      ]
     },
     "execution_count": 58,
     "metadata": {},
     "output_type": "execute_result"
    }
   ],
   "source": [
    "# Performance on test set\n",
    "lr_ridge_cv.score(X_test_small_p, y_test_small)"
   ]
  },
  {
   "cell_type": "markdown",
   "metadata": {},
   "source": [
    "Now we only get the convergence warning for part of the models.\n",
    "\n",
    "**Try default solver**"
   ]
  },
  {
   "cell_type": "code",
   "execution_count": 68,
   "metadata": {},
   "outputs": [
    {
     "data": {
      "text/plain": [
       "LogisticRegressionCV(Cs=4, class_weight='balanced', cv=3, dual=False,\n",
       "           fit_intercept=True, intercept_scaling=1.0, max_iter=1000,\n",
       "           multi_class='warn', n_jobs=None, penalty='l2', random_state=1,\n",
       "           refit=True, scoring=None, solver='lbfgs', tol=0.0001, verbose=0)"
      ]
     },
     "execution_count": 68,
     "metadata": {},
     "output_type": "execute_result"
    }
   ],
   "source": [
    "# Try default solver (Ridge CV, more iterations)\n",
    "lr_ridge_cv_2 = LogisticRegressionCV(Cs = 4, cv=3,\n",
    "    random_state=1, penalty='l2', class_weight='balanced',\n",
    "    max_iter=1000)\n",
    "lr_ridge_cv_2.fit(X_train_p, y_train) "
   ]
  },
  {
   "cell_type": "code",
   "execution_count": 69,
   "metadata": {},
   "outputs": [
    {
     "data": {
      "text/plain": [
       "{1: array([[0.8507769 , 0.99853415, 1.        , 1.        ],\n",
       "        [0.88155966, 1.        , 1.        , 1.        ],\n",
       "        [0.87716212, 0.99970683, 1.        , 1.        ]])}"
      ]
     },
     "execution_count": 69,
     "metadata": {},
     "output_type": "execute_result"
    }
   ],
   "source": [
    "# Performance during cross-validation\n",
    "lr_ridge_cv_2.scores_"
   ]
  },
  {
   "cell_type": "code",
   "execution_count": 70,
   "metadata": {},
   "outputs": [
    {
     "data": {
      "text/plain": [
       "1.0"
      ]
     },
     "execution_count": 70,
     "metadata": {},
     "output_type": "execute_result"
    }
   ],
   "source": [
    "# Performance on test set\n",
    "lr_ridge_cv_2.score(X_test_small_p, y_test_small)"
   ]
  },
  {
   "cell_type": "code",
   "execution_count": 114,
   "metadata": {},
   "outputs": [
    {
     "data": {
      "image/png": "[encoded data removed]",
      "text/plain": [
       "<Figure size 432x288 with 1 Axes>"
      ]
     },
     "metadata": {
      "needs_background": "light"
     },
     "output_type": "display_data"
    }
   ],
   "source": [
    "y_pred_lr = lr_ridge_cv_2.predict(X_test_small_p)\n",
    "plot_precision_recall(y_test_small, y_pred_lr)"
   ]
  },
  {
   "cell_type": "markdown",
   "metadata": {},
   "source": [
    "Default solver gets rid of the convergence warnings completely.\n",
    "\n",
    "Next, try Lasso."
   ]
  },
  {
   "cell_type": "code",
   "execution_count": null,
   "metadata": {},
   "outputs": [],
   "source": [
    "# joblib.dump(lr_ridge, 'lr_ridge.Joblib')"
   ]
  },
  {
   "cell_type": "code",
   "execution_count": 8,
   "metadata": {},
   "outputs": [
    {
     "name": "stderr",
     "output_type": "stream",
     "text": [
      "C:\\Users\\t\\Anaconda3\\lib\\site-packages\\sklearn\\linear_model\\sag.py:334: ConvergenceWarning: The max_iter was reached which means the coef_ did not converge\n",
      "  \"the coef_ did not converge\", ConvergenceWarning)\n",
      "C:\\Users\\t\\Anaconda3\\lib\\site-packages\\sklearn\\linear_model\\sag.py:334: ConvergenceWarning: The max_iter was reached which means the coef_ did not converge\n",
      "  \"the coef_ did not converge\", ConvergenceWarning)\n",
      "C:\\Users\\t\\Anaconda3\\lib\\site-packages\\sklearn\\linear_model\\sag.py:334: ConvergenceWarning: The max_iter was reached which means the coef_ did not converge\n",
      "  \"the coef_ did not converge\", ConvergenceWarning)\n",
      "C:\\Users\\t\\Anaconda3\\lib\\site-packages\\sklearn\\linear_model\\sag.py:334: ConvergenceWarning: The max_iter was reached which means the coef_ did not converge\n",
      "  \"the coef_ did not converge\", ConvergenceWarning)\n",
      "C:\\Users\\t\\Anaconda3\\lib\\site-packages\\sklearn\\linear_model\\sag.py:334: ConvergenceWarning: The max_iter was reached which means the coef_ did not converge\n",
      "  \"the coef_ did not converge\", ConvergenceWarning)\n",
      "C:\\Users\\t\\Anaconda3\\lib\\site-packages\\sklearn\\linear_model\\sag.py:334: ConvergenceWarning: The max_iter was reached which means the coef_ did not converge\n",
      "  \"the coef_ did not converge\", ConvergenceWarning)\n",
      "C:\\Users\\t\\Anaconda3\\lib\\site-packages\\sklearn\\linear_model\\sag.py:334: ConvergenceWarning: The max_iter was reached which means the coef_ did not converge\n",
      "  \"the coef_ did not converge\", ConvergenceWarning)\n",
      "C:\\Users\\t\\Anaconda3\\lib\\site-packages\\sklearn\\linear_model\\sag.py:334: ConvergenceWarning: The max_iter was reached which means the coef_ did not converge\n",
      "  \"the coef_ did not converge\", ConvergenceWarning)\n",
      "C:\\Users\\t\\Anaconda3\\lib\\site-packages\\sklearn\\linear_model\\sag.py:334: ConvergenceWarning: The max_iter was reached which means the coef_ did not converge\n",
      "  \"the coef_ did not converge\", ConvergenceWarning)\n",
      "C:\\Users\\t\\Anaconda3\\lib\\site-packages\\sklearn\\linear_model\\sag.py:334: ConvergenceWarning: The max_iter was reached which means the coef_ did not converge\n",
      "  \"the coef_ did not converge\", ConvergenceWarning)\n"
     ]
    },
    {
     "data": {
      "text/plain": [
       "LogisticRegressionCV(Cs=4, class_weight='balanced', cv=3, dual=False,\n",
       "           fit_intercept=True, intercept_scaling=1.0, max_iter=100,\n",
       "           multi_class='warn', n_jobs=None, penalty='l1', random_state=1,\n",
       "           refit=True, scoring=None, solver='saga', tol=0.0001, verbose=0)"
      ]
     },
     "execution_count": 8,
     "metadata": {},
     "output_type": "execute_result"
    }
   ],
   "source": [
    "# Lasso CV (Stochastic gradient descent, default number of iterations\n",
    "lr_lasso_cv = LogisticRegressionCV(Cs = 4, solver='saga', cv=3,\n",
    "    random_state=1, penalty='l1', class_weight='balanced')\n",
    "lr_lasso_cv.fit(X_train_p, y_train) "
   ]
  },
  {
   "cell_type": "code",
   "execution_count": 19,
   "metadata": {},
   "outputs": [
    {
     "data": {
      "text/plain": [
       "{1: array([[0.20463207, 0.9961888 , 0.99706831, 0.99736148],\n",
       "        [0.79536793, 0.99882732, 1.        , 1.        ],\n",
       "        [0.79536793, 0.99794782, 0.99970683, 0.99970683]])}"
      ]
     },
     "execution_count": 19,
     "metadata": {},
     "output_type": "execute_result"
    }
   ],
   "source": [
    "lr_lasso_cv.scores_"
   ]
  },
  {
   "cell_type": "code",
   "execution_count": 35,
   "metadata": {},
   "outputs": [
    {
     "data": {
      "text/plain": [
       "0.9995"
      ]
     },
     "execution_count": 35,
     "metadata": {},
     "output_type": "execute_result"
    }
   ],
   "source": [
    "lr_lasso_cv.score(X_test_small_p, y_test_small)"
   ]
  },
  {
   "cell_type": "markdown",
   "metadata": {},
   "source": [
    "### SGDClassifier (elastic net) + GridSearchCV"
   ]
  },
  {
   "cell_type": "code",
   "execution_count": 108,
   "metadata": {},
   "outputs": [
    {
     "name": "stderr",
     "output_type": "stream",
     "text": [
      "C:\\Users\\t\\Anaconda3\\lib\\site-packages\\sklearn\\linear_model\\stochastic_gradient.py:144: FutureWarning: max_iter and tol parameters have been added in SGDClassifier in 0.19. If both are left unset, they default to max_iter=5 and tol=None. If tol is not None, max_iter defaults to max_iter=1000. From 0.21, default max_iter will be 1000, and default tol will be 1e-3.\n",
      "  FutureWarning)\n"
     ]
    },
    {
     "data": {
      "text/plain": [
       "GridSearchCV(cv=3, error_score='raise-deprecating',\n",
       "       estimator=SGDClassifier(alpha=0.0001, average=False, class_weight='balanced',\n",
       "       early_stopping=False, epsilon=0.1, eta0=0.0, fit_intercept=True,\n",
       "       l1_ratio=0.15, learning_rate='optimal', loss='log', max_iter=None,\n",
       "       n_iter=None, n_iter_no_change=5, n_jobs=1, penalty='elasticnet',\n",
       "       power_t=0.5, random_state=1, shuffle=True, tol=None,\n",
       "       validation_fraction=0.1, verbose=0, warm_start=False),\n",
       "       fit_params=None, iid=True, n_jobs=3,\n",
       "       param_grid={'l1_ratio': array([0.     , 0.33333, 0.66667, 1.     ]), 'alpha': array([1.00000e-10, 4.64159e-07, 2.15443e-03, 1.00000e+01])},\n",
       "       pre_dispatch='2*n_jobs', refit=True, return_train_score='warn',\n",
       "       scoring=None, verbose=0)"
      ]
     },
     "execution_count": 108,
     "metadata": {},
     "output_type": "execute_result"
    }
   ],
   "source": [
    "# Elastic net, logistic regression (Loss='log')\n",
    "lr_en = SGDClassifier(loss='log', penalty='elasticnet', random_state=1,\n",
    "                   class_weight='balanced', n_jobs=1) \n",
    "\n",
    "# Parameters to search over\n",
    "grid={'l1_ratio': np.linspace(0, 1, 4),\n",
    "      'alpha': np.logspace(-10, 1, 4)}\n",
    "\n",
    "# With iid = True\n",
    "gs_el_t = GridSearchCV(lr_en, param_grid=grid, iid=True, cv=3, n_jobs=3)\n",
    "gs_el_t.fit(X_train_p, y_train)"
   ]
  },
  {
   "cell_type": "code",
   "execution_count": 109,
   "metadata": {},
   "outputs": [
    {
     "data": {
      "text/plain": [
       "0.9999"
      ]
     },
     "execution_count": 109,
     "metadata": {},
     "output_type": "execute_result"
    }
   ],
   "source": [
    "# Cross-validation accuracy\n",
    "gs_el_t.score(X_test_small_p, y_test_small)"
   ]
  },
  {
   "cell_type": "code",
   "execution_count": 110,
   "metadata": {},
   "outputs": [
    {
     "data": {
      "image/png": "[encoded data removed]",
      "text/plain": [
       "<Figure size 432x288 with 1 Axes>"
      ]
     },
     "metadata": {
      "needs_background": "light"
     },
     "output_type": "display_data"
    }
   ],
   "source": [
    "y_pred_el = gs_el_t.predict(X_test_small_p)\n",
    "plot_precision_recall(y_test_small, y_pred_el)"
   ]
  },
  {
   "cell_type": "code",
   "execution_count": null,
   "metadata": {},
   "outputs": [],
   "source": [
    "# joblib.dump(gscv_t, 'gscv_t.joblib') # Save"
   ]
  },
  {
   "cell_type": "code",
   "execution_count": 17,
   "metadata": {},
   "outputs": [
    {
     "name": "stderr",
     "output_type": "stream",
     "text": [
      "C:\\Users\\t\\Anaconda3\\lib\\site-packages\\sklearn\\linear_model\\stochastic_gradient.py:144: FutureWarning: max_iter and tol parameters have been added in SGDClassifier in 0.19. If both are left unset, they default to max_iter=5 and tol=None. If tol is not None, max_iter defaults to max_iter=1000. From 0.21, default max_iter will be 1000, and default tol will be 1e-3.\n",
      "  FutureWarning)\n"
     ]
    },
    {
     "data": {
      "text/plain": [
       "GridSearchCV(cv=3, error_score='raise-deprecating',\n",
       "       estimator=SGDClassifier(alpha=0.0001, average=False, class_weight='balanced',\n",
       "       early_stopping=False, epsilon=0.1, eta0=0.0, fit_intercept=True,\n",
       "       l1_ratio=0.15, learning_rate='optimal', loss='log', max_iter=None,\n",
       "       n_iter=None, n_iter_no_change=5, n_jobs=1, penalty='elasticnet',\n",
       "       power_t=0.5, random_state=1, shuffle=True, tol=None,\n",
       "       validation_fraction=0.1, verbose=0, warm_start=False),\n",
       "       fit_params=None, iid=False, n_jobs=3,\n",
       "       param_grid={'l1_ratio': array([0.     , 0.33333, 0.66667, 1.     ]), 'alpha': array([1.00000e-10, 4.64159e-07, 2.15443e-03, 1.00000e+01])},\n",
       "       pre_dispatch='2*n_jobs', refit=True, return_train_score='warn',\n",
       "       scoring=None, verbose=0)"
      ]
     },
     "execution_count": 17,
     "metadata": {},
     "output_type": "execute_result"
    }
   ],
   "source": [
    "# With iid = False\n",
    "gs_el_f = GridSearchCV(lr_en, param_grid=grid, iid=False, cv=3, n_jobs=3)\n",
    "gs_el_f.fit(X_train_p, y_train)"
   ]
  },
  {
   "cell_type": "code",
   "execution_count": 38,
   "metadata": {},
   "outputs": [
    {
     "data": {
      "text/plain": [
       "0.9999"
      ]
     },
     "execution_count": 38,
     "metadata": {},
     "output_type": "execute_result"
    }
   ],
   "source": [
    "gs_el_f.score(X_test_small_p, y_test_small)"
   ]
  },
  {
   "cell_type": "code",
   "execution_count": 111,
   "metadata": {},
   "outputs": [
    {
     "data": {
      "image/png": "[encoded data removed]",
      "text/plain": [
       "<Figure size 432x288 with 1 Axes>"
      ]
     },
     "metadata": {
      "needs_background": "light"
     },
     "output_type": "display_data"
    }
   ],
   "source": [
    "y_pred_el_t = gs_el_t.predict(X_test_small_p)\n",
    "plot_precision_recall(y_test_small, y_pred_el_t)"
   ]
  },
  {
   "cell_type": "code",
   "execution_count": null,
   "metadata": {},
   "outputs": [],
   "source": [
    "# joblib.dump(gscv_f, 'gscv_f.joblib') # Save"
   ]
  },
  {
   "cell_type": "markdown",
   "metadata": {},
   "source": [
    "Let's look at the results. I'm displaying the accuracy for all folds here, because in previous iterations they sometimes widely differed. (In fact, the problems occurred when I was still trying to use all the data, so it is particularly surprising that with almost a million observations, there would be such severe overfitting).\n",
    "\n",
    "Note: the higher alpha, the *stronger* the regularization."
   ]
  },
  {
   "cell_type": "code",
   "execution_count": 62,
   "metadata": {},
   "outputs": [
    {
     "name": "stderr",
     "output_type": "stream",
     "text": [
      "C:\\Users\\t\\Anaconda3\\lib\\site-packages\\sklearn\\utils\\deprecation.py:125: FutureWarning: You are accessing a training score ('split0_train_score'), which will not be available by default any more in 0.21. If you need training scores, please set return_train_score=True\n",
      "  warnings.warn(*warn_args, **warn_kwargs)\n",
      "C:\\Users\\t\\Anaconda3\\lib\\site-packages\\sklearn\\utils\\deprecation.py:125: FutureWarning: You are accessing a training score ('split1_train_score'), which will not be available by default any more in 0.21. If you need training scores, please set return_train_score=True\n",
      "  warnings.warn(*warn_args, **warn_kwargs)\n",
      "C:\\Users\\t\\Anaconda3\\lib\\site-packages\\sklearn\\utils\\deprecation.py:125: FutureWarning: You are accessing a training score ('split2_train_score'), which will not be available by default any more in 0.21. If you need training scores, please set return_train_score=True\n",
      "  warnings.warn(*warn_args, **warn_kwargs)\n",
      "C:\\Users\\t\\Anaconda3\\lib\\site-packages\\sklearn\\utils\\deprecation.py:125: FutureWarning: You are accessing a training score ('mean_train_score'), which will not be available by default any more in 0.21. If you need training scores, please set return_train_score=True\n",
      "  warnings.warn(*warn_args, **warn_kwargs)\n",
      "C:\\Users\\t\\Anaconda3\\lib\\site-packages\\sklearn\\utils\\deprecation.py:125: FutureWarning: You are accessing a training score ('std_train_score'), which will not be available by default any more in 0.21. If you need training scores, please set return_train_score=True\n",
      "  warnings.warn(*warn_args, **warn_kwargs)\n"
     ]
    },
    {
     "data": {
      "text/html": [
       "<div>\n",
       "<style scoped>\n",
       "    .dataframe tbody tr th:only-of-type {\n",
       "        vertical-align: middle;\n",
       "    }\n",
       "\n",
       "    .dataframe tbody tr th {\n",
       "        vertical-align: top;\n",
       "    }\n",
       "\n",
       "    .dataframe thead th {\n",
       "        text-align: right;\n",
       "    }\n",
       "</style>\n",
       "<table border=\"1\" class=\"dataframe\">\n",
       "  <thead>\n",
       "    <tr style=\"text-align: right;\">\n",
       "      <th></th>\n",
       "      <th>mean_test_score</th>\n",
       "      <th>mean_train_score</th>\n",
       "      <th>split0_test_score</th>\n",
       "      <th>split1_test_score</th>\n",
       "      <th>split2_test_score</th>\n",
       "      <th>split0_train_score</th>\n",
       "      <th>split1_train_score</th>\n",
       "      <th>split2_train_score</th>\n",
       "    </tr>\n",
       "    <tr>\n",
       "      <th>params</th>\n",
       "      <th></th>\n",
       "      <th></th>\n",
       "      <th></th>\n",
       "      <th></th>\n",
       "      <th></th>\n",
       "      <th></th>\n",
       "      <th></th>\n",
       "      <th></th>\n",
       "    </tr>\n",
       "  </thead>\n",
       "  <tbody>\n",
       "    <tr>\n",
       "      <th>{'alpha': 1e-10, 'l1_ratio': 0.0}</th>\n",
       "      <td>0.997264</td>\n",
       "      <td>0.997019</td>\n",
       "      <td>0.996775</td>\n",
       "      <td>0.997948</td>\n",
       "      <td>0.997068</td>\n",
       "      <td>0.994283</td>\n",
       "      <td>0.998827</td>\n",
       "      <td>0.997948</td>\n",
       "    </tr>\n",
       "    <tr>\n",
       "      <th>{'alpha': 1e-10, 'l1_ratio': 0.3333333333333333}</th>\n",
       "      <td>0.997264</td>\n",
       "      <td>0.997019</td>\n",
       "      <td>0.996775</td>\n",
       "      <td>0.997948</td>\n",
       "      <td>0.997068</td>\n",
       "      <td>0.994283</td>\n",
       "      <td>0.998827</td>\n",
       "      <td>0.997948</td>\n",
       "    </tr>\n",
       "    <tr>\n",
       "      <th>{'alpha': 1e-10, 'l1_ratio': 0.6666666666666666}</th>\n",
       "      <td>0.997264</td>\n",
       "      <td>0.997019</td>\n",
       "      <td>0.996775</td>\n",
       "      <td>0.997948</td>\n",
       "      <td>0.997068</td>\n",
       "      <td>0.994283</td>\n",
       "      <td>0.998827</td>\n",
       "      <td>0.997948</td>\n",
       "    </tr>\n",
       "    <tr>\n",
       "      <th>{'alpha': 1e-10, 'l1_ratio': 1.0}</th>\n",
       "      <td>0.997264</td>\n",
       "      <td>0.997019</td>\n",
       "      <td>0.996775</td>\n",
       "      <td>0.997948</td>\n",
       "      <td>0.997068</td>\n",
       "      <td>0.994283</td>\n",
       "      <td>0.998827</td>\n",
       "      <td>0.997948</td>\n",
       "    </tr>\n",
       "    <tr>\n",
       "      <th>{'alpha': 4.6415888336127725e-07, 'l1_ratio': 0.0}</th>\n",
       "      <td>0.996482</td>\n",
       "      <td>0.997117</td>\n",
       "      <td>0.996482</td>\n",
       "      <td>0.995602</td>\n",
       "      <td>0.997361</td>\n",
       "      <td>0.995309</td>\n",
       "      <td>0.997068</td>\n",
       "      <td>0.998974</td>\n",
       "    </tr>\n",
       "    <tr>\n",
       "      <th>{'alpha': 4.6415888336127725e-07, 'l1_ratio': 0.3333333333333333}</th>\n",
       "      <td>0.995798</td>\n",
       "      <td>0.997410</td>\n",
       "      <td>0.996775</td>\n",
       "      <td>0.991498</td>\n",
       "      <td>0.999120</td>\n",
       "      <td>0.997361</td>\n",
       "      <td>0.994870</td>\n",
       "      <td>1.000000</td>\n",
       "    </tr>\n",
       "    <tr>\n",
       "      <th>{'alpha': 4.6415888336127725e-07, 'l1_ratio': 0.6666666666666666}</th>\n",
       "      <td>0.996677</td>\n",
       "      <td>0.998632</td>\n",
       "      <td>0.997655</td>\n",
       "      <td>0.994137</td>\n",
       "      <td>0.998241</td>\n",
       "      <td>0.998681</td>\n",
       "      <td>0.997361</td>\n",
       "      <td>0.999853</td>\n",
       "    </tr>\n",
       "    <tr>\n",
       "      <th>{'alpha': 4.6415888336127725e-07, 'l1_ratio': 1.0}</th>\n",
       "      <td>0.998632</td>\n",
       "      <td>0.999316</td>\n",
       "      <td>0.998241</td>\n",
       "      <td>0.998534</td>\n",
       "      <td>0.999120</td>\n",
       "      <td>0.999707</td>\n",
       "      <td>0.998827</td>\n",
       "      <td>0.999414</td>\n",
       "    </tr>\n",
       "    <tr>\n",
       "      <th>{'alpha': 0.002154434690031882, 'l1_ratio': 0.0}</th>\n",
       "      <td>0.999511</td>\n",
       "      <td>0.999805</td>\n",
       "      <td>0.999120</td>\n",
       "      <td>0.999707</td>\n",
       "      <td>0.999707</td>\n",
       "      <td>0.999853</td>\n",
       "      <td>0.999707</td>\n",
       "      <td>0.999853</td>\n",
       "    </tr>\n",
       "    <tr>\n",
       "      <th>{'alpha': 0.002154434690031882, 'l1_ratio': 0.3333333333333333}</th>\n",
       "      <td>0.997752</td>\n",
       "      <td>0.997850</td>\n",
       "      <td>0.996189</td>\n",
       "      <td>0.998827</td>\n",
       "      <td>0.998241</td>\n",
       "      <td>0.998388</td>\n",
       "      <td>0.997068</td>\n",
       "      <td>0.998094</td>\n",
       "    </tr>\n",
       "    <tr>\n",
       "      <th>{'alpha': 0.002154434690031882, 'l1_ratio': 0.6666666666666666}</th>\n",
       "      <td>0.997850</td>\n",
       "      <td>0.998290</td>\n",
       "      <td>0.996482</td>\n",
       "      <td>0.999414</td>\n",
       "      <td>0.997655</td>\n",
       "      <td>0.998388</td>\n",
       "      <td>0.997801</td>\n",
       "      <td>0.998681</td>\n",
       "    </tr>\n",
       "    <tr>\n",
       "      <th>{'alpha': 0.002154434690031882, 'l1_ratio': 1.0}</th>\n",
       "      <td>0.995407</td>\n",
       "      <td>0.996775</td>\n",
       "      <td>0.995309</td>\n",
       "      <td>0.993550</td>\n",
       "      <td>0.997361</td>\n",
       "      <td>0.997068</td>\n",
       "      <td>0.995456</td>\n",
       "      <td>0.997801</td>\n",
       "    </tr>\n",
       "    <tr>\n",
       "      <th>{'alpha': 10.0, 'l1_ratio': 0.0}</th>\n",
       "      <td>0.808365</td>\n",
       "      <td>0.812274</td>\n",
       "      <td>0.823805</td>\n",
       "      <td>0.800059</td>\n",
       "      <td>0.801231</td>\n",
       "      <td>0.832600</td>\n",
       "      <td>0.800938</td>\n",
       "      <td>0.803283</td>\n",
       "    </tr>\n",
       "    <tr>\n",
       "      <th>{'alpha': 10.0, 'l1_ratio': 0.3333333333333333}</th>\n",
       "      <td>0.795368</td>\n",
       "      <td>0.795368</td>\n",
       "      <td>0.795368</td>\n",
       "      <td>0.795368</td>\n",
       "      <td>0.795368</td>\n",
       "      <td>0.795368</td>\n",
       "      <td>0.795368</td>\n",
       "      <td>0.795368</td>\n",
       "    </tr>\n",
       "    <tr>\n",
       "      <th>{'alpha': 10.0, 'l1_ratio': 0.6666666666666666}</th>\n",
       "      <td>0.795368</td>\n",
       "      <td>0.795368</td>\n",
       "      <td>0.795368</td>\n",
       "      <td>0.795368</td>\n",
       "      <td>0.795368</td>\n",
       "      <td>0.795368</td>\n",
       "      <td>0.795368</td>\n",
       "      <td>0.795368</td>\n",
       "    </tr>\n",
       "    <tr>\n",
       "      <th>{'alpha': 10.0, 'l1_ratio': 1.0}</th>\n",
       "      <td>0.795368</td>\n",
       "      <td>0.795368</td>\n",
       "      <td>0.795368</td>\n",
       "      <td>0.795368</td>\n",
       "      <td>0.795368</td>\n",
       "      <td>0.795368</td>\n",
       "      <td>0.795368</td>\n",
       "      <td>0.795368</td>\n",
       "    </tr>\n",
       "  </tbody>\n",
       "</table>\n",
       "</div>"
      ],
      "text/plain": [
       "                                                    mean_test_score  mean_train_score  split0_test_score  \\\n",
       "params                                                                                                     \n",
       "{'alpha': 1e-10, 'l1_ratio': 0.0}                          0.997264          0.997019           0.996775   \n",
       "{'alpha': 1e-10, 'l1_ratio': 0.3333333333333333}           0.997264          0.997019           0.996775   \n",
       "{'alpha': 1e-10, 'l1_ratio': 0.6666666666666666}           0.997264          0.997019           0.996775   \n",
       "{'alpha': 1e-10, 'l1_ratio': 1.0}                          0.997264          0.997019           0.996775   \n",
       "{'alpha': 4.6415888336127725e-07, 'l1_ratio': 0.0}         0.996482          0.997117           0.996482   \n",
       "{'alpha': 4.6415888336127725e-07, 'l1_ratio': 0...         0.995798          0.997410           0.996775   \n",
       "{'alpha': 4.6415888336127725e-07, 'l1_ratio': 0...         0.996677          0.998632           0.997655   \n",
       "{'alpha': 4.6415888336127725e-07, 'l1_ratio': 1.0}         0.998632          0.999316           0.998241   \n",
       "{'alpha': 0.002154434690031882, 'l1_ratio': 0.0}           0.999511          0.999805           0.999120   \n",
       "{'alpha': 0.002154434690031882, 'l1_ratio': 0.3...         0.997752          0.997850           0.996189   \n",
       "{'alpha': 0.002154434690031882, 'l1_ratio': 0.6...         0.997850          0.998290           0.996482   \n",
       "{'alpha': 0.002154434690031882, 'l1_ratio': 1.0}           0.995407          0.996775           0.995309   \n",
       "{'alpha': 10.0, 'l1_ratio': 0.0}                           0.808365          0.812274           0.823805   \n",
       "{'alpha': 10.0, 'l1_ratio': 0.3333333333333333}            0.795368          0.795368           0.795368   \n",
       "{'alpha': 10.0, 'l1_ratio': 0.6666666666666666}            0.795368          0.795368           0.795368   \n",
       "{'alpha': 10.0, 'l1_ratio': 1.0}                           0.795368          0.795368           0.795368   \n",
       "\n",
       "                                                    split1_test_score  split2_test_score  split0_train_score  \\\n",
       "params                                                                                                         \n",
       "{'alpha': 1e-10, 'l1_ratio': 0.0}                            0.997948           0.997068            0.994283   \n",
       "{'alpha': 1e-10, 'l1_ratio': 0.3333333333333333}             0.997948           0.997068            0.994283   \n",
       "{'alpha': 1e-10, 'l1_ratio': 0.6666666666666666}             0.997948           0.997068            0.994283   \n",
       "{'alpha': 1e-10, 'l1_ratio': 1.0}                            0.997948           0.997068            0.994283   \n",
       "{'alpha': 4.6415888336127725e-07, 'l1_ratio': 0.0}           0.995602           0.997361            0.995309   \n",
       "{'alpha': 4.6415888336127725e-07, 'l1_ratio': 0...           0.991498           0.999120            0.997361   \n",
       "{'alpha': 4.6415888336127725e-07, 'l1_ratio': 0...           0.994137           0.998241            0.998681   \n",
       "{'alpha': 4.6415888336127725e-07, 'l1_ratio': 1.0}           0.998534           0.999120            0.999707   \n",
       "{'alpha': 0.002154434690031882, 'l1_ratio': 0.0}             0.999707           0.999707            0.999853   \n",
       "{'alpha': 0.002154434690031882, 'l1_ratio': 0.3...           0.998827           0.998241            0.998388   \n",
       "{'alpha': 0.002154434690031882, 'l1_ratio': 0.6...           0.999414           0.997655            0.998388   \n",
       "{'alpha': 0.002154434690031882, 'l1_ratio': 1.0}             0.993550           0.997361            0.997068   \n",
       "{'alpha': 10.0, 'l1_ratio': 0.0}                             0.800059           0.801231            0.832600   \n",
       "{'alpha': 10.0, 'l1_ratio': 0.3333333333333333}              0.795368           0.795368            0.795368   \n",
       "{'alpha': 10.0, 'l1_ratio': 0.6666666666666666}              0.795368           0.795368            0.795368   \n",
       "{'alpha': 10.0, 'l1_ratio': 1.0}                             0.795368           0.795368            0.795368   \n",
       "\n",
       "                                                    split1_train_score  split2_train_score  \n",
       "params                                                                                      \n",
       "{'alpha': 1e-10, 'l1_ratio': 0.0}                             0.998827            0.997948  \n",
       "{'alpha': 1e-10, 'l1_ratio': 0.3333333333333333}              0.998827            0.997948  \n",
       "{'alpha': 1e-10, 'l1_ratio': 0.6666666666666666}              0.998827            0.997948  \n",
       "{'alpha': 1e-10, 'l1_ratio': 1.0}                             0.998827            0.997948  \n",
       "{'alpha': 4.6415888336127725e-07, 'l1_ratio': 0.0}            0.997068            0.998974  \n",
       "{'alpha': 4.6415888336127725e-07, 'l1_ratio': 0...            0.994870            1.000000  \n",
       "{'alpha': 4.6415888336127725e-07, 'l1_ratio': 0...            0.997361            0.999853  \n",
       "{'alpha': 4.6415888336127725e-07, 'l1_ratio': 1.0}            0.998827            0.999414  \n",
       "{'alpha': 0.002154434690031882, 'l1_ratio': 0.0}              0.999707            0.999853  \n",
       "{'alpha': 0.002154434690031882, 'l1_ratio': 0.3...            0.997068            0.998094  \n",
       "{'alpha': 0.002154434690031882, 'l1_ratio': 0.6...            0.997801            0.998681  \n",
       "{'alpha': 0.002154434690031882, 'l1_ratio': 1.0}              0.995456            0.997801  \n",
       "{'alpha': 10.0, 'l1_ratio': 0.0}                              0.800938            0.803283  \n",
       "{'alpha': 10.0, 'l1_ratio': 0.3333333333333333}               0.795368            0.795368  \n",
       "{'alpha': 10.0, 'l1_ratio': 0.6666666666666666}               0.795368            0.795368  \n",
       "{'alpha': 10.0, 'l1_ratio': 1.0}                              0.795368            0.795368  "
      ]
     },
     "execution_count": 62,
     "metadata": {},
     "output_type": "execute_result"
    }
   ],
   "source": [
    "pd.DataFrame(gs_el_t.cv_results_) \\\n",
    "    .set_index('params') \\\n",
    "    .loc[:,['mean_test_score', 'mean_train_score',\n",
    "           'split0_test_score', 'split1_test_score','split2_test_score',\n",
    "           'split0_train_score', 'split1_train_score','split2_train_score']] "
   ]
  },
  {
   "cell_type": "code",
   "execution_count": 63,
   "metadata": {},
   "outputs": [
    {
     "name": "stderr",
     "output_type": "stream",
     "text": [
      "C:\\Users\\t\\Anaconda3\\lib\\site-packages\\sklearn\\utils\\deprecation.py:125: FutureWarning: You are accessing a training score ('split0_train_score'), which will not be available by default any more in 0.21. If you need training scores, please set return_train_score=True\n",
      "  warnings.warn(*warn_args, **warn_kwargs)\n",
      "C:\\Users\\t\\Anaconda3\\lib\\site-packages\\sklearn\\utils\\deprecation.py:125: FutureWarning: You are accessing a training score ('split1_train_score'), which will not be available by default any more in 0.21. If you need training scores, please set return_train_score=True\n",
      "  warnings.warn(*warn_args, **warn_kwargs)\n",
      "C:\\Users\\t\\Anaconda3\\lib\\site-packages\\sklearn\\utils\\deprecation.py:125: FutureWarning: You are accessing a training score ('split2_train_score'), which will not be available by default any more in 0.21. If you need training scores, please set return_train_score=True\n",
      "  warnings.warn(*warn_args, **warn_kwargs)\n",
      "C:\\Users\\t\\Anaconda3\\lib\\site-packages\\sklearn\\utils\\deprecation.py:125: FutureWarning: You are accessing a training score ('mean_train_score'), which will not be available by default any more in 0.21. If you need training scores, please set return_train_score=True\n",
      "  warnings.warn(*warn_args, **warn_kwargs)\n",
      "C:\\Users\\t\\Anaconda3\\lib\\site-packages\\sklearn\\utils\\deprecation.py:125: FutureWarning: You are accessing a training score ('std_train_score'), which will not be available by default any more in 0.21. If you need training scores, please set return_train_score=True\n",
      "  warnings.warn(*warn_args, **warn_kwargs)\n"
     ]
    },
    {
     "data": {
      "text/html": [
       "<div>\n",
       "<style scoped>\n",
       "    .dataframe tbody tr th:only-of-type {\n",
       "        vertical-align: middle;\n",
       "    }\n",
       "\n",
       "    .dataframe tbody tr th {\n",
       "        vertical-align: top;\n",
       "    }\n",
       "\n",
       "    .dataframe thead th {\n",
       "        text-align: right;\n",
       "    }\n",
       "</style>\n",
       "<table border=\"1\" class=\"dataframe\">\n",
       "  <thead>\n",
       "    <tr style=\"text-align: right;\">\n",
       "      <th></th>\n",
       "      <th>mean_test_score</th>\n",
       "      <th>mean_train_score</th>\n",
       "      <th>split0_test_score</th>\n",
       "      <th>split1_test_score</th>\n",
       "      <th>split2_test_score</th>\n",
       "      <th>split0_train_score</th>\n",
       "      <th>split1_train_score</th>\n",
       "      <th>split2_train_score</th>\n",
       "    </tr>\n",
       "    <tr>\n",
       "      <th>params</th>\n",
       "      <th></th>\n",
       "      <th></th>\n",
       "      <th></th>\n",
       "      <th></th>\n",
       "      <th></th>\n",
       "      <th></th>\n",
       "      <th></th>\n",
       "      <th></th>\n",
       "    </tr>\n",
       "  </thead>\n",
       "  <tbody>\n",
       "    <tr>\n",
       "      <th>{'alpha': 1e-10, 'l1_ratio': 0.0}</th>\n",
       "      <td>0.997264</td>\n",
       "      <td>0.997019</td>\n",
       "      <td>0.996775</td>\n",
       "      <td>0.997948</td>\n",
       "      <td>0.997068</td>\n",
       "      <td>0.994283</td>\n",
       "      <td>0.998827</td>\n",
       "      <td>0.997948</td>\n",
       "    </tr>\n",
       "    <tr>\n",
       "      <th>{'alpha': 1e-10, 'l1_ratio': 0.3333333333333333}</th>\n",
       "      <td>0.997264</td>\n",
       "      <td>0.997019</td>\n",
       "      <td>0.996775</td>\n",
       "      <td>0.997948</td>\n",
       "      <td>0.997068</td>\n",
       "      <td>0.994283</td>\n",
       "      <td>0.998827</td>\n",
       "      <td>0.997948</td>\n",
       "    </tr>\n",
       "    <tr>\n",
       "      <th>{'alpha': 1e-10, 'l1_ratio': 0.6666666666666666}</th>\n",
       "      <td>0.997264</td>\n",
       "      <td>0.997019</td>\n",
       "      <td>0.996775</td>\n",
       "      <td>0.997948</td>\n",
       "      <td>0.997068</td>\n",
       "      <td>0.994283</td>\n",
       "      <td>0.998827</td>\n",
       "      <td>0.997948</td>\n",
       "    </tr>\n",
       "    <tr>\n",
       "      <th>{'alpha': 1e-10, 'l1_ratio': 1.0}</th>\n",
       "      <td>0.997264</td>\n",
       "      <td>0.997019</td>\n",
       "      <td>0.996775</td>\n",
       "      <td>0.997948</td>\n",
       "      <td>0.997068</td>\n",
       "      <td>0.994283</td>\n",
       "      <td>0.998827</td>\n",
       "      <td>0.997948</td>\n",
       "    </tr>\n",
       "    <tr>\n",
       "      <th>{'alpha': 4.6415888336127725e-07, 'l1_ratio': 0.0}</th>\n",
       "      <td>0.996482</td>\n",
       "      <td>0.997117</td>\n",
       "      <td>0.996482</td>\n",
       "      <td>0.995602</td>\n",
       "      <td>0.997361</td>\n",
       "      <td>0.995309</td>\n",
       "      <td>0.997068</td>\n",
       "      <td>0.998974</td>\n",
       "    </tr>\n",
       "    <tr>\n",
       "      <th>{'alpha': 4.6415888336127725e-07, 'l1_ratio': 0.3333333333333333}</th>\n",
       "      <td>0.995798</td>\n",
       "      <td>0.997410</td>\n",
       "      <td>0.996775</td>\n",
       "      <td>0.991498</td>\n",
       "      <td>0.999120</td>\n",
       "      <td>0.997361</td>\n",
       "      <td>0.994870</td>\n",
       "      <td>1.000000</td>\n",
       "    </tr>\n",
       "    <tr>\n",
       "      <th>{'alpha': 4.6415888336127725e-07, 'l1_ratio': 0.6666666666666666}</th>\n",
       "      <td>0.996677</td>\n",
       "      <td>0.998632</td>\n",
       "      <td>0.997655</td>\n",
       "      <td>0.994137</td>\n",
       "      <td>0.998241</td>\n",
       "      <td>0.998681</td>\n",
       "      <td>0.997361</td>\n",
       "      <td>0.999853</td>\n",
       "    </tr>\n",
       "    <tr>\n",
       "      <th>{'alpha': 4.6415888336127725e-07, 'l1_ratio': 1.0}</th>\n",
       "      <td>0.998632</td>\n",
       "      <td>0.999316</td>\n",
       "      <td>0.998241</td>\n",
       "      <td>0.998534</td>\n",
       "      <td>0.999120</td>\n",
       "      <td>0.999707</td>\n",
       "      <td>0.998827</td>\n",
       "      <td>0.999414</td>\n",
       "    </tr>\n",
       "    <tr>\n",
       "      <th>{'alpha': 0.002154434690031882, 'l1_ratio': 0.0}</th>\n",
       "      <td>0.999511</td>\n",
       "      <td>0.999805</td>\n",
       "      <td>0.999120</td>\n",
       "      <td>0.999707</td>\n",
       "      <td>0.999707</td>\n",
       "      <td>0.999853</td>\n",
       "      <td>0.999707</td>\n",
       "      <td>0.999853</td>\n",
       "    </tr>\n",
       "    <tr>\n",
       "      <th>{'alpha': 0.002154434690031882, 'l1_ratio': 0.3333333333333333}</th>\n",
       "      <td>0.997752</td>\n",
       "      <td>0.997850</td>\n",
       "      <td>0.996189</td>\n",
       "      <td>0.998827</td>\n",
       "      <td>0.998241</td>\n",
       "      <td>0.998388</td>\n",
       "      <td>0.997068</td>\n",
       "      <td>0.998094</td>\n",
       "    </tr>\n",
       "    <tr>\n",
       "      <th>{'alpha': 0.002154434690031882, 'l1_ratio': 0.6666666666666666}</th>\n",
       "      <td>0.997850</td>\n",
       "      <td>0.998290</td>\n",
       "      <td>0.996482</td>\n",
       "      <td>0.999414</td>\n",
       "      <td>0.997655</td>\n",
       "      <td>0.998388</td>\n",
       "      <td>0.997801</td>\n",
       "      <td>0.998681</td>\n",
       "    </tr>\n",
       "    <tr>\n",
       "      <th>{'alpha': 0.002154434690031882, 'l1_ratio': 1.0}</th>\n",
       "      <td>0.995407</td>\n",
       "      <td>0.996775</td>\n",
       "      <td>0.995309</td>\n",
       "      <td>0.993550</td>\n",
       "      <td>0.997361</td>\n",
       "      <td>0.997068</td>\n",
       "      <td>0.995456</td>\n",
       "      <td>0.997801</td>\n",
       "    </tr>\n",
       "    <tr>\n",
       "      <th>{'alpha': 10.0, 'l1_ratio': 0.0}</th>\n",
       "      <td>0.808365</td>\n",
       "      <td>0.812274</td>\n",
       "      <td>0.823805</td>\n",
       "      <td>0.800059</td>\n",
       "      <td>0.801231</td>\n",
       "      <td>0.832600</td>\n",
       "      <td>0.800938</td>\n",
       "      <td>0.803283</td>\n",
       "    </tr>\n",
       "    <tr>\n",
       "      <th>{'alpha': 10.0, 'l1_ratio': 0.3333333333333333}</th>\n",
       "      <td>0.795368</td>\n",
       "      <td>0.795368</td>\n",
       "      <td>0.795368</td>\n",
       "      <td>0.795368</td>\n",
       "      <td>0.795368</td>\n",
       "      <td>0.795368</td>\n",
       "      <td>0.795368</td>\n",
       "      <td>0.795368</td>\n",
       "    </tr>\n",
       "    <tr>\n",
       "      <th>{'alpha': 10.0, 'l1_ratio': 0.6666666666666666}</th>\n",
       "      <td>0.795368</td>\n",
       "      <td>0.795368</td>\n",
       "      <td>0.795368</td>\n",
       "      <td>0.795368</td>\n",
       "      <td>0.795368</td>\n",
       "      <td>0.795368</td>\n",
       "      <td>0.795368</td>\n",
       "      <td>0.795368</td>\n",
       "    </tr>\n",
       "    <tr>\n",
       "      <th>{'alpha': 10.0, 'l1_ratio': 1.0}</th>\n",
       "      <td>0.795368</td>\n",
       "      <td>0.795368</td>\n",
       "      <td>0.795368</td>\n",
       "      <td>0.795368</td>\n",
       "      <td>0.795368</td>\n",
       "      <td>0.795368</td>\n",
       "      <td>0.795368</td>\n",
       "      <td>0.795368</td>\n",
       "    </tr>\n",
       "  </tbody>\n",
       "</table>\n",
       "</div>"
      ],
      "text/plain": [
       "                                                    mean_test_score  mean_train_score  split0_test_score  \\\n",
       "params                                                                                                     \n",
       "{'alpha': 1e-10, 'l1_ratio': 0.0}                          0.997264          0.997019           0.996775   \n",
       "{'alpha': 1e-10, 'l1_ratio': 0.3333333333333333}           0.997264          0.997019           0.996775   \n",
       "{'alpha': 1e-10, 'l1_ratio': 0.6666666666666666}           0.997264          0.997019           0.996775   \n",
       "{'alpha': 1e-10, 'l1_ratio': 1.0}                          0.997264          0.997019           0.996775   \n",
       "{'alpha': 4.6415888336127725e-07, 'l1_ratio': 0.0}         0.996482          0.997117           0.996482   \n",
       "{'alpha': 4.6415888336127725e-07, 'l1_ratio': 0...         0.995798          0.997410           0.996775   \n",
       "{'alpha': 4.6415888336127725e-07, 'l1_ratio': 0...         0.996677          0.998632           0.997655   \n",
       "{'alpha': 4.6415888336127725e-07, 'l1_ratio': 1.0}         0.998632          0.999316           0.998241   \n",
       "{'alpha': 0.002154434690031882, 'l1_ratio': 0.0}           0.999511          0.999805           0.999120   \n",
       "{'alpha': 0.002154434690031882, 'l1_ratio': 0.3...         0.997752          0.997850           0.996189   \n",
       "{'alpha': 0.002154434690031882, 'l1_ratio': 0.6...         0.997850          0.998290           0.996482   \n",
       "{'alpha': 0.002154434690031882, 'l1_ratio': 1.0}           0.995407          0.996775           0.995309   \n",
       "{'alpha': 10.0, 'l1_ratio': 0.0}                           0.808365          0.812274           0.823805   \n",
       "{'alpha': 10.0, 'l1_ratio': 0.3333333333333333}            0.795368          0.795368           0.795368   \n",
       "{'alpha': 10.0, 'l1_ratio': 0.6666666666666666}            0.795368          0.795368           0.795368   \n",
       "{'alpha': 10.0, 'l1_ratio': 1.0}                           0.795368          0.795368           0.795368   \n",
       "\n",
       "                                                    split1_test_score  split2_test_score  split0_train_score  \\\n",
       "params                                                                                                         \n",
       "{'alpha': 1e-10, 'l1_ratio': 0.0}                            0.997948           0.997068            0.994283   \n",
       "{'alpha': 1e-10, 'l1_ratio': 0.3333333333333333}             0.997948           0.997068            0.994283   \n",
       "{'alpha': 1e-10, 'l1_ratio': 0.6666666666666666}             0.997948           0.997068            0.994283   \n",
       "{'alpha': 1e-10, 'l1_ratio': 1.0}                            0.997948           0.997068            0.994283   \n",
       "{'alpha': 4.6415888336127725e-07, 'l1_ratio': 0.0}           0.995602           0.997361            0.995309   \n",
       "{'alpha': 4.6415888336127725e-07, 'l1_ratio': 0...           0.991498           0.999120            0.997361   \n",
       "{'alpha': 4.6415888336127725e-07, 'l1_ratio': 0...           0.994137           0.998241            0.998681   \n",
       "{'alpha': 4.6415888336127725e-07, 'l1_ratio': 1.0}           0.998534           0.999120            0.999707   \n",
       "{'alpha': 0.002154434690031882, 'l1_ratio': 0.0}             0.999707           0.999707            0.999853   \n",
       "{'alpha': 0.002154434690031882, 'l1_ratio': 0.3...           0.998827           0.998241            0.998388   \n",
       "{'alpha': 0.002154434690031882, 'l1_ratio': 0.6...           0.999414           0.997655            0.998388   \n",
       "{'alpha': 0.002154434690031882, 'l1_ratio': 1.0}             0.993550           0.997361            0.997068   \n",
       "{'alpha': 10.0, 'l1_ratio': 0.0}                             0.800059           0.801231            0.832600   \n",
       "{'alpha': 10.0, 'l1_ratio': 0.3333333333333333}              0.795368           0.795368            0.795368   \n",
       "{'alpha': 10.0, 'l1_ratio': 0.6666666666666666}              0.795368           0.795368            0.795368   \n",
       "{'alpha': 10.0, 'l1_ratio': 1.0}                             0.795368           0.795368            0.795368   \n",
       "\n",
       "                                                    split1_train_score  split2_train_score  \n",
       "params                                                                                      \n",
       "{'alpha': 1e-10, 'l1_ratio': 0.0}                             0.998827            0.997948  \n",
       "{'alpha': 1e-10, 'l1_ratio': 0.3333333333333333}              0.998827            0.997948  \n",
       "{'alpha': 1e-10, 'l1_ratio': 0.6666666666666666}              0.998827            0.997948  \n",
       "{'alpha': 1e-10, 'l1_ratio': 1.0}                             0.998827            0.997948  \n",
       "{'alpha': 4.6415888336127725e-07, 'l1_ratio': 0.0}            0.997068            0.998974  \n",
       "{'alpha': 4.6415888336127725e-07, 'l1_ratio': 0...            0.994870            1.000000  \n",
       "{'alpha': 4.6415888336127725e-07, 'l1_ratio': 0...            0.997361            0.999853  \n",
       "{'alpha': 4.6415888336127725e-07, 'l1_ratio': 1.0}            0.998827            0.999414  \n",
       "{'alpha': 0.002154434690031882, 'l1_ratio': 0.0}              0.999707            0.999853  \n",
       "{'alpha': 0.002154434690031882, 'l1_ratio': 0.3...            0.997068            0.998094  \n",
       "{'alpha': 0.002154434690031882, 'l1_ratio': 0.6...            0.997801            0.998681  \n",
       "{'alpha': 0.002154434690031882, 'l1_ratio': 1.0}              0.995456            0.997801  \n",
       "{'alpha': 10.0, 'l1_ratio': 0.0}                              0.800938            0.803283  \n",
       "{'alpha': 10.0, 'l1_ratio': 0.3333333333333333}               0.795368            0.795368  \n",
       "{'alpha': 10.0, 'l1_ratio': 0.6666666666666666}               0.795368            0.795368  \n",
       "{'alpha': 10.0, 'l1_ratio': 1.0}                              0.795368            0.795368  "
      ]
     },
     "execution_count": 63,
     "metadata": {},
     "output_type": "execute_result"
    }
   ],
   "source": [
    "pd.DataFrame(gs_el_f.cv_results_) \\\n",
    "    .set_index('params') \\\n",
    "    .loc[:,['mean_test_score', 'mean_train_score',\n",
    "            'split0_test_score', 'split1_test_score','split2_test_score',\n",
    "            'split0_train_score', 'split1_train_score','split2_train_score']] "
   ]
  },
  {
   "cell_type": "markdown",
   "metadata": {},
   "source": [
    "## Load pickled data"
   ]
  },
  {
   "cell_type": "code",
   "execution_count": 84,
   "metadata": {
    "scrolled": true
   },
   "outputs": [
    {
     "ename": "Exception",
     "evalue": "",
     "output_type": "error",
     "traceback": [
      "\u001b[1;31m---------------------------------------------------------------------------\u001b[0m",
      "\u001b[1;31mException\u001b[0m                                 Traceback (most recent call last)",
      "\u001b[1;32m<ipython-input-84-2754bc4fafb5>\u001b[0m in \u001b[0;36m<module>\u001b[1;34m()\u001b[0m\n\u001b[0;32m      1\u001b[0m \u001b[1;31m# Raise error, because we only want to execute the next cell manually\u001b[0m\u001b[1;33m\u001b[0m\u001b[1;33m\u001b[0m\u001b[0m\n\u001b[1;32m----> 2\u001b[1;33m \u001b[1;32mraise\u001b[0m \u001b[0mException\u001b[0m\u001b[1;33m\u001b[0m\u001b[0m\n\u001b[0m",
      "\u001b[1;31mException\u001b[0m: "
     ]
    }
   ],
   "source": [
    "# Raise error, because we only want to execute the next cells manually\n",
    "raise Exception"
   ]
  },
  {
   "cell_type": "code",
   "execution_count": null,
   "metadata": {},
   "outputs": [],
   "source": []
  }
 ],
 "metadata": {
  "kernelspec": {
   "display_name": "Python 3",
   "language": "python",
   "name": "python3"
  },
  "language_info": {
   "codemirror_mode": {
    "name": "ipython",
    "version": 3
   },
   "file_extension": ".py",
   "mimetype": "text/x-python",
   "name": "python",
   "nbconvert_exporter": "python",
   "pygments_lexer": "ipython3",
   "version": "3.6.6"
  },
  "toc": {
   "base_numbering": 1,
   "nav_menu": {},
   "number_sections": true,
   "sideBar": true,
   "skip_h1_title": true,
   "title_cell": "Table of Contents",
   "title_sidebar": "Contents",
   "toc_cell": true,
   "toc_position": {},
   "toc_section_display": true,
   "toc_window_display": true
  }
 },
 "nbformat": 4,
 "nbformat_minor": 2
}
