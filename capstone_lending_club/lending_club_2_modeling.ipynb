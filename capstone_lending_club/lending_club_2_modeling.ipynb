{
 "cells": [
  {
   "cell_type": "markdown",
   "metadata": {},
   "source": [
    "# Lending Club Loan Default Predictions 1\n",
    "**Author: Thomas Loeber**"
   ]
  },
  {
   "cell_type": "markdown",
   "metadata": {
    "toc": true
   },
   "source": [
    "<h1>Table of Contents<span class=\"tocSkip\"></span></h1>\n",
    "<div class=\"toc\"><ul class=\"toc-item\"><li><span><a href=\"#Load-data-and-saved-models\" data-toc-modified-id=\"Load-data-and-saved-models-1\"><span class=\"toc-item-num\">1&nbsp;&nbsp;</span>Load data and saved models</a></span></li><li><span><a href=\"#Preprocessing\" data-toc-modified-id=\"Preprocessing-2\"><span class=\"toc-item-num\">2&nbsp;&nbsp;</span>Preprocessing</a></span></li><li><span><a href=\"#PCA\" data-toc-modified-id=\"PCA-3\"><span class=\"toc-item-num\">3&nbsp;&nbsp;</span>PCA</a></span></li><li><span><a href=\"#Random-forests\" data-toc-modified-id=\"Random-forests-4\"><span class=\"toc-item-num\">4&nbsp;&nbsp;</span>Random forests</a></span></li><li><span><a href=\"#Logistic-regression\" data-toc-modified-id=\"Logistic-regression-5\"><span class=\"toc-item-num\">5&nbsp;&nbsp;</span>Logistic regression</a></span><ul class=\"toc-item\"><li><span><a href=\"#Ridge/Lasso-+-LogisticRegressionCV\" data-toc-modified-id=\"Ridge/Lasso-+-LogisticRegressionCV-5.1\"><span class=\"toc-item-num\">5.1&nbsp;&nbsp;</span>Ridge/Lasso + LogisticRegressionCV</a></span></li><li><span><a href=\"#SGDClassifier-(elastic-net)-+-GridSearchCV\" data-toc-modified-id=\"SGDClassifier-(elastic-net)-+-GridSearchCV-5.2\"><span class=\"toc-item-num\">5.2&nbsp;&nbsp;</span>SGDClassifier (elastic net) + GridSearchCV</a></span></li></ul></li><li><span><a href=\"#Load-pickled-data\" data-toc-modified-id=\"Load-pickled-data-6\"><span class=\"toc-item-num\">6&nbsp;&nbsp;</span>Load pickled data</a></span></li></ul></div>"
   ]
  },
  {
   "cell_type": "code",
   "execution_count": 147,
   "metadata": {},
   "outputs": [],
   "source": [
    "import pdb \n",
    "import glob\n",
    "import copy\n",
    "import math\n",
    "import pickle\n",
    "\n",
    "import numpy as np\n",
    "import pandas as pd\n",
    "import scipy as sp\n",
    "import sklearn\n",
    "\n",
    "import matplotlib as mpl\n",
    "import matplotlib.pyplot as plt\n",
    "import matplotlib.cm as cm\n",
    "import seaborn as sns\n",
    "import missingno  # for visualizing missing data\n",
    "\n",
    "from sklearn.compose import ColumnTransformer\n",
    "from sklearn.pipeline import Pipeline\n",
    "from sklearn.impute import SimpleImputer\n",
    "from sklearn.preprocessing import StandardScaler, OneHotEncoder\n",
    "\n",
    "from sklearn.linear_model import LogisticRegression, \\\n",
    "    LogisticRegressionCV, SGDClassifier\n",
    "from sklearn.model_selection import GridSearchCV\n",
    "from sklearn.decomposition import PCA\n",
    "from sklearn.ensemble import RandomForestClassifier\n",
    "from sklearn.metrics import precision_recall_curve, \\\n",
    "    average_precision_score, roc_curve, auc\n",
    "\n",
    "\n",
    "\n",
    "from sklearn.externals import joblib\n",
    "from sklearn.utils import resample\n",
    "from sklearn.utils.fixes import signature\n",
    "\n",
    "# Set up pandas table display\n",
    "pd.set_option('display.width', 120)\n",
    "pd.set_option('display.max_columns', 100)\n",
    "pd.set_option('display.notebook_repr_html', True)\n",
    "\n",
    "# Set plotting options\n",
    "sns.set() # Use seaborn defaults for plotting\n",
    "%matplotlib inline "
   ]
  },
  {
   "cell_type": "markdown",
   "metadata": {},
   "source": [
    "## Load data and saved models"
   ]
  },
  {
   "cell_type": "code",
   "execution_count": 155,
   "metadata": {},
   "outputs": [],
   "source": [
    "# Load original data\n",
    "with open('data_processed/all_data.pickle', 'rb') as pickled_file: \n",
    "    all_data = pickle.load(pickled_file) "
   ]
  },
  {
   "cell_type": "code",
   "execution_count": null,
   "metadata": {},
   "outputs": [],
   "source": [
    "# Load preprocessed data and models\n"
   ]
  },
  {
   "cell_type": "markdown",
   "metadata": {},
   "source": [
    "## Preprocessing"
   ]
  },
  {
   "cell_type": "code",
   "execution_count": 159,
   "metadata": {},
   "outputs": [
    {
     "name": "stderr",
     "output_type": "stream",
     "text": [
      "C:\\Users\\t\\Anaconda3\\lib\\site-packages\\sklearn\\model_selection\\_split.py:2069: FutureWarning: From version 0.21, test_size will always complement train_size unless both are specified.\n",
      "  FutureWarning)\n"
     ]
    }
   ],
   "source": [
    "# Train-test split (for now only select 1% for training)\n",
    "from sklearn.model_selection import train_test_split\n",
    "X_train, X_test, y_train, y_test = \\\n",
    "    train_test_split(all_data.drop('default', axis='columns'),\n",
    "                     all_data.default,\n",
    "                     train_size=10000, random_state=1,\n",
    "                     shuffle=True, stratify=all_data.default) "
   ]
  },
  {
   "cell_type": "code",
   "execution_count": 160,
   "metadata": {},
   "outputs": [],
   "source": [
    "# Create smaller test set\n",
    "X_test_small, y_test_small = resample(\n",
    "    X_test, y_test, replace=False, \n",
    "    n_samples=10000, random_state=1)"
   ]
  },
  {
   "cell_type": "code",
   "execution_count": 161,
   "metadata": {},
   "outputs": [],
   "source": [
    "# Imputation and standardization for numeric features\n",
    "numeric_features = X_train.select_dtypes(include=[np.number]).columns\n",
    "numeric_transformer = Pipeline(steps =[\n",
    "    ('imputer', SimpleImputer(strategy='median')),\n",
    "    ('scaler', StandardScaler())])\n",
    "\n",
    "# Imputation and one-hot encoding for categorical features\n",
    "categorical_features = X_train.select_dtypes(include=[object]).columns\n",
    "categorical_transformer = Pipeline(steps =[\n",
    "    ('imputer', SimpleImputer(strategy='most_frequent')),\n",
    "    ('onehot', OneHotEncoder())])\n",
    "\n",
    "# Combining preprocessing for both kinds of features\n",
    "preprocessor = ColumnTransformer(\n",
    "    transformers=[\n",
    "        ('num', numeric_transformer, numeric_features),\n",
    "        ('', categorical_transformer, categorical_features)],\n",
    "    remainder='passthrough', n_jobs=3)\n",
    "\n",
    "# Apply preprocessing\n",
    "X_train_p = preprocessor.fit_transform(X_train)\n",
    "X_test_small_p = preprocessor.transform(X_test_small)"
   ]
  },
  {
   "cell_type": "code",
   "execution_count": 152,
   "metadata": {},
   "outputs": [
    {
     "data": {
      "text/html": [
       "<div>\n",
       "<style scoped>\n",
       "    .dataframe tbody tr th:only-of-type {\n",
       "        vertical-align: middle;\n",
       "    }\n",
       "\n",
       "    .dataframe tbody tr th {\n",
       "        vertical-align: top;\n",
       "    }\n",
       "\n",
       "    .dataframe thead th {\n",
       "        text-align: right;\n",
       "    }\n",
       "</style>\n",
       "<table border=\"1\" class=\"dataframe\">\n",
       "  <thead>\n",
       "    <tr style=\"text-align: right;\">\n",
       "      <th></th>\n",
       "      <th></th>\n",
       "      <th>term</th>\n",
       "      <th>emp_length</th>\n",
       "      <th>home_ownership</th>\n",
       "      <th>verification_status</th>\n",
       "      <th>loan_status</th>\n",
       "      <th>purpose</th>\n",
       "      <th>addr_state</th>\n",
       "      <th>dti</th>\n",
       "      <th>fico_range_low</th>\n",
       "      <th>fico_range_high</th>\n",
       "      <th>open_acc</th>\n",
       "      <th>revol_util</th>\n",
       "      <th>total_acc</th>\n",
       "      <th>application_type</th>\n",
       "      <th>acc_open_past_24mths</th>\n",
       "      <th>bc_util</th>\n",
       "      <th>mo_sin_old_il_acct</th>\n",
       "      <th>num_actv_rev_tl</th>\n",
       "      <th>num_rev_tl_bal_gt_0</th>\n",
       "      <th>num_sats</th>\n",
       "      <th>num_tl_op_past_12m</th>\n",
       "      <th>pct_tl_nvr_dlq</th>\n",
       "      <th>percent_bc_gt_75</th>\n",
       "      <th>disbursement_method</th>\n",
       "      <th>term_5y</th>\n",
       "      <th>max_pct_tl_nvr_dlq</th>\n",
       "      <th>min_delinq_2yrs</th>\n",
       "      <th>min_pub_rec</th>\n",
       "      <th>min_collections_12_mths_ex_med</th>\n",
       "      <th>min_tot_coll_amt</th>\n",
       "      <th>min_bc_open_to_buy</th>\n",
       "      <th>min_chargeoff_within_12_mths</th>\n",
       "      <th>min_delinq_amnt</th>\n",
       "      <th>min_num_accts_ever_120_pd</th>\n",
       "      <th>min_num_tl_90g_dpd_24m</th>\n",
       "      <th>min_pub_rec_bankruptcies</th>\n",
       "      <th>min_tax_liens</th>\n",
       "      <th>min_total_il_high_credit_limit</th>\n",
       "      <th>min_inv_sqrt_1p_mths_since_last_record</th>\n",
       "      <th>min_inv_sqrt_1p_mths_since_recent_bc_dlq</th>\n",
       "      <th>min_inv_sqrt_1p_mths_since_last_major_derog</th>\n",
       "      <th>min_inv_sqrt_1p_mths_since_recent_revol_delinq</th>\n",
       "      <th>min_inv_sqrt_1p_mths_since_last_delinq</th>\n",
       "      <th>log1p_annual_inc</th>\n",
       "      <th>log1p_delinq_2yrs</th>\n",
       "      <th>log1p_inq_last_6mths</th>\n",
       "      <th>log1p_pub_rec</th>\n",
       "      <th>log1p_collections_12_mths_ex_med</th>\n",
       "      <th>log1p_acc_now_delinq</th>\n",
       "      <th>log1p_tot_coll_amt</th>\n",
       "      <th>log1p_total_rev_hi_lim</th>\n",
       "      <th>log1p_avg_cur_bal</th>\n",
       "      <th>log1p_bc_open_to_buy</th>\n",
       "      <th>log1p_chargeoff_within_12_mths</th>\n",
       "      <th>log1p_delinq_amnt</th>\n",
       "      <th>log_mo_sin_old_rev_tl_op</th>\n",
       "      <th>log1p_mo_sin_rcnt_rev_tl_op</th>\n",
       "      <th>log1p_mo_sin_rcnt_tl</th>\n",
       "      <th>log1p_mort_acc</th>\n",
       "      <th>log1p_mths_since_recent_bc</th>\n",
       "      <th>log1p_mths_since_recent_inq</th>\n",
       "      <th>log1p_num_accts_ever_120_pd</th>\n",
       "      <th>log1p_num_actv_bc_tl</th>\n",
       "      <th>log1p_num_bc_sats</th>\n",
       "      <th>log1p_num_bc_tl</th>\n",
       "      <th>log1p_num_il_tl</th>\n",
       "      <th>log1p_num_op_rev_tl</th>\n",
       "      <th>log1p_num_rev_accts</th>\n",
       "      <th>log1p_num_tl_120dpd_2m</th>\n",
       "      <th>log1p_num_tl_30dpd</th>\n",
       "      <th>log1p_num_tl_90g_dpd_24m</th>\n",
       "      <th>log1p_pub_rec_bankruptcies</th>\n",
       "      <th>log1p_tax_liens</th>\n",
       "      <th>log1p_tot_hi_cred_lim</th>\n",
       "      <th>log1p_total_bc_limit</th>\n",
       "      <th>log1p_total_il_high_credit_limit</th>\n",
       "      <th>log1p_inv_sqrt_1p_mths_since_last_record</th>\n",
       "      <th>log1p_inv_sqrt_1p_mths_since_recent_bc_dlq</th>\n",
       "      <th>log1p_inv_sqrt_1p_mths_since_last_major_derog</th>\n",
       "      <th>log1p_inv_sqrt_1p_mths_since_recent_revol_delinq</th>\n",
       "      <th>log1p_inv_sqrt_1p_mths_since_last_delinq</th>\n",
       "      <th>log_earliest_cr_line_days</th>\n",
       "    </tr>\n",
       "    <tr>\n",
       "      <th>issue_d</th>\n",
       "      <th>id</th>\n",
       "      <th></th>\n",
       "      <th></th>\n",
       "      <th></th>\n",
       "      <th></th>\n",
       "      <th></th>\n",
       "      <th></th>\n",
       "      <th></th>\n",
       "      <th></th>\n",
       "      <th></th>\n",
       "      <th></th>\n",
       "      <th></th>\n",
       "      <th></th>\n",
       "      <th></th>\n",
       "      <th></th>\n",
       "      <th></th>\n",
       "      <th></th>\n",
       "      <th></th>\n",
       "      <th></th>\n",
       "      <th></th>\n",
       "      <th></th>\n",
       "      <th></th>\n",
       "      <th></th>\n",
       "      <th></th>\n",
       "      <th></th>\n",
       "      <th></th>\n",
       "      <th></th>\n",
       "      <th></th>\n",
       "      <th></th>\n",
       "      <th></th>\n",
       "      <th></th>\n",
       "      <th></th>\n",
       "      <th></th>\n",
       "      <th></th>\n",
       "      <th></th>\n",
       "      <th></th>\n",
       "      <th></th>\n",
       "      <th></th>\n",
       "      <th></th>\n",
       "      <th></th>\n",
       "      <th></th>\n",
       "      <th></th>\n",
       "      <th></th>\n",
       "      <th></th>\n",
       "      <th></th>\n",
       "      <th></th>\n",
       "      <th></th>\n",
       "      <th></th>\n",
       "      <th></th>\n",
       "      <th></th>\n",
       "      <th></th>\n",
       "      <th></th>\n",
       "      <th></th>\n",
       "      <th></th>\n",
       "      <th></th>\n",
       "      <th></th>\n",
       "      <th></th>\n",
       "      <th></th>\n",
       "      <th></th>\n",
       "      <th></th>\n",
       "      <th></th>\n",
       "      <th></th>\n",
       "      <th></th>\n",
       "      <th></th>\n",
       "      <th></th>\n",
       "      <th></th>\n",
       "      <th></th>\n",
       "      <th></th>\n",
       "      <th></th>\n",
       "      <th></th>\n",
       "      <th></th>\n",
       "      <th></th>\n",
       "      <th></th>\n",
       "      <th></th>\n",
       "      <th></th>\n",
       "      <th></th>\n",
       "      <th></th>\n",
       "      <th></th>\n",
       "      <th></th>\n",
       "      <th></th>\n",
       "      <th></th>\n",
       "      <th></th>\n",
       "      <th></th>\n",
       "    </tr>\n",
       "  </thead>\n",
       "  <tbody>\n",
       "    <tr>\n",
       "      <th>2015-01-01</th>\n",
       "      <th>38610085</th>\n",
       "      <td>36 months</td>\n",
       "      <td>5 years</td>\n",
       "      <td>MORTGAGE</td>\n",
       "      <td>Source Verified</td>\n",
       "      <td>Fully Paid</td>\n",
       "      <td>debt_consolidation</td>\n",
       "      <td>VA</td>\n",
       "      <td>27.47</td>\n",
       "      <td>685</td>\n",
       "      <td>689</td>\n",
       "      <td>13.0</td>\n",
       "      <td>35.8</td>\n",
       "      <td>24.0</td>\n",
       "      <td>Individual</td>\n",
       "      <td>7.0</td>\n",
       "      <td>42.1</td>\n",
       "      <td>142.0</td>\n",
       "      <td>7.0</td>\n",
       "      <td>7.0</td>\n",
       "      <td>13.0</td>\n",
       "      <td>5.0</td>\n",
       "      <td>91.7</td>\n",
       "      <td>50.0</td>\n",
       "      <td>Cash</td>\n",
       "      <td>0.0</td>\n",
       "      <td>False</td>\n",
       "      <td>True</td>\n",
       "      <td>False</td>\n",
       "      <td>True</td>\n",
       "      <td>True</td>\n",
       "      <td>False</td>\n",
       "      <td>True</td>\n",
       "      <td>True</td>\n",
       "      <td>False</td>\n",
       "      <td>True</td>\n",
       "      <td>False</td>\n",
       "      <td>True</td>\n",
       "      <td>False</td>\n",
       "      <td>False</td>\n",
       "      <td>True</td>\n",
       "      <td>False</td>\n",
       "      <td>True</td>\n",
       "      <td>True</td>\n",
       "      <td>11.225257</td>\n",
       "      <td>0.000000</td>\n",
       "      <td>0.000000</td>\n",
       "      <td>0.693147</td>\n",
       "      <td>0.0</td>\n",
       "      <td>0.0</td>\n",
       "      <td>0.0</td>\n",
       "      <td>10.507831</td>\n",
       "      <td>8.000685</td>\n",
       "      <td>9.321792</td>\n",
       "      <td>0.0</td>\n",
       "      <td>0.0</td>\n",
       "      <td>5.560682</td>\n",
       "      <td>1.386294</td>\n",
       "      <td>1.386294</td>\n",
       "      <td>1.098612</td>\n",
       "      <td>1.386294</td>\n",
       "      <td>2.197225</td>\n",
       "      <td>1.098612</td>\n",
       "      <td>1.098612</td>\n",
       "      <td>1.609438</td>\n",
       "      <td>1.945910</td>\n",
       "      <td>1.791759</td>\n",
       "      <td>2.564949</td>\n",
       "      <td>2.890372</td>\n",
       "      <td>0.0</td>\n",
       "      <td>0.0</td>\n",
       "      <td>0.0</td>\n",
       "      <td>0.693147</td>\n",
       "      <td>0.0</td>\n",
       "      <td>10.990348</td>\n",
       "      <td>9.867912</td>\n",
       "      <td>10.030076</td>\n",
       "      <td>0.096704</td>\n",
       "      <td>0.000000</td>\n",
       "      <td>0.126492</td>\n",
       "      <td>0.000000</td>\n",
       "      <td>0.000000</td>\n",
       "      <td>8.976515</td>\n",
       "    </tr>\n",
       "    <tr>\n",
       "      <th>2013-04-01</th>\n",
       "      <th>4196127</th>\n",
       "      <td>36 months</td>\n",
       "      <td>10+ years</td>\n",
       "      <td>RENT</td>\n",
       "      <td>Verified</td>\n",
       "      <td>Charged Off</td>\n",
       "      <td>credit_card</td>\n",
       "      <td>CA</td>\n",
       "      <td>31.16</td>\n",
       "      <td>695</td>\n",
       "      <td>699</td>\n",
       "      <td>7.0</td>\n",
       "      <td>70.4</td>\n",
       "      <td>17.0</td>\n",
       "      <td>Individual</td>\n",
       "      <td>1.0</td>\n",
       "      <td>92.0</td>\n",
       "      <td>93.0</td>\n",
       "      <td>3.0</td>\n",
       "      <td>3.0</td>\n",
       "      <td>7.0</td>\n",
       "      <td>0.0</td>\n",
       "      <td>94.0</td>\n",
       "      <td>100.0</td>\n",
       "      <td>Cash</td>\n",
       "      <td>0.0</td>\n",
       "      <td>False</td>\n",
       "      <td>True</td>\n",
       "      <td>True</td>\n",
       "      <td>True</td>\n",
       "      <td>True</td>\n",
       "      <td>False</td>\n",
       "      <td>True</td>\n",
       "      <td>True</td>\n",
       "      <td>True</td>\n",
       "      <td>True</td>\n",
       "      <td>True</td>\n",
       "      <td>True</td>\n",
       "      <td>False</td>\n",
       "      <td>True</td>\n",
       "      <td>True</td>\n",
       "      <td>True</td>\n",
       "      <td>True</td>\n",
       "      <td>True</td>\n",
       "      <td>10.463132</td>\n",
       "      <td>0.000000</td>\n",
       "      <td>0.000000</td>\n",
       "      <td>0.000000</td>\n",
       "      <td>0.0</td>\n",
       "      <td>0.0</td>\n",
       "      <td>0.0</td>\n",
       "      <td>9.561068</td>\n",
       "      <td>7.844633</td>\n",
       "      <td>6.572283</td>\n",
       "      <td>0.0</td>\n",
       "      <td>0.0</td>\n",
       "      <td>4.574711</td>\n",
       "      <td>2.890372</td>\n",
       "      <td>2.890372</td>\n",
       "      <td>0.000000</td>\n",
       "      <td>4.248495</td>\n",
       "      <td>NaN</td>\n",
       "      <td>0.000000</td>\n",
       "      <td>1.098612</td>\n",
       "      <td>1.098612</td>\n",
       "      <td>1.386294</td>\n",
       "      <td>2.197225</td>\n",
       "      <td>1.791759</td>\n",
       "      <td>2.302585</td>\n",
       "      <td>0.0</td>\n",
       "      <td>0.0</td>\n",
       "      <td>0.0</td>\n",
       "      <td>0.000000</td>\n",
       "      <td>0.0</td>\n",
       "      <td>10.423887</td>\n",
       "      <td>9.093919</td>\n",
       "      <td>9.875808</td>\n",
       "      <td>0.000000</td>\n",
       "      <td>0.000000</td>\n",
       "      <td>0.000000</td>\n",
       "      <td>0.000000</td>\n",
       "      <td>0.000000</td>\n",
       "      <td>7.980024</td>\n",
       "    </tr>\n",
       "    <tr>\n",
       "      <th>2016-04-01</th>\n",
       "      <th>77459604</th>\n",
       "      <td>36 months</td>\n",
       "      <td>10+ years</td>\n",
       "      <td>MORTGAGE</td>\n",
       "      <td>Source Verified</td>\n",
       "      <td>Charged Off</td>\n",
       "      <td>debt_consolidation</td>\n",
       "      <td>NY</td>\n",
       "      <td>18.18</td>\n",
       "      <td>690</td>\n",
       "      <td>694</td>\n",
       "      <td>20.0</td>\n",
       "      <td>68.5</td>\n",
       "      <td>31.0</td>\n",
       "      <td>Individual</td>\n",
       "      <td>6.0</td>\n",
       "      <td>65.7</td>\n",
       "      <td>139.0</td>\n",
       "      <td>11.0</td>\n",
       "      <td>11.0</td>\n",
       "      <td>20.0</td>\n",
       "      <td>3.0</td>\n",
       "      <td>80.6</td>\n",
       "      <td>40.0</td>\n",
       "      <td>Cash</td>\n",
       "      <td>0.0</td>\n",
       "      <td>False</td>\n",
       "      <td>False</td>\n",
       "      <td>True</td>\n",
       "      <td>True</td>\n",
       "      <td>True</td>\n",
       "      <td>False</td>\n",
       "      <td>True</td>\n",
       "      <td>True</td>\n",
       "      <td>True</td>\n",
       "      <td>True</td>\n",
       "      <td>True</td>\n",
       "      <td>True</td>\n",
       "      <td>True</td>\n",
       "      <td>True</td>\n",
       "      <td>False</td>\n",
       "      <td>True</td>\n",
       "      <td>False</td>\n",
       "      <td>False</td>\n",
       "      <td>11.461643</td>\n",
       "      <td>1.098612</td>\n",
       "      <td>0.693147</td>\n",
       "      <td>0.000000</td>\n",
       "      <td>0.0</td>\n",
       "      <td>0.0</td>\n",
       "      <td>0.0</td>\n",
       "      <td>12.211065</td>\n",
       "      <td>9.984514</td>\n",
       "      <td>8.989195</td>\n",
       "      <td>0.0</td>\n",
       "      <td>0.0</td>\n",
       "      <td>5.488938</td>\n",
       "      <td>1.791759</td>\n",
       "      <td>1.791759</td>\n",
       "      <td>0.693147</td>\n",
       "      <td>1.945910</td>\n",
       "      <td>1.386294</td>\n",
       "      <td>0.000000</td>\n",
       "      <td>1.791759</td>\n",
       "      <td>1.791759</td>\n",
       "      <td>2.564949</td>\n",
       "      <td>0.693147</td>\n",
       "      <td>2.995732</td>\n",
       "      <td>3.401197</td>\n",
       "      <td>0.0</td>\n",
       "      <td>0.0</td>\n",
       "      <td>0.0</td>\n",
       "      <td>0.000000</td>\n",
       "      <td>0.0</td>\n",
       "      <td>13.083625</td>\n",
       "      <td>10.060534</td>\n",
       "      <td>0.000000</td>\n",
       "      <td>0.000000</td>\n",
       "      <td>0.405465</td>\n",
       "      <td>0.000000</td>\n",
       "      <td>0.405465</td>\n",
       "      <td>0.405465</td>\n",
       "      <td>8.904494</td>\n",
       "    </tr>\n",
       "    <tr>\n",
       "      <th>2013-06-01</th>\n",
       "      <th>5756959</th>\n",
       "      <td>36 months</td>\n",
       "      <td>4 years</td>\n",
       "      <td>RENT</td>\n",
       "      <td>Verified</td>\n",
       "      <td>Fully Paid</td>\n",
       "      <td>debt_consolidation</td>\n",
       "      <td>MI</td>\n",
       "      <td>21.90</td>\n",
       "      <td>670</td>\n",
       "      <td>674</td>\n",
       "      <td>21.0</td>\n",
       "      <td>72.3</td>\n",
       "      <td>29.0</td>\n",
       "      <td>Individual</td>\n",
       "      <td>4.0</td>\n",
       "      <td>96.8</td>\n",
       "      <td>141.0</td>\n",
       "      <td>7.0</td>\n",
       "      <td>7.0</td>\n",
       "      <td>21.0</td>\n",
       "      <td>1.0</td>\n",
       "      <td>92.0</td>\n",
       "      <td>100.0</td>\n",
       "      <td>Cash</td>\n",
       "      <td>0.0</td>\n",
       "      <td>False</td>\n",
       "      <td>True</td>\n",
       "      <td>True</td>\n",
       "      <td>True</td>\n",
       "      <td>True</td>\n",
       "      <td>False</td>\n",
       "      <td>True</td>\n",
       "      <td>True</td>\n",
       "      <td>True</td>\n",
       "      <td>True</td>\n",
       "      <td>True</td>\n",
       "      <td>True</td>\n",
       "      <td>False</td>\n",
       "      <td>True</td>\n",
       "      <td>False</td>\n",
       "      <td>True</td>\n",
       "      <td>False</td>\n",
       "      <td>True</td>\n",
       "      <td>10.596660</td>\n",
       "      <td>0.000000</td>\n",
       "      <td>0.000000</td>\n",
       "      <td>0.000000</td>\n",
       "      <td>0.0</td>\n",
       "      <td>0.0</td>\n",
       "      <td>0.0</td>\n",
       "      <td>8.839422</td>\n",
       "      <td>8.617943</td>\n",
       "      <td>4.882802</td>\n",
       "      <td>0.0</td>\n",
       "      <td>0.0</td>\n",
       "      <td>5.669881</td>\n",
       "      <td>2.079442</td>\n",
       "      <td>2.079442</td>\n",
       "      <td>0.000000</td>\n",
       "      <td>2.079442</td>\n",
       "      <td>2.995732</td>\n",
       "      <td>0.000000</td>\n",
       "      <td>1.791759</td>\n",
       "      <td>1.791759</td>\n",
       "      <td>2.197225</td>\n",
       "      <td>2.772589</td>\n",
       "      <td>2.197225</td>\n",
       "      <td>2.708050</td>\n",
       "      <td>0.0</td>\n",
       "      <td>0.0</td>\n",
       "      <td>0.0</td>\n",
       "      <td>0.000000</td>\n",
       "      <td>0.0</td>\n",
       "      <td>11.655969</td>\n",
       "      <td>8.318986</td>\n",
       "      <td>11.594303</td>\n",
       "      <td>0.000000</td>\n",
       "      <td>0.167694</td>\n",
       "      <td>0.000000</td>\n",
       "      <td>0.182322</td>\n",
       "      <td>0.000000</td>\n",
       "      <td>9.071653</td>\n",
       "    </tr>\n",
       "    <tr>\n",
       "      <th>2014-11-01</th>\n",
       "      <th>32360169</th>\n",
       "      <td>60 months</td>\n",
       "      <td>4 years</td>\n",
       "      <td>MORTGAGE</td>\n",
       "      <td>Verified</td>\n",
       "      <td>Fully Paid</td>\n",
       "      <td>debt_consolidation</td>\n",
       "      <td>OR</td>\n",
       "      <td>19.32</td>\n",
       "      <td>700</td>\n",
       "      <td>704</td>\n",
       "      <td>15.0</td>\n",
       "      <td>31.8</td>\n",
       "      <td>38.0</td>\n",
       "      <td>Individual</td>\n",
       "      <td>8.0</td>\n",
       "      <td>54.3</td>\n",
       "      <td>132.0</td>\n",
       "      <td>7.0</td>\n",
       "      <td>7.0</td>\n",
       "      <td>15.0</td>\n",
       "      <td>5.0</td>\n",
       "      <td>100.0</td>\n",
       "      <td>0.0</td>\n",
       "      <td>Cash</td>\n",
       "      <td>1.0</td>\n",
       "      <td>True</td>\n",
       "      <td>True</td>\n",
       "      <td>False</td>\n",
       "      <td>True</td>\n",
       "      <td>True</td>\n",
       "      <td>False</td>\n",
       "      <td>True</td>\n",
       "      <td>True</td>\n",
       "      <td>True</td>\n",
       "      <td>True</td>\n",
       "      <td>False</td>\n",
       "      <td>True</td>\n",
       "      <td>False</td>\n",
       "      <td>False</td>\n",
       "      <td>True</td>\n",
       "      <td>True</td>\n",
       "      <td>True</td>\n",
       "      <td>True</td>\n",
       "      <td>10.993748</td>\n",
       "      <td>0.000000</td>\n",
       "      <td>0.000000</td>\n",
       "      <td>0.693147</td>\n",
       "      <td>0.0</td>\n",
       "      <td>0.0</td>\n",
       "      <td>0.0</td>\n",
       "      <td>9.350189</td>\n",
       "      <td>8.449128</td>\n",
       "      <td>6.418365</td>\n",
       "      <td>0.0</td>\n",
       "      <td>0.0</td>\n",
       "      <td>4.605170</td>\n",
       "      <td>1.791759</td>\n",
       "      <td>1.791759</td>\n",
       "      <td>1.386294</td>\n",
       "      <td>1.791759</td>\n",
       "      <td>2.397895</td>\n",
       "      <td>0.000000</td>\n",
       "      <td>1.098612</td>\n",
       "      <td>1.098612</td>\n",
       "      <td>1.386294</td>\n",
       "      <td>3.178054</td>\n",
       "      <td>2.397895</td>\n",
       "      <td>2.564949</td>\n",
       "      <td>0.0</td>\n",
       "      <td>0.0</td>\n",
       "      <td>0.0</td>\n",
       "      <td>0.693147</td>\n",
       "      <td>0.0</td>\n",
       "      <td>11.353226</td>\n",
       "      <td>7.313887</td>\n",
       "      <td>11.208301</td>\n",
       "      <td>0.103557</td>\n",
       "      <td>0.000000</td>\n",
       "      <td>0.000000</td>\n",
       "      <td>0.000000</td>\n",
       "      <td>0.000000</td>\n",
       "      <td>8.306225</td>\n",
       "    </tr>\n",
       "  </tbody>\n",
       "</table>\n",
       "</div>"
      ],
      "text/plain": [
       "                           term emp_length home_ownership verification_status  loan_status             purpose  \\\n",
       "issue_d    id                                                                                                    \n",
       "2015-01-01 38610085   36 months    5 years       MORTGAGE     Source Verified   Fully Paid  debt_consolidation   \n",
       "2013-04-01 4196127    36 months  10+ years           RENT            Verified  Charged Off         credit_card   \n",
       "2016-04-01 77459604   36 months  10+ years       MORTGAGE     Source Verified  Charged Off  debt_consolidation   \n",
       "2013-06-01 5756959    36 months    4 years           RENT            Verified   Fully Paid  debt_consolidation   \n",
       "2014-11-01 32360169   60 months    4 years       MORTGAGE            Verified   Fully Paid  debt_consolidation   \n",
       "\n",
       "                    addr_state    dti  fico_range_low  fico_range_high  open_acc  revol_util  total_acc  \\\n",
       "issue_d    id                                                                                             \n",
       "2015-01-01 38610085         VA  27.47             685              689      13.0        35.8       24.0   \n",
       "2013-04-01 4196127          CA  31.16             695              699       7.0        70.4       17.0   \n",
       "2016-04-01 77459604         NY  18.18             690              694      20.0        68.5       31.0   \n",
       "2013-06-01 5756959          MI  21.90             670              674      21.0        72.3       29.0   \n",
       "2014-11-01 32360169         OR  19.32             700              704      15.0        31.8       38.0   \n",
       "\n",
       "                    application_type  acc_open_past_24mths  bc_util  mo_sin_old_il_acct  num_actv_rev_tl  \\\n",
       "issue_d    id                                                                                              \n",
       "2015-01-01 38610085       Individual                   7.0     42.1               142.0              7.0   \n",
       "2013-04-01 4196127        Individual                   1.0     92.0                93.0              3.0   \n",
       "2016-04-01 77459604       Individual                   6.0     65.7               139.0             11.0   \n",
       "2013-06-01 5756959        Individual                   4.0     96.8               141.0              7.0   \n",
       "2014-11-01 32360169       Individual                   8.0     54.3               132.0              7.0   \n",
       "\n",
       "                     num_rev_tl_bal_gt_0  num_sats  num_tl_op_past_12m  pct_tl_nvr_dlq  percent_bc_gt_75  \\\n",
       "issue_d    id                                                                                              \n",
       "2015-01-01 38610085                  7.0      13.0                 5.0            91.7              50.0   \n",
       "2013-04-01 4196127                   3.0       7.0                 0.0            94.0             100.0   \n",
       "2016-04-01 77459604                 11.0      20.0                 3.0            80.6              40.0   \n",
       "2013-06-01 5756959                   7.0      21.0                 1.0            92.0             100.0   \n",
       "2014-11-01 32360169                  7.0      15.0                 5.0           100.0               0.0   \n",
       "\n",
       "                    disbursement_method  term_5y  max_pct_tl_nvr_dlq  min_delinq_2yrs  min_pub_rec  \\\n",
       "issue_d    id                                                                                        \n",
       "2015-01-01 38610085                Cash      0.0               False             True        False   \n",
       "2013-04-01 4196127                 Cash      0.0               False             True         True   \n",
       "2016-04-01 77459604                Cash      0.0               False            False         True   \n",
       "2013-06-01 5756959                 Cash      0.0               False             True         True   \n",
       "2014-11-01 32360169                Cash      1.0                True             True        False   \n",
       "\n",
       "                     min_collections_12_mths_ex_med  min_tot_coll_amt  min_bc_open_to_buy  \\\n",
       "issue_d    id                                                                               \n",
       "2015-01-01 38610085                            True              True               False   \n",
       "2013-04-01 4196127                             True              True               False   \n",
       "2016-04-01 77459604                            True              True               False   \n",
       "2013-06-01 5756959                             True              True               False   \n",
       "2014-11-01 32360169                            True              True               False   \n",
       "\n",
       "                     min_chargeoff_within_12_mths  min_delinq_amnt  min_num_accts_ever_120_pd  min_num_tl_90g_dpd_24m  \\\n",
       "issue_d    id                                                                                                           \n",
       "2015-01-01 38610085                          True             True                      False                    True   \n",
       "2013-04-01 4196127                           True             True                       True                    True   \n",
       "2016-04-01 77459604                          True             True                       True                    True   \n",
       "2013-06-01 5756959                           True             True                       True                    True   \n",
       "2014-11-01 32360169                          True             True                       True                    True   \n",
       "\n",
       "                     min_pub_rec_bankruptcies  min_tax_liens  min_total_il_high_credit_limit  \\\n",
       "issue_d    id                                                                                  \n",
       "2015-01-01 38610085                     False           True                           False   \n",
       "2013-04-01 4196127                       True           True                           False   \n",
       "2016-04-01 77459604                      True           True                            True   \n",
       "2013-06-01 5756959                       True           True                           False   \n",
       "2014-11-01 32360169                     False           True                           False   \n",
       "\n",
       "                     min_inv_sqrt_1p_mths_since_last_record  min_inv_sqrt_1p_mths_since_recent_bc_dlq  \\\n",
       "issue_d    id                                                                                           \n",
       "2015-01-01 38610085                                   False                                      True   \n",
       "2013-04-01 4196127                                     True                                      True   \n",
       "2016-04-01 77459604                                    True                                     False   \n",
       "2013-06-01 5756959                                     True                                     False   \n",
       "2014-11-01 32360169                                   False                                      True   \n",
       "\n",
       "                     min_inv_sqrt_1p_mths_since_last_major_derog  min_inv_sqrt_1p_mths_since_recent_revol_delinq  \\\n",
       "issue_d    id                                                                                                      \n",
       "2015-01-01 38610085                                        False                                            True   \n",
       "2013-04-01 4196127                                          True                                            True   \n",
       "2016-04-01 77459604                                         True                                           False   \n",
       "2013-06-01 5756959                                          True                                           False   \n",
       "2014-11-01 32360169                                         True                                            True   \n",
       "\n",
       "                     min_inv_sqrt_1p_mths_since_last_delinq  log1p_annual_inc  log1p_delinq_2yrs  \\\n",
       "issue_d    id                                                                                      \n",
       "2015-01-01 38610085                                    True         11.225257           0.000000   \n",
       "2013-04-01 4196127                                     True         10.463132           0.000000   \n",
       "2016-04-01 77459604                                   False         11.461643           1.098612   \n",
       "2013-06-01 5756959                                     True         10.596660           0.000000   \n",
       "2014-11-01 32360169                                    True         10.993748           0.000000   \n",
       "\n",
       "                     log1p_inq_last_6mths  log1p_pub_rec  log1p_collections_12_mths_ex_med  log1p_acc_now_delinq  \\\n",
       "issue_d    id                                                                                                      \n",
       "2015-01-01 38610085              0.000000       0.693147                               0.0                   0.0   \n",
       "2013-04-01 4196127               0.000000       0.000000                               0.0                   0.0   \n",
       "2016-04-01 77459604              0.693147       0.000000                               0.0                   0.0   \n",
       "2013-06-01 5756959               0.000000       0.000000                               0.0                   0.0   \n",
       "2014-11-01 32360169              0.000000       0.693147                               0.0                   0.0   \n",
       "\n",
       "                     log1p_tot_coll_amt  log1p_total_rev_hi_lim  log1p_avg_cur_bal  log1p_bc_open_to_buy  \\\n",
       "issue_d    id                                                                                              \n",
       "2015-01-01 38610085                 0.0               10.507831           8.000685              9.321792   \n",
       "2013-04-01 4196127                  0.0                9.561068           7.844633              6.572283   \n",
       "2016-04-01 77459604                 0.0               12.211065           9.984514              8.989195   \n",
       "2013-06-01 5756959                  0.0                8.839422           8.617943              4.882802   \n",
       "2014-11-01 32360169                 0.0                9.350189           8.449128              6.418365   \n",
       "\n",
       "                     log1p_chargeoff_within_12_mths  log1p_delinq_amnt  log_mo_sin_old_rev_tl_op  \\\n",
       "issue_d    id                                                                                      \n",
       "2015-01-01 38610085                             0.0                0.0                  5.560682   \n",
       "2013-04-01 4196127                              0.0                0.0                  4.574711   \n",
       "2016-04-01 77459604                             0.0                0.0                  5.488938   \n",
       "2013-06-01 5756959                              0.0                0.0                  5.669881   \n",
       "2014-11-01 32360169                             0.0                0.0                  4.605170   \n",
       "\n",
       "                     log1p_mo_sin_rcnt_rev_tl_op  log1p_mo_sin_rcnt_tl  log1p_mort_acc  log1p_mths_since_recent_bc  \\\n",
       "issue_d    id                                                                                                        \n",
       "2015-01-01 38610085                     1.386294              1.386294        1.098612                    1.386294   \n",
       "2013-04-01 4196127                      2.890372              2.890372        0.000000                    4.248495   \n",
       "2016-04-01 77459604                     1.791759              1.791759        0.693147                    1.945910   \n",
       "2013-06-01 5756959                      2.079442              2.079442        0.000000                    2.079442   \n",
       "2014-11-01 32360169                     1.791759              1.791759        1.386294                    1.791759   \n",
       "\n",
       "                     log1p_mths_since_recent_inq  log1p_num_accts_ever_120_pd  log1p_num_actv_bc_tl  \\\n",
       "issue_d    id                                                                                         \n",
       "2015-01-01 38610085                     2.197225                     1.098612              1.098612   \n",
       "2013-04-01 4196127                           NaN                     0.000000              1.098612   \n",
       "2016-04-01 77459604                     1.386294                     0.000000              1.791759   \n",
       "2013-06-01 5756959                      2.995732                     0.000000              1.791759   \n",
       "2014-11-01 32360169                     2.397895                     0.000000              1.098612   \n",
       "\n",
       "                     log1p_num_bc_sats  log1p_num_bc_tl  log1p_num_il_tl  log1p_num_op_rev_tl  log1p_num_rev_accts  \\\n",
       "issue_d    id                                                                                                        \n",
       "2015-01-01 38610085           1.609438         1.945910         1.791759             2.564949             2.890372   \n",
       "2013-04-01 4196127            1.098612         1.386294         2.197225             1.791759             2.302585   \n",
       "2016-04-01 77459604           1.791759         2.564949         0.693147             2.995732             3.401197   \n",
       "2013-06-01 5756959            1.791759         2.197225         2.772589             2.197225             2.708050   \n",
       "2014-11-01 32360169           1.098612         1.386294         3.178054             2.397895             2.564949   \n",
       "\n",
       "                     log1p_num_tl_120dpd_2m  log1p_num_tl_30dpd  log1p_num_tl_90g_dpd_24m  log1p_pub_rec_bankruptcies  \\\n",
       "issue_d    id                                                                                                           \n",
       "2015-01-01 38610085                     0.0                 0.0                       0.0                    0.693147   \n",
       "2013-04-01 4196127                      0.0                 0.0                       0.0                    0.000000   \n",
       "2016-04-01 77459604                     0.0                 0.0                       0.0                    0.000000   \n",
       "2013-06-01 5756959                      0.0                 0.0                       0.0                    0.000000   \n",
       "2014-11-01 32360169                     0.0                 0.0                       0.0                    0.693147   \n",
       "\n",
       "                     log1p_tax_liens  log1p_tot_hi_cred_lim  log1p_total_bc_limit  log1p_total_il_high_credit_limit  \\\n",
       "issue_d    id                                                                                                         \n",
       "2015-01-01 38610085              0.0              10.990348              9.867912                         10.030076   \n",
       "2013-04-01 4196127               0.0              10.423887              9.093919                          9.875808   \n",
       "2016-04-01 77459604              0.0              13.083625             10.060534                          0.000000   \n",
       "2013-06-01 5756959               0.0              11.655969              8.318986                         11.594303   \n",
       "2014-11-01 32360169              0.0              11.353226              7.313887                         11.208301   \n",
       "\n",
       "                     log1p_inv_sqrt_1p_mths_since_last_record  log1p_inv_sqrt_1p_mths_since_recent_bc_dlq  \\\n",
       "issue_d    id                                                                                               \n",
       "2015-01-01 38610085                                  0.096704                                    0.000000   \n",
       "2013-04-01 4196127                                   0.000000                                    0.000000   \n",
       "2016-04-01 77459604                                  0.000000                                    0.405465   \n",
       "2013-06-01 5756959                                   0.000000                                    0.167694   \n",
       "2014-11-01 32360169                                  0.103557                                    0.000000   \n",
       "\n",
       "                     log1p_inv_sqrt_1p_mths_since_last_major_derog  log1p_inv_sqrt_1p_mths_since_recent_revol_delinq  \\\n",
       "issue_d    id                                                                                                          \n",
       "2015-01-01 38610085                                       0.126492                                          0.000000   \n",
       "2013-04-01 4196127                                        0.000000                                          0.000000   \n",
       "2016-04-01 77459604                                       0.000000                                          0.405465   \n",
       "2013-06-01 5756959                                        0.000000                                          0.182322   \n",
       "2014-11-01 32360169                                       0.000000                                          0.000000   \n",
       "\n",
       "                     log1p_inv_sqrt_1p_mths_since_last_delinq  log_earliest_cr_line_days  \n",
       "issue_d    id                                                                             \n",
       "2015-01-01 38610085                                  0.000000                   8.976515  \n",
       "2013-04-01 4196127                                   0.000000                   7.980024  \n",
       "2016-04-01 77459604                                  0.405465                   8.904494  \n",
       "2013-06-01 5756959                                   0.000000                   9.071653  \n",
       "2014-11-01 32360169                                  0.000000                   8.306225  "
      ]
     },
     "execution_count": 152,
     "metadata": {},
     "output_type": "execute_result"
    }
   ],
   "source": [
    "X_test_small.head()"
   ]
  },
  {
   "cell_type": "code",
   "execution_count": 153,
   "metadata": {},
   "outputs": [
    {
     "data": {
      "text/plain": [
       "Source Verified    409\n",
       "Verified           313\n",
       "Not Verified       278\n",
       "Name: verification_status, dtype: int64"
      ]
     },
     "execution_count": 153,
     "metadata": {},
     "output_type": "execute_result"
    }
   ],
   "source": [
    "X_test_small. verification_status.value_counts()"
   ]
  },
  {
   "cell_type": "code",
   "execution_count": 154,
   "metadata": {},
   "outputs": [
    {
     "data": {
      "text/plain": [
       "Fully Paid                                             796\n",
       "Charged Off                                            198\n",
       "Does not meet the credit policy. Status:Charged Off      3\n",
       "Does not meet the credit policy. Status:Fully Paid       3\n",
       "Name: loan_status, dtype: int64"
      ]
     },
     "execution_count": 154,
     "metadata": {},
     "output_type": "execute_result"
    }
   ],
   "source": [
    "X_test_small.loan_status.value_counts()"
   ]
  },
  {
   "cell_type": "code",
   "execution_count": 41,
   "metadata": {},
   "outputs": [],
   "source": [
    "# Save preprocessed data\n",
    "for split_data in ['X_train_p', 'X_test_small_p', 'y_train', 'y_test_small']:\n",
    "    joblib.dump(split_data,\n",
    "                'data_processed/{}.joblib'.format(split_data))"
   ]
  },
  {
   "cell_type": "code",
   "execution_count": 42,
   "metadata": {},
   "outputs": [
    {
     "data": {
      "text/plain": [
       "(10233, 168)"
      ]
     },
     "execution_count": 42,
     "metadata": {},
     "output_type": "execute_result"
    }
   ],
   "source": [
    "X_train_p.shape"
   ]
  },
  {
   "cell_type": "code",
   "execution_count": 65,
   "metadata": {},
   "outputs": [
    {
     "data": {
      "text/plain": [
       "0    8139\n",
       "1    2094\n",
       "Name: default, dtype: int64"
      ]
     },
     "execution_count": 65,
     "metadata": {},
     "output_type": "execute_result"
    }
   ],
   "source": [
    "# Look how imbalanced our data are\n",
    "y_train.value_counts()"
   ]
  },
  {
   "cell_type": "code",
   "execution_count": 67,
   "metadata": {},
   "outputs": [
    {
     "data": {
      "text/plain": [
       "0    7950\n",
       "1    2050\n",
       "Name: default, dtype: int64"
      ]
     },
     "execution_count": 67,
     "metadata": {},
     "output_type": "execute_result"
    }
   ],
   "source": [
    "y_test_small.value_counts()"
   ]
  },
  {
   "cell_type": "markdown",
   "metadata": {},
   "source": [
    "## PCA"
   ]
  },
  {
   "cell_type": "code",
   "execution_count": 162,
   "metadata": {},
   "outputs": [
    {
     "data": {
      "image/png": "[encoded data removed]",
      "text/plain": [
       "<Figure size 864x504 with 1 Axes>"
      ]
     },
     "metadata": {
      "needs_background": "light"
     },
     "output_type": "display_data"
    }
   ],
   "source": [
    "# Use PCA to assess whether features lie in lower-\n",
    "# dimensional subspace\n",
    "pca = PCA()\n",
    "pca.fit(X_train_p)\n",
    "explained_var = pca.explained_variance_ratio_\n",
    "\n",
    "# Plot results\n",
    "plt.figure(figsize=(12, 7))\n",
    "plt.step(range(1, len(explained_var)+2),\n",
    "         np.hstack([[0], np.cumsum(explained_var)]),\n",
    "         color='black', label='Cumulative')\n",
    "plt.bar(range(1, len(explained_var)+1),\n",
    "        explained_var, \n",
    "        label='per principal component')\n",
    "plt.legend('lowerright')\n",
    "plt.title('Explained variance for different numbers of principal component')\n",
    "plt.ylim(0,1.05)\n",
    "plt.xlabel('Number of Component')\n",
    "plt.ylabel('Explained Variance Ratio')\n",
    "plt.show();"
   ]
  },
  {
   "cell_type": "markdown",
   "metadata": {},
   "source": [
    "## Random forests"
   ]
  },
  {
   "cell_type": "code",
   "execution_count": 163,
   "metadata": {},
   "outputs": [
    {
     "data": {
      "text/plain": [
       "RandomForestClassifier(bootstrap=True, class_weight='balanced_subsample',\n",
       "            criterion='gini', max_depth=None, max_features='auto',\n",
       "            max_leaf_nodes=None, min_impurity_decrease=0.0,\n",
       "            min_impurity_split=None, min_samples_leaf=1,\n",
       "            min_samples_split=2, min_weight_fraction_leaf=0.0,\n",
       "            n_estimators=100, n_jobs=3, oob_score=True, random_state=1,\n",
       "            verbose=0, warm_start=False)"
      ]
     },
     "execution_count": 163,
     "metadata": {},
     "output_type": "execute_result"
    }
   ],
   "source": [
    "rf = RandomForestClassifier(n_estimators=100, \n",
    "        oob_score=True, n_jobs=3, random_state=1,\n",
    "        class_weight='balanced_subsample')\n",
    "rf.fit(X_train_p, y_train)"
   ]
  },
  {
   "cell_type": "code",
   "execution_count": 164,
   "metadata": {},
   "outputs": [
    {
     "data": {
      "text/plain": [
       "0.7945"
      ]
     },
     "execution_count": 164,
     "metadata": {},
     "output_type": "execute_result"
    }
   ],
   "source": [
    "rf.oob_score_"
   ]
  },
  {
   "cell_type": "code",
   "execution_count": 165,
   "metadata": {},
   "outputs": [
    {
     "data": {
      "text/plain": [
       "0.7885"
      ]
     },
     "execution_count": 165,
     "metadata": {},
     "output_type": "execute_result"
    }
   ],
   "source": [
    "rf.score(X_test_small_p, y_test_small)"
   ]
  },
  {
   "cell_type": "code",
   "execution_count": 166,
   "metadata": {},
   "outputs": [],
   "source": [
    "y_pred_rf = rf.predict(X_test_small_p)"
   ]
  },
  {
   "cell_type": "code",
   "execution_count": 167,
   "metadata": {},
   "outputs": [],
   "source": [
    "def plot_precision_recall(y_test, y_pred):\n",
    "    \"\"\"Plots precision-recall curve.\"\"\"\n",
    "\n",
    "    average_precision = average_precision_score(y_test, y_pred)\n",
    "    precision, recall, _ = precision_recall_curve(y_test, y_pred)\n",
    "\n",
    "    step_kwargs = ({'step': 'post'}\n",
    "                   if 'step' in signature(plt.fill_between).parameters\n",
    "                   else {})\n",
    "    plt.step(recall, precision, color='b', alpha=0.2,\n",
    "             where='post')\n",
    "    plt.fill_between(recall, precision, alpha=0.2, color='b', **step_kwargs)\n",
    "\n",
    "    plt.xlabel('Recall')\n",
    "    plt.ylabel('Precision')\n",
    "    plt.ylim([0.0, 1.05])\n",
    "    plt.xlim([0.0, 1.0])\n",
    "    plt.title('Precision-Recall curve: Average Precision={0:0.3f}'.format(\n",
    "              average_precision))\n",
    "    plt.show();"
   ]
  },
  {
   "cell_type": "code",
   "execution_count": 168,
   "metadata": {},
   "outputs": [
    {
     "data": {
      "image/png": "[encoded data removed]",
      "text/plain": [
       "<Figure size 432x288 with 1 Axes>"
      ]
     },
     "metadata": {
      "needs_background": "light"
     },
     "output_type": "display_data"
    }
   ],
   "source": [
    "# Plot precision recall curve for random forests classifier\n",
    "plot_precision_recall(y_test_small, y_pred_rf)"
   ]
  },
  {
   "cell_type": "code",
   "execution_count": 195,
   "metadata": {},
   "outputs": [
    {
     "data": {
      "image/png": "[encoded data removed]",
      "text/plain": [
       "<Figure size 432x288 with 1 Axes>"
      ]
     },
     "metadata": {
      "needs_background": "light"
     },
     "output_type": "display_data"
    }
   ],
   "source": [
    "def plot_roc(y_test, y_pred, model_name=None):\n",
    "    false_positive_rate, true_positive_rate, thresholds = \\\n",
    "        roc_curve(y_test_small, y_pred_rf)\n",
    "    roc_auc = auc(false_positive_rate, true_positive_rate)\n",
    "    plt.plot(false_positive_rate, true_positive_rate, 'b',\n",
    "             label='AUC = {0:.3f}'.format(roc_auc))\n",
    "    plt.legend(loc='lower right')\n",
    "    plt.plot([0, 1],[0, 1], 'r--')\n",
    "    plt.xlabel('False Positive Rate')\n",
    "    plt.ylabel('True Positive Rate')\n",
    "    title='ROC Curve'\n",
    "    # Add custom title, if specified\n",
    "    if model_name is not None:\n",
    "        title = ', '.join([title, model_name])\n",
    "    plt.title(title)\n",
    "    plt.show();\n",
    "\n",
    "# Plot ROC curve for random forests\n",
    "plot_roc(y_test_small, y_pred_rf, 'Random Forests')"
   ]
  },
  {
   "cell_type": "markdown",
   "metadata": {},
   "source": [
    "## Logistic regression\n",
    "### Ridge/Lasso + LogisticRegressionCV"
   ]
  },
  {
   "cell_type": "code",
   "execution_count": 171,
   "metadata": {},
   "outputs": [
    {
     "name": "stderr",
     "output_type": "stream",
     "text": [
      "C:\\Users\\t\\Anaconda3\\lib\\site-packages\\sklearn\\linear_model\\sag.py:334: ConvergenceWarning: The max_iter was reached which means the coef_ did not converge\n",
      "  \"the coef_ did not converge\", ConvergenceWarning)\n",
      "C:\\Users\\t\\Anaconda3\\lib\\site-packages\\sklearn\\linear_model\\sag.py:334: ConvergenceWarning: The max_iter was reached which means the coef_ did not converge\n",
      "  \"the coef_ did not converge\", ConvergenceWarning)\n",
      "C:\\Users\\t\\Anaconda3\\lib\\site-packages\\sklearn\\linear_model\\sag.py:334: ConvergenceWarning: The max_iter was reached which means the coef_ did not converge\n",
      "  \"the coef_ did not converge\", ConvergenceWarning)\n",
      "C:\\Users\\t\\Anaconda3\\lib\\site-packages\\sklearn\\linear_model\\sag.py:334: ConvergenceWarning: The max_iter was reached which means the coef_ did not converge\n",
      "  \"the coef_ did not converge\", ConvergenceWarning)\n",
      "C:\\Users\\t\\Anaconda3\\lib\\site-packages\\sklearn\\linear_model\\sag.py:334: ConvergenceWarning: The max_iter was reached which means the coef_ did not converge\n",
      "  \"the coef_ did not converge\", ConvergenceWarning)\n",
      "C:\\Users\\t\\Anaconda3\\lib\\site-packages\\sklearn\\linear_model\\sag.py:334: ConvergenceWarning: The max_iter was reached which means the coef_ did not converge\n",
      "  \"the coef_ did not converge\", ConvergenceWarning)\n",
      "C:\\Users\\t\\Anaconda3\\lib\\site-packages\\sklearn\\linear_model\\sag.py:334: ConvergenceWarning: The max_iter was reached which means the coef_ did not converge\n",
      "  \"the coef_ did not converge\", ConvergenceWarning)\n",
      "C:\\Users\\t\\Anaconda3\\lib\\site-packages\\sklearn\\linear_model\\sag.py:334: ConvergenceWarning: The max_iter was reached which means the coef_ did not converge\n",
      "  \"the coef_ did not converge\", ConvergenceWarning)\n",
      "C:\\Users\\t\\Anaconda3\\lib\\site-packages\\sklearn\\linear_model\\sag.py:334: ConvergenceWarning: The max_iter was reached which means the coef_ did not converge\n",
      "  \"the coef_ did not converge\", ConvergenceWarning)\n",
      "C:\\Users\\t\\Anaconda3\\lib\\site-packages\\sklearn\\linear_model\\sag.py:334: ConvergenceWarning: The max_iter was reached which means the coef_ did not converge\n",
      "  \"the coef_ did not converge\", ConvergenceWarning)\n"
     ]
    },
    {
     "data": {
      "text/plain": [
       "LogisticRegressionCV(Cs=4, class_weight='balanced', cv=3, dual=False,\n",
       "           fit_intercept=True, intercept_scaling=1.0, max_iter=100,\n",
       "           multi_class='warn', n_jobs=None, penalty='l2', random_state=1,\n",
       "           refit=True, scoring=None, solver='saga', tol=0.0001, verbose=0)"
      ]
     },
     "execution_count": 171,
     "metadata": {},
     "output_type": "execute_result"
    }
   ],
   "source": [
    "# Ridge CV, stochastic gradient descent\n",
    "lr_ridge_cv = LogisticRegressionCV(Cs = 4, solver='saga', cv=3,\n",
    "    random_state=1, penalty='l2', class_weight='balanced')\n",
    "lr_ridge_cv.fit(X_train_p, y_train) "
   ]
  },
  {
   "cell_type": "code",
   "execution_count": 172,
   "metadata": {},
   "outputs": [
    {
     "data": {
      "text/plain": [
       "{1: array([[0.61787642, 0.65056989, 0.65356929, 0.65356929],\n",
       "        [0.62526253, 0.65076508, 0.65226523, 0.65286529],\n",
       "        [0.63366337, 0.65556556, 0.65256526, 0.64806481]])}"
      ]
     },
     "execution_count": 172,
     "metadata": {},
     "output_type": "execute_result"
    }
   ],
   "source": [
    "# Performance during cross-validation\n",
    "lr_ridge_cv.scores_"
   ]
  },
  {
   "cell_type": "code",
   "execution_count": 173,
   "metadata": {},
   "outputs": [
    {
     "data": {
      "text/plain": [
       "0.6495"
      ]
     },
     "execution_count": 173,
     "metadata": {},
     "output_type": "execute_result"
    }
   ],
   "source": [
    "# Performance on test set\n",
    "lr_ridge_cv.score(X_test_small_p, y_test_small)"
   ]
  },
  {
   "cell_type": "markdown",
   "metadata": {},
   "source": [
    "**Try more iterations**"
   ]
  },
  {
   "cell_type": "code",
   "execution_count": 174,
   "metadata": {},
   "outputs": [
    {
     "name": "stderr",
     "output_type": "stream",
     "text": [
      "C:\\Users\\t\\Anaconda3\\lib\\site-packages\\sklearn\\linear_model\\sag.py:334: ConvergenceWarning: The max_iter was reached which means the coef_ did not converge\n",
      "  \"the coef_ did not converge\", ConvergenceWarning)\n",
      "C:\\Users\\t\\Anaconda3\\lib\\site-packages\\sklearn\\linear_model\\sag.py:334: ConvergenceWarning: The max_iter was reached which means the coef_ did not converge\n",
      "  \"the coef_ did not converge\", ConvergenceWarning)\n",
      "C:\\Users\\t\\Anaconda3\\lib\\site-packages\\sklearn\\linear_model\\sag.py:334: ConvergenceWarning: The max_iter was reached which means the coef_ did not converge\n",
      "  \"the coef_ did not converge\", ConvergenceWarning)\n",
      "C:\\Users\\t\\Anaconda3\\lib\\site-packages\\sklearn\\linear_model\\sag.py:334: ConvergenceWarning: The max_iter was reached which means the coef_ did not converge\n",
      "  \"the coef_ did not converge\", ConvergenceWarning)\n",
      "C:\\Users\\t\\Anaconda3\\lib\\site-packages\\sklearn\\linear_model\\sag.py:334: ConvergenceWarning: The max_iter was reached which means the coef_ did not converge\n",
      "  \"the coef_ did not converge\", ConvergenceWarning)\n",
      "C:\\Users\\t\\Anaconda3\\lib\\site-packages\\sklearn\\linear_model\\sag.py:334: ConvergenceWarning: The max_iter was reached which means the coef_ did not converge\n",
      "  \"the coef_ did not converge\", ConvergenceWarning)\n"
     ]
    },
    {
     "data": {
      "text/plain": [
       "LogisticRegressionCV(Cs=4, class_weight='balanced', cv=3, dual=False,\n",
       "           fit_intercept=True, intercept_scaling=1.0, max_iter=1000,\n",
       "           multi_class='warn', n_jobs=None, penalty='l2', random_state=1,\n",
       "           refit=True, scoring=None, solver='saga', tol=0.0001, verbose=0)"
      ]
     },
     "execution_count": 174,
     "metadata": {},
     "output_type": "execute_result"
    }
   ],
   "source": [
    "# Try more iterations (Ridge CV, stochastic gradient descent)\n",
    "lr_ridge_cv = LogisticRegressionCV(Cs = 4, solver='saga', cv=3,\n",
    "    random_state=1, penalty='l2', class_weight='balanced', \n",
    "    max_iter=1000)\n",
    "lr_ridge_cv.fit(X_train_p, y_train) "
   ]
  },
  {
   "cell_type": "code",
   "execution_count": 175,
   "metadata": {},
   "outputs": [
    {
     "data": {
      "text/plain": [
       "{1: array([[0.61787642, 0.65176965, 0.65236953, 0.65416917],\n",
       "        [0.62526253, 0.65166517, 0.6549655 , 0.65436544],\n",
       "        [0.63366337, 0.65826583, 0.64536454, 0.64386439]])}"
      ]
     },
     "execution_count": 175,
     "metadata": {},
     "output_type": "execute_result"
    }
   ],
   "source": [
    "# Performance during cross-validation\n",
    "lr_ridge_cv.scores_"
   ]
  },
  {
   "cell_type": "code",
   "execution_count": 176,
   "metadata": {},
   "outputs": [
    {
     "data": {
      "text/plain": [
       "0.649"
      ]
     },
     "execution_count": 176,
     "metadata": {},
     "output_type": "execute_result"
    }
   ],
   "source": [
    "# Performance on test set\n",
    "lr_ridge_cv.score(X_test_small_p, y_test_small)"
   ]
  },
  {
   "cell_type": "markdown",
   "metadata": {},
   "source": [
    "Now we only get the convergence warning for part of the models.\n",
    "\n",
    "**Try default solver**"
   ]
  },
  {
   "cell_type": "code",
   "execution_count": 177,
   "metadata": {},
   "outputs": [
    {
     "name": "stderr",
     "output_type": "stream",
     "text": [
      "C:\\Users\\t\\Anaconda3\\lib\\site-packages\\sklearn\\linear_model\\logistic.py:757: ConvergenceWarning: lbfgs failed to converge. Increase the number of iterations.\n",
      "  \"of iterations.\", ConvergenceWarning)\n",
      "C:\\Users\\t\\Anaconda3\\lib\\site-packages\\sklearn\\linear_model\\logistic.py:757: ConvergenceWarning: lbfgs failed to converge. Increase the number of iterations.\n",
      "  \"of iterations.\", ConvergenceWarning)\n",
      "C:\\Users\\t\\Anaconda3\\lib\\site-packages\\sklearn\\linear_model\\logistic.py:757: ConvergenceWarning: lbfgs failed to converge. Increase the number of iterations.\n",
      "  \"of iterations.\", ConvergenceWarning)\n",
      "C:\\Users\\t\\Anaconda3\\lib\\site-packages\\sklearn\\linear_model\\logistic.py:757: ConvergenceWarning: lbfgs failed to converge. Increase the number of iterations.\n",
      "  \"of iterations.\", ConvergenceWarning)\n"
     ]
    },
    {
     "data": {
      "text/plain": [
       "LogisticRegressionCV(Cs=4, class_weight='balanced', cv=3, dual=False,\n",
       "           fit_intercept=True, intercept_scaling=1.0, max_iter=1000,\n",
       "           multi_class='warn', n_jobs=None, penalty='l2', random_state=1,\n",
       "           refit=True, scoring=None, solver='lbfgs', tol=0.0001, verbose=0)"
      ]
     },
     "execution_count": 177,
     "metadata": {},
     "output_type": "execute_result"
    }
   ],
   "source": [
    "# Try default solver (Ridge CV, more iterations)\n",
    "lr_ridge_cv_2 = LogisticRegressionCV(Cs = 4, cv=3,\n",
    "    random_state=1, penalty='l2', class_weight='balanced',\n",
    "    max_iter=1000)\n",
    "lr_ridge_cv_2.fit(X_train_p, y_train) "
   ]
  },
  {
   "cell_type": "code",
   "execution_count": 178,
   "metadata": {},
   "outputs": [
    {
     "data": {
      "text/plain": [
       "{1: array([[0.61787642, 0.65086983, 0.65296941, 0.65326935],\n",
       "        [0.62616262, 0.65256526, 0.65406541, 0.65406541],\n",
       "        [0.6339634 , 0.6579658 , 0.64326433, 0.64326433]])}"
      ]
     },
     "execution_count": 178,
     "metadata": {},
     "output_type": "execute_result"
    }
   ],
   "source": [
    "# Performance during cross-validation\n",
    "lr_ridge_cv_2.scores_"
   ]
  },
  {
   "cell_type": "code",
   "execution_count": 179,
   "metadata": {},
   "outputs": [
    {
     "data": {
      "text/plain": [
       "0.6499"
      ]
     },
     "execution_count": 179,
     "metadata": {},
     "output_type": "execute_result"
    }
   ],
   "source": [
    "# Performance on test set\n",
    "lr_ridge_cv_2.score(X_test_small_p, y_test_small)"
   ]
  },
  {
   "cell_type": "code",
   "execution_count": 180,
   "metadata": {},
   "outputs": [
    {
     "data": {
      "image/png": "[encoded data removed]",
      "text/plain": [
       "<Figure size 432x288 with 1 Axes>"
      ]
     },
     "metadata": {
      "needs_background": "light"
     },
     "output_type": "display_data"
    }
   ],
   "source": [
    "# Plot precision-recall curve\n",
    "y_pred_lr = lr_ridge_cv_2.predict(X_test_small_p)\n",
    "plot_precision_recall(y_test_small, y_pred_lr)"
   ]
  },
  {
   "cell_type": "code",
   "execution_count": 181,
   "metadata": {
    "scrolled": true
   },
   "outputs": [
    {
     "data": {
      "image/png": "[encoded data removed]",
      "text/plain": [
       "<Figure size 432x288 with 1 Axes>"
      ]
     },
     "metadata": {
      "needs_background": "light"
     },
     "output_type": "display_data"
    }
   ],
   "source": [
    "# Plot ROC curve\n",
    "plot_roc(y_test_small, y_pred_lr)"
   ]
  },
  {
   "cell_type": "markdown",
   "metadata": {},
   "source": [
    "Default solver gets rid of the convergence warnings completely.\n",
    "\n",
    "Next, try Lasso."
   ]
  },
  {
   "cell_type": "code",
   "execution_count": null,
   "metadata": {},
   "outputs": [],
   "source": [
    "# joblib.dump(lr_ridge, 'lr_ridge.Joblib')"
   ]
  },
  {
   "cell_type": "code",
   "execution_count": 182,
   "metadata": {},
   "outputs": [
    {
     "name": "stderr",
     "output_type": "stream",
     "text": [
      "C:\\Users\\t\\Anaconda3\\lib\\site-packages\\sklearn\\linear_model\\sag.py:334: ConvergenceWarning: The max_iter was reached which means the coef_ did not converge\n",
      "  \"the coef_ did not converge\", ConvergenceWarning)\n",
      "C:\\Users\\t\\Anaconda3\\lib\\site-packages\\sklearn\\linear_model\\sag.py:334: ConvergenceWarning: The max_iter was reached which means the coef_ did not converge\n",
      "  \"the coef_ did not converge\", ConvergenceWarning)\n",
      "C:\\Users\\t\\Anaconda3\\lib\\site-packages\\sklearn\\linear_model\\sag.py:334: ConvergenceWarning: The max_iter was reached which means the coef_ did not converge\n",
      "  \"the coef_ did not converge\", ConvergenceWarning)\n",
      "C:\\Users\\t\\Anaconda3\\lib\\site-packages\\sklearn\\linear_model\\sag.py:334: ConvergenceWarning: The max_iter was reached which means the coef_ did not converge\n",
      "  \"the coef_ did not converge\", ConvergenceWarning)\n",
      "C:\\Users\\t\\Anaconda3\\lib\\site-packages\\sklearn\\linear_model\\sag.py:334: ConvergenceWarning: The max_iter was reached which means the coef_ did not converge\n",
      "  \"the coef_ did not converge\", ConvergenceWarning)\n",
      "C:\\Users\\t\\Anaconda3\\lib\\site-packages\\sklearn\\linear_model\\sag.py:334: ConvergenceWarning: The max_iter was reached which means the coef_ did not converge\n",
      "  \"the coef_ did not converge\", ConvergenceWarning)\n",
      "C:\\Users\\t\\Anaconda3\\lib\\site-packages\\sklearn\\linear_model\\sag.py:334: ConvergenceWarning: The max_iter was reached which means the coef_ did not converge\n",
      "  \"the coef_ did not converge\", ConvergenceWarning)\n",
      "C:\\Users\\t\\Anaconda3\\lib\\site-packages\\sklearn\\linear_model\\sag.py:334: ConvergenceWarning: The max_iter was reached which means the coef_ did not converge\n",
      "  \"the coef_ did not converge\", ConvergenceWarning)\n",
      "C:\\Users\\t\\Anaconda3\\lib\\site-packages\\sklearn\\linear_model\\sag.py:334: ConvergenceWarning: The max_iter was reached which means the coef_ did not converge\n",
      "  \"the coef_ did not converge\", ConvergenceWarning)\n",
      "C:\\Users\\t\\Anaconda3\\lib\\site-packages\\sklearn\\linear_model\\sag.py:334: ConvergenceWarning: The max_iter was reached which means the coef_ did not converge\n",
      "  \"the coef_ did not converge\", ConvergenceWarning)\n"
     ]
    },
    {
     "data": {
      "text/plain": [
       "LogisticRegressionCV(Cs=4, class_weight='balanced', cv=3, dual=False,\n",
       "           fit_intercept=True, intercept_scaling=1.0, max_iter=100,\n",
       "           multi_class='warn', n_jobs=None, penalty='l1', random_state=1,\n",
       "           refit=True, scoring=None, solver='saga', tol=0.0001, verbose=0)"
      ]
     },
     "execution_count": 182,
     "metadata": {},
     "output_type": "execute_result"
    }
   ],
   "source": [
    "# Lasso CV (Stochastic gradient descent, default number of iterations\n",
    "lr_lasso_cv = LogisticRegressionCV(Cs = 4, solver='saga', cv=3,\n",
    "    random_state=1, penalty='l1', class_weight='balanced')\n",
    "lr_lasso_cv.fit(X_train_p, y_train) "
   ]
  },
  {
   "cell_type": "code",
   "execution_count": 184,
   "metadata": {},
   "outputs": [
    {
     "data": {
      "text/plain": [
       "{1: array([[0.79514097, 0.64667067, 0.65326935, 0.65446911],\n",
       "        [0.79537954, 0.65736574, 0.6519652 , 0.65466547],\n",
       "        [0.20462046, 0.65106511, 0.65136514, 0.64506451]])}"
      ]
     },
     "execution_count": 184,
     "metadata": {},
     "output_type": "execute_result"
    }
   ],
   "source": [
    "lr_lasso_cv.scores_"
   ]
  },
  {
   "cell_type": "code",
   "execution_count": 183,
   "metadata": {},
   "outputs": [
    {
     "data": {
      "text/plain": [
       "0.6499"
      ]
     },
     "execution_count": 183,
     "metadata": {},
     "output_type": "execute_result"
    }
   ],
   "source": [
    "lr_lasso_cv.score(X_test_small_p, y_test_small)"
   ]
  },
  {
   "cell_type": "markdown",
   "metadata": {},
   "source": [
    "### SGDClassifier (elastic net) + GridSearchCV"
   ]
  },
  {
   "cell_type": "code",
   "execution_count": 185,
   "metadata": {},
   "outputs": [
    {
     "name": "stderr",
     "output_type": "stream",
     "text": [
      "C:\\Users\\t\\Anaconda3\\lib\\site-packages\\sklearn\\linear_model\\stochastic_gradient.py:144: FutureWarning: max_iter and tol parameters have been added in SGDClassifier in 0.19. If both are left unset, they default to max_iter=5 and tol=None. If tol is not None, max_iter defaults to max_iter=1000. From 0.21, default max_iter will be 1000, and default tol will be 1e-3.\n",
      "  FutureWarning)\n"
     ]
    },
    {
     "data": {
      "text/plain": [
       "GridSearchCV(cv=3, error_score='raise-deprecating',\n",
       "       estimator=SGDClassifier(alpha=0.0001, average=False, class_weight='balanced',\n",
       "       early_stopping=False, epsilon=0.1, eta0=0.0, fit_intercept=True,\n",
       "       l1_ratio=0.15, learning_rate='optimal', loss='log', max_iter=None,\n",
       "       n_iter=None, n_iter_no_change=5, n_jobs=1, penalty='elasticnet',\n",
       "       power_t=0.5, random_state=1, shuffle=True, tol=None,\n",
       "       validation_fraction=0.1, verbose=0, warm_start=False),\n",
       "       fit_params=None, iid=True, n_jobs=3,\n",
       "       param_grid={'l1_ratio': array([0.     , 0.33333, 0.66667, 1.     ]), 'alpha': array([1.00000e-10, 4.64159e-07, 2.15443e-03, 1.00000e+01])},\n",
       "       pre_dispatch='2*n_jobs', refit=True, return_train_score='warn',\n",
       "       scoring=None, verbose=0)"
      ]
     },
     "execution_count": 185,
     "metadata": {},
     "output_type": "execute_result"
    }
   ],
   "source": [
    "# Elastic net, logistic regression (Loss='log')\n",
    "lr_en = SGDClassifier(loss='log', penalty='elasticnet', random_state=1,\n",
    "                   class_weight='balanced', n_jobs=1) \n",
    "\n",
    "# Parameters to search over\n",
    "grid={'l1_ratio': np.linspace(0, 1, 4),\n",
    "      'alpha': np.logspace(-10, 1, 4)}\n",
    "\n",
    "# With iid = True\n",
    "gs_el_t = GridSearchCV(lr_en, param_grid=grid, iid=True, cv=3, n_jobs=3)\n",
    "gs_el_t.fit(X_train_p, y_train)"
   ]
  },
  {
   "cell_type": "code",
   "execution_count": 186,
   "metadata": {},
   "outputs": [
    {
     "data": {
      "text/plain": [
       "0.2095"
      ]
     },
     "execution_count": 186,
     "metadata": {},
     "output_type": "execute_result"
    }
   ],
   "source": [
    "# Cross-validation accuracy\n",
    "gs_el_t.score(X_test_small_p, y_test_small)"
   ]
  },
  {
   "cell_type": "code",
   "execution_count": 187,
   "metadata": {},
   "outputs": [
    {
     "data": {
      "image/png": "[encoded data removed]",
      "text/plain": [
       "<Figure size 432x288 with 1 Axes>"
      ]
     },
     "metadata": {
      "needs_background": "light"
     },
     "output_type": "display_data"
    }
   ],
   "source": [
    "y_pred_el = gs_el_t.predict(X_test_small_p)\n",
    "plot_precision_recall(y_test_small, y_pred_el)"
   ]
  },
  {
   "cell_type": "code",
   "execution_count": 188,
   "metadata": {},
   "outputs": [
    {
     "data": {
      "image/png": "[encoded data removed]",
      "text/plain": [
       "<Figure size 432x288 with 1 Axes>"
      ]
     },
     "metadata": {
      "needs_background": "light"
     },
     "output_type": "display_data"
    }
   ],
   "source": [
    "# Plot ROC curve\n",
    "plot_roc(y_test_small, y_pred_el)"
   ]
  },
  {
   "cell_type": "code",
   "execution_count": null,
   "metadata": {},
   "outputs": [],
   "source": [
    "# joblib.dump(gscv_t, 'gscv_t.joblib') # Save"
   ]
  },
  {
   "cell_type": "code",
   "execution_count": 189,
   "metadata": {},
   "outputs": [
    {
     "name": "stderr",
     "output_type": "stream",
     "text": [
      "C:\\Users\\t\\Anaconda3\\lib\\site-packages\\sklearn\\linear_model\\stochastic_gradient.py:144: FutureWarning: max_iter and tol parameters have been added in SGDClassifier in 0.19. If both are left unset, they default to max_iter=5 and tol=None. If tol is not None, max_iter defaults to max_iter=1000. From 0.21, default max_iter will be 1000, and default tol will be 1e-3.\n",
      "  FutureWarning)\n"
     ]
    },
    {
     "data": {
      "text/plain": [
       "GridSearchCV(cv=3, error_score='raise-deprecating',\n",
       "       estimator=SGDClassifier(alpha=0.0001, average=False, class_weight='balanced',\n",
       "       early_stopping=False, epsilon=0.1, eta0=0.0, fit_intercept=True,\n",
       "       l1_ratio=0.15, learning_rate='optimal', loss='log', max_iter=None,\n",
       "       n_iter=None, n_iter_no_change=5, n_jobs=1, penalty='elasticnet',\n",
       "       power_t=0.5, random_state=1, shuffle=True, tol=None,\n",
       "       validation_fraction=0.1, verbose=0, warm_start=False),\n",
       "       fit_params=None, iid=False, n_jobs=3,\n",
       "       param_grid={'l1_ratio': array([0.     , 0.33333, 0.66667, 1.     ]), 'alpha': array([1.00000e-10, 4.64159e-07, 2.15443e-03, 1.00000e+01])},\n",
       "       pre_dispatch='2*n_jobs', refit=True, return_train_score='warn',\n",
       "       scoring=None, verbose=0)"
      ]
     },
     "execution_count": 189,
     "metadata": {},
     "output_type": "execute_result"
    }
   ],
   "source": [
    "# With iid = False\n",
    "gs_el_f = GridSearchCV(lr_en, param_grid=grid, iid=False, cv=3, n_jobs=3)\n",
    "gs_el_f.fit(X_train_p, y_train)"
   ]
  },
  {
   "cell_type": "code",
   "execution_count": 190,
   "metadata": {},
   "outputs": [
    {
     "data": {
      "text/plain": [
       "0.2095"
      ]
     },
     "execution_count": 190,
     "metadata": {},
     "output_type": "execute_result"
    }
   ],
   "source": [
    "gs_el_f.score(X_test_small_p, y_test_small)"
   ]
  },
  {
   "cell_type": "code",
   "execution_count": 191,
   "metadata": {},
   "outputs": [
    {
     "data": {
      "image/png": "[encoded data removed]",
      "text/plain": [
       "<Figure size 432x288 with 1 Axes>"
      ]
     },
     "metadata": {
      "needs_background": "light"
     },
     "output_type": "display_data"
    }
   ],
   "source": [
    "y_pred_el_t = gs_el_t.predict(X_test_small_p)\n",
    "plot_precision_recall(y_test_small, y_pred_el_t)"
   ]
  },
  {
   "cell_type": "code",
   "execution_count": 192,
   "metadata": {},
   "outputs": [
    {
     "data": {
      "image/png": "[encoded data removed]",
      "text/plain": [
       "<Figure size 432x288 with 1 Axes>"
      ]
     },
     "metadata": {
      "needs_background": "light"
     },
     "output_type": "display_data"
    }
   ],
   "source": [
    "# Plot ROC curve\n",
    "plot_roc(y_test_small, y_pred_el_t)"
   ]
  },
  {
   "cell_type": "code",
   "execution_count": null,
   "metadata": {},
   "outputs": [],
   "source": [
    "# joblib.dump(gscv_f, 'gscv_f.joblib') # Save"
   ]
  },
  {
   "cell_type": "markdown",
   "metadata": {},
   "source": [
    "Let's look at the results. I'm displaying the accuracy for all folds here, because in previous iterations they sometimes widely differed. (In fact, the problems occurred when I was still trying to use all the data, so it is particularly surprising that with almost a million observations, there would be such severe overfitting).\n",
    "\n",
    "Note: the higher alpha, the *stronger* the regularization."
   ]
  },
  {
   "cell_type": "code",
   "execution_count": 193,
   "metadata": {},
   "outputs": [
    {
     "name": "stderr",
     "output_type": "stream",
     "text": [
      "C:\\Users\\t\\Anaconda3\\lib\\site-packages\\sklearn\\utils\\deprecation.py:125: FutureWarning: You are accessing a training score ('split0_train_score'), which will not be available by default any more in 0.21. If you need training scores, please set return_train_score=True\n",
      "  warnings.warn(*warn_args, **warn_kwargs)\n",
      "C:\\Users\\t\\Anaconda3\\lib\\site-packages\\sklearn\\utils\\deprecation.py:125: FutureWarning: You are accessing a training score ('split1_train_score'), which will not be available by default any more in 0.21. If you need training scores, please set return_train_score=True\n",
      "  warnings.warn(*warn_args, **warn_kwargs)\n",
      "C:\\Users\\t\\Anaconda3\\lib\\site-packages\\sklearn\\utils\\deprecation.py:125: FutureWarning: You are accessing a training score ('split2_train_score'), which will not be available by default any more in 0.21. If you need training scores, please set return_train_score=True\n",
      "  warnings.warn(*warn_args, **warn_kwargs)\n",
      "C:\\Users\\t\\Anaconda3\\lib\\site-packages\\sklearn\\utils\\deprecation.py:125: FutureWarning: You are accessing a training score ('mean_train_score'), which will not be available by default any more in 0.21. If you need training scores, please set return_train_score=True\n",
      "  warnings.warn(*warn_args, **warn_kwargs)\n",
      "C:\\Users\\t\\Anaconda3\\lib\\site-packages\\sklearn\\utils\\deprecation.py:125: FutureWarning: You are accessing a training score ('std_train_score'), which will not be available by default any more in 0.21. If you need training scores, please set return_train_score=True\n",
      "  warnings.warn(*warn_args, **warn_kwargs)\n"
     ]
    },
    {
     "data": {
      "text/html": [
       "<div>\n",
       "<style scoped>\n",
       "    .dataframe tbody tr th:only-of-type {\n",
       "        vertical-align: middle;\n",
       "    }\n",
       "\n",
       "    .dataframe tbody tr th {\n",
       "        vertical-align: top;\n",
       "    }\n",
       "\n",
       "    .dataframe thead th {\n",
       "        text-align: right;\n",
       "    }\n",
       "</style>\n",
       "<table border=\"1\" class=\"dataframe\">\n",
       "  <thead>\n",
       "    <tr style=\"text-align: right;\">\n",
       "      <th></th>\n",
       "      <th>mean_test_score</th>\n",
       "      <th>mean_train_score</th>\n",
       "      <th>split0_test_score</th>\n",
       "      <th>split1_test_score</th>\n",
       "      <th>split2_test_score</th>\n",
       "      <th>split0_train_score</th>\n",
       "      <th>split1_train_score</th>\n",
       "      <th>split2_train_score</th>\n",
       "    </tr>\n",
       "    <tr>\n",
       "      <th>params</th>\n",
       "      <th></th>\n",
       "      <th></th>\n",
       "      <th></th>\n",
       "      <th></th>\n",
       "      <th></th>\n",
       "      <th></th>\n",
       "      <th></th>\n",
       "      <th></th>\n",
       "    </tr>\n",
       "  </thead>\n",
       "  <tbody>\n",
       "    <tr>\n",
       "      <th>{'alpha': 1e-10, 'l1_ratio': 0.0}</th>\n",
       "      <td>0.5462</td>\n",
       "      <td>0.550289</td>\n",
       "      <td>0.317037</td>\n",
       "      <td>0.670267</td>\n",
       "      <td>0.651365</td>\n",
       "      <td>0.324032</td>\n",
       "      <td>0.668667</td>\n",
       "      <td>0.658167</td>\n",
       "    </tr>\n",
       "    <tr>\n",
       "      <th>{'alpha': 1e-10, 'l1_ratio': 0.3333333333333333}</th>\n",
       "      <td>0.5288</td>\n",
       "      <td>0.530892</td>\n",
       "      <td>0.368626</td>\n",
       "      <td>0.681368</td>\n",
       "      <td>0.536454</td>\n",
       "      <td>0.368737</td>\n",
       "      <td>0.679166</td>\n",
       "      <td>0.544773</td>\n",
       "    </tr>\n",
       "    <tr>\n",
       "      <th>{'alpha': 1e-10, 'l1_ratio': 0.6666666666666666}</th>\n",
       "      <td>0.5556</td>\n",
       "      <td>0.560990</td>\n",
       "      <td>0.344931</td>\n",
       "      <td>0.662766</td>\n",
       "      <td>0.659166</td>\n",
       "      <td>0.359886</td>\n",
       "      <td>0.652467</td>\n",
       "      <td>0.670616</td>\n",
       "    </tr>\n",
       "    <tr>\n",
       "      <th>{'alpha': 1e-10, 'l1_ratio': 1.0}</th>\n",
       "      <td>0.5611</td>\n",
       "      <td>0.573594</td>\n",
       "      <td>0.443911</td>\n",
       "      <td>0.636364</td>\n",
       "      <td>0.603060</td>\n",
       "      <td>0.460396</td>\n",
       "      <td>0.646018</td>\n",
       "      <td>0.614369</td>\n",
       "    </tr>\n",
       "    <tr>\n",
       "      <th>{'alpha': 4.6415888336127725e-07, 'l1_ratio': 0.0}</th>\n",
       "      <td>0.5585</td>\n",
       "      <td>0.560589</td>\n",
       "      <td>0.338332</td>\n",
       "      <td>0.734173</td>\n",
       "      <td>0.603060</td>\n",
       "      <td>0.345635</td>\n",
       "      <td>0.727914</td>\n",
       "      <td>0.608220</td>\n",
       "    </tr>\n",
       "    <tr>\n",
       "      <th>{'alpha': 4.6415888336127725e-07, 'l1_ratio': 0.3333333333333333}</th>\n",
       "      <td>0.5506</td>\n",
       "      <td>0.557291</td>\n",
       "      <td>0.371326</td>\n",
       "      <td>0.718272</td>\n",
       "      <td>0.562256</td>\n",
       "      <td>0.383588</td>\n",
       "      <td>0.711264</td>\n",
       "      <td>0.577021</td>\n",
       "    </tr>\n",
       "    <tr>\n",
       "      <th>{'alpha': 4.6415888336127725e-07, 'l1_ratio': 0.6666666666666666}</th>\n",
       "      <td>0.5465</td>\n",
       "      <td>0.549790</td>\n",
       "      <td>0.344631</td>\n",
       "      <td>0.682268</td>\n",
       "      <td>0.612661</td>\n",
       "      <td>0.346685</td>\n",
       "      <td>0.680216</td>\n",
       "      <td>0.622469</td>\n",
       "    </tr>\n",
       "    <tr>\n",
       "      <th>{'alpha': 4.6415888336127725e-07, 'l1_ratio': 1.0}</th>\n",
       "      <td>0.5647</td>\n",
       "      <td>0.566242</td>\n",
       "      <td>0.396221</td>\n",
       "      <td>0.664266</td>\n",
       "      <td>0.633663</td>\n",
       "      <td>0.401590</td>\n",
       "      <td>0.649468</td>\n",
       "      <td>0.647668</td>\n",
       "    </tr>\n",
       "    <tr>\n",
       "      <th>{'alpha': 0.002154434690031882, 'l1_ratio': 0.0}</th>\n",
       "      <td>0.5708</td>\n",
       "      <td>0.574141</td>\n",
       "      <td>0.391422</td>\n",
       "      <td>0.710471</td>\n",
       "      <td>0.610561</td>\n",
       "      <td>0.399940</td>\n",
       "      <td>0.708115</td>\n",
       "      <td>0.614369</td>\n",
       "    </tr>\n",
       "    <tr>\n",
       "      <th>{'alpha': 0.002154434690031882, 'l1_ratio': 0.3333333333333333}</th>\n",
       "      <td>0.6014</td>\n",
       "      <td>0.612097</td>\n",
       "      <td>0.547690</td>\n",
       "      <td>0.662166</td>\n",
       "      <td>0.594359</td>\n",
       "      <td>0.555806</td>\n",
       "      <td>0.678716</td>\n",
       "      <td>0.601770</td>\n",
       "    </tr>\n",
       "    <tr>\n",
       "      <th>{'alpha': 0.002154434690031882, 'l1_ratio': 0.6666666666666666}</th>\n",
       "      <td>0.6107</td>\n",
       "      <td>0.619649</td>\n",
       "      <td>0.595381</td>\n",
       "      <td>0.631563</td>\n",
       "      <td>0.605161</td>\n",
       "      <td>0.607861</td>\n",
       "      <td>0.646468</td>\n",
       "      <td>0.604620</td>\n",
       "    </tr>\n",
       "    <tr>\n",
       "      <th>{'alpha': 0.002154434690031882, 'l1_ratio': 1.0}</th>\n",
       "      <td>0.6013</td>\n",
       "      <td>0.607900</td>\n",
       "      <td>0.596581</td>\n",
       "      <td>0.617762</td>\n",
       "      <td>0.589559</td>\n",
       "      <td>0.605461</td>\n",
       "      <td>0.630718</td>\n",
       "      <td>0.587521</td>\n",
       "    </tr>\n",
       "    <tr>\n",
       "      <th>{'alpha': 10.0, 'l1_ratio': 0.0}</th>\n",
       "      <td>0.7572</td>\n",
       "      <td>0.756552</td>\n",
       "      <td>0.795441</td>\n",
       "      <td>0.777678</td>\n",
       "      <td>0.698470</td>\n",
       "      <td>0.795680</td>\n",
       "      <td>0.775461</td>\n",
       "      <td>0.698515</td>\n",
       "    </tr>\n",
       "    <tr>\n",
       "      <th>{'alpha': 10.0, 'l1_ratio': 0.3333333333333333}</th>\n",
       "      <td>0.7953</td>\n",
       "      <td>0.795300</td>\n",
       "      <td>0.795141</td>\n",
       "      <td>0.795380</td>\n",
       "      <td>0.795380</td>\n",
       "      <td>0.795380</td>\n",
       "      <td>0.795260</td>\n",
       "      <td>0.795260</td>\n",
       "    </tr>\n",
       "    <tr>\n",
       "      <th>{'alpha': 10.0, 'l1_ratio': 0.6666666666666666}</th>\n",
       "      <td>0.7953</td>\n",
       "      <td>0.795300</td>\n",
       "      <td>0.795141</td>\n",
       "      <td>0.795380</td>\n",
       "      <td>0.795380</td>\n",
       "      <td>0.795380</td>\n",
       "      <td>0.795260</td>\n",
       "      <td>0.795260</td>\n",
       "    </tr>\n",
       "    <tr>\n",
       "      <th>{'alpha': 10.0, 'l1_ratio': 1.0}</th>\n",
       "      <td>0.7953</td>\n",
       "      <td>0.795300</td>\n",
       "      <td>0.795141</td>\n",
       "      <td>0.795380</td>\n",
       "      <td>0.795380</td>\n",
       "      <td>0.795380</td>\n",
       "      <td>0.795260</td>\n",
       "      <td>0.795260</td>\n",
       "    </tr>\n",
       "  </tbody>\n",
       "</table>\n",
       "</div>"
      ],
      "text/plain": [
       "                                                    mean_test_score  mean_train_score  split0_test_score  \\\n",
       "params                                                                                                     \n",
       "{'alpha': 1e-10, 'l1_ratio': 0.0}                            0.5462          0.550289           0.317037   \n",
       "{'alpha': 1e-10, 'l1_ratio': 0.3333333333333333}             0.5288          0.530892           0.368626   \n",
       "{'alpha': 1e-10, 'l1_ratio': 0.6666666666666666}             0.5556          0.560990           0.344931   \n",
       "{'alpha': 1e-10, 'l1_ratio': 1.0}                            0.5611          0.573594           0.443911   \n",
       "{'alpha': 4.6415888336127725e-07, 'l1_ratio': 0.0}           0.5585          0.560589           0.338332   \n",
       "{'alpha': 4.6415888336127725e-07, 'l1_ratio': 0...           0.5506          0.557291           0.371326   \n",
       "{'alpha': 4.6415888336127725e-07, 'l1_ratio': 0...           0.5465          0.549790           0.344631   \n",
       "{'alpha': 4.6415888336127725e-07, 'l1_ratio': 1.0}           0.5647          0.566242           0.396221   \n",
       "{'alpha': 0.002154434690031882, 'l1_ratio': 0.0}             0.5708          0.574141           0.391422   \n",
       "{'alpha': 0.002154434690031882, 'l1_ratio': 0.3...           0.6014          0.612097           0.547690   \n",
       "{'alpha': 0.002154434690031882, 'l1_ratio': 0.6...           0.6107          0.619649           0.595381   \n",
       "{'alpha': 0.002154434690031882, 'l1_ratio': 1.0}             0.6013          0.607900           0.596581   \n",
       "{'alpha': 10.0, 'l1_ratio': 0.0}                             0.7572          0.756552           0.795441   \n",
       "{'alpha': 10.0, 'l1_ratio': 0.3333333333333333}              0.7953          0.795300           0.795141   \n",
       "{'alpha': 10.0, 'l1_ratio': 0.6666666666666666}              0.7953          0.795300           0.795141   \n",
       "{'alpha': 10.0, 'l1_ratio': 1.0}                             0.7953          0.795300           0.795141   \n",
       "\n",
       "                                                    split1_test_score  split2_test_score  split0_train_score  \\\n",
       "params                                                                                                         \n",
       "{'alpha': 1e-10, 'l1_ratio': 0.0}                            0.670267           0.651365            0.324032   \n",
       "{'alpha': 1e-10, 'l1_ratio': 0.3333333333333333}             0.681368           0.536454            0.368737   \n",
       "{'alpha': 1e-10, 'l1_ratio': 0.6666666666666666}             0.662766           0.659166            0.359886   \n",
       "{'alpha': 1e-10, 'l1_ratio': 1.0}                            0.636364           0.603060            0.460396   \n",
       "{'alpha': 4.6415888336127725e-07, 'l1_ratio': 0.0}           0.734173           0.603060            0.345635   \n",
       "{'alpha': 4.6415888336127725e-07, 'l1_ratio': 0...           0.718272           0.562256            0.383588   \n",
       "{'alpha': 4.6415888336127725e-07, 'l1_ratio': 0...           0.682268           0.612661            0.346685   \n",
       "{'alpha': 4.6415888336127725e-07, 'l1_ratio': 1.0}           0.664266           0.633663            0.401590   \n",
       "{'alpha': 0.002154434690031882, 'l1_ratio': 0.0}             0.710471           0.610561            0.399940   \n",
       "{'alpha': 0.002154434690031882, 'l1_ratio': 0.3...           0.662166           0.594359            0.555806   \n",
       "{'alpha': 0.002154434690031882, 'l1_ratio': 0.6...           0.631563           0.605161            0.607861   \n",
       "{'alpha': 0.002154434690031882, 'l1_ratio': 1.0}             0.617762           0.589559            0.605461   \n",
       "{'alpha': 10.0, 'l1_ratio': 0.0}                             0.777678           0.698470            0.795680   \n",
       "{'alpha': 10.0, 'l1_ratio': 0.3333333333333333}              0.795380           0.795380            0.795380   \n",
       "{'alpha': 10.0, 'l1_ratio': 0.6666666666666666}              0.795380           0.795380            0.795380   \n",
       "{'alpha': 10.0, 'l1_ratio': 1.0}                             0.795380           0.795380            0.795380   \n",
       "\n",
       "                                                    split1_train_score  split2_train_score  \n",
       "params                                                                                      \n",
       "{'alpha': 1e-10, 'l1_ratio': 0.0}                             0.668667            0.658167  \n",
       "{'alpha': 1e-10, 'l1_ratio': 0.3333333333333333}              0.679166            0.544773  \n",
       "{'alpha': 1e-10, 'l1_ratio': 0.6666666666666666}              0.652467            0.670616  \n",
       "{'alpha': 1e-10, 'l1_ratio': 1.0}                             0.646018            0.614369  \n",
       "{'alpha': 4.6415888336127725e-07, 'l1_ratio': 0.0}            0.727914            0.608220  \n",
       "{'alpha': 4.6415888336127725e-07, 'l1_ratio': 0...            0.711264            0.577021  \n",
       "{'alpha': 4.6415888336127725e-07, 'l1_ratio': 0...            0.680216            0.622469  \n",
       "{'alpha': 4.6415888336127725e-07, 'l1_ratio': 1.0}            0.649468            0.647668  \n",
       "{'alpha': 0.002154434690031882, 'l1_ratio': 0.0}              0.708115            0.614369  \n",
       "{'alpha': 0.002154434690031882, 'l1_ratio': 0.3...            0.678716            0.601770  \n",
       "{'alpha': 0.002154434690031882, 'l1_ratio': 0.6...            0.646468            0.604620  \n",
       "{'alpha': 0.002154434690031882, 'l1_ratio': 1.0}              0.630718            0.587521  \n",
       "{'alpha': 10.0, 'l1_ratio': 0.0}                              0.775461            0.698515  \n",
       "{'alpha': 10.0, 'l1_ratio': 0.3333333333333333}               0.795260            0.795260  \n",
       "{'alpha': 10.0, 'l1_ratio': 0.6666666666666666}               0.795260            0.795260  \n",
       "{'alpha': 10.0, 'l1_ratio': 1.0}                              0.795260            0.795260  "
      ]
     },
     "execution_count": 193,
     "metadata": {},
     "output_type": "execute_result"
    }
   ],
   "source": [
    "pd.DataFrame(gs_el_t.cv_results_) \\\n",
    "    .set_index('params') \\\n",
    "    .loc[:,['mean_test_score', 'mean_train_score',\n",
    "           'split0_test_score', 'split1_test_score','split2_test_score',\n",
    "           'split0_train_score', 'split1_train_score','split2_train_score']] "
   ]
  },
  {
   "cell_type": "code",
   "execution_count": 194,
   "metadata": {},
   "outputs": [
    {
     "name": "stderr",
     "output_type": "stream",
     "text": [
      "C:\\Users\\t\\Anaconda3\\lib\\site-packages\\sklearn\\utils\\deprecation.py:125: FutureWarning: You are accessing a training score ('split0_train_score'), which will not be available by default any more in 0.21. If you need training scores, please set return_train_score=True\n",
      "  warnings.warn(*warn_args, **warn_kwargs)\n",
      "C:\\Users\\t\\Anaconda3\\lib\\site-packages\\sklearn\\utils\\deprecation.py:125: FutureWarning: You are accessing a training score ('split1_train_score'), which will not be available by default any more in 0.21. If you need training scores, please set return_train_score=True\n",
      "  warnings.warn(*warn_args, **warn_kwargs)\n",
      "C:\\Users\\t\\Anaconda3\\lib\\site-packages\\sklearn\\utils\\deprecation.py:125: FutureWarning: You are accessing a training score ('split2_train_score'), which will not be available by default any more in 0.21. If you need training scores, please set return_train_score=True\n",
      "  warnings.warn(*warn_args, **warn_kwargs)\n",
      "C:\\Users\\t\\Anaconda3\\lib\\site-packages\\sklearn\\utils\\deprecation.py:125: FutureWarning: You are accessing a training score ('mean_train_score'), which will not be available by default any more in 0.21. If you need training scores, please set return_train_score=True\n",
      "  warnings.warn(*warn_args, **warn_kwargs)\n",
      "C:\\Users\\t\\Anaconda3\\lib\\site-packages\\sklearn\\utils\\deprecation.py:125: FutureWarning: You are accessing a training score ('std_train_score'), which will not be available by default any more in 0.21. If you need training scores, please set return_train_score=True\n",
      "  warnings.warn(*warn_args, **warn_kwargs)\n"
     ]
    },
    {
     "data": {
      "text/html": [
       "<div>\n",
       "<style scoped>\n",
       "    .dataframe tbody tr th:only-of-type {\n",
       "        vertical-align: middle;\n",
       "    }\n",
       "\n",
       "    .dataframe tbody tr th {\n",
       "        vertical-align: top;\n",
       "    }\n",
       "\n",
       "    .dataframe thead th {\n",
       "        text-align: right;\n",
       "    }\n",
       "</style>\n",
       "<table border=\"1\" class=\"dataframe\">\n",
       "  <thead>\n",
       "    <tr style=\"text-align: right;\">\n",
       "      <th></th>\n",
       "      <th>mean_test_score</th>\n",
       "      <th>mean_train_score</th>\n",
       "      <th>split0_test_score</th>\n",
       "      <th>split1_test_score</th>\n",
       "      <th>split2_test_score</th>\n",
       "      <th>split0_train_score</th>\n",
       "      <th>split1_train_score</th>\n",
       "      <th>split2_train_score</th>\n",
       "    </tr>\n",
       "    <tr>\n",
       "      <th>params</th>\n",
       "      <th></th>\n",
       "      <th></th>\n",
       "      <th></th>\n",
       "      <th></th>\n",
       "      <th></th>\n",
       "      <th></th>\n",
       "      <th></th>\n",
       "      <th></th>\n",
       "    </tr>\n",
       "  </thead>\n",
       "  <tbody>\n",
       "    <tr>\n",
       "      <th>{'alpha': 1e-10, 'l1_ratio': 0.0}</th>\n",
       "      <td>0.546223</td>\n",
       "      <td>0.550289</td>\n",
       "      <td>0.317037</td>\n",
       "      <td>0.670267</td>\n",
       "      <td>0.651365</td>\n",
       "      <td>0.324032</td>\n",
       "      <td>0.668667</td>\n",
       "      <td>0.658167</td>\n",
       "    </tr>\n",
       "    <tr>\n",
       "      <th>{'alpha': 1e-10, 'l1_ratio': 0.3333333333333333}</th>\n",
       "      <td>0.528816</td>\n",
       "      <td>0.530892</td>\n",
       "      <td>0.368626</td>\n",
       "      <td>0.681368</td>\n",
       "      <td>0.536454</td>\n",
       "      <td>0.368737</td>\n",
       "      <td>0.679166</td>\n",
       "      <td>0.544773</td>\n",
       "    </tr>\n",
       "    <tr>\n",
       "      <th>{'alpha': 1e-10, 'l1_ratio': 0.6666666666666666}</th>\n",
       "      <td>0.555621</td>\n",
       "      <td>0.560990</td>\n",
       "      <td>0.344931</td>\n",
       "      <td>0.662766</td>\n",
       "      <td>0.659166</td>\n",
       "      <td>0.359886</td>\n",
       "      <td>0.652467</td>\n",
       "      <td>0.670616</td>\n",
       "    </tr>\n",
       "    <tr>\n",
       "      <th>{'alpha': 1e-10, 'l1_ratio': 1.0}</th>\n",
       "      <td>0.561112</td>\n",
       "      <td>0.573594</td>\n",
       "      <td>0.443911</td>\n",
       "      <td>0.636364</td>\n",
       "      <td>0.603060</td>\n",
       "      <td>0.460396</td>\n",
       "      <td>0.646018</td>\n",
       "      <td>0.614369</td>\n",
       "    </tr>\n",
       "    <tr>\n",
       "      <th>{'alpha': 4.6415888336127725e-07, 'l1_ratio': 0.0}</th>\n",
       "      <td>0.558522</td>\n",
       "      <td>0.560589</td>\n",
       "      <td>0.338332</td>\n",
       "      <td>0.734173</td>\n",
       "      <td>0.603060</td>\n",
       "      <td>0.345635</td>\n",
       "      <td>0.727914</td>\n",
       "      <td>0.608220</td>\n",
       "    </tr>\n",
       "    <tr>\n",
       "      <th>{'alpha': 4.6415888336127725e-07, 'l1_ratio': 0.3333333333333333}</th>\n",
       "      <td>0.550618</td>\n",
       "      <td>0.557291</td>\n",
       "      <td>0.371326</td>\n",
       "      <td>0.718272</td>\n",
       "      <td>0.562256</td>\n",
       "      <td>0.383588</td>\n",
       "      <td>0.711264</td>\n",
       "      <td>0.577021</td>\n",
       "    </tr>\n",
       "    <tr>\n",
       "      <th>{'alpha': 4.6415888336127725e-07, 'l1_ratio': 0.6666666666666666}</th>\n",
       "      <td>0.546520</td>\n",
       "      <td>0.549790</td>\n",
       "      <td>0.344631</td>\n",
       "      <td>0.682268</td>\n",
       "      <td>0.612661</td>\n",
       "      <td>0.346685</td>\n",
       "      <td>0.680216</td>\n",
       "      <td>0.622469</td>\n",
       "    </tr>\n",
       "    <tr>\n",
       "      <th>{'alpha': 4.6415888336127725e-07, 'l1_ratio': 1.0}</th>\n",
       "      <td>0.564717</td>\n",
       "      <td>0.566242</td>\n",
       "      <td>0.396221</td>\n",
       "      <td>0.664266</td>\n",
       "      <td>0.633663</td>\n",
       "      <td>0.401590</td>\n",
       "      <td>0.649468</td>\n",
       "      <td>0.647668</td>\n",
       "    </tr>\n",
       "    <tr>\n",
       "      <th>{'alpha': 0.002154434690031882, 'l1_ratio': 0.0}</th>\n",
       "      <td>0.570818</td>\n",
       "      <td>0.574141</td>\n",
       "      <td>0.391422</td>\n",
       "      <td>0.710471</td>\n",
       "      <td>0.610561</td>\n",
       "      <td>0.399940</td>\n",
       "      <td>0.708115</td>\n",
       "      <td>0.614369</td>\n",
       "    </tr>\n",
       "    <tr>\n",
       "      <th>{'alpha': 0.002154434690031882, 'l1_ratio': 0.3333333333333333}</th>\n",
       "      <td>0.601405</td>\n",
       "      <td>0.612097</td>\n",
       "      <td>0.547690</td>\n",
       "      <td>0.662166</td>\n",
       "      <td>0.594359</td>\n",
       "      <td>0.555806</td>\n",
       "      <td>0.678716</td>\n",
       "      <td>0.601770</td>\n",
       "    </tr>\n",
       "    <tr>\n",
       "      <th>{'alpha': 0.002154434690031882, 'l1_ratio': 0.6666666666666666}</th>\n",
       "      <td>0.610702</td>\n",
       "      <td>0.619649</td>\n",
       "      <td>0.595381</td>\n",
       "      <td>0.631563</td>\n",
       "      <td>0.605161</td>\n",
       "      <td>0.607861</td>\n",
       "      <td>0.646468</td>\n",
       "      <td>0.604620</td>\n",
       "    </tr>\n",
       "    <tr>\n",
       "      <th>{'alpha': 0.002154434690031882, 'l1_ratio': 1.0}</th>\n",
       "      <td>0.601300</td>\n",
       "      <td>0.607900</td>\n",
       "      <td>0.596581</td>\n",
       "      <td>0.617762</td>\n",
       "      <td>0.589559</td>\n",
       "      <td>0.605461</td>\n",
       "      <td>0.630718</td>\n",
       "      <td>0.587521</td>\n",
       "    </tr>\n",
       "    <tr>\n",
       "      <th>{'alpha': 10.0, 'l1_ratio': 0.0}</th>\n",
       "      <td>0.757196</td>\n",
       "      <td>0.756552</td>\n",
       "      <td>0.795441</td>\n",
       "      <td>0.777678</td>\n",
       "      <td>0.698470</td>\n",
       "      <td>0.795680</td>\n",
       "      <td>0.775461</td>\n",
       "      <td>0.698515</td>\n",
       "    </tr>\n",
       "    <tr>\n",
       "      <th>{'alpha': 10.0, 'l1_ratio': 0.3333333333333333}</th>\n",
       "      <td>0.795300</td>\n",
       "      <td>0.795300</td>\n",
       "      <td>0.795141</td>\n",
       "      <td>0.795380</td>\n",
       "      <td>0.795380</td>\n",
       "      <td>0.795380</td>\n",
       "      <td>0.795260</td>\n",
       "      <td>0.795260</td>\n",
       "    </tr>\n",
       "    <tr>\n",
       "      <th>{'alpha': 10.0, 'l1_ratio': 0.6666666666666666}</th>\n",
       "      <td>0.795300</td>\n",
       "      <td>0.795300</td>\n",
       "      <td>0.795141</td>\n",
       "      <td>0.795380</td>\n",
       "      <td>0.795380</td>\n",
       "      <td>0.795380</td>\n",
       "      <td>0.795260</td>\n",
       "      <td>0.795260</td>\n",
       "    </tr>\n",
       "    <tr>\n",
       "      <th>{'alpha': 10.0, 'l1_ratio': 1.0}</th>\n",
       "      <td>0.795300</td>\n",
       "      <td>0.795300</td>\n",
       "      <td>0.795141</td>\n",
       "      <td>0.795380</td>\n",
       "      <td>0.795380</td>\n",
       "      <td>0.795380</td>\n",
       "      <td>0.795260</td>\n",
       "      <td>0.795260</td>\n",
       "    </tr>\n",
       "  </tbody>\n",
       "</table>\n",
       "</div>"
      ],
      "text/plain": [
       "                                                    mean_test_score  mean_train_score  split0_test_score  \\\n",
       "params                                                                                                     \n",
       "{'alpha': 1e-10, 'l1_ratio': 0.0}                          0.546223          0.550289           0.317037   \n",
       "{'alpha': 1e-10, 'l1_ratio': 0.3333333333333333}           0.528816          0.530892           0.368626   \n",
       "{'alpha': 1e-10, 'l1_ratio': 0.6666666666666666}           0.555621          0.560990           0.344931   \n",
       "{'alpha': 1e-10, 'l1_ratio': 1.0}                          0.561112          0.573594           0.443911   \n",
       "{'alpha': 4.6415888336127725e-07, 'l1_ratio': 0.0}         0.558522          0.560589           0.338332   \n",
       "{'alpha': 4.6415888336127725e-07, 'l1_ratio': 0...         0.550618          0.557291           0.371326   \n",
       "{'alpha': 4.6415888336127725e-07, 'l1_ratio': 0...         0.546520          0.549790           0.344631   \n",
       "{'alpha': 4.6415888336127725e-07, 'l1_ratio': 1.0}         0.564717          0.566242           0.396221   \n",
       "{'alpha': 0.002154434690031882, 'l1_ratio': 0.0}           0.570818          0.574141           0.391422   \n",
       "{'alpha': 0.002154434690031882, 'l1_ratio': 0.3...         0.601405          0.612097           0.547690   \n",
       "{'alpha': 0.002154434690031882, 'l1_ratio': 0.6...         0.610702          0.619649           0.595381   \n",
       "{'alpha': 0.002154434690031882, 'l1_ratio': 1.0}           0.601300          0.607900           0.596581   \n",
       "{'alpha': 10.0, 'l1_ratio': 0.0}                           0.757196          0.756552           0.795441   \n",
       "{'alpha': 10.0, 'l1_ratio': 0.3333333333333333}            0.795300          0.795300           0.795141   \n",
       "{'alpha': 10.0, 'l1_ratio': 0.6666666666666666}            0.795300          0.795300           0.795141   \n",
       "{'alpha': 10.0, 'l1_ratio': 1.0}                           0.795300          0.795300           0.795141   \n",
       "\n",
       "                                                    split1_test_score  split2_test_score  split0_train_score  \\\n",
       "params                                                                                                         \n",
       "{'alpha': 1e-10, 'l1_ratio': 0.0}                            0.670267           0.651365            0.324032   \n",
       "{'alpha': 1e-10, 'l1_ratio': 0.3333333333333333}             0.681368           0.536454            0.368737   \n",
       "{'alpha': 1e-10, 'l1_ratio': 0.6666666666666666}             0.662766           0.659166            0.359886   \n",
       "{'alpha': 1e-10, 'l1_ratio': 1.0}                            0.636364           0.603060            0.460396   \n",
       "{'alpha': 4.6415888336127725e-07, 'l1_ratio': 0.0}           0.734173           0.603060            0.345635   \n",
       "{'alpha': 4.6415888336127725e-07, 'l1_ratio': 0...           0.718272           0.562256            0.383588   \n",
       "{'alpha': 4.6415888336127725e-07, 'l1_ratio': 0...           0.682268           0.612661            0.346685   \n",
       "{'alpha': 4.6415888336127725e-07, 'l1_ratio': 1.0}           0.664266           0.633663            0.401590   \n",
       "{'alpha': 0.002154434690031882, 'l1_ratio': 0.0}             0.710471           0.610561            0.399940   \n",
       "{'alpha': 0.002154434690031882, 'l1_ratio': 0.3...           0.662166           0.594359            0.555806   \n",
       "{'alpha': 0.002154434690031882, 'l1_ratio': 0.6...           0.631563           0.605161            0.607861   \n",
       "{'alpha': 0.002154434690031882, 'l1_ratio': 1.0}             0.617762           0.589559            0.605461   \n",
       "{'alpha': 10.0, 'l1_ratio': 0.0}                             0.777678           0.698470            0.795680   \n",
       "{'alpha': 10.0, 'l1_ratio': 0.3333333333333333}              0.795380           0.795380            0.795380   \n",
       "{'alpha': 10.0, 'l1_ratio': 0.6666666666666666}              0.795380           0.795380            0.795380   \n",
       "{'alpha': 10.0, 'l1_ratio': 1.0}                             0.795380           0.795380            0.795380   \n",
       "\n",
       "                                                    split1_train_score  split2_train_score  \n",
       "params                                                                                      \n",
       "{'alpha': 1e-10, 'l1_ratio': 0.0}                             0.668667            0.658167  \n",
       "{'alpha': 1e-10, 'l1_ratio': 0.3333333333333333}              0.679166            0.544773  \n",
       "{'alpha': 1e-10, 'l1_ratio': 0.6666666666666666}              0.652467            0.670616  \n",
       "{'alpha': 1e-10, 'l1_ratio': 1.0}                             0.646018            0.614369  \n",
       "{'alpha': 4.6415888336127725e-07, 'l1_ratio': 0.0}            0.727914            0.608220  \n",
       "{'alpha': 4.6415888336127725e-07, 'l1_ratio': 0...            0.711264            0.577021  \n",
       "{'alpha': 4.6415888336127725e-07, 'l1_ratio': 0...            0.680216            0.622469  \n",
       "{'alpha': 4.6415888336127725e-07, 'l1_ratio': 1.0}            0.649468            0.647668  \n",
       "{'alpha': 0.002154434690031882, 'l1_ratio': 0.0}              0.708115            0.614369  \n",
       "{'alpha': 0.002154434690031882, 'l1_ratio': 0.3...            0.678716            0.601770  \n",
       "{'alpha': 0.002154434690031882, 'l1_ratio': 0.6...            0.646468            0.604620  \n",
       "{'alpha': 0.002154434690031882, 'l1_ratio': 1.0}              0.630718            0.587521  \n",
       "{'alpha': 10.0, 'l1_ratio': 0.0}                              0.775461            0.698515  \n",
       "{'alpha': 10.0, 'l1_ratio': 0.3333333333333333}               0.795260            0.795260  \n",
       "{'alpha': 10.0, 'l1_ratio': 0.6666666666666666}               0.795260            0.795260  \n",
       "{'alpha': 10.0, 'l1_ratio': 1.0}                              0.795260            0.795260  "
      ]
     },
     "execution_count": 194,
     "metadata": {},
     "output_type": "execute_result"
    }
   ],
   "source": [
    "pd.DataFrame(gs_el_f.cv_results_) \\\n",
    "    .set_index('params') \\\n",
    "    .loc[:,['mean_test_score', 'mean_train_score',\n",
    "            'split0_test_score', 'split1_test_score','split2_test_score',\n",
    "            'split0_train_score', 'split1_train_score','split2_train_score']] "
   ]
  },
  {
   "cell_type": "markdown",
   "metadata": {},
   "source": [
    "## Load pickled data"
   ]
  },
  {
   "cell_type": "code",
   "execution_count": 84,
   "metadata": {
    "scrolled": true
   },
   "outputs": [
    {
     "ename": "Exception",
     "evalue": "",
     "output_type": "error",
     "traceback": [
      "\u001b[1;31m---------------------------------------------------------------------------\u001b[0m",
      "\u001b[1;31mException\u001b[0m                                 Traceback (most recent call last)",
      "\u001b[1;32m<ipython-input-84-2754bc4fafb5>\u001b[0m in \u001b[0;36m<module>\u001b[1;34m()\u001b[0m\n\u001b[0;32m      1\u001b[0m \u001b[1;31m# Raise error, because we only want to execute the next cell manually\u001b[0m\u001b[1;33m\u001b[0m\u001b[1;33m\u001b[0m\u001b[0m\n\u001b[1;32m----> 2\u001b[1;33m \u001b[1;32mraise\u001b[0m \u001b[0mException\u001b[0m\u001b[1;33m\u001b[0m\u001b[0m\n\u001b[0m",
      "\u001b[1;31mException\u001b[0m: "
     ]
    }
   ],
   "source": [
    "# Raise error, because we only want to execute the next cells manually\n",
    "raise Exception"
   ]
  },
  {
   "cell_type": "code",
   "execution_count": null,
   "metadata": {},
   "outputs": [],
   "source": []
  }
 ],
 "metadata": {
  "kernelspec": {
   "display_name": "Python 3",
   "language": "python",
   "name": "python3"
  },
  "language_info": {
   "codemirror_mode": {
    "name": "ipython",
    "version": 3
   },
   "file_extension": ".py",
   "mimetype": "text/x-python",
   "name": "python",
   "nbconvert_exporter": "python",
   "pygments_lexer": "ipython3",
   "version": "3.6.6"
  },
  "toc": {
   "base_numbering": 1,
   "nav_menu": {},
   "number_sections": true,
   "sideBar": true,
   "skip_h1_title": true,
   "title_cell": "Table of Contents",
   "title_sidebar": "Contents",
   "toc_cell": true,
   "toc_position": {},
   "toc_section_display": true,
   "toc_window_display": true
  }
 },
 "nbformat": 4,
 "nbformat_minor": 2
}
