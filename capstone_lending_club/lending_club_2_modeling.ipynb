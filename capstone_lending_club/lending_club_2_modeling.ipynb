{
 "cells": [
  {
   "cell_type": "markdown",
   "metadata": {},
   "source": [
    "## Predictive Modeling NEW"
   ]
  },
  {
   "cell_type": "markdown",
   "metadata": {},
   "source": [
    "# Lending Club Loan Default Predictions 1\n",
    "**Author: Thomas Loeber**"
   ]
  },
  {
   "cell_type": "markdown",
   "metadata": {
    "toc": true
   },
   "source": [
    "<h1>Table of Contents<span class=\"tocSkip\"></span></h1>\n",
    "<div class=\"toc\"><ul class=\"toc-item\"><li><span><a href=\"#Predictive-Modeling-NEW\" data-toc-modified-id=\"Predictive-Modeling-NEW-1\"><span class=\"toc-item-num\">1&nbsp;&nbsp;</span>Predictive Modeling NEW</a></span></li><li><span><a href=\"#Load-data-and-saved-models\" data-toc-modified-id=\"Load-data-and-saved-models-2\"><span class=\"toc-item-num\">2&nbsp;&nbsp;</span>Load data and saved models</a></span></li><li><span><a href=\"#Preprocessing\" data-toc-modified-id=\"Preprocessing-3\"><span class=\"toc-item-num\">3&nbsp;&nbsp;</span>Preprocessing</a></span></li><li><span><a href=\"#PCA\" data-toc-modified-id=\"PCA-4\"><span class=\"toc-item-num\">4&nbsp;&nbsp;</span>PCA</a></span></li><li><span><a href=\"#Predictive-Modelling\" data-toc-modified-id=\"Predictive-Modelling-5\"><span class=\"toc-item-num\">5&nbsp;&nbsp;</span>Predictive Modelling</a></span><ul class=\"toc-item\"><li><span><a href=\"#Random-Forests\" data-toc-modified-id=\"Random-Forests-5.1\"><span class=\"toc-item-num\">5.1&nbsp;&nbsp;</span>Random Forests</a></span></li><li><span><a href=\"#Logistic-regression-+-Ridge\" data-toc-modified-id=\"Logistic-regression-+-Ridge-5.2\"><span class=\"toc-item-num\">5.2&nbsp;&nbsp;</span>Logistic regression + Ridge</a></span></li><li><span><a href=\"#SVM\" data-toc-modified-id=\"SVM-5.3\"><span class=\"toc-item-num\">5.3&nbsp;&nbsp;</span>SVM</a></span></li></ul></li><li><span><a href=\"#OLD\" data-toc-modified-id=\"OLD-6\"><span class=\"toc-item-num\">6&nbsp;&nbsp;</span>OLD</a></span></li><li><span><a href=\"#Logistic-regression\" data-toc-modified-id=\"Logistic-regression-7\"><span class=\"toc-item-num\">7&nbsp;&nbsp;</span>Logistic regression</a></span><ul class=\"toc-item\"><li><span><a href=\"#Ridge/Lasso-+-LogisticRegressionCV\" data-toc-modified-id=\"Ridge/Lasso-+-LogisticRegressionCV-7.1\"><span class=\"toc-item-num\">7.1&nbsp;&nbsp;</span>Ridge/Lasso + LogisticRegressionCV</a></span></li><li><span><a href=\"#SGDClassifier-(elastic-net)-+-GridSearchCV\" data-toc-modified-id=\"SGDClassifier-(elastic-net)-+-GridSearchCV-7.2\"><span class=\"toc-item-num\">7.2&nbsp;&nbsp;</span>SGDClassifier (elastic net) + GridSearchCV</a></span><ul class=\"toc-item\"><li><span><a href=\"#iid=True\" data-toc-modified-id=\"iid=True-7.2.1\"><span class=\"toc-item-num\">7.2.1&nbsp;&nbsp;</span>iid=True</a></span></li><li><span><a href=\"#With-iid-=-False\" data-toc-modified-id=\"With-iid-=-False-7.2.2\"><span class=\"toc-item-num\">7.2.2&nbsp;&nbsp;</span>With iid = False</a></span></li></ul></li></ul></li><li><span><a href=\"#Load-pickled-data\" data-toc-modified-id=\"Load-pickled-data-8\"><span class=\"toc-item-num\">8&nbsp;&nbsp;</span>Load pickled data</a></span></li></ul></div>"
   ]
  },
  {
   "cell_type": "code",
   "execution_count": 23,
   "metadata": {},
   "outputs": [],
   "source": [
    "import pdb \n",
    "import glob\n",
    "import copy\n",
    "import math\n",
    "import pickle\n",
    "\n",
    "import numpy as np\n",
    "import pandas as pd\n",
    "import scipy as sp\n",
    "import sklearn\n",
    "\n",
    "import matplotlib as mpl\n",
    "import matplotlib.pyplot as plt\n",
    "import matplotlib.cm as cm\n",
    "import seaborn as sns\n",
    " \n",
    "import missingno  # for visualizing missing data\n",
    "\n",
    "from sklearn.compose import ColumnTransformer\n",
    "from sklearn.pipeline import Pipeline\n",
    "from sklearn.impute import SimpleImputer\n",
    "from sklearn.preprocessing import StandardScaler, OneHotEncoder\n",
    "from sklearn.linear_model import LogisticRegression, \\\n",
    "    LogisticRegressionCV, SGDClassifier\n",
    "from sklearn.model_selection import GridSearchCV\n",
    "from sklearn.decomposition import PCA\n",
    "from sklearn.ensemble import RandomForestClassifier\n",
    "from sklearn.metrics import confusion_matrix, classification_report, \\\n",
    "    precision_recall_curve, average_precision_score, f1_score, \\\n",
    "    roc_curve, auc, roc_auc_score\n",
    "\n",
    "from sklearn.externals import joblib\n",
    "from sklearn.utils import resample\n",
    "from sklearn.utils.fixes import signature\n",
    "\n",
    "# Set up pandas table display\n",
    "pd.set_option('display.width', 120)\n",
    "pd.set_option('display.max_columns', 100)\n",
    "pd.set_option('display.notebook_repr_html', True)\n",
    "\n",
    "# Set plotting options\n",
    "sns.set() # Use seaborn defaults for plotting\n",
    "%matplotlib inline "
   ]
  },
  {
   "cell_type": "markdown",
   "metadata": {},
   "source": [
    "## Load data and saved models"
   ]
  },
  {
   "cell_type": "code",
   "execution_count": 25,
   "metadata": {},
   "outputs": [],
   "source": [
    "# Load original data\n",
    "with open('data_processed/all_data.pickle', 'rb') as pickled_file: \n",
    "    all_data = pickle.load(pickled_file) "
   ]
  },
  {
   "cell_type": "markdown",
   "metadata": {},
   "source": [
    "## Preprocessing "
   ]
  },
  {
   "cell_type": "code",
   "execution_count": null,
   "metadata": {},
   "outputs": [
    {
     "name": "stdout",
     "output_type": "stream",
     "text": [
      "addr_state    51\n",
      "dtype: int64\n"
     ]
    }
   ],
   "source": [
    "# Find categorical variables with more than 50 unique values and drop them\n",
    "unique_values_cat = all_data.select_dtypes(include='object') \\\n",
    "                        .nunique() \\\n",
    "                        .sort_values(ascending=False) \n",
    "print(unique_values_cat[unique_values_cat > 50])\n",
    "# Drop variables\n",
    "all_data = all_data.drop(unique_values_cat[unique_values_cat > 50].index,\n",
    "    axis='columns')\n",
    "\n",
    "\n",
    "# Train-test split (for now only select 1% for training)\n",
    "from sklearn.model_selection import train_test_split\n",
    "X_train, X_test, y_train, y_test = \\\n",
    "    train_test_split(all_data.drop('default', axis='columns'),\n",
    "                     all_data.default,\n",
    "                     #train_size=0.8,\n",
    "                     train_size=50000, test_size=50000,\n",
    "                     random_state=1,\n",
    "                     shuffle=True, stratify=all_data.default) \n",
    "\n",
    "# Imputation and standardization for numeric features\n",
    "numeric_features = X_train.select_dtypes(include=[np.number]).columns\n",
    "numeric_transformer = Pipeline(steps =[\n",
    "    ('imputer', SimpleImputer(strategy='median')),\n",
    "    ('scaler', StandardScaler())]) \n",
    "\n",
    "# Imputation and one-hot encoding for categorical features\n",
    "categorical_features = X_train.select_dtypes(include=[object]).columns\n",
    "categorical_transformer = Pipeline(steps =[\n",
    "    ('imputer', SimpleImputer(strategy='most_frequent')),\n",
    "    ('onehot', OneHotEncoder(handle_unknown='ignore'))])\n",
    "\n",
    "# Combining preprocessing for both kinds of features\n",
    "preprocessor = ColumnTransformer(\n",
    "    transformers=[\n",
    "        ('num', numeric_transformer, numeric_features),\n",
    "        ('cat', categorical_transformer, categorical_features)],\n",
    "    remainder='passthrough', n_jobs=1)\n",
    "\n",
    "# Apply preprocessing\n",
    "X_train_p = preprocessor.fit_transform(X_train)\n",
    "X_test_p = preprocessor.transform(X_test)"
   ]
  },
  {
   "cell_type": "markdown",
   "metadata": {},
   "source": [
    "## PCA"
   ]
  },
  {
   "cell_type": "code",
   "execution_count": null,
   "metadata": {},
   "outputs": [],
   "source": [
    "# Use PCA to assess whether features lie in lower-\n",
    "# dimensional subspace\n",
    "pca = PCA()\n",
    "pca.fit(X_train_p)\n",
    "explained_var = pca.explained_variance_ratio_\n",
    "\n",
    "# Plot results\n",
    "plt.figure(figsize=(12, 7))\n",
    "plt.step(range(1, len(explained_var)+2),\n",
    "         np.hstack([[0], np.cumsum(explained_var)]),\n",
    "         color='black', label='Cumulative')\n",
    "plt.bar(range(1, len(explained_var)+1),\n",
    "        explained_var, \n",
    "        label='per principal component')\n",
    "plt.legend('lowerright')\n",
    "plt.title('Explained variance for different numbers of principal component')\n",
    "plt.ylim(0,1.05)\n",
    "plt.xlabel('Number of Component')\n",
    "plt.ylabel('Explained Variance Ratio')\n",
    "plt.show();"
   ]
  },
  {
   "cell_type": "markdown",
   "metadata": {},
   "source": [
    "## Predictive Modelling\n",
    "### Random Forests"
   ]
  },
  {
   "cell_type": "code",
   "execution_count": null,
   "metadata": {},
   "outputs": [],
   "source": [
    "rf = RandomForestClassifier(n_estimators=100, \n",
    "        oob_score=True, n_jobs=3, random_state=1,\n",
    "        class_weight='balanced_subsample')\n",
    "rf.fit(X_train_p, y_train)\n",
    "\n",
    "\n",
    "def plot_confusion_matrix(y_test, y_pred, digits=3):\n",
    "    cf = pd.DataFrame(confusion_matrix(y_test, y_pred,\n",
    "                                      labels=[1,0]),\n",
    "                      columns=['True', 'False'])\n",
    "    cf.index=['True', 'False']\n",
    "    cf.columns.name = 'Predicted'\n",
    "    cf.index.name = 'Actual'\n",
    "    print(round(cf / len(y_test), digits))    \n",
    "\n",
    "# Plot confusion matrix for random forests\n",
    "y_pred_rf = rf.predict(X_test_p)\n",
    "plot_confusion_matrix(y_test, y_pred_rf)\n",
    "\n",
    "\n",
    "def plot_roc(y_test, y_pred, model_name=None):\n",
    "    false_positive_rate, true_positive_rate, thresholds = \\\n",
    "        roc_curve(y_test, y_pred)\n",
    "    roc_auc = auc(false_positive_rate, true_positive_rate)\n",
    "    plt.plot(false_positive_rate, true_positive_rate, 'b',\n",
    "             label='AUC = {0:.3f}'.format(roc_auc))\n",
    "    plt.legend(loc='lower right')\n",
    "    plt.plot([0, 1],[0, 1], 'r--')\n",
    "    plt.xlabel('False Positive Rate')\n",
    "    plt.ylabel('True Positive Rate')\n",
    "    title='ROC Curve'\n",
    "    # Add custom title, if specified\n",
    "    if model_name is not None:\n",
    "        title = ', '.join([title, model_name])\n",
    "    plt.title(title)\n",
    "    plt.show();\n",
    "    \n",
    "# Plot ROC curve for random forests\n",
    "y_pred_proba_rf = rf.predict_proba(X_test_p)[:, 1]\n",
    "plot_roc(y_test, y_pred_proba_rf, 'Random Forests')"
   ]
  },
  {
   "cell_type": "code",
   "execution_count": null,
   "metadata": {},
   "outputs": [],
   "source": [
    "def plot_precision_recall(y_test, y_pred):\n",
    "    \"\"\"Plots precision-recall curve.\"\"\"\n",
    "\n",
    "    average_precision = average_precision_score(y_test, y_pred)\n",
    "    precision, recall, _ = precision_recall_curve(y_test, y_pred)\n",
    "    # pdb.set_trace()\n",
    "    step_kwargs = ({'step': 'post'}\n",
    "                   if 'step' in signature(plt.fill_between).parameters\n",
    "                   else {})\n",
    "    plt.step(recall, precision, color='b', alpha=0.2,\n",
    "             where='post')\n",
    "    plt.figtext(0.2, 0.2, 'Average Precision={0:0.3f}' \\\n",
    "                                    .format(average_precision))\n",
    "    plt.fill_between(recall, precision, alpha=0.2, color='b', **step_kwargs)\n",
    "\n",
    "    plt.xlabel('Recall')\n",
    "    plt.ylabel('Precision')\n",
    "    plt.ylim([0.0, 1.05])\n",
    "    plt.xlim([0.0, 1.0])\n",
    "    plt.title('Precision-Recall curve')\n",
    "    plt.show();\n",
    "\n",
    "# Plot precision recall curve for random forests classifier\n",
    "plot_precision_recall(y_test, y_pred_proba_rf)"
   ]
  },
  {
   "cell_type": "code",
   "execution_count": null,
   "metadata": {},
   "outputs": [],
   "source": [
    "# Get a list of feature names\n",
    "cat_names = preprocessor.named_transformers_['cat'] \\\n",
    "                .named_steps['onehot'].get_feature_names()\n",
    "feature_names = list(numeric_features) + list(cat_names)\n",
    "# Compute feature importance and sort\n",
    "feature_importances = pd.Series(\n",
    "                            rf.feature_importances_,\n",
    "                            index=feature_names) \\\n",
    "                        .sort_values(ascending=False)\n",
    "print(feature_importances)"
   ]
  },
  {
   "cell_type": "markdown",
   "metadata": {},
   "source": [
    "### Logistic regression + Ridge "
   ]
  },
  {
   "cell_type": "code",
   "execution_count": null,
   "metadata": {},
   "outputs": [],
   "source": [
    "lr_ridge = LogisticRegression(\n",
    "    random_state=1, penalty='l2', class_weight='balanced', \n",
    "    C=1E-3, max_iter=100, n_jobs=3, solver='lbfgs')\n",
    "lr_ridge.fit(X_train_p, y_train) \n",
    "\n",
    "# Plot confusion matrix\n",
    "y_pred_lr = lr_ridge.predict(X_test_p)\n",
    "plot_confusion_matrix(y_test, y_pred_lr)\n",
    "\n",
    "# Plot ROC curve\n",
    "y_pred_proba_lr = lr_ridge.predict_proba(X_test_p)[:, 1]\n",
    "plot_roc(y_test, y_pred_proba_lr)"
   ]
  },
  {
   "cell_type": "markdown",
   "metadata": {},
   "source": [
    "### SVM"
   ]
  },
  {
   "cell_type": "code",
   "execution_count": null,
   "metadata": {},
   "outputs": [],
   "source": [
    "svm = SGDClassifier(loss='hinge', penalty='elasticnet', random_state=1,\n",
    "                   class_weight='balanced', alpha=1E-2,\n",
    "                    max_iter=100, tol=1E-3)\n",
    "svm.fit(X_train_p, y_train)\n",
    "\n",
    "# Plot confusion matrix\n",
    "y_pred_svm = svm.predict(X_test_p)\n",
    "plot_confusion_matrix(y_test, y_pred_svm)\n",
    "\n",
    "# Plot ROC curve\n",
    "y_pred_proba_svm = svm.decision_function(X_test_p)\n",
    "plot_roc(y_test, y_pred_proba_svm)"
   ]
  },
  {
   "cell_type": "code",
   "execution_count": null,
   "metadata": {},
   "outputs": [],
   "source": [
    "print(classification_report(y_test, y_pred_svm))"
   ]
  },
  {
   "cell_type": "code",
   "execution_count": null,
   "metadata": {},
   "outputs": [],
   "source": [
    "variables_to_drop"
   ]
  },
  {
   "cell_type": "markdown",
   "metadata": {},
   "source": [
    "## OLD"
   ]
  },
  {
   "cell_type": "code",
   "execution_count": null,
   "metadata": {},
   "outputs": [],
   "source": [
    "# Save preprocessed data\n",
    "for data in ['X_train_p', 'X_test_p', 'y_train', 'y_test']:\n",
    "    with open('data_processed/{}.joblib'.format(data)\n",
    "            as saved_file:\n",
    "        joblib.dump(saved_file)"
   ]
  },
  {
   "cell_type": "code",
   "execution_count": 12,
   "metadata": {},
   "outputs": [
    {
     "name": "stdout",
     "output_type": "stream",
     "text": [
      "Predicted   True  False\n",
      "Actual                 \n",
      "True       0.004  0.201\n",
      "False      0.003  0.793\n"
     ]
    }
   ],
   "source": [
    "def plot_confusion_matrix(y_test, y_pred, digits=3):\n",
    "    cf = pd.DataFrame(confusion_matrix(y_test, y_pred,\n",
    "                                      labels=[1,0]),\n",
    "                      columns=['True', 'False'])\n",
    "    cf.index=['True', 'False']\n",
    "    cf.columns.name = 'Predicted'\n",
    "    cf.index.name = 'Actual'\n",
    "    print(round(cf / len(y_test), digits))\n",
    "    \n",
    "# Plot confusion matrix for random forests\n",
    "y_pred_rf = rf.predict(X_test_p)\n",
    "plot_confusion_matrix(y_test, y_pred_rf)"
   ]
  },
  {
   "cell_type": "code",
   "execution_count": null,
   "metadata": {},
   "outputs": [],
   "source": [
    "def plot_precision_recall(y_test, y_pred):\n",
    "    \"\"\"Plots precision-recall curve.\"\"\"\n",
    "\n",
    "    average_precision = average_precision_score(y_test, y_pred)\n",
    "    precision, recall, _ = precision_recall_curve(y_test, y_pred)\n",
    "    # pdb.set_trace()\n",
    "    step_kwargs = ({'step': 'post'}\n",
    "                   if 'step' in signature(plt.fill_between).parameters\n",
    "                   else {})\n",
    "    plt.step(recall, precision, color='b', alpha=0.2,\n",
    "             where='post')\n",
    "    plt.figtext(0.2, 0.2, 'Average Precision={0:0.3f}' \\\n",
    "                                    .format(average_precision))\n",
    "    plt.fill_between(recall, precision, alpha=0.2, color='b', **step_kwargs)\n",
    "\n",
    "    plt.xlabel('Recall')\n",
    "    plt.ylabel('Precision')\n",
    "    plt.ylim([0.0, 1.05])\n",
    "    plt.xlim([0.0, 1.0])\n",
    "    plt.title('Precision-Recall curve')\n",
    "    plt.show();\n",
    "\n",
    "# Plot precision recall curve for random forests classifier\n",
    "plot_precision_recall(y_test, y_pred_rf)"
   ]
  },
  {
   "cell_type": "code",
   "execution_count": 19,
   "metadata": {},
   "outputs": [
    {
     "data": {
      "image/png": "[encoded data removed]",
      "text/plain": [
       "<Figure size 432x288 with 1 Axes>"
      ]
     },
     "metadata": {
      "needs_background": "light"
     },
     "output_type": "display_data"
    }
   ],
   "source": [
    "def plot_roc(y_test, y_pred, model_name=None):\n",
    "    false_positive_rate, true_positive_rate, thresholds = \\\n",
    "        roc_curve(y_test, y_pred)\n",
    "    roc_auc = auc(false_positive_rate, true_positive_rate)\n",
    "    plt.plot(false_positive_rate, true_positive_rate, 'b',\n",
    "             label='AUC = {0:.3f}'.format(roc_auc))\n",
    "    plt.legend(loc='lower right')\n",
    "    plt.plot([0, 1],[0, 1], 'r--')\n",
    "    plt.xlabel('False Positive Rate')\n",
    "    plt.ylabel('True Positive Rate')\n",
    "    title='ROC Curve'\n",
    "    # Add custom title, if specified\n",
    "    if model_name is not None:\n",
    "        title = ', '.join([title, model_name])\n",
    "    plt.title(title)\n",
    "    plt.show();\n",
    "\n",
    "# Plot ROC curve for random forests\n",
    "plot_roc(y_test, y_pred_rf, 'Random Forests')"
   ]
  },
  {
   "cell_type": "markdown",
   "metadata": {},
   "source": [
    "## Logistic regression\n",
    "### Ridge/Lasso + LogisticRegressionCV"
   ]
  },
  {
   "cell_type": "code",
   "execution_count": null,
   "metadata": {},
   "outputs": [],
   "source": [
    "# Ridge CV, stochastic gradient descent, additional iterations\n",
    "lr_ridge_cv = LogisticRegressionCV(Cs = 4, solver='saga', cv=3,\n",
    "    random_state=1, penalty='l2', class_weight='balanced', \n",
    "    max_iter=1000)\n",
    "lr_ridge_cv.fit(X_train_p, y_train) "
   ]
  },
  {
   "cell_type": "code",
   "execution_count": null,
   "metadata": {},
   "outputs": [],
   "source": [
    "# Performance during cross-validation\n",
    "lr_ridge_cv.scores_"
   ]
  },
  {
   "cell_type": "code",
   "execution_count": null,
   "metadata": {},
   "outputs": [],
   "source": [
    "# Performance on test set\n",
    "lr_ridge_cv.score(X_test_p, y_test)"
   ]
  },
  {
   "cell_type": "markdown",
   "metadata": {},
   "source": [
    "Now we only get the convergence warning for part of the models.\n",
    "\n",
    "Let's try the same now using LogisticRegression + GreatSearchCV, because this gives a better description of the results."
   ]
  },
  {
   "cell_type": "code",
   "execution_count": null,
   "metadata": {},
   "outputs": [],
   "source": []
  },
  {
   "cell_type": "markdown",
   "metadata": {},
   "source": [
    "**Try default solver**"
   ]
  },
  {
   "cell_type": "code",
   "execution_count": null,
   "metadata": {},
   "outputs": [],
   "source": [
    "# Try default solver (Ridge CV, additional iterations)\n",
    "lr_ridge_cv_2 = LogisticRegressionCV(Cs = 4, cv=3,\n",
    "    random_state=1, penalty='l2', class_weight='balanced',\n",
    "    max_iter=1000)\n",
    "lr_ridge_cv_2.fit(X_train_p, y_train) "
   ]
  },
  {
   "cell_type": "code",
   "execution_count": null,
   "metadata": {},
   "outputs": [],
   "source": [
    "# Performance during cross-validation\n",
    "lr_ridge_cv_2.scores_"
   ]
  },
  {
   "cell_type": "code",
   "execution_count": null,
   "metadata": {},
   "outputs": [],
   "source": [
    "# Performance on test set\n",
    "lr_ridge_cv_2.score(X_test_p, y_test)"
   ]
  },
  {
   "cell_type": "code",
   "execution_count": null,
   "metadata": {},
   "outputs": [],
   "source": [
    "# Plot confusion matrix\n",
    "y_pred_lr = lr_ridge_cv_2.predict(X_test_p)\n",
    "plot_confusion_matrix(y_test, y_pred_lr)"
   ]
  },
  {
   "cell_type": "code",
   "execution_count": null,
   "metadata": {},
   "outputs": [],
   "source": [
    "# Plot precision-recall curve\n",
    "plot_precision_recall(y_test, y_pred_lr)"
   ]
  },
  {
   "cell_type": "code",
   "execution_count": null,
   "metadata": {
    "scrolled": true
   },
   "outputs": [],
   "source": [
    "# Plot ROC curve\n",
    "plot_roc(y_test, y_pred_lr)"
   ]
  },
  {
   "cell_type": "markdown",
   "metadata": {},
   "source": [
    "Default solver gets rid of the convergence warnings completely.\n",
    "\n",
    "Next, try Lasso."
   ]
  },
  {
   "cell_type": "code",
   "execution_count": null,
   "metadata": {},
   "outputs": [],
   "source": [
    "# joblib.dump(lr_ridge, 'lr_ridge.Joblib')"
   ]
  },
  {
   "cell_type": "code",
   "execution_count": null,
   "metadata": {},
   "outputs": [],
   "source": [
    "# Lasso CV (Stochastic gradient descent, default number of iterations\n",
    "lr_lasso_cv = LogisticRegressionCV(Cs = 4, solver='saga', cv=3,\n",
    "    random_state=1, penalty='l1', class_weight='balanced')\n",
    "lr_lasso_cv.fit(X_train_p, y_train) "
   ]
  },
  {
   "cell_type": "code",
   "execution_count": null,
   "metadata": {},
   "outputs": [],
   "source": [
    "lr_lasso_cv.scores_"
   ]
  },
  {
   "cell_type": "code",
   "execution_count": null,
   "metadata": {},
   "outputs": [],
   "source": [
    "lr_lasso_cv.score(X_test_p, y_test)"
   ]
  },
  {
   "cell_type": "markdown",
   "metadata": {},
   "source": [
    "### SGDClassifier (elastic net) + GridSearchCV"
   ]
  },
  {
   "cell_type": "code",
   "execution_count": null,
   "metadata": {},
   "outputs": [],
   "source": [
    "# Elastic net, logistic regression (Loss='log')\n",
    "lr_en = SGDClassifier(loss='log', penalty='elasticnet', random_state=1,\n",
    "                   class_weight='balanced', n_jobs=1) \n",
    "\n",
    "# Parameters to search over\n",
    "grid={'l1_ratio': np.linspace(0, 1, 4),\n",
    "      'alpha': np.logspace(-10, 1, 11)}"
   ]
  },
  {
   "cell_type": "markdown",
   "metadata": {},
   "source": [
    "#### iid=True "
   ]
  },
  {
   "cell_type": "code",
   "execution_count": null,
   "metadata": {},
   "outputs": [],
   "source": [
    "gs_el_t = GridSearchCV(lr_en, param_grid=grid, iid=True,\n",
    "                       scoring='f1', cv=3, n_jobs=3)\n",
    "gs_el_t.fit(X_train_p, y_train)"
   ]
  },
  {
   "cell_type": "code",
   "execution_count": null,
   "metadata": {},
   "outputs": [],
   "source": [
    "gs_el_t.scorer_"
   ]
  },
  {
   "cell_type": "code",
   "execution_count": null,
   "metadata": {},
   "outputs": [],
   "source": [
    "# Cross-validation accuracy\n",
    "gs_el_t.score(X_test_p, y_test)"
   ]
  },
  {
   "cell_type": "code",
   "execution_count": null,
   "metadata": {},
   "outputs": [],
   "source": [
    "# Plot confusion matrix\n",
    "y_pred_el_t = gs_el_t.predict(X_test_p)\n",
    "plot_confusion_matrix(y_test, y_pred_el_t)"
   ]
  },
  {
   "cell_type": "code",
   "execution_count": null,
   "metadata": {
    "scrolled": true
   },
   "outputs": [],
   "source": [
    "plot_precision_recall(y_test, y_pred_el_t)"
   ]
  },
  {
   "cell_type": "code",
   "execution_count": null,
   "metadata": {},
   "outputs": [],
   "source": [
    "# Plot ROC curve\n",
    "plot_roc(y_test, y_pred_el_t)"
   ]
  },
  {
   "cell_type": "code",
   "execution_count": null,
   "metadata": {},
   "outputs": [],
   "source": [
    "# joblib.dump(gscv_t, 'gscv_t.joblib') # Save"
   ]
  },
  {
   "cell_type": "markdown",
   "metadata": {},
   "source": [
    "#### With iid = False"
   ]
  },
  {
   "cell_type": "code",
   "execution_count": null,
   "metadata": {},
   "outputs": [],
   "source": [
    "gs_el_f = GridSearchCV(lr_en, param_grid=grid, iid=False, cv=3, n_jobs=3)\n",
    "gs_el_f.fit(X_train_p, y_train)"
   ]
  },
  {
   "cell_type": "code",
   "execution_count": null,
   "metadata": {},
   "outputs": [],
   "source": [
    "gs_el_f.score(X_test_p, y_test)"
   ]
  },
  {
   "cell_type": "code",
   "execution_count": null,
   "metadata": {},
   "outputs": [],
   "source": [
    "y_pred_el_t = gs_el_t.predict(X_test_p)\n",
    "plot_precision_recall(y_test, y_pred_el_t)"
   ]
  },
  {
   "cell_type": "code",
   "execution_count": null,
   "metadata": {},
   "outputs": [],
   "source": [
    "np.unique(y_pred_el_t, return_counts=True)"
   ]
  },
  {
   "cell_type": "code",
   "execution_count": null,
   "metadata": {},
   "outputs": [],
   "source": [
    "# Plot ROC curve\n",
    "plot_roc(y_test, y_pred_el_t)"
   ]
  },
  {
   "cell_type": "code",
   "execution_count": null,
   "metadata": {},
   "outputs": [],
   "source": [
    "pd.DataFrame(gs_el_t.cv_results_) \\\n",
    "    .set_index('params') \\\n",
    "    .loc[:,['mean_test_score', 'mean_train_score',\n",
    "           'split0_test_score', 'split1_test_score','split2_test_score',\n",
    "           'split0_train_score', 'split1_train_score','split2_train_score']] "
   ]
  },
  {
   "cell_type": "code",
   "execution_count": null,
   "metadata": {},
   "outputs": [],
   "source": [
    "# joblib.dump(gscv_f, 'gscv_f.joblib') # Save"
   ]
  },
  {
   "cell_type": "markdown",
   "metadata": {},
   "source": [
    "Let's look at the results. I'm displaying the accuracy for all folds here, because in previous iterations they sometimes widely differed. (In fact, the problems occurred when I was still trying to use all the data, so it is particularly surprising that with almost a million observations, there would be such severe overfitting).\n",
    "\n",
    "Note: the higher alpha, the *stronger* the regularization."
   ]
  },
  {
   "cell_type": "code",
   "execution_count": null,
   "metadata": {},
   "outputs": [],
   "source": [
    "pd.DataFrame(gs_el_f.cv_results_) \\\n",
    "    .set_index('params') \\\n",
    "    .loc[:,['mean_test_score', 'mean_train_score',\n",
    "            'split0_test_score', 'split1_test_score','split2_test_score',\n",
    "            'split0_train_score', 'split1_train_score','split2_train_score']] "
   ]
  },
  {
   "cell_type": "code",
   "execution_count": null,
   "metadata": {},
   "outputs": [],
   "source": [
    "# Learning curve (Random forests)\n",
    "ns = [100, 1000, 10000, 100000, 300000, 600000, 818660]\n",
    "f1_scores = {}\n",
    "for n in ns:\n",
    "    X_train_p_subset, y_train_subset = resample(\n",
    "        X_train_p, y_train, replace=False, n_samples=n, random_state=1)\n",
    "    rf_subset = RandomForestClassifier(\n",
    "        n_estimators=100, n_jobs=3, random_state=1,\n",
    "        class_weight='balanced_subsample')\n",
    "    rf_subset.fit(X_train_p_subset, y_train_subset)\n",
    "    y_pred_rf_subset = rf_subset.predict(X_test_p)\n",
    "    f1_scores[n] = f1_score(y_test, y_pred_rf_subset)\n",
    "\n",
    "plt.plot(pd.Series(f1_scores))\n",
    "plt.title('Learning Curve')\n",
    "plt.xlabel('Number of Observations')\n",
    "plt.ylabel('F1-score')"
   ]
  },
  {
   "cell_type": "markdown",
   "metadata": {},
   "source": [
    "## Load pickled data"
   ]
  },
  {
   "cell_type": "code",
   "execution_count": null,
   "metadata": {
    "scrolled": true
   },
   "outputs": [],
   "source": [
    "# Raise error, because we only want to execute the next cells manually\n",
    "raise Exception"
   ]
  },
  {
   "cell_type": "code",
   "execution_count": null,
   "metadata": {},
   "outputs": [],
   "source": []
  }
 ],
 "metadata": {
  "kernelspec": {
   "display_name": "Python 3",
   "language": "python",
   "name": "python3"
  },
  "toc": {
   "base_numbering": 1,
   "nav_menu": {},
   "number_sections": true,
   "sideBar": true,
   "skip_h1_title": true,
   "title_cell": "Table of Contents",
   "title_sidebar": "Contents",
   "toc_cell": true,
   "toc_position": {},
   "toc_section_display": true,
   "toc_window_display": true
  }
 },
 "nbformat": 4,
 "nbformat_minor": 2
}
