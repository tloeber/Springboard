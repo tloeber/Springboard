{
 "cells": [
  {
   "cell_type": "markdown",
   "metadata": {
    "toc": true
   },
   "source": [
    "<h1>Table of Contents<span class=\"tocSkip\"></span></h1>\n",
    "<div class=\"toc\"><ul class=\"toc-item\"></ul></div>"
   ]
  },
  {
   "cell_type": "code",
   "execution_count": 1,
   "metadata": {},
   "outputs": [],
   "source": [
    "import pdb \n",
    "import glob\n",
    "import copy\n",
    "import math\n",
    "import pickle\n",
    "\n",
    "import numpy as np\n",
    "import pandas as pd\n",
    "import scipy as sp\n",
    "import sklearn\n",
    "\n",
    "import matplotlib as mpl\n",
    "import matplotlib.pyplot as plt\n",
    "import matplotlib.cm as cm\n",
    "import seaborn as sns\n",
    " \n",
    "import missingno  # for visualizing missing data\n",
    "\n",
    "from sklearn.compose import ColumnTransformer\n",
    "from sklearn.pipeline import Pipeline\n",
    "from sklearn.impute import SimpleImputer\n",
    "from sklearn.preprocessing import StandardScaler, OneHotEncoder\n",
    "from sklearn.linear_model import LogisticRegression, \\\n",
    "    LogisticRegressionCV, SGDClassifier\n",
    "from sklearn.model_selection import GridSearchCV\n",
    "from sklearn.decomposition import PCA\n",
    "from sklearn.ensemble import RandomForestClassifier\n",
    "from sklearn.metrics import confusion_matrix, \\\n",
    "    precision_recall_curve, average_precision_score, f1_score, \\\n",
    "    roc_curve, auc\n",
    "\n",
    "from sklearn.externals import joblib\n",
    "from sklearn.utils import resample\n",
    "from sklearn.utils.fixes import signature\n",
    "\n",
    "# Set up pandas table display\n",
    "pd.set_option('display.width', 120)\n",
    "pd.set_option('display.max_columns', 100)\n",
    "pd.set_option('display.notebook_repr_html', True)\n",
    "\n",
    "# Set plotting options\n",
    "sns.set() # Use seaborn defaults for plotting\n",
    "%matplotlib inline "
   ]
  },
  {
   "cell_type": "code",
   "execution_count": 2,
   "metadata": {},
   "outputs": [],
   "source": [
    "data = pd.read_csv('data_raw/LoanStats3c_securev1.csv', \n",
    "                   header=1, low_memory=False)\n",
    "\n",
    "data['default'] = data.loan_status.map({'Fully Paid': 0, 'Charged Off': 1})\n",
    "# Drop loans with indeterminate status\n",
    "data = data.loc[data.default.notnull(),:]"
   ]
  },
  {
   "cell_type": "markdown",
   "metadata": {
    "collapsed": true
   },
   "source": [
    "# Find columns with 0 or 1 unique values\n",
    "constant_or_missing = [col for col in all_data.columns \n",
    "                           if all_data.loc[:,col] \\\n",
    "                                   .value_counts() \\\n",
    "                                   .shape[0] \\\n",
    "                                <= 1] \n",
    "print('Columns to be deleted:\\n{}'.format(constant_or_missing))\n",
    "# Delete those columns\n",
    "all_data = all_data.drop(constant_or_missing, axis=1)"
   ]
  },
  {
   "cell_type": "code",
   "execution_count": 3,
   "metadata": {},
   "outputs": [],
   "source": [
    "# Delete endogenous and irrelevant variables\n",
    "endogenous = ['out_prncp', 'out_prncp_inv', 'total_pymnt', 'total_pymnt_inv', \n",
    "              'total_rec_prncp', 'total_rec_int', 'total_rec_late_fee', 'recoveries', \n",
    "              'collection_recovery_fee', 'last_pymnt_d', 'last_pymnt_amnt', \n",
    "              'debt_settlement_flag', 'int_rate', 'grade', 'sub_grade',\n",
    "              'last_fico_range_low', 'last_fico_range_high', 'last_credit_pull_d']\n",
    "irrelevant = ['url', 'initial_list_status', 'loan_amnt', 'funded_amnt', 'funded_amnt_inv']\n",
    "\n",
    "data = data.drop(['loan_status'] + endogenous + irrelevant, axis='columns')"
   ]
  },
  {
   "cell_type": "code",
   "execution_count": 4,
   "metadata": {},
   "outputs": [
    {
     "name": "stdout",
     "output_type": "stream",
     "text": [
      "Dropped Variables:  id                  214527\n",
      "emp_title            69574\n",
      "desc                 13977\n",
      "title                 1957\n",
      "revol_util            1151\n",
      "zip_code               864\n",
      "earliest_cr_line       636\n",
      "dtype: int64\n"
     ]
    }
   ],
   "source": [
    "# Find categorical variables with more than a given proportion of unique values and drop them\n",
    "unique_values_cat = data.select_dtypes(include='object') \\\n",
    "                        .nunique() \\\n",
    "                        .sort_values(ascending=False) \n",
    "print('Dropped Variables: ', unique_values_cat[unique_values_cat >100])\n",
    "# Drop variables\n",
    "data = data.drop(unique_values_cat[unique_values_cat > 50].index,\n",
    "    axis='columns')\n",
    "\n",
    "X = data.drop('default', axis='columns')\n",
    "y = data.default    "
   ]
  },
  {
   "cell_type": "code",
   "execution_count": 15,
   "metadata": {},
   "outputs": [],
   "source": [
    "# Train-test split (for now only select 1% for training)\n",
    "from sklearn.model_selection import train_test_split\n",
    "X_train, X_test, y_train, y_test = \\\n",
    "    train_test_split(X, y,\n",
    "                     # train_size=0.8,\n",
    "                     train_size=50000, test_size=50000,\n",
    "                     random_state=1,\n",
    "                     shuffle=True, stratify=data.default) "
   ]
  },
  {
   "cell_type": "code",
   "execution_count": 6,
   "metadata": {},
   "outputs": [
    {
     "data": {
      "text/plain": [
       "RandomForestClassifier(bootstrap=True, class_weight='balanced_subsample',\n",
       "            criterion='gini', max_depth=None, max_features='auto',\n",
       "            max_leaf_nodes=None, min_impurity_decrease=0.0,\n",
       "            min_impurity_split=None, min_samples_leaf=1,\n",
       "            min_samples_split=2, min_weight_fraction_leaf=0.0,\n",
       "            n_estimators=100, n_jobs=3, oob_score=True, random_state=1,\n",
       "            verbose=0, warm_start=False)"
      ]
     },
     "execution_count": 6,
     "metadata": {},
     "output_type": "execute_result"
    }
   ],
   "source": [
    "# Imputation and standardization for numeric features\n",
    "numeric_features = X_train.select_dtypes(include=[np.number]).columns\n",
    "numeric_transformer = Pipeline(steps =[\n",
    "    ('imputer', SimpleImputer(strategy='median')),\n",
    "    ('scaler', StandardScaler())]) \n",
    "\n",
    "# Imputation and one-hot encoding for categorical features\n",
    "categorical_features = X_train.select_dtypes(include=[object]).columns\n",
    "categorical_transformer = Pipeline(steps =[\n",
    "    ('imputer', SimpleImputer(strategy='most_frequent')),\n",
    "    ('onehot', OneHotEncoder(handle_unknown='ignore'))])\n",
    "\n",
    "# Combining preprocessing for both kinds of features\n",
    "preprocessor = ColumnTransformer(\n",
    "    transformers=[\n",
    "        ('num', numeric_transformer, numeric_features),\n",
    "        ('cat', categorical_transformer, categorical_features)],\n",
    "    remainder='passthrough', n_jobs=1)\n",
    "\n",
    "# Apply preprocessing\n",
    "X_train_p = preprocessor.fit_transform(X_train)\n",
    "X_test_p = preprocessor.transform(X_test)\n",
    "\n",
    "rf = RandomForestClassifier(n_estimators=100, \n",
    "        oob_score=True, n_jobs=3, random_state=1,\n",
    "        class_weight='balanced_subsample')\n",
    "rf.fit(X_train_p, y_train)"
   ]
  },
  {
   "cell_type": "code",
   "execution_count": 8,
   "metadata": {},
   "outputs": [
    {
     "name": "stdout",
     "output_type": "stream",
     "text": [
      "Predicted   True  False\n",
      "Actual                 \n",
      "True       0.021  0.165\n",
      "False      0.003  0.811\n"
     ]
    }
   ],
   "source": [
    "def plot_confusion_matrix(y_test, y_pred, digits=3):\n",
    "    cf = pd.DataFrame(confusion_matrix(y_test, y_pred,\n",
    "                                      labels=[1,0]),\n",
    "                      columns=['True', 'False'])\n",
    "    cf.index=['True', 'False']\n",
    "    cf.columns.name = 'Predicted'\n",
    "    cf.index.name = 'Actual'\n",
    "    print(round(cf / len(y_test), digits))    \n",
    "# Plot confusion matrix for random forests\n",
    "y_pred_rf = rf.predict(X_test_p)\n",
    "plot_confusion_matrix(y_test, y_pred_rf)"
   ]
  },
  {
   "cell_type": "code",
   "execution_count": 9,
   "metadata": {},
   "outputs": [
    {
     "data": {
      "image/png": "[encoded data removed]",
      "text/plain": [
       "<Figure size 432x288 with 1 Axes>"
      ]
     },
     "metadata": {
      "needs_background": "light"
     },
     "output_type": "display_data"
    }
   ],
   "source": [
    "def plot_roc(y_test, y_pred, model_name=None):\n",
    "    false_positive_rate, true_positive_rate, thresholds = \\\n",
    "        roc_curve(y_test, y_pred_rf)\n",
    "    roc_auc = auc(false_positive_rate, true_positive_rate)\n",
    "    plt.plot(false_positive_rate, true_positive_rate, 'b',\n",
    "             label='AUC = {0:.3f}'.format(roc_auc))\n",
    "    plt.legend(loc='lower right')\n",
    "    plt.plot([0, 1],[0, 1], 'r--')\n",
    "    plt.xlabel('False Positive Rate')\n",
    "    plt.ylabel('True Positive Rate')\n",
    "    title='ROC Curve'\n",
    "    # Add custom title, if specified\n",
    "    if model_name is not None:\n",
    "        title = ', '.join([title, model_name])\n",
    "    plt.title(title)\n",
    "    plt.show();\n",
    "# Plot ROC curve for random forests\n",
    "plot_roc(y_test, y_pred_rf, 'Random Forests')"
   ]
  },
  {
   "cell_type": "code",
   "execution_count": 10,
   "metadata": {},
   "outputs": [
    {
     "data": {
      "text/plain": [
       "0.19771210676835083"
      ]
     },
     "execution_count": 10,
     "metadata": {},
     "output_type": "execute_result"
    }
   ],
   "source": [
    "f1_score(y_test, y_pred_rf)"
   ]
  },
  {
   "cell_type": "code",
   "execution_count": 11,
   "metadata": {},
   "outputs": [],
   "source": [
    "# Get a list of feature names\n",
    "cat_names = preprocessor.named_transformers_['cat'] \\\n",
    "                .named_steps['onehot'].get_feature_names()\n",
    "feature_names = list(numeric_features) + list(cat_names)"
   ]
  },
  {
   "cell_type": "code",
   "execution_count": 12,
   "metadata": {},
   "outputs": [
    {
     "data": {
      "text/plain": [
       "328"
      ]
     },
     "execution_count": 12,
     "metadata": {},
     "output_type": "execute_result"
    }
   ],
   "source": [
    "len(feature_names)"
   ]
  },
  {
   "cell_type": "code",
   "execution_count": 13,
   "metadata": {},
   "outputs": [
    {
     "data": {
      "text/plain": [
       "(297,)"
      ]
     },
     "execution_count": 13,
     "metadata": {},
     "output_type": "execute_result"
    }
   ],
   "source": [
    "rf.feature_importances_.shape"
   ]
  },
  {
   "cell_type": "code",
   "execution_count": 14,
   "metadata": {},
   "outputs": [
    {
     "ename": "ValueError",
     "evalue": "Length of passed values is 297, index implies 328",
     "output_type": "error",
     "traceback": [
      "\u001b[1;31m---------------------------------------------------------------------------\u001b[0m",
      "\u001b[1;31mValueError\u001b[0m                                Traceback (most recent call last)",
      "\u001b[1;32m<ipython-input-14-0aecc4a9ca4d>\u001b[0m in \u001b[0;36m<module>\u001b[1;34m()\u001b[0m\n\u001b[0;32m      2\u001b[0m feature_importances = pd.Series(\n\u001b[0;32m      3\u001b[0m                             \u001b[0mrf\u001b[0m\u001b[1;33m.\u001b[0m\u001b[0mfeature_importances_\u001b[0m\u001b[1;33m,\u001b[0m\u001b[1;33m\u001b[0m\u001b[0m\n\u001b[1;32m----> 4\u001b[1;33m                             index=feature_names) \\\n\u001b[0m\u001b[0;32m      5\u001b[0m                         \u001b[1;33m.\u001b[0m\u001b[0msort_values\u001b[0m\u001b[1;33m(\u001b[0m\u001b[0mascending\u001b[0m\u001b[1;33m=\u001b[0m\u001b[1;32mFalse\u001b[0m\u001b[1;33m)\u001b[0m\u001b[1;33m\u001b[0m\u001b[0m\n\u001b[0;32m      6\u001b[0m \u001b[0mfeature_importances\u001b[0m\u001b[1;33m\u001b[0m\u001b[0m\n",
      "\u001b[1;32m~\\Anaconda3\\lib\\site-packages\\pandas\\core\\series.py\u001b[0m in \u001b[0;36m__init__\u001b[1;34m(self, data, index, dtype, name, copy, fastpath)\u001b[0m\n\u001b[0;32m    260\u001b[0m                             \u001b[1;34m'Length of passed values is {val}, '\u001b[0m\u001b[1;33m\u001b[0m\u001b[0m\n\u001b[0;32m    261\u001b[0m                             \u001b[1;34m'index implies {ind}'\u001b[0m\u001b[1;33m\u001b[0m\u001b[0m\n\u001b[1;32m--> 262\u001b[1;33m                             .format(val=len(data), ind=len(index)))\n\u001b[0m\u001b[0;32m    263\u001b[0m                 \u001b[1;32mexcept\u001b[0m \u001b[0mTypeError\u001b[0m\u001b[1;33m:\u001b[0m\u001b[1;33m\u001b[0m\u001b[0m\n\u001b[0;32m    264\u001b[0m                     \u001b[1;32mpass\u001b[0m\u001b[1;33m\u001b[0m\u001b[0m\n",
      "\u001b[1;31mValueError\u001b[0m: Length of passed values is 297, index implies 328"
     ]
    }
   ],
   "source": [
    "# Compute feature importance and sort\n",
    "feature_importances = pd.Series(\n",
    "                            rf.feature_importances_,\n",
    "                            index=feature_names) \\\n",
    "                        .sort_values(ascending=False)\n",
    "feature_importances"
   ]
  },
  {
   "cell_type": "code",
   "execution_count": null,
   "metadata": {
    "scrolled": true
   },
   "outputs": [],
   "source": [
    "# Learning curve\n",
    "ns = [1000, 10000, 100000, 200000]\n",
    "f1_scores = {}\n",
    "for n in ns:\n",
    "    X_train_p_subset, y_train_subset = resample(\n",
    "        X_train_p, y_train, replace=False, n_samples=n, random_state=1)\n",
    "    rf_subset = RandomForestClassifier(\n",
    "        n_estimators=100, n_jobs=3, random_state=1,\n",
    "        class_weight='balanced_subsample')\n",
    "    rf_subset.fit(X_train_p_subset, y_train_subset)\n",
    "    y_pred_rf_subset = rf_subset.predict(X_test_p)\n",
    "    f1_scores[n] = f1_score(y_test, y_pred_rf_subset)\n",
    "\n",
    "plt.plot(pd.Series(f1_scores))\n",
    "plt.title('Learning Curve')\n",
    "plt.xlabel('Number of Observations')\n",
    "plt.ylabel('F1-score')"
   ]
  },
  {
   "cell_type": "code",
   "execution_count": null,
   "metadata": {},
   "outputs": [],
   "source": []
  }
 ],
 "metadata": {
  "kernelspec": {
   "display_name": "Python 3",
   "language": "python",
   "name": "python3"
  },
  "language_info": {
   "codemirror_mode": {
    "name": "ipython",
    "version": 3
   },
   "file_extension": ".py",
   "mimetype": "text/x-python",
   "name": "python",
   "nbconvert_exporter": "python",
   "pygments_lexer": "ipython3",
   "version": "3.6.6"
  },
  "toc": {
   "base_numbering": 1,
   "nav_menu": {},
   "number_sections": true,
   "sideBar": true,
   "skip_h1_title": true,
   "title_cell": "Table of Contents",
   "title_sidebar": "Contents",
   "toc_cell": true,
   "toc_position": {},
   "toc_section_display": true,
   "toc_window_display": true
  }
 },
 "nbformat": 4,
 "nbformat_minor": 2
}
