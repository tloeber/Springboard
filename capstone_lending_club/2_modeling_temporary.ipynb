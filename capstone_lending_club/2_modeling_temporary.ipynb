{
 "cells": [
  {
   "cell_type": "markdown",
   "metadata": {
    "toc": true
   },
   "source": [
    "<h1>Table of Contents<span class=\"tocSkip\"></span></h1>\n",
    "<div class=\"toc\"><ul class=\"toc-item\"><li><span><a href=\"#Adjusting-threshold\" data-toc-modified-id=\"Adjusting-threshold-1\"><span class=\"toc-item-num\">1&nbsp;&nbsp;</span>Adjusting threshold</a></span><ul class=\"toc-item\"><li><span><a href=\"#Random-Forests\" data-toc-modified-id=\"Random-Forests-1.1\"><span class=\"toc-item-num\">1.1&nbsp;&nbsp;</span>Random Forests</a></span></li><li><span><a href=\"#Load-other-models-and-make-predictions\" data-toc-modified-id=\"Load-other-models-and-make-predictions-1.2\"><span class=\"toc-item-num\">1.2&nbsp;&nbsp;</span>Load other models and make predictions</a></span></li><li><span><a href=\"#Stacking\" data-toc-modified-id=\"Stacking-1.3\"><span class=\"toc-item-num\">1.3&nbsp;&nbsp;</span>Stacking</a></span><ul class=\"toc-item\"><li><span><a href=\"#Logistic-regression\" data-toc-modified-id=\"Logistic-regression-1.3.1\"><span class=\"toc-item-num\">1.3.1&nbsp;&nbsp;</span>Logistic regression</a></span></li><li><span><a href=\"#Random-forests\" data-toc-modified-id=\"Random-forests-1.3.2\"><span class=\"toc-item-num\">1.3.2&nbsp;&nbsp;</span>Random forests</a></span></li></ul></li><li><span><a href=\"#Adjust-the-decision-threshold\" data-toc-modified-id=\"Adjust-the-decision-threshold-1.4\"><span class=\"toc-item-num\">1.4&nbsp;&nbsp;</span>Adjust the decision threshold</a></span><ul class=\"toc-item\"><li><span><a href=\"#Linear-regression\" data-toc-modified-id=\"Linear-regression-1.4.1\"><span class=\"toc-item-num\">1.4.1&nbsp;&nbsp;</span>Linear regression</a></span></li><li><span><a href=\"#SVM\" data-toc-modified-id=\"SVM-1.4.2\"><span class=\"toc-item-num\">1.4.2&nbsp;&nbsp;</span>SVM</a></span></li><li><span><a href=\"#Other\" data-toc-modified-id=\"Other-1.4.3\"><span class=\"toc-item-num\">1.4.3&nbsp;&nbsp;</span>Other</a></span></li></ul></li></ul></li><li><span><a href=\"#XGBoost\" data-toc-modified-id=\"XGBoost-2\"><span class=\"toc-item-num\">2&nbsp;&nbsp;</span>XGBoost</a></span></li></ul></div>"
   ]
  },
  {
   "cell_type": "code",
   "execution_count": 1,
   "metadata": {},
   "outputs": [],
   "source": [
    "import pdb \n",
    "import glob\n",
    "import copy\n",
    "import math\n",
    "import pickle\n",
    "\n",
    "import numpy as np\n",
    "import pandas as pd\n",
    "import scipy as sp\n",
    "\n",
    "import matplotlib as mpl\n",
    "import matplotlib.pyplot as plt\n",
    "import matplotlib.cm as cm\n",
    "import seaborn as sns\n",
    " \n",
    "import missingno  # for visualizing missing data\n",
    " \n",
    "import xgboost as xgb\n",
    "\n",
    "from sklearn.compose import ColumnTransformer\n",
    "from sklearn.pipeline import Pipeline\n",
    "from sklearn.impute import SimpleImputer\n",
    "from sklearn.preprocessing import StandardScaler, OneHotEncoder\n",
    "from sklearn.model_selection import train_test_split, \\\n",
    "    GridSearchCV, ShuffleSplit\n",
    "\n",
    "from sklearn.decomposition import PCA\n",
    "from sklearn.linear_model import LogisticRegression, \\\n",
    "    LogisticRegressionCV, SGDClassifier\n",
    "from sklearn.svm import SVC, LinearSVC\n",
    "from sklearn.ensemble import RandomForestClassifier\n",
    "\n",
    "from sklearn.metrics import confusion_matrix, classification_report, \\\n",
    "    precision_score, recall_score, \\\n",
    "    precision_recall_curve, average_precision_score, f1_score, \\\n",
    "    roc_curve, auc, roc_auc_score, make_scorer,\\\n",
    "    accuracy_score, balanced_accuracy_score\n",
    "\n",
    "from sklearn.externals import joblib\n",
    "from sklearn.utils import resample\n",
    "from sklearn.utils.fixes import signature\n",
    "\n",
    "\n",
    "# Set up pandas table display\n",
    "pd.set_option('display.width', 120)\n",
    "pd.set_option('display.max_columns', 100)\n",
    "pd.set_option('display.notebook_repr_html', True)\n",
    "\n",
    "# Set plotting options\n",
    "sns.set() # Use seaborn defaults for plotting\n",
    "%matplotlib inline \n",
    "\n",
    "\n",
    "# Adjust number of CPU cores to use\n",
    "n_jobs=1"
   ]
  },
  {
   "cell_type": "code",
   "execution_count": 2,
   "metadata": {},
   "outputs": [],
   "source": [
    "# Load preprocessed training and test set, incl. feature names \n",
    "X_train_small = joblib.load('data_processed/X_train_small.joblib')\n",
    "X_test_small = joblib.load('data_processed/X_test_small.joblib')\n",
    "y_train_small = joblib.load('data_processed/y_train_small.joblib')\n",
    "y_test_small = joblib.load('data_processed/y_test_small.joblib')\n",
    "# feature_names_small = joblib.load('data_processed/feature_names_small')"
   ]
  },
  {
   "cell_type": "code",
   "execution_count": 3,
   "metadata": {},
   "outputs": [],
   "source": [
    "# Dictionaries to store results for SMALL data set\n",
    "average_precision_1 = {}\n",
    "classification_reports_1 = {}\n",
    "most_important_features_1 = {} "
   ]
  },
  {
   "cell_type": "markdown",
   "metadata": {},
   "source": [
    "### Adjusting threshold"
   ]
  },
  {
   "cell_type": "markdown",
   "metadata": {},
   "source": [
    "#### Random Forests"
   ]
  },
  {
   "cell_type": "code",
   "execution_count": 4,
   "metadata": {},
   "outputs": [
    {
     "data": {
      "text/plain": [
       "RandomForestClassifier(bootstrap=True, class_weight='balanced_subsample',\n",
       "            criterion='gini', max_depth=None, max_features='auto',\n",
       "            max_leaf_nodes=None, min_impurity_decrease=0.0,\n",
       "            min_impurity_split=None, min_samples_leaf=1,\n",
       "            min_samples_split=2, min_weight_fraction_leaf=0.0,\n",
       "            n_estimators=100, n_jobs=1, oob_score=False, random_state=1,\n",
       "            verbose=0, warm_start=False)"
      ]
     },
     "execution_count": 4,
     "metadata": {},
     "output_type": "execute_result"
    }
   ],
   "source": [
    "rf = RandomForestClassifier(n_estimators=100, \n",
    "        oob_score=False, n_jobs=n_jobs, random_state=1,\n",
    "        class_weight='balanced_subsample')\n",
    "rf.fit(X_train_small, y_train_small)"
   ]
  },
  {
   "cell_type": "markdown",
   "metadata": {},
   "source": [
    "#### Load other models and make predictions"
   ]
  },
  {
   "cell_type": "code",
   "execution_count": 5,
   "metadata": {},
   "outputs": [],
   "source": [
    "# Load models\n",
    "lr_gs_1 = joblib.load('saved_models/lr_gs_1.joblib')\n",
    "svm_lin_gs_1 = joblib.load('saved_models/svm_lin_gs_1.joblib')\n",
    "svm_rbf_gs_1 = joblib.load('saved_models/svm_rbf_gs_1.joblib')\n",
    "svm_poly_gs_1 = joblib.load('saved_models/svm_poly_gs_1.joblib')"
   ]
  },
  {
   "cell_type": "code",
   "execution_count": 6,
   "metadata": {},
   "outputs": [],
   "source": [
    "# # Split the test set into validation set and proper test set for stacking\n",
    "# X_val, X_t, y_val, y_t = train_test_split(\n",
    "#     X_test_small, y_test_small, train_size=0.5, test_size=0.5,\n",
    "#     stratify=y_test_small, random_state=1)"
   ]
  },
  {
   "cell_type": "code",
   "execution_count": 7,
   "metadata": {},
   "outputs": [],
   "source": [
    "## Predicted probability or distance from separating hyperplane \n",
    "\n",
    "# For TRAINING data:\n",
    "y_proba_rf_tr = rf.predict_proba(X_train_small)[:, 1]\n",
    "y_proba_lr_tr = lr_gs_1.predict_proba(X_train_small)[:, 1]\n",
    "y_dist_svm_lin_tr = svm_lin_gs_1.decision_function(X_train_small)\n",
    "y_dist_svm_rbf_tr = svm_rbf_gs_1.decision_function(X_train_small)\n",
    "y_dist_svm_poly_tr = svm_poly_gs_1.decision_function(X_train_small)"
   ]
  },
  {
   "cell_type": "code",
   "execution_count": 8,
   "metadata": {},
   "outputs": [],
   "source": [
    "# For TEST data:\n",
    "y_proba_rf_1 = rf.predict_proba(X_test_small)[:, 1]\n",
    "y_proba_lr_1 = lr_gs_1.predict_proba(X_test_small)[:, 1]\n",
    "y_dist_svm_lin_1 = svm_lin_gs_1.decision_function(X_test_small)\n",
    "y_dist_svm_rbf_1 = svm_rbf_gs_1.decision_function(X_test_small)\n",
    "y_dist_svm_poly_1 = svm_poly_gs_1.decision_function(X_test_small)"
   ]
  },
  {
   "cell_type": "markdown",
   "metadata": {},
   "source": [
    "#### Stacking"
   ]
  },
  {
   "cell_type": "code",
   "execution_count": 9,
   "metadata": {},
   "outputs": [],
   "source": [
    "## Add predictions as additional feature\n",
    "# For TRAINING data\n",
    "X_train_small_stack = np.hstack(\n",
    "   (X_train_small,\n",
    "    y_proba_rf_tr[:, np.newaxis],\n",
    "    y_proba_lr_tr[:, np.newaxis],\n",
    "    y_dist_svm_lin_tr[:, np.newaxis],\n",
    "    y_dist_svm_poly_tr[:, np.newaxis],\n",
    "    y_dist_svm_poly_tr[:, np.newaxis]))"
   ]
  },
  {
   "cell_type": "code",
   "execution_count": 10,
   "metadata": {},
   "outputs": [],
   "source": [
    "# For TEST data\n",
    "X_test_small_stack = np.hstack(\n",
    "   (X_test_small,\n",
    "    y_proba_rf_1[:, np.newaxis],\n",
    "    y_proba_lr_1[:, np.newaxis],\n",
    "    y_dist_svm_lin_1[:, np.newaxis],\n",
    "    y_dist_svm_poly_1[:, np.newaxis],\n",
    "    y_dist_svm_poly_1[:, np.newaxis]))"
   ]
  },
  {
   "cell_type": "markdown",
   "metadata": {},
   "source": [
    "##### Logistic regression"
   ]
  },
  {
   "cell_type": "code",
   "execution_count": 16,
   "metadata": {},
   "outputs": [
    {
     "data": {
      "text/plain": [
       "0.350441783918724"
      ]
     },
     "execution_count": 16,
     "metadata": {},
     "output_type": "execute_result"
    }
   ],
   "source": [
    "# Fit stacked model to training data\n",
    "stacker_lr = LogisticRegressionCV(Cs=10, class_weight='balanced', cv=10,\n",
    "                                  scoring='average_precision',\n",
    "                                   max_iter=10000)\n",
    "stacker_lr.fit(X_train_small_stack, y_train_small)\n",
    "\n",
    "# Make predictions with stacked model for test data\n",
    "y_stack_lr = stacker_lr.predict_proba(X_test_small_stack)[:, 1]\n",
    "\n",
    "average_precision_score(y_test_small, y_stack_lr)"
   ]
  },
  {
   "cell_type": "code",
   "execution_count": 28,
   "metadata": {},
   "outputs": [
    {
     "data": {
      "text/plain": [
       "array([[10.28210531,  0.02022592,  0.05572553,  0.0443575 ,  0.0443575 ]])"
      ]
     },
     "execution_count": 28,
     "metadata": {},
     "output_type": "execute_result"
    }
   ],
   "source": [
    "# View coefficients from individual learners\n",
    "stacker_lr.coef_[:,-5:]"
   ]
  },
  {
   "cell_type": "code",
   "execution_count": 34,
   "metadata": {
    "scrolled": true
   },
   "outputs": [
    {
     "data": {
      "text/plain": [
       "83     -0.095091\n",
       "84     -0.089276\n",
       "7      -0.079436\n",
       "16     -0.064119\n",
       "105    -0.055367\n",
       "53     -0.049490\n",
       "15     -0.046306\n",
       "43     -0.040108\n",
       "48     -0.039527\n",
       "9      -0.031394\n",
       "115    -0.031268\n",
       "98     -0.028940\n",
       "95     -0.028152\n",
       "42     -0.026458\n",
       "67     -0.025667\n",
       "18     -0.024552\n",
       "74     -0.024404\n",
       "57     -0.023492\n",
       "49     -0.022145\n",
       "31     -0.020425\n",
       "61     -0.019768\n",
       "116    -0.018894\n",
       "52     -0.018333\n",
       "3      -0.018222\n",
       "81     -0.017477\n",
       "113    -0.017167\n",
       "69     -0.016378\n",
       "47     -0.015466\n",
       "44     -0.014811\n",
       "64     -0.013956\n",
       "         ...    \n",
       "58      0.015882\n",
       "111     0.016119\n",
       "0       0.016336\n",
       "72      0.016427\n",
       "20      0.017826\n",
       "24      0.018468\n",
       "78      0.019052\n",
       "89      0.019080\n",
       "60      0.019684\n",
       "120     0.020226\n",
       "59      0.020955\n",
       "26      0.022169\n",
       "71      0.022821\n",
       "28      0.025442\n",
       "99      0.028855\n",
       "39      0.031170\n",
       "91      0.031838\n",
       "6       0.031891\n",
       "11      0.035510\n",
       "122     0.044357\n",
       "123     0.044357\n",
       "19      0.044403\n",
       "100     0.047347\n",
       "14      0.048003\n",
       "121     0.055726\n",
       "90      0.057813\n",
       "21      0.057827\n",
       "93      0.089542\n",
       "17      0.095802\n",
       "119    10.282105\n",
       "Length: 124, dtype: float64"
      ]
     },
     "execution_count": 34,
     "metadata": {},
     "output_type": "execute_result"
    }
   ],
   "source": [
    "# View most important coefficients\n",
    "pd.Series(stacker_lr.coef_.flatten()) \\\n",
    "    .sort_values()"
   ]
  },
  {
   "cell_type": "code",
   "execution_count": 18,
   "metadata": {},
   "outputs": [
    {
     "data": {
      "text/plain": [
       "(10000, 124)"
      ]
     },
     "execution_count": 18,
     "metadata": {},
     "output_type": "execute_result"
    }
   ],
   "source": [
    "X_test_small_stack.shape"
   ]
  },
  {
   "cell_type": "code",
   "execution_count": 19,
   "metadata": {},
   "outputs": [
    {
     "data": {
      "text/plain": [
       "(10000, 119)"
      ]
     },
     "execution_count": 19,
     "metadata": {},
     "output_type": "execute_result"
    }
   ],
   "source": [
    "X_test_small.shape"
   ]
  },
  {
   "cell_type": "markdown",
   "metadata": {},
   "source": [
    "##### Random forests"
   ]
  },
  {
   "cell_type": "code",
   "execution_count": 15,
   "metadata": {},
   "outputs": [
    {
     "data": {
      "text/plain": [
       "0.3187370524374364"
      ]
     },
     "execution_count": 15,
     "metadata": {},
     "output_type": "execute_result"
    }
   ],
   "source": [
    "# Fit stacked model to training data\n",
    "stacker_rf = RandomForestClassifier(n_estimators=100, \n",
    "        oob_score=False, n_jobs=n_jobs, random_state=1,\n",
    "        class_weight='balanced_subsample')\n",
    "stacker_rf.fit(X_train_small_stack, y_train_small)\n",
    "\n",
    "# Make predictions with stacked model for test data\n",
    "y_stack_rf = stacker_rf.predict_proba(X_test_small_stack)[:, 1]\n",
    "\n",
    "average_precision_score(y_test_small, y_stack_rf)"
   ]
  },
  {
   "cell_type": "code",
   "execution_count": 14,
   "metadata": {},
   "outputs": [
    {
     "name": "stdout",
     "output_type": "stream",
     "text": [
      "0.3754287919433627\n",
      "0.3408734704057727\n",
      "0.37711824602853794\n",
      "0.38893719706733143\n",
      "0.3809588272345418\n"
     ]
    }
   ],
   "source": [
    "predictions = [y_proba_lr_1, y_proba_rf_1, y_dist_svm_lin_1, \n",
    "               y_dist_svm_rbf_1, y_dist_svm_poly_1]\n",
    "for prediction in predictions:\n",
    "    print(average_precision_score(y_test_small, prediction))"
   ]
  },
  {
   "cell_type": "code",
   "execution_count": null,
   "metadata": {},
   "outputs": [],
   "source": []
  },
  {
   "cell_type": "code",
   "execution_count": null,
   "metadata": {},
   "outputs": [],
   "source": []
  },
  {
   "cell_type": "code",
   "execution_count": null,
   "metadata": {},
   "outputs": [],
   "source": [
    "## Make prediction with stacked model for test set\n",
    "# First we need the predictions of the individual models\n",
    "y_proba_rf_te = rf.predict_proba(X_t)[:, 1]\n",
    "y_proba_lr_te = lr_gs_1.predict_proba(X_t)[:, 1]\n",
    "y_dist_svm_lin_te = svm_lin_gs_1.decision_function(X_t)\n",
    "y_dist_svm_rbf_te = svm_rbf_gs_1.decision_function(X_t)\n",
    "y_dist_svm_poly_te = svm_poly_gs_1.decision_function(X_t)"
   ]
  },
  {
   "cell_type": "code",
   "execution_count": null,
   "metadata": {},
   "outputs": [],
   "source": [
    "# Concatenate predictions for test set\n",
    "X_stack_te = pd.DataFrame({\n",
    "    'rf': y_proba_rf_t,\n",
    "    'lr': y_proba_lr_t,\n",
    "    'svm_lin': y_dist_svm_lin_t,\n",
    "    'svm_rbf': y_dist_svm_poly_t,\n",
    "    'svm_poly': y_dist_svm_poly_t})"
   ]
  },
  {
   "cell_type": "code",
   "execution_count": null,
   "metadata": {},
   "outputs": [],
   "source": [
    "y_st_lr = stacker_lr.predict(X_t)"
   ]
  },
  {
   "cell_type": "code",
   "execution_count": null,
   "metadata": {},
   "outputs": [],
   "source": []
  },
  {
   "cell_type": "markdown",
   "metadata": {},
   "source": [
    "#### Adjust the decision threshold"
   ]
  },
  {
   "cell_type": "code",
   "execution_count": null,
   "metadata": {},
   "outputs": [],
   "source": [
    "# Define function to make a prediction with custom threshold\n",
    "def custom_prediction(proba_or_dist, threshold):\n",
    "    \"\"\"\n",
    "    Makes predictions for binary classification from probabilities or distance\n",
    "    to separating hyperplane, given a custom threshold.\n",
    "    \"\"\"\n",
    "\n",
    "    return (proba_or_dist > threshold).astype(int)\n",
    "\n",
    "\n",
    "# Define function to plot effect of threshold on precision and recall\n",
    "def plot_threshold(proba_or_dist, y_true, thresholds=None):\n",
    "    \"\"\"\n",
    "    Plot precision and recall as a function of decision threshold for an array of\n",
    "    probabilities or distances to separating hyperplane.\n",
    "\n",
    "    If no custom list of thresholds is supplied, it defaults to a grid of length \n",
    "    100, spanning between the minimum and maximum probability/distance. (In\n",
    "    order to avoid thresholds that assign all observations to a single class, \n",
    "    the smallest and largest thresholds are offset by 0.01 from the minimum and \n",
    "    maximum probability/distance.)\n",
    "\n",
    "    Parameters\n",
    "    ----------\n",
    "    proba_or_dist: array-like\n",
    "        Probabilities or distance from separating hyperplane\n",
    "    y_true: array-like\n",
    "        True values of target variable.\n",
    "    thresholds: list-like\n",
    "        Custom thresholds. Optional.  \n",
    "        \n",
    "    Returns\n",
    "    -------\n",
    "        None\n",
    "    \"\"\"\n",
    "    \n",
    "    # Initialize dictionaries to store results\n",
    "    classes = {}\n",
    "    precisions = {}\n",
    "    recalls = {}\n",
    "            \n",
    "    # If no custom thresholds were passed, make grid between minimum and maximum\n",
    "    # values for probability or distance.\n",
    "    if thresholds is None:\n",
    "        thresholds = np.linspace(proba_or_dist.min() + 0.01,\n",
    "                                 proba_or_dist.max() - 0.01, 100)\n",
    "\n",
    "    # Iterate over thresholds\n",
    "    for threshold in thresholds:\n",
    "        # Classify as 1 if probability/distance is greater than threshold, else 0\n",
    "        classes[threshold] = custom_prediction(proba_or_dist, threshold)\n",
    "\n",
    "        # Compute precision and recall\n",
    "        precisions[threshold] = precision_score(y_true, classes[threshold])\n",
    "        recalls[threshold] = recall_score(y_true, classes[threshold])\n",
    "\n",
    "    # Combine precision and recall into a data frame, indexed by threshold\n",
    "    pr_rec = pd.DataFrame({'precision': precisions, 'recall': recalls})\n",
    "\n",
    "    # Plot results\n",
    "    pr_rec.plot()\n",
    "    plt.title('Effect of threshold on Precision and Recall')\n",
    "    plt.xlabel('Threshold')\n",
    "    plt.ylabel('Precision\\nRecall')\n",
    "    plt.show()"
   ]
  },
  {
   "cell_type": "markdown",
   "metadata": {},
   "source": [
    "##### Linear regression"
   ]
  },
  {
   "cell_type": "code",
   "execution_count": null,
   "metadata": {},
   "outputs": [],
   "source": [
    "# Plot effect of probability threshold for linear regression\n",
    "plot_threshold(proba_or_dist=y_proba_lr_1, y_true=y_test_small)"
   ]
  },
  {
   "cell_type": "code",
   "execution_count": null,
   "metadata": {},
   "outputs": [],
   "source": [
    "y_lr_custom = custom_prediction(y_proba_lr_1, 0.4)\n",
    "print(classification_report(y_test_small, y_lr_custom))"
   ]
  },
  {
   "cell_type": "code",
   "execution_count": null,
   "metadata": {},
   "outputs": [],
   "source": [
    "y_lr_custom = custom_prediction(y_proba_lr_1, 0.4)\n",
    "def plot_confusion_matrix(y_test, y_pred, digits=3):\n",
    "    cf = pd.DataFrame(confusion_matrix(y_test, y_pred,\n",
    "                                      labels=[1,0]),\n",
    "                      columns=['True', 'False'])\n",
    "    cf.index=['True', 'False']\n",
    "    cf.columns.name = 'Predicted'\n",
    "    cf.index.name = 'Actual'\n",
    "    print(round(cf / len(y_test), digits))    \n",
    "\n",
    "# Plot confusion matrix \n",
    "plot_confusion_matrix(y_test_small, y_lr_custom)"
   ]
  },
  {
   "cell_type": "markdown",
   "metadata": {},
   "source": [
    "##### SVM"
   ]
  },
  {
   "cell_type": "code",
   "execution_count": null,
   "metadata": {},
   "outputs": [],
   "source": [
    "# Plot effect of probability threshold for linear regression\n",
    "plot_threshold(proba_or_dist=y_dist_svm_lin_1, y_true=y_test_small)"
   ]
  },
  {
   "cell_type": "code",
   "execution_count": null,
   "metadata": {},
   "outputs": [],
   "source": [
    "y_svm_lin_custom = custom_prediction(y_dist_svm_lin_1, -0.5)\n",
    "print(classification_report(y_test_small, y_svm_lin_custom))"
   ]
  },
  {
   "cell_type": "code",
   "execution_count": null,
   "metadata": {},
   "outputs": [],
   "source": [
    "y_svm_lin_custom = custom_prediction(y_dist_svm_lin_1, -0.4)\n",
    "def plot_confusion_matrix(y_test, y_pred, digits=3):\n",
    "    cf = pd.DataFrame(confusion_matrix(y_test, y_pred,\n",
    "                                      labels=[1,0]),\n",
    "                      columns=['True', 'False'])\n",
    "    cf.index=['True', 'False']\n",
    "    cf.columns.name = 'Predicted'\n",
    "    cf.index.name = 'Actual'\n",
    "    print(round(cf / len(y_test), digits))    \n",
    "\n",
    "# Plot confusion matrix \n",
    "plot_confusion_matrix(y_test_small, y_svm_lin_custom)"
   ]
  },
  {
   "cell_type": "markdown",
   "metadata": {},
   "source": [
    "##### Other"
   ]
  },
  {
   "cell_type": "code",
   "execution_count": null,
   "metadata": {},
   "outputs": [],
   "source": [
    "#     def plot_roc(y_test, y_pred, model_name=None):\n",
    "#         false_positive_rate, true_positive_rate, thresholds = \\\n",
    "#             roc_curve(y_test, y_pred)\n",
    "#         roc_auc = auc(false_positive_rate, true_positive_rate)\n",
    "#         plt.plot(false_positive_rate, true_positive_rate, 'b',\n",
    "#                  label='AUC = {0:.3f}'.format(roc_auc))\n",
    "#         plt.legend(loc='lower right')\n",
    "#         plt.plot([0, 1],[0, 1], 'r--')\n",
    "#         plt.xlabel('False Positive Rate')\n",
    "#         plt.ylabel('True Positive Rate')\n",
    "#         title='ROC Curve'\n",
    "#         # Add custom title, if specified\n",
    "#         if model_name is not None:\n",
    "#             title = ', '.join([title, model_name])\n",
    "#         plt.title(title)\n",
    "#         plt.show();\n",
    "\n",
    "#     # Plot ROC curve for random forests\n",
    "#     y_proba_rf = rf.predict_proba(X_test_p)[:, 1]\n",
    "#     plot_roc(y_test, y_proba_rf, 'Random Forests')\n",
    "\n",
    "\n",
    "#     def plot_precision_recall(y_test, y_pred):\n",
    "#         \"\"\"Plots precision-recall curve.\"\"\"\n",
    "\n",
    "#         average_precision = average_precision_score(y_test, y_pred)\n",
    "#         precision, recall, _ = precision_recall_curve(y_test, y_pred)\n",
    "#         # pdb.set_trace()\n",
    "#         step_kwargs = ({'step': 'post'}\n",
    "#                        if 'step' in signature(plt.fill_between).parameters\n",
    "#                        else {})\n",
    "#         plt.step(recall, precision, color='b', alpha=0.2,\n",
    "#                  where='post')\n",
    "#         plt.figtext(0.2, 0.2, 'Average Precision={0:0.3f}' \\\n",
    "#                                         .format(average_precision))\n",
    "#         plt.fill_between(recall, precision, alpha=0.2, color='b', **step_kwargs)\n",
    "\n",
    "#         plt.xlabel('Recall')\n",
    "#         plt.ylabel('Precision')\n",
    "#         plt.ylim([0.0, 1.05])\n",
    "#         plt.xlim([0.0, 1.0])\n",
    "#         plt.title('Precision-Recall curve')\n",
    "#         plt.show();\n",
    "\n",
    "#     # Plot precision recall curve for random forests classifier\n",
    "#     plot_precision_recall(y_test, y_proba_rf)\n",
    "\n",
    "#     # Get a list of feature names\n",
    "#     cat_names = preprocessor.named_transformers_['cat'] \\\n",
    "#                     .named_steps['onehot'].get_feature_names()\n",
    "#     feature_names = list(numeric_features) + list(cat_names)\n",
    "#     # Compute feature importance and sort\n",
    "#     feature_importances = pd.Series(\n",
    "#                                 rf.feature_importances_,\n",
    "#                                 index=feature_names) \\\n",
    "#                             .sort_values(ascending=False)\n",
    "#     print(feature_importances)"
   ]
  },
  {
   "cell_type": "markdown",
   "metadata": {},
   "source": [
    "### XGBoost"
   ]
  },
  {
   "cell_type": "code",
   "execution_count": null,
   "metadata": {},
   "outputs": [],
   "source": [
    "data_xgb_train = xgb.DMatrix(data=X_train_small, label=y_train_small)\n",
    "# X_train_small_dmat = xgb.DMatrix(X_train_small)\n",
    "# X_test_small_dmat = xgb.DMatrix(X_test_small)\n",
    "# y_train_small_dmat = xgb.DMatrix(y_train_small[:, np.newaxis])\n",
    "# y_test_small_dmat = xgb.DMatrix(y_test_small)"
   ]
  },
  {
   "cell_type": "code",
   "execution_count": null,
   "metadata": {},
   "outputs": [],
   "source": [
    "# # specify parameters via map\n",
    "# param = {'objective':'binary:logistic', 'eval_metric':'map',\n",
    "#          'scale_pos_weight':5  # Balance class weight\n",
    "#          'seed':0}\n",
    "# num_round = 2\n",
    "\n",
    "# train(param, X_train_small, num_round)\n",
    "# y_pred = xgb_.predict(X_test_small)"
   ]
  },
  {
   "cell_type": "code",
   "execution_count": null,
   "metadata": {},
   "outputs": [],
   "source": [
    "xgb_ = xgb.XGBClassifier(objective='binary:logistic', eval_metric='map',\n",
    "                         scale_pos_weight=5,  # Balance class weight\n",
    "                         seed=0, nthread=n_jobs)\n",
    "# xgb_.fit(X_train_small, y_train_small)\n",
    "\n",
    "# Parameters to search over\n",
    "param_grid = {'max_depth'= [3, 5, 7, 10],  # Control complexity\n",
    "              'min_child_weight'= , # The higher, the more regularization\n",
    "              'gamma'= , # Higher value leads to fewer splits for a given node (i.e. more regularization) if\n",
    "              'subsample'= [0.5, 0.75, 1],  # Fraction of observations per tree \n",
    "              'colsample_bytree': [0.5, 0.75, 1]} # Fraction of features per tree\n",
    "# Grid search\n",
    "xgb_gs_1 = GridSearchCV(xgb_1, param_grid=param_grid, \n",
    "                       scoring='average_precision',\n",
    "                       return_train_score=True,\n",
    "                       n_jobs=n_jobs, cv=3, verbose=5)\n",
    "xgb_gs_1.fit(X_train_small, y_train_small) \n",
    "\n",
    "# Save model\n",
    "joblib.dump(xgb_gs_1, 'saved_models/xgb_gs_1.joblib')\n",
    "\n",
    "# Predictions\n",
    "y_proba_xgb = xgb_.predict_proba(X_test_small)[:, 1]\n",
    "average_precision_score(y_test_small, y_proba_xgb)"
   ]
  },
  {
   "cell_type": "code",
   "execution_count": null,
   "metadata": {},
   "outputs": [],
   "source": [
    "xgb1 = XGBClassifier(\n",
    " learning_rate =0.1,\n",
    " n_estimators=1000,\n",
    " max_depth=5,\n",
    " min_child_weight=1,\n",
    " gamma=0,\n",
    " subsample=0.8,\n",
    " colsample_bytree=0.8,\n",
    " objective= 'binary:logistic',\n",
    " nthread=4,\n",
    " scale_pos_weight=1,\n",
    " seed=27)\n",
    "modelfit(xgb1, train, predictors)"
   ]
  },
  {
   "cell_type": "code",
   "execution_count": null,
   "metadata": {},
   "outputs": [],
   "source": [
    "params = {'objective':'binary:logistic', 'eval_metric':'map',\n",
    "         'scale_pos_weight':5,  # Balance class weight\n",
    "         'seed':0}\n",
    "xgb_cv = xgb.cv(dtrain=data_xgb_train, params=params, nfold=3,\n",
    "                num_boost_round=50, as_pandas=True)"
   ]
  },
  {
   "cell_type": "code",
   "execution_count": null,
   "metadata": {},
   "outputs": [],
   "source": [
    "y_xgb_cv = xgb_cv.predict(X_test_small)\n",
    "average_precision_score(y_test_small, y_xgb_cv)"
   ]
  },
  {
   "cell_type": "code",
   "execution_count": null,
   "metadata": {},
   "outputs": [],
   "source": [
    "xgb_cv"
   ]
  }
 ],
 "metadata": {
  "kernelspec": {
   "display_name": "Python 3",
   "language": "python",
   "name": "python3"
  },
  "language_info": {
   "codemirror_mode": {
    "name": "ipython",
    "version": 3
   },
   "file_extension": ".py",
   "mimetype": "text/x-python",
   "name": "python",
   "nbconvert_exporter": "python",
   "pygments_lexer": "ipython3",
   "version": "3.6.6"
  },
  "toc": {
   "base_numbering": 1,
   "nav_menu": {},
   "number_sections": true,
   "sideBar": true,
   "skip_h1_title": true,
   "title_cell": "Table of Contents",
   "title_sidebar": "Contents",
   "toc_cell": true,
   "toc_position": {},
   "toc_section_display": true,
   "toc_window_display": true
  }
 },
 "nbformat": 4,
 "nbformat_minor": 2
}
