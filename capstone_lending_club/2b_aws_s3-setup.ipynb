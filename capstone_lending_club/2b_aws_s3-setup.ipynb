{
 "cells": [
  {
   "cell_type": "markdown",
   "metadata": {
    "toc": true
   },
   "source": [
    "<h1>Table of Contents<span class=\"tocSkip\"></span></h1>\n",
    "<div class=\"toc\"><ul class=\"toc-item\"><li><span><a href=\"#Create-S3-bucket\" data-toc-modified-id=\"Create-S3-bucket-1\"><span class=\"toc-item-num\">1&nbsp;&nbsp;</span>Create S3 bucket</a></span></li></ul></div>"
   ]
  },
  {
   "cell_type": "markdown",
   "metadata": {},
   "source": [
    "In this note book, we will create an S3 bucket on AWS and up load our preprocessed data set. We will then be able to simply download these data onto our EC2 instance, which we will use to run the more computationally expensive models."
   ]
  },
  {
   "cell_type": "code",
   "execution_count": null,
   "metadata": {},
   "outputs": [],
   "source": [
    "import bptp3\n",
    "import uuid"
   ]
  },
  {
   "cell_type": "markdown",
   "metadata": {},
   "source": [
    "## Create S3 bucket"
   ]
  },
  {
   "cell_type": "markdown",
   "metadata": {},
   "source": [
    "We will use Boto 3, the AWS SDK for Python, in order to interact with S3 from our notebooks."
   ]
  },
  {
   "cell_type": "code",
   "execution_count": 1,
   "metadata": {},
   "outputs": [],
   "source": [
    "# Set up boto3 to interact with S3\n",
    "s3 = boto3.resource('s3')"
   ]
  },
  {
   "cell_type": "markdown",
   "metadata": {},
   "source": [
    "Since bucket names need to be globally unique, I will follow https://realpython.com/python-boto3-aws-s3/ to define a function that uses uuid library in order to append a universally unique identifier to the descriptive bucket name."
   ]
  },
  {
   "cell_type": "code",
   "execution_count": 2,
   "metadata": {},
   "outputs": [
    {
     "name": "stdout",
     "output_type": "stream",
     "text": [
      "lending-club-a7b2c3e3-07f7-4444-b258-5bb63c282398\n"
     ]
    }
   ],
   "source": [
    "def create_bucket_name(bucket_prefix):\n",
    "    \"\"\"Try to create globally unique bucket name.\"\"\"\n",
    "    return(''.join([bucket_prefix, str(uuid.uuid4())]))\n",
    "\n",
    "bucket_name = create_bucket_name('lending-club-')\n",
    "print(bucket_name)"
   ]
  },
  {
   "cell_type": "markdown",
   "metadata": {},
   "source": [
    "Now we are ready to create the bucket."
   ]
  },
  {
   "cell_type": "code",
   "execution_count": 3,
   "metadata": {},
   "outputs": [
    {
     "data": {
      "text/plain": [
       "s3.Bucket(name='lending-club-a7b2c3e3-07f7-4444-b258-5bb63c282398')"
      ]
     },
     "execution_count": 3,
     "metadata": {},
     "output_type": "execute_result"
    }
   ],
   "source": [
    "lc_bucket = s3.create_bucket(Bucket=bucket_name)\n",
    "lc_bucket"
   ]
  },
  {
   "cell_type": "code",
   "execution_count": 4,
   "metadata": {},
   "outputs": [
    {
     "name": "stdout",
     "output_type": "stream",
     "text": [
      "s3.Bucket(name='lending-club-1a6fe642-4a35-4878-a3e1-0fee33683a9f')\n",
      "s3.Bucket(name='lending-club-23452399-7068-40a5-8b74-889ed5372d4a')\n",
      "s3.Bucket(name='lending-club-a7b2c3e3-07f7-4444-b258-5bb63c282398')\n"
     ]
    }
   ],
   "source": [
    "# Print all buckets\n",
    "for b in s3.buckets.all():\n",
    "    print(b)"
   ]
  },
  {
   "cell_type": "code",
   "execution_count": 21,
   "metadata": {},
   "outputs": [],
   "source": [
    "# # Upload test file\n",
    "# s3.Bucket(bucket_name) \\\n",
    "#     .upload_file(Filename='data_processed/X_train.joblib',\n",
    "#                  Key='X_train_small.joblib')"
   ]
  },
  {
   "cell_type": "code",
   "execution_count": 8,
   "metadata": {},
   "outputs": [],
   "source": [
    "# Upload preprocessed training and test sets to S3 bucket\n",
    "filenames = ['X_train', 'X_test', 'y_train', 'y_test', 'feature_names']\n",
    "for filename in filenames:\n",
    "    s3.Bucket(bucket_name).upload_file(\n",
    "        Filename=f'data_processed/{filename}.joblib',\n",
    "        Key=f'{filename}.joblib')"
   ]
  },
  {
   "cell_type": "code",
   "execution_count": 22,
   "metadata": {},
   "outputs": [],
   "source": [
    "# # Download file\n",
    "# s3.Object(bucket_name, 'X_train_small.joblib') \\\n",
    "#     .download_file('X_train_small.joblib')"
   ]
  },
  {
   "cell_type": "code",
   "execution_count": 22,
   "metadata": {},
   "outputs": [],
   "source": [
    "# Download files\n",
    "filenames = ['X_train', 'X_test', 'y_train', 'y_test', 'feature_names']\n",
    "for filename in filenames:\n",
    "    s3.Object(bucket_name, f'{filename}.joblib') \\\n",
    "        .download_file(f'data_processed/{filename}.joblib')"
   ]
  }
 ],
 "metadata": {
  "kernelspec": {
   "display_name": "Python 3",
   "language": "python",
   "name": "python3"
  },
  "language_info": {
   "codemirror_mode": {
    "name": "ipython",
    "version": 3
   },
   "file_extension": ".py",
   "mimetype": "text/x-python",
   "name": "python",
   "nbconvert_exporter": "python",
   "pygments_lexer": "ipython3",
   "version": "3.6.7"
  },
  "toc": {
   "base_numbering": 1,
   "nav_menu": {},
   "number_sections": true,
   "sideBar": true,
   "skip_h1_title": true,
   "title_cell": "Table of Contents",
   "title_sidebar": "Contents",
   "toc_cell": true,
   "toc_position": {},
   "toc_section_display": true,
   "toc_window_display": true
  }
 },
 "nbformat": 4,
 "nbformat_minor": 2
}
