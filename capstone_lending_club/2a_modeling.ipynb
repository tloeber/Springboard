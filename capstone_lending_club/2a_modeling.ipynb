{
 "cells": [
  {
   "cell_type": "markdown",
   "metadata": {
    "toc": true
   },
   "source": [
    "<h1>Table of Contents<span class=\"tocSkip\"></span></h1>\n",
    "<div class=\"toc\"><ul class=\"toc-item\"><li><span><a href=\"#Splitting-and-Preprocessing\" data-toc-modified-id=\"Splitting-and-Preprocessing-1\"><span class=\"toc-item-num\">1&nbsp;&nbsp;</span>Splitting and Preprocessing</a></span></li><li><span><a href=\"#Predictive-models\" data-toc-modified-id=\"Predictive-models-2\"><span class=\"toc-item-num\">2&nbsp;&nbsp;</span>Predictive models</a></span></li><li><span><a href=\"#Logistic-regression\" data-toc-modified-id=\"Logistic-regression-3\"><span class=\"toc-item-num\">3&nbsp;&nbsp;</span>Logistic regression</a></span><ul class=\"toc-item\"><li><span><a href=\"#Re-estimating-model-with-funded-amount-dropped\" data-toc-modified-id=\"Re-estimating-model-with-funded-amount-dropped-3.1\"><span class=\"toc-item-num\">3.1&nbsp;&nbsp;</span>Re-estimating model with funded amount dropped</a></span></li></ul></li><li><span><a href=\"#Random-Forests\" data-toc-modified-id=\"Random-Forests-4\"><span class=\"toc-item-num\">4&nbsp;&nbsp;</span>Random Forests</a></span></li><li><span><a href=\"#XGBoost\" data-toc-modified-id=\"XGBoost-5\"><span class=\"toc-item-num\">5&nbsp;&nbsp;</span>XGBoost</a></span></li><li><span><a href=\"#Save/Load\" data-toc-modified-id=\"Save/Load-6\"><span class=\"toc-item-num\">6&nbsp;&nbsp;</span>Save/Load</a></span></li></ul></div>"
   ]
  },
  {
   "cell_type": "code",
   "execution_count": 5,
   "metadata": {},
   "outputs": [
    {
     "name": "stdout",
     "output_type": "stream",
     "text": [
      "The line_profiler extension is already loaded. To reload it, use:\n",
      "  %reload_ext line_profiler\n"
     ]
    }
   ],
   "source": [
    "# Importing libraries\n",
    "import pdb \n",
    "import glob\n",
    "import copy\n",
    "import math\n",
    "import pickle\n",
    "import csv\n",
    "\n",
    "import numpy as np\n",
    "import pandas as pd\n",
    "import scipy as sp\n",
    "\n",
    "import matplotlib as mpl\n",
    "import matplotlib.pyplot as plt\n",
    "import matplotlib.cm as cm\n",
    "import seaborn as sns\n",
    " \n",
    "from sklearn.compose import ColumnTransformer\n",
    "from sklearn.pipeline import Pipeline\n",
    "from sklearn.impute import SimpleImputer\n",
    "from sklearn.preprocessing import StandardScaler, OneHotEncoder\n",
    "from sklearn.model_selection import train_test_split, \\\n",
    "    StratifiedShuffleSplit, cross_val_score, StratifiedKFold, \\\n",
    "    GridSearchCV, RandomizedSearchCV\n",
    "\n",
    "from sklearn.decomposition import PCA\n",
    "from sklearn.linear_model import LogisticRegression, \\\n",
    "    LogisticRegressionCV, SGDClassifier\n",
    "from sklearn.svm import SVC, LinearSVC\n",
    "from sklearn.ensemble import RandomForestClassifier, \\\n",
    "    ExtraTreesClassifier\n",
    "\n",
    "from sklearn.metrics import confusion_matrix, classification_report, \\\n",
    "    precision_recall_curve, average_precision_score, f1_score, \\\n",
    "    roc_curve, auc, roc_auc_score, make_scorer, \\\n",
    "    precision_score, recall_score, \\\n",
    "    accuracy_score, balanced_accuracy_score\n",
    "\n",
    "from sklearn.externals import joblib\n",
    "from sklearn.utils import resample\n",
    "from sklearn.utils.fixes import signature\n",
    "\n",
    "import missingno  # for visualizing missing data\n",
    "from hyperopt import fmin, tpe, hp, STATUS_OK, Trials, space_eval, pyll\n",
    "import xgboost as xgb\n",
    "from xgboost.sklearn import XGBClassifier\n",
    "\n",
    "# Set up pandas table display\n",
    "pd.set_option('display.width', 120)\n",
    "pd.set_option('display.max_columns', 100)\n",
    "pd.set_option('display.notebook_repr_html', True)\n",
    "\n",
    "# Set plotting options\n",
    "sns.set() # Use seaborn defaults for plotting\n",
    "%matplotlib inline \n",
    "\n",
    "# Load line profiler\n",
    "%load_ext line_profiler\n",
    "\n",
    "# Adjust number of CPU cores to use\n",
    "# n_jobs=2"
   ]
  },
  {
   "cell_type": "markdown",
   "metadata": {},
   "source": [
    "## Splitting and Preprocessing"
   ]
  },
  {
   "cell_type": "markdown",
   "metadata": {},
   "source": [
    "Let's start by loading the data we cleaned in the previous notebook. Next, we will drop categorical variables that have more than 50 categories, because these would cause a proliferation of columns when performing one-hot encoding below. A better strategy would be to seek to create dummy variables for only the most relevant or most common categories, or to extract a common meaning from different categories (e.g., use natural language processing for text fields), but we will leave this for future iterations of this project."
   ]
  },
  {
   "cell_type": "code",
   "execution_count": null,
   "metadata": {},
   "outputs": [],
   "source": [
    "# Load original data\n",
    "with open('data_processed/all_data.pickle', 'rb') as pickled_file: \n",
    "    all_data = pickle.load(pickled_file)  \n",
    "    \n",
    "# Find categorical variables with more than 50 unique values\n",
    "unique_values_cat = all_data.select_dtypes(include='object') \\\n",
    "                        .nunique() \\\n",
    "                        .sort_values(ascending=False) \n",
    "# Drop categorical variables with more than 50 categories\n",
    "all_data = all_data.drop(unique_values_cat[unique_values_cat > 50].index,\n",
    "                 axis='columns')"
   ]
  },
  {
   "cell_type": "markdown",
   "metadata": {},
   "source": [
    "\n",
    "We will now split the data into training, validation, and test set, containing 80%, 5%, and 15% of the data respectively. The validation set will be used not for hyperparameters tuning, for which we will use cross-validation, but to implement early stopping for XGBoost. (While we could combine validation and test set for the other models, I decided not to do so in order to compare performance on the same test set.) As discussed above, we will perform these splits randomly.  \n",
    "In order to decide how to split the data into training, test, and validation set, we need to think about whether our observations are dependent or independent. \n",
    "\n",
    "###### Addressing dependency in the data\n",
    "In our case, we are dealing with pooled cross-sectional data (observations on multiple different individuals, collected at different points in time). These data are almost certain to be dependent, because the default probability of loans issued at a similar date are likely to be more similar than for loans issued further apart. Put more precisely, the correlations of the *error terms* will be higher the closer the issue dates are to each other. Thus, it would be ideal to estimate models that take this time-series component into account.\n",
    "\n",
    "However, I choose to leave modeling this dependency for further iterations of this project and treat the data as if they were an independent cross-section (and thus do *not* use any date variables as predictors).  The main reason is that taking the time-series factor into account would considerably increase complexity, which should only be added after more simple models have been successfully developed.  This increased complexity is not only due to the inherent nature of time-series models, but also to potentially insurmountable problems in splitting the data into *representative* training, test, validation sets that take this time-series nature into account, as explained below.\n",
    "\n",
    "Ignoring the time-component should not impact performance too much because we are not dealing with proper time-series (observations on the *same* individual at different points in time), and as a result the correlation of the terms is likely not as strong as to overwhelm the influence of the predictors (as may be the case for autoregressive processes). While the fact that we are not able to take into account the default rates of recent loans as additional predictors will lower predictive accuracy somewhat, our model will still give us a good prediction of default *averaged* over all future economic scenarios. Note that recent default rates may not be very predictive of the default rates of new loans anyway, because our loans are scheduled to be paid back over a timeframe of 3 or 6 years.\n",
    "Moreover, we should be able to capture most of the signal that exists in current default rates by simply adding indicators of macroeconomic performance (e.g., unemployment, GDP growth) as predictors, which would considerably reduce correlation between adjacent error terms. I will leave the use of such external data for later iterations of the project, though.\n",
    "\n",
    "###### Implications for how to split the data \n",
    "If data are independent, we can simply split them randomly. If they are dependent, there are 2 more options: Another option is to train the models on the earliest portion of the data, and then split the later portion randomly into training and validation set. Finally, we could split the data into random chunks (each containing, say, 6 months of data), and to randomly assign some of these chunks to the training set, and then randomly split the other chunks into test and validation set. (The purpose of still creating test and validation set by random splits is to make sure that test and validation set have the same distribution, which makes model tuning easier.)\n",
    "\n",
    "Since I do not model the time-component of the data – as explained above – I opt for splitting randomly (option 1). It may be tempting to instead train the model on the older data and measure predictive accuracy on the newer data (option 2) in order to get a better estimate of how our model will perform on future data.  The main argument for doing so is that the predictive accuracy computed this way would incorporate the additional uncertainty when making predictions on new loans due to factors such as changing macroeconomic conditions, as well as potential changes over time in the relationships between the predictors and the target. \n",
    "\n",
    "However, there are other countervailing factors that make splitting based on date potentially less generalizable.  The main problem is that since our whole data set only spans approximately one  business cycle, our validation and test sets would not contain observations drawn from across the manic cycle (they would come from a boom period). Since loan default rates are highly cyclical, the test accuracy computed this way might thus generalize *less* well to future data if predicting default rates during a boom period is systematically easier or harder.\n",
    "\n",
    "Similarly, the relative performance of different learners, as well as the optimal hyperparameters, may vary across the business cycle.  This is another reason that we want to have our training, test, validation set drawn from across the business cycle in order to choose hyperparameters that train models which generalize best into the future.\n",
    "\n",
    "If we later want to try to improve our predictions by modeling the time-series nature of the observations, we would not be able to conduct random splits.  In this case, we should choose option 3, randomly splitting the data set into chunks. The main challenge of this approach is to find an appropriate length for these chunks: On the one hand, since we only have 10 years overall, the intervals cannot be too long. If we don't want to be back at option 2, we have to split the data into at least 4 chunks, which gives us a length of 2.5 years each.  On the other hand, however, the intervals need to be long enough to capture the correlations between the error terms.  Furthermore, we need to remember that we cannot use the earliest portion of each chunk: If we want to model correlation of errors going back for one year, we have to throw away the first one year of data for each chunk away (because loan outcomes for the preceding year are part of a different chunk and can thus can not be used in order to avoid information leakage).  Thus, if we split our data into 4 chunks and model dependence going back one year, we lose 1/2.5 = 40% of our data.  Furthermore, this would reserve about half the data for the validation and test sets, which is not the most efficient use of our data. Furthermore,splitting the data into four chunks does not even guarantee that both training, test, validation set each contain samples from each part of the economic cycle, because the recession only lasted about 2 years (during which Lending Club did not issue as many loans yet, because it was early in its history), and we will use one year by splitting it across two chunks for the reasons explained above. \n",
    "\n",
    "As mentioned above, the fact that it is not even clear if a proper cross-validation could be conducted if we treat the data as dependent was one reason that I start by ignoring the time-dimension.\n",
    "\n",
    "###### Other Preprocessing Steps \n",
    "To avoid information leakage into the training set, we need first split off the training set from the test and validation sets *before* we carry out the preprocessing steps. After imputing missing values, scaling, and performing one-hot encoding on the training set, we perform these operations on the test and validation sets using the parameters (each variable's median, mode, and standard deviation) estimated from the training set. \n",
    " \n",
    "I impute missing values with the median for numeric data and with the mode for categorical data.  While a univariate strategy such as this is suboptimal, because it discards information from the covariance between the different predictors, I did not find any good libraries for multivariate Imputation that integrate well into the scikit-learn workflow. A multivariate imputation for sklearn is under development (specifically MICE, multivariate imputation by chained equations), but it is not ready yet. I thus explored the fancyimpute package instead, but was faced with a chicken-and-egg problem: fancyimpute required  one-hot-encoding, but scikit-learn's one-hot-encoder in turn requires that missing data are already imputed. Thus, I decided to stick with univariate imputation. \n"
   ]
  },
  {
   "cell_type": "code",
   "execution_count": null,
   "metadata": {},
   "outputs": [],
   "source": [
    "def split_preprocess(X=all_data.drop('default', axis='columns'),\n",
    "                     y=all_data.default,\n",
    "                     train_size=.8, test_size=.2):\n",
    "    \"\"\"\n",
    "    Splits the data into training and test set of specified size, \n",
    "    then applies preprocessing.\n",
    "    \"\"\"\n",
    "    \n",
    "    # Train-test split \n",
    "    # ================\n",
    "    X_train, X_test, y_train, y_test = \\\n",
    "        train_test_split(X, y,\n",
    "                         train_size=train_size, test_size=test_size,\n",
    "                         random_state=1, shuffle=True, stratify=y) \n",
    "\n",
    "    # Preprocessing\n",
    "    # =============\n",
    "    # Imputation and standardization for numeric features\n",
    "    numeric_features = X_train.select_dtypes(include=[np.number]).columns\n",
    "    numeric_transformer = Pipeline(steps =[\n",
    "        ('imputer', SimpleImputer(strategy='median')),\n",
    "        ('scaler', StandardScaler())]) \n",
    "\n",
    "    # Imputation and one-hot encoding for categorical features\n",
    "    categorical_features = X_train.select_dtypes(include=[object]).columns\n",
    "    categorical_transformer = Pipeline(steps =[\n",
    "        ('imputer', SimpleImputer(strategy='most_frequent')),\n",
    "        ('onehot', OneHotEncoder(handle_unknown='ignore'))])\n",
    "\n",
    "    # Combining preprocessing for both kinds of features\n",
    "    # Features of other dtypes – in our case, boolean – will be\n",
    "    # appended at the end without transformation.\n",
    "    # (Use only 1 core to avoid joblib error)\n",
    "    preprocessor = ColumnTransformer(\n",
    "        transformers=[\n",
    "            ('numeric_transformer', \n",
    "                 numeric_transformer, numeric_features),\n",
    "            ('categorical_transformer', \n",
    "                 categorical_transformer, categorical_features)],\n",
    "        remainder='passthrough', n_jobs=1) \n",
    "    \n",
    "    # Print dtypes of untransformed data\n",
    "    print('data types of columns that were not transformed:\\n {}'\n",
    "            .format(X_train.select_dtypes(exclude=[np.number, object]) \\\n",
    "                    .dtypes.unique()))\n",
    "\n",
    "    # Apply preprocessing\n",
    "    X_train_p = preprocessor.fit_transform(X_train)\n",
    "    X_test_p = preprocessor.transform(X_test)\n",
    "   \n",
    "\n",
    "    # Get feature names\n",
    "    # =================\n",
    "    # Names of categorical variables after one-hot encoding\n",
    "    categorical_names = preprocessor \\\n",
    "        .named_transformers_['categorical_transformer'] \\\n",
    "        .named_steps['onehot'] \\\n",
    "        .get_feature_names()\n",
    "    # Names of columns with other dtype (should only be Boolean)\n",
    "    other_names = X_train \\\n",
    "        .select_dtypes(exclude=[np.number, object]) \\\n",
    "        .columns\n",
    "    # Concatenate feature names (Note that list with names of \n",
    "    # numeric features was already created above)\n",
    "    feature_names = list(numeric_features) + \\\n",
    "        list(categorical_names) + list(other_names) \n",
    "\n",
    "    \n",
    "    # Return results\n",
    "    # ==============\n",
    "    return(X_train_p, X_test_p, y_train, y_test, feature_names)\n",
    "  \n",
    "\n",
    "# Carry out splitting and preprocessing\n",
    "X_train, X_test_val, y_train, y_test_val, feature_names = \\\n",
    "    split_preprocess(train_size=.8, test_size=.2)\n",
    "\n",
    "# Further splitting to create validation set for XGB's early stopping\n",
    "X_val, X_test, y_val, y_test = \\\n",
    "    train_test_split(X_test_val, y_test_val,\n",
    "                     train_size=0.25, test_size=0.75,\n",
    "                     random_state=1, shuffle=True, stratify=y_test) "
   ]
  },
  {
   "cell_type": "markdown",
   "metadata": {},
   "source": [
    "Since the above steps were computationally expensive, let's save the results to disk."
   ]
  },
  {
   "cell_type": "code",
   "execution_count": 79,
   "metadata": {},
   "outputs": [
    {
     "data": {
      "text/plain": [
       "['data_processed/feature_names.joblib']"
      ]
     },
     "execution_count": 79,
     "metadata": {},
     "output_type": "execute_result"
    }
   ],
   "source": [
    "# Save preprocessed training and test sets\n",
    "filenames = ['X_train', 'X_val', 'X_test',\n",
    "                   'y_train', 'y_val', 'y_test']\n",
    "files = [X_train, X_val, X_test, y_train, y_val, y_test]\n",
    "\n",
    "for file, filename in zip(files, filenames):\n",
    "    joblib.dump(file,\n",
    "                'data_processed/{}.joblib'.format(filename))\n",
    "# Delete temporary list to conserve memory\n",
    "del files\n",
    "\n",
    "# Also save feature names\n",
    "joblib.dump(feature_names, 'data_processed/feature_names.joblib')"
   ]
  },
  {
   "cell_type": "markdown",
   "metadata": {},
   "source": [
    "Next time, we can then load the data from disk:"
   ]
  },
  {
   "cell_type": "code",
   "execution_count": 6,
   "metadata": {},
   "outputs": [],
   "source": [
    "# Load preprocessed data, incl. feature names \n",
    "X_train = joblib.load('data_processed/X_train.joblib')\n",
    "X_val = joblib.load('data_processed/X_val.joblib')\n",
    "X_test = joblib.load('data_processed/X_test.joblib')\n",
    "y_train = joblib.load('data_processed/y_train.joblib')\n",
    "y_val = joblib.load('data_processed/y_val.joblib')\n",
    "y_test = joblib.load('data_processed/y_test.joblib')\n",
    "feature_names = joblib.load('data_processed/feature_names.joblib')"
   ]
  },
  {
   "cell_type": "code",
   "execution_count": 141,
   "metadata": {},
   "outputs": [
    {
     "data": {
      "text/plain": [
       "0.16258930635240712"
      ]
     },
     "execution_count": 141,
     "metadata": {},
     "output_type": "execute_result"
    }
   ],
   "source": [
    "y_test.shapenp.mean(np.apply_along_axis(np.mean,1,X_train))"
   ]
  },
  {
   "cell_type": "code",
   "execution_count": null,
   "metadata": {},
   "outputs": [],
   "source": [
    "y_test.shape"
   ]
  },
  {
   "cell_type": "markdown",
   "metadata": {},
   "source": [
    "## Predictive models"
   ]
  },
  {
   "cell_type": "markdown",
   "metadata": {},
   "source": [
    "We will store important results from each model – its average precision score, a classification report (both before and after adjusting the classification threshold), and the feature importance – in a dictionary."
   ]
  },
  {
   "cell_type": "code",
   "execution_count": 25,
   "metadata": {},
   "outputs": [],
   "source": [
    "# Initialize dictionary to store average provision scores\n",
    "average_precisions = {}"
   ]
  },
  {
   "cell_type": "code",
   "execution_count": 15,
   "metadata": {},
   "outputs": [],
   "source": [
    "# If it already (partially) exist, load them\n",
    "average_precisions = joblib.load(\n",
    "    'saved_models/average_precisions.joblib')"
   ]
  },
  {
   "cell_type": "markdown",
   "metadata": {},
   "source": [
    "Now we're ready to define two crucial functions that we will reuse for the individual models. The first one implements **Bayesian hyperparameters optimization** using **hyperopt**. I initially started out using grid search and randomized search, but these brute-force approaches turned out to be too computationally expensive for the size of my data. \n",
    "\n",
    "Thus, I turned to Bayesian hyperparameters optimization, which performs an intelligent search: We start by specifying a prior distribution for the hyperparameters. This formalizes our beliefs about which hyperparameters make sense *before we have seen the data.* Like randomized search but unlike grid search, this gives us the chance to not only specify the minimum and maximum values between which to confine our search, but it also allows us to concentrate probability mass around the most likely values in the center (e.g., through a (log)normal distribution), so that more plausible values are tried more frequently than possible but unlikely values. \n",
    "\n",
    "By contrast to a randomized search, however, we learn from the results from previous iterations: We start with the prior distribution that we defined above, and update our confidence about where the optimal hyperparameters lie after each trial. The distribution after each update is called the posterior distribution (it is a conditional probability, given the prior as well as the evidence observed so far). If the last values we tried gave us a good result on the validation set, it is likely that we have been moving in the right direction (and vice versa), and we update the probability distribution accordingly. The rules about how to update our confidence about which hyperparameters are optimal are defined by Bayes's Rule. In the beginning, when we have gathered few actual data, our posterior distribution will mainly be determined by the prior distribution we started with. But as we gather more evidence by trying additional hyperparameter combinations, the prior distribution will be swamped by the evidence from these trials and will concentrate more and more probability mass around the values that worked well.\n",
    "\n",
    "Thus, for the first few iterations, the results will be similar to randomized search that draws hyperparameters from the same distributions that we use for our prior distributions. However, as we try more and more hyperparameters combinations, Bayesian optimization will increasingly concentrate our efforts on the subset of the search space that worked best previously. This is particularly important for models where we have many hyperparameters to tune (e.g., XGBoost). While randomized search is preferable to grid search, it still runs into the curse of dimensionality, because it becomes increasingly unlikely that a good combination of hyperparameters is selected randomly as the number of hyperparameters increases. Overall, thus, Bayesian optimization allows us to get a better accuracy for a given computational cost, or it allows us to attain a given accuracy at a (often much) lower computational cost.\n",
    "\n",
    "One problem I faced when implementing this search using hyperopt is that this package only offers a limited choice of prior distributions. In particular, while I wanted to use a lognormal distribution for many variables, I also wanted to set a strict upper and lower bounds.  For example, for SVMs I wanted to avoid excessively high values for C, because this can increase training time by an order of magnitude.  An even bigger problem was that there were no good options to sample parameters that need to be integers, and that functions that were supposed to sample integers rounded from a normal distribution failed  to perform this type conversion.  Thus, I added a custom function for each learner that adjusts (rounds or converts) the parameters sampled by hyperopt before they are passed to the model.\n",
    "\n",
    "For all models in this notebook, the performance of a given set of hyperparameters will be evaluated using 5-fold  cross-validation to make the most efficient use of the available data. However, I write the below functions to allow the user to instead take a validation set approach.  In fact, this will be necessary in the next notebook to save computational cost when I train the more computationally intensive models.\n",
    "\n",
    "The metric I optimize is the **average precision score** on the (cross-)validation set. This measure is similar to the commonly used metric of the area under the ROC curve, but it is better suited to unbalanced classification problems such as ours. The precise meaning of the average precision score is less straightforward, but it is roughly equivalent to the area under the precision-recall curve. Another common metric when using precision and recall is the F1-score (which corresponds to the harmonic mean between precision and recall).  Its disadvantage is that it is based on a particular point on the precision-recall curve (namely the point we get with scikit-learn's default probability threshold of 0.5). By contrast, the average precision is based on the position-recall curve, and thus take into account a classifier's performance for different trade-offs between precision and recall. "
   ]
  },
  {
   "cell_type": "code",
   "execution_count": 6,
   "metadata": {},
   "outputs": [],
   "source": [
    "# Function to carry out hyperparameter optimization\n",
    "def find_best_hp(CLF, space, model_name, \n",
    "                 X_train, y_train, \n",
    "                 adjust_params=None,n_folds=5, n_jobs=-1, max_evals=20):\n",
    "    \"\"\"Find best hyperparameters for a given classifier and search space.\"\"\"\n",
    "    \n",
    "    # Trials object to track progress (not currently used)\n",
    "    trials = Trials()\n",
    "\n",
    "    # CSV file to track progress\n",
    "    progress_file_path = 'hp_progress/progress_' + model_name + '.csv'\n",
    "    with open(progress_file_path, 'w') as file:\n",
    "        writer = csv.writer(file)\n",
    "        # Write header to the file\n",
    "        writer.writerow(['loss', 'params'])\n",
    "\n",
    "    # Objective function to minimize\n",
    "    def objective(params, CLF=CLF, \n",
    "                  progress_file_path=progress_file_path,\n",
    "                  n_folds=n_folds, n_jobs=n_jobs):\n",
    "        \"\"\"Objective function to minimize\"\"\"\n",
    "        \n",
    "        # Adjust parameters, if specified\n",
    "        if adjust_params is not None:\n",
    "            params = adjust_params(params)\n",
    "    \n",
    "        # Instantiate CLF\n",
    "        clf = CLF(**params)\n",
    "        \n",
    "        ## Generate indices for cross-validation\n",
    "        # If only one \"fold\" is desired, split into train and validation set\n",
    "        if n_folds == 1: \n",
    "            cv = StratifiedShuffleSplit(n_splits=1, test_size=.2, \n",
    "                                        random_state=1)\n",
    "        # Otherwise, generate indices for proper cross-validation split\n",
    "        else:  \n",
    "            cv = StratifiedKFold(n_folds, random_state=1)\n",
    "\n",
    "        # Compute average precision through CV / validation set\n",
    "        score = cross_val_score(clf, X_train, y_train, cv=cv,\n",
    "                                scoring='average_precision', n_jobs=n_jobs)\n",
    "        # Compute loss as the negative mean of the average precision scores\n",
    "        # (since hyperopt can only minimize a function)\n",
    "        loss = -score.mean()\n",
    "        \n",
    "        # Save results to csv file\n",
    "        with open(progress_file_path, 'a') as file:\n",
    "            writer = csv.writer(file)\n",
    "            writer.writerow([loss, params])\n",
    "        \n",
    "        # Return results\n",
    "        return {'loss': loss, 'params': params, 'status': STATUS_OK}\n",
    "    \n",
    "    # Minimize objective\n",
    "    best = fmin(objective, space, algo=tpe.suggest,\n",
    "                max_evals=max_evals, trials=trials)\n",
    "\n",
    "    # Get the values of the optimal parameters\n",
    "    best_params = space_eval(space, best)\n",
    "    # Adjust best parameters, if specified\n",
    "    if adjust_params is not None:\n",
    "        best_params = adjust_params(best_params)\n",
    "\n",
    "    # Re-fit the model with the optimal hyperparamters\n",
    "    clf = CLF(**best_params)\n",
    "    clf.fit(X_train, y_train)\n",
    "    \n",
    "    # Save model to disk\n",
    "    joblib.dump(clf, 'saved_models/' + model_name + '.joblib')\n",
    "    \n",
    "    # Print best parameters\n",
    "    print(best_params)"
   ]
  },
  {
   "cell_type": "markdown",
   "metadata": {},
   "source": [
    "The second function we want to define here takes a model and calculates its average precision score (for both training and test set). It also writes the score for the test set to disk, since we will need that later to compare the performance of different learners. As we had to compute the predicted probabilities in the process, we go ahead and save those as well (since we will also need it later). Finally, this function gives the option to plot how the average precision score changed over time during Bayesian hyperparameters optimization."
   ]
  },
  {
   "cell_type": "code",
   "execution_count": 73,
   "metadata": {},
   "outputs": [],
   "source": [
    "# Calculate average precision\n",
    "def return_save_ap(clf, model_name, X_test, y_test, \n",
    "                  X_train, y_train, validation_plot=False):\n",
    "    \"\"\"\n",
    "    Returns, saves, and prints average precision score on train and test set; \n",
    "    saves score, As well as predictions, from *test* set. Optionally plots how \n",
    "    average precision changed over iterations (designed for hyperopt).\n",
    "    \"\"\"\n",
    "\n",
    "    # Predict class\n",
    "    y = clf.predict(X_test)\n",
    "    # Save class prediction\n",
    "    joblib.dump(y, f'predictions_test/y_{model_name}.joblib')\n",
    "    \n",
    "    # Predict class probabilitiesxgbxgb\n",
    "    # Try if classifier supports probability\n",
    "    try:\n",
    "        y_score = clf.predict_proba(X_test)[:,1]\n",
    "        y_score_train = clf.predict_proba(X_train)[:,1]\n",
    "    # If it doesn't, use its decision function\n",
    "    except AttributeError:\n",
    "        y_score = clf.decision_function(X_test)\n",
    "        y_score_train = clf.decision_function(X_train)\n",
    "       \n",
    "    # Save predictions for test set\n",
    "    joblib.dump(y_score, f'predictions_test/y_score_{model_name}.joblib')\n",
    "    \n",
    "    # Calculate average precision\n",
    "    ap_score = average_precision_score(y_test, y_score)\n",
    "    ap_score_train = average_precision_score(y_train, y_score_train)\n",
    "    \n",
    "    # Print AP\n",
    "    print('Best average precision score on *test* set: {:.4f}' \\\n",
    "              .format(ap_score))\n",
    "    print('Best average precision score on *training* set: {:.4f}' \\\n",
    "              .format(ap_score_train))\n",
    "    \n",
    "    # Plot AP, if specified\n",
    "    if validation_plot:\n",
    "        # Load progress file with validation performance\n",
    "        progress_file_path = 'hp_progress/progress_' + model_name + '.csv'\n",
    "        progress_file = pd.read_csv(progress_file_path)\n",
    "\n",
    "        # Extract AP for each iteration\n",
    "        ap = - progress_file.loss\n",
    "        ap.plot()\n",
    "        plt.title('Performance during Cross-Validation')\n",
    "        plt.ylabel('Average Precision')\n",
    "        plt.xlabel('Iteration');\n",
    "        \n",
    "    # Return average precision\n",
    "    return ap_score"
   ]
  },
  {
   "cell_type": "markdown",
   "metadata": {},
   "source": [
    "The following two functions help us visualize the trade-off between precision and recall, and then to make class predictions based on the appropriate threshold we choose."
   ]
  },
  {
   "cell_type": "code",
   "execution_count": 75,
   "metadata": {},
   "outputs": [],
   "source": [
    "# Define function to make a prediction with custom threshold\n",
    "def custom_prediction(proba_or_dist, threshold):\n",
    "    \"\"\"\n",
    "    Makes predictions for binary classification from probabilities or distance\n",
    "    to separating hyperplane, given a custom threshold.\n",
    "    \"\"\"\n",
    "\n",
    "    return (proba_or_dist > threshold).astype(int)\n",
    "\n",
    "\n",
    "# Define function to plot effect of threshold on precision and recall\n",
    "def plot_threshold(proba_or_dist, y_true=y_test, thresholds=None):\n",
    "    \"\"\"\n",
    "    Plot precision and recall as a function of decision threshold for an array of\n",
    "    probabilities or distances to separating hyperplane.\n",
    "\n",
    "    If no custom list of thresholds is supplied, it defaults to a grid of length \n",
    "    100, spanning between the minimum and maximum probability/distance. (In\n",
    "    order to avoid thresholds that assign all observations to a single class, \n",
    "    the smallest and largest thresholds are offset by 0.01 from the minimum and \n",
    "    maximum probability/distance.)\n",
    "\n",
    "    Parameters\n",
    "    ----------\n",
    "    proba_or_dist: array-like\n",
    "        Probabilities or distance from separating hyperplane\n",
    "    y_true: array-like\n",
    "        True values of target variable.\n",
    "    thresholds: list-like\n",
    "        Custom thresholds. Optional.  \n",
    "        \n",
    "    Returns\n",
    "    -------\n",
    "        None\n",
    "    \"\"\"\n",
    "    \n",
    "    # Initialize dictionaries to store results\n",
    "    classes = {}\n",
    "    precisions = {}\n",
    "    recalls = {}\n",
    "            \n",
    "    # If no custom thresholds were passed, make grid between minimum and maximum\n",
    "    # values for probability or distance.\n",
    "    if thresholds is None:\n",
    "        thresholds = np.linspace(proba_or_dist.min() + 0.01,\n",
    "                                 proba_or_dist.max() - 0.01, 100)\n",
    "\n",
    "    # Iterate over thresholds\n",
    "    for threshold in thresholds:\n",
    "        # Classify as 1 if probability/distance is greater than threshold, else 0\n",
    "        classes[threshold] = custom_prediction(proba_or_dist, threshold)\n",
    "\n",
    "        # Compute precision and recall\n",
    "        precisions[threshold] = precision_score(y_true, classes[threshold])\n",
    "        recalls[threshold] = recall_score(y_true, classes[threshold])\n",
    "\n",
    "    # Combine precision and recall into a data frame, indexed by threshold\n",
    "    pr_rec = pd.DataFrame({'precision': precisions, 'recall': recalls})\n",
    "\n",
    "    # Plot results\n",
    "    pr_rec.plot()\n",
    "    plt.title('Effect of threshold on Precision and Recall')\n",
    "    plt.xlabel('Threshold')\n",
    "    plt.ylabel('Precision\\nRecall')\n",
    "    plt.show()"
   ]
  },
  {
   "cell_type": "markdown",
   "metadata": {},
   "source": [
    "Let's further add functions to plot the precision-recall curve, as well as the ROC curve."
   ]
  },
  {
   "cell_type": "code",
   "execution_count": 76,
   "metadata": {},
   "outputs": [],
   "source": [
    "def plot_precision_recall(y_pred, y_test=y_test):\n",
    "    \"\"\"Plots precision-recall curve.\"\"\"\n",
    "\n",
    "    average_precision = average_precision_score(y_test, y_pred)\n",
    "    precision, recall, _ = precision_recall_curve(y_test, y_pred)\n",
    "    # pdb.set_trace()\n",
    "    step_kwargs = ({'step': 'post'}\n",
    "                   if 'step' in signature(plt.fill_between).parameters\n",
    "                   else {})\n",
    "    plt.step(recall, precision, color='b', alpha=0.2,\n",
    "             where='post')\n",
    "    plt.figtext(0.2, 0.2, 'Average Precision={0:0.3f}' \\\n",
    "                                    .format(average_precision))\n",
    "    plt.fill_between(recall, precision, alpha=0.2, color='b', **step_kwargs)\n",
    "\n",
    "    plt.xlabel('Recall')\n",
    "    plt.ylabel('Precision')\n",
    "    plt.ylim([0.0, 1.05])\n",
    "    plt.xlim([0.0, 1.0])\n",
    "    plt.title('Precision-Recall curve')\n",
    "    plt.show();"
   ]
  },
  {
   "cell_type": "code",
   "execution_count": 77,
   "metadata": {},
   "outputs": [],
   "source": [
    "def plot_roc(y_pred, y_test=y_test, model_name=None):\n",
    "    \"\"\"Plots ROC curve.\"\"\"\n",
    "\n",
    "    false_positive_rate, true_positive_rate, thresholds = \\\n",
    "        roc_curve(y_test, y_pred)\n",
    "    roc_auc = auc(false_positive_rate, true_positive_rate)\n",
    "    plt.plot(false_positive_rate, true_positive_rate, 'b',\n",
    "             label='AUC = {0:.3f}'.format(roc_auc))\n",
    "    plt.legend(loc='lower right')\n",
    "    plt.plot([0, 1],[0, 1], 'r--')\n",
    "    plt.xlabel('False Positive Rate')\n",
    "    plt.ylabel('True Positive Rate')\n",
    "    title='ROC Curve'\n",
    "    # Add custom title, if specified\n",
    "    if model_name is not None:\n",
    "        title = ', '.join([title, model_name])\n",
    "    plt.title(title)\n",
    "    plt.show();"
   ]
  },
  {
   "cell_type": "markdown",
   "metadata": {},
   "source": [
    "## Logistic regression\n",
    "We are now ready to fit the first model. We will start with two simple linear models, logistic regression and linear SVM. Because of the size of our data (about 800,000 observations and 130 variables), batch gradient descent would be too slow, so I use stochastic gradient descent. Scikit-learn implements this as the SGDClassifier. To train a logistic regression, we simply use a log-loss.\n",
    "\n",
    "As mentioned above, we are going to use Bayesian optimization, implemented inHyperopt  to tune the hyperparameters. The first step is to decide which hyperparameters we want to optimize. I chose the regularization parameter alpha as well as the L1 ratio to implement elastic net regularization. Next, we need to specify appropriate prior distributions for these parameters. \n",
    "\n",
    "Let us start with alpha, which determines the regularization strength. In addition, it is used to set the initial learning rate (because I set the learning rate to \"optimal\"). For its prior distribution, I use a lognormal distribution, which concentrates probability mass around the neighborhood most likely a priori (scikit-learn's default of 0.001).\n",
    "\n",
    "To parameterize this distribution, we need to specify the mean and standard deviation of a normal distribution, and hyperopt then applies an exponential transformation.  One potential point of confusion is that hyperopt uses the *natural* exponential function, whereas np.logspace – which is commonly used for grid search – uses base 10. To center the distribution at 0.001, we thus pass a mean parameter of log(0.001) to the normal distribution.  \n",
    "Setting the variance parameter is less intuitive, so I simply experiment with different values until most of the samples fall within the range suggested in the documentation, 1E-7 to 1E-1."
   ]
  },
  {
   "cell_type": "code",
   "execution_count": 75,
   "metadata": {},
   "outputs": [
    {
     "name": "stdout",
     "output_type": "stream",
     "text": [
      "Descriptive statistics:\n",
      " count    1.000000e+03\n",
      "mean     3.405910e-01\n",
      "std      6.144989e+00\n",
      "min      5.383675e-10\n",
      "5%       1.481990e-07\n",
      "50%      1.055895e-04\n",
      "95%      6.433022e-02\n",
      "max      1.353450e+02\n",
      "dtype: float64\n"
     ]
    },
    {
     "data": {
      "image/png": "[encoded data removed]",
      "text/plain": [
       "<Figure size 432x288 with 1 Axes>"
      ]
     },
     "metadata": {
      "needs_background": "light"
     },
     "output_type": "display_data"
    }
   ],
   "source": [
    "# Inspect prior distribution for alpha\n",
    "alpha_distr = hp.lognormal('alpha', np.log(1E-4), 4)\n",
    "samples = pd.Series(\n",
    "    [pyll.stochastic.sample(alpha_distr) for i in range(1000)])\n",
    "\n",
    "# Descriptive statistics\n",
    "print('Descriptive statistics:\\n', \n",
    "      samples.describe(percentiles =[0.05, 0.5, 0.95]))\n",
    "\n",
    "# Plot (ignore outliers above 90th percentile)\n",
    "samples_to_plot = samples[samples < samples.quantile(.9)]\n",
    "samples_to_plot.plot(kind='hist', bins=50)\n",
    "plt.xlabel('alpha')\n",
    "plt.xlim([0, samples.quantile(0.9)])\n",
    "plt.title('Prior distribution of regularization strength')\n",
    "plt.show()"
   ]
  },
  {
   "cell_type": "markdown",
   "metadata": {},
   "source": [
    "The other hyperparameters we want to tune is the L1 ratio, which determines the relative amount of the L1 and L2 penalty. Since this parameter is bounded between 0 and 1, we simply use a uniform distribution for its prior.\n",
    "\n",
    "The other parameters should be self-explanatory.  Since our classes are imbalanced (only about one in five borrower defaults), we set the class weight to balanced, so that the rarer cases (default) are weighted more heavily. For the maximum number of iterations and the tolerance, we use the default parameters for the next version of scikit-learn (21.0).\n",
    "\n",
    "Let's now go ahead and train the model:"
   ]
  },
  {
   "cell_type": "code",
   "execution_count": 7,
   "metadata": {},
   "outputs": [
    {
     "name": "stdout",
     "output_type": "stream",
     "text": [
      "{'alpha': 0.0005290883420165692, 'class_weight': 'balanced', 'l1_ratio': 0.5489442848597649, 'loss': 'log', 'max_iter': 1000, 'penalty': 'elasticnet', 'random_state': 1, 'tol': 0.001}\n"
     ]
    }
   ],
   "source": [
    "# Search space (also includes constant parameters)\n",
    "space = {\n",
    "    'loss': 'log',\n",
    "    'penalty': 'elasticnet',\n",
    "    'class_weight': 'balanced',\n",
    "    'max_iter': 1000,\n",
    "    'tol':1E-3,\n",
    "    'random_state': 1,\n",
    "    'alpha': hp.lognormal('alpha', np.log(1E-4), 4),\n",
    "    'l1_ratio': hp.uniform('l1_ratio', 0, 1)\n",
    "}\n",
    "\n",
    "# Find best hyperparameters (defined above)\n",
    "find_best_hp(SGDClassifier, space, model_name='lr_hp',\n",
    "              X_train=X_train, y_train=y_train,\n",
    "              max_evals=40, n_jobs=3, n_folds=3)"
   ]
  },
  {
   "cell_type": "code",
   "execution_count": 101,
   "metadata": {},
   "outputs": [],
   "source": [
    "# Load saved model, if necessary\n",
    "lr_hp = joblib.load('saved_models/lr_hp.joblib')"
   ]
  },
  {
   "cell_type": "markdown",
   "metadata": {},
   "source": [
    "Let's take a look at the average precision score of our model:"
   ]
  },
  {
   "cell_type": "code",
   "execution_count": 55,
   "metadata": {
    "scrolled": true
   },
   "outputs": [
    {
     "name": "stdout",
     "output_type": "stream",
     "text": [
      "Best average precision score on *test* set: 0.3922\n",
      "Best average precision score on *training* set: 0.3908\n"
     ]
    }
   ],
   "source": [
    "# Print and save average precision; save predicted prob.\n",
    "average_precisions['lr'] = return_save_ap(\n",
    "    lr_hp, 'lr_hp', X_test, y_test,\n",
    "    X_train=X_train, y_train=y_train)"
   ]
  },
  {
   "cell_type": "code",
   "execution_count": 91,
   "metadata": {},
   "outputs": [],
   "source": [
    "# Load predicted probability, if necessary\n",
    "y_proba_lr = joblib.load(\n",
    "    'predictions_test/y_score_lr_hp.joblib')"
   ]
  },
  {
   "cell_type": "markdown",
   "metadata": {},
   "source": [
    "Firstly, we see that we get similar accuracy on the training and test set. This is reassuring, because it means that we tuned our regularization parameters properly.\n",
    "\n",
    "It is harder to interpret the absolute size. The average precision score is bounded by zero and one, but what constitutes a good score depends on the difficulty of the classification problem. To get a better intuition what our score means, let's plot the precision-recall curve."
   ]
  },
  {
   "cell_type": "code",
   "execution_count": 71,
   "metadata": {},
   "outputs": [
    {
     "data": {
      "image/png": "[encoded data removed]",
      "text/plain": [
       "<Figure size 432x288 with 1 Axes>"
      ]
     },
     "metadata": {
      "needs_background": "light"
     },
     "output_type": "display_data"
    }
   ],
   "source": [
    "# Plot precision recall curve \n",
    "plot_precision_recall(y_proba_lr)"
   ]
  },
  {
   "cell_type": "markdown",
   "metadata": {},
   "source": [
    "We see that, if we wanted to identify, say, two out of three of borrowers who end up defaulting (recall = 0.67), only about one in three borrowers predicted to default will actually do so (precision = 0.33). While this accuracy may seem disappointing, note that these calculations exclude applicants who were denied credit in the first place: Presumably, the applicants most easily identifiable as not credited worthy were already screened out in this first stage, and the applicants who are harder to identify as having a high probability of default are left. \n",
    "\n",
    "For demonstration purposes, let's also plot the ROC curve."
   ]
  },
  {
   "cell_type": "code",
   "execution_count": 74,
   "metadata": {},
   "outputs": [
    {
     "data": {
      "image/png": "[encoded data removed]",
      "text/plain": [
       "<Figure size 432x288 with 1 Axes>"
      ]
     },
     "metadata": {
      "needs_background": "light"
     },
     "output_type": "display_data"
    }
   ],
   "source": [
    "# Plot ROC curve \n",
    "plot_roc(y_proba_lr)"
   ]
  },
  {
   "cell_type": "markdown",
   "metadata": {},
   "source": [
    "Remember that these plots are based on our predicted *probabilities* rather than any hard (class) predictions. By default, scikit-learn will use a threshold of 0.5 to generate hard predictions.  In other words, If a borrower's default risk is greater than 50%, we'll predict that they will default.  However, it may make sense to deviate from this threshold if the cost of false positives and false negatives is asymmetrical. \n",
    "\n",
    "In our case, we probably want to err on the side of caution, because the cost of one default is much higher than the income lost from making one fewer loan. How to precisely weigh these two different costs is a much more complicated issue than we can solve here, in part because we do not of knowledge about all the costs associated with each.  This decision would also be easier if we were able to model the net present value of each loan rather than a simple binary prediction of default or no default, because the cost of default depends in large part on how much a borrower pays back before the default.  Unfortunately though, as explained in the first notebook, we did not have the necessary data to compute this more appropriate target variable. \n",
    "\n",
    "Let's take a look at this trade-off by plotting precision and recall as a function of the threshold:"
   ]
  },
  {
   "cell_type": "code",
   "execution_count": 69,
   "metadata": {},
   "outputs": [
    {
     "data": {
      "image/png": "[encoded data removed]",
      "text/plain": [
       "<Figure size 432x288 with 1 Axes>"
      ]
     },
     "metadata": {
      "needs_background": "light"
     },
     "output_type": "display_data"
    }
   ],
   "source": [
    "# Plot effect of decision threshold\n",
    "plot_threshold(y_proba_lr)"
   ]
  },
  {
   "cell_type": "markdown",
   "metadata": {},
   "source": [
    "As mentioned above, we care more about recall than precision (because the cost of default is higher than the cost of turning down a borrower), but we don't have the full information here to find the precise optimum for this trade-off. A reasonable goal seems to be to identify half the defaults (recall = 0.5), which gives us a precision of a little over 35%. In other words, we are willing to turn away (a little under) two applicants who would not default in order to successfully identify one applicant who will default.\n",
    "\n",
    "This decision corresponds to picking a decision the threshold of 0.55, i.e. we turn down all applicants whose probability of default is greater than 55%. Let's go ahead and make hard predictions based on this new threshold."
   ]
  },
  {
   "cell_type": "code",
   "execution_count": 95,
   "metadata": {},
   "outputs": [
    {
     "data": {
      "text/plain": [
       "['predictions_test/y_lr_2.joblib']"
      ]
     },
     "execution_count": 95,
     "metadata": {},
     "output_type": "execute_result"
    }
   ],
   "source": [
    "# Make hard predictions with new threshold\n",
    "y_lr_2 = custom_prediction(y_proba_lr, 0.55)\n",
    "# Save new predictions to disk\n",
    "joblib.dump(y_lr_2, 'predictions_test/y_lr_2.joblib')"
   ]
  },
  {
   "cell_type": "code",
   "execution_count": 137,
   "metadata": {},
   "outputs": [
    {
     "name": "stdout",
     "output_type": "stream",
     "text": [
      "              precision    recall  f1-score   support\n",
      "\n",
      "           0       0.86      0.77      0.81    122083\n",
      "           1       0.37      0.52      0.43     31416\n",
      "\n",
      "   micro avg       0.72      0.72      0.72    153499\n",
      "   macro avg       0.61      0.65      0.62    153499\n",
      "weighted avg       0.76      0.72      0.73    153499\n",
      "\n"
     ]
    }
   ],
   "source": [
    "# Classification report\n",
    "print(classification_report(y_test, y_lr_2))"
   ]
  },
  {
   "cell_type": "markdown",
   "metadata": {},
   "source": [
    "The final step is to take a look which features were most predictive of default. For logistic regression, we simply need to take a look at the coefficient vector. Because of the large number of features, we first sort these values. Next, we take a look at the 10 features that increase the probability of default the most, and the 10 features that decrease it the most:"
   ]
  },
  {
   "cell_type": "code",
   "execution_count": 102,
   "metadata": {
    "scrolled": true
   },
   "outputs": [
    {
     "data": {
      "image/png": "[encoded data removed]",
      "text/plain": [
       "<Figure size 864x360 with 2 Axes>"
      ]
     },
     "metadata": {
      "needs_background": "light"
     },
     "output_type": "display_data"
    }
   ],
   "source": [
    "# Compute and save feature importance\n",
    "fi_lr = pd.Series(\n",
    "    lr_hp.coef_[0], \n",
    "    index=feature_names) \\\n",
    "        .sort_values(ascending=False)\n",
    "\n",
    "# Get top and bottom features\n",
    "lr_top = fi_lr.head(10)\n",
    "lr_bottom = fi_lr.tail(10)\n",
    "\n",
    "fig, ax = plt.subplots(1, 2, figsize=(12,5))\n",
    "# Plot top features\n",
    "sns.barplot(x=lr_top, y=lr_top.index, \n",
    "            color='blue', ax=ax[0])\n",
    "ax[0].set_title('Feature INCREASING default risk the most');\n",
    "\n",
    "# Plot bottom features\n",
    "sns.barplot(x=lr_bottom, y=lr_bottom.index, \n",
    "            color='blue', ax=ax[1])\n",
    "ax[1].set_title('Feature DECREASING default risk the most');\n",
    "\n",
    "# Increase horizontal space between plots\n",
    "fig.subplots_adjust(wspace=1)\n",
    "plt.show();"
   ]
  },
  {
   "cell_type": "markdown",
   "metadata": {},
   "source": [
    "Two variables standout as most important, the monthly installment and the funded amount. However, note that the direction of the latter is contrary to what we expect: The higher the amount funded, the *lower* the default risk.  Note that regression coefficients are interpreted as *partial* effects (i.e., holding the value of other variables constant), so this surprising result cannot simply be due to the fact that borrowers who received funding for a higher amount tend to have other desirable characteristics that makes them less likely to default.  \n",
    "\n",
    "Instead, the likely reason for this suspicious result is that these variables are nearly perfectly correlated. In fact - as mentioned in the previous notebook when normalizing the monetary quantities by income - this actually introduced *multicollinearity*, i.e. near-linear dependence between a number  of these variables. As a result, the learning algorithm has trouble adjudicating from which variable the effect stems. While it can still estimate the effect of a *linear combination* of these variables – and because it does not constrain the weight of each individual variable between zero and one – the coefficients can be artificially large in absolute value. \n",
    "\n",
    "If we were primarily interested in which features are most important, we would thus have to eliminate  these redundant variables. However, since our primary interest is in *prediction*, it was better not to discard any information by dropping variables, because the collinearity was not perfect. Note, though, that it is crucial that we use regularization, because this is what makes minimizing the loss function possible even though the feature matrix does not have full column rank.\n",
    "\n",
    "To test this explanation, let's reestimate the model with the funded amount dropped.  We expect to see a slightly lower average precision score, but more sensible coefficients (in particular, that the effect of the most important variables are in the expected direction). "
   ]
  },
  {
   "cell_type": "markdown",
   "metadata": {},
   "source": [
    "### Re-estimating model with funded amount dropped"
   ]
  },
  {
   "cell_type": "markdown",
   "metadata": {},
   "source": [
    "Let's now reestimate the model without log(funded amount), whose collinearity with other variables made the feature importances uninterpretable."
   ]
  },
  {
   "cell_type": "code",
   "execution_count": 52,
   "metadata": {},
   "outputs": [],
   "source": [
    "# Training set without log(funded amount)\n",
    "X_train_2 = pd.DataFrame(X_train, columns=feature_names) \\\n",
    "    .drop('log_funded_amnt', axis=1) \\\n",
    "    .values\n",
    "\n",
    "# Test set without log(funded amount)\n",
    "X_test_2 = pd.DataFrame(X_test, columns=feature_names) \\\n",
    "    .drop('log_funded_amnt', axis=1) \\\n",
    "    .values\n",
    "\n",
    "# Feature name without log(funded amount)\n",
    "feature_names_2 = list(filter(lambda x: x != 'log_funded_amnt', feature_names))"
   ]
  },
  {
   "cell_type": "code",
   "execution_count": null,
   "metadata": {},
   "outputs": [],
   "source": [
    "# Search space\n",
    "space = {\n",
    "    'loss': 'log',\n",
    "    'penalty': 'elasticnet',\n",
    "    'class_weight': 'balanced',\n",
    "    'max_iter': 1000,\n",
    "    'tol':1E-3,\n",
    "    'random_state': 1,\n",
    "    'alpha': hp.lognormal('alpha', np.log(1E-4), 4),\n",
    "    'l1_ratio': hp.uniform('l1_ratio', 0, 1)\n",
    "}\n",
    "\n",
    "# Find best hyperparameters\n",
    "find_best_hp(SGDClassifier, space, model_name='lr_hp_2',\n",
    "              X_train=X_train_2, y_train=y_train,\n",
    "              max_evals=40, n_jobs=3, n_folds=3)"
   ]
  },
  {
   "cell_type": "code",
   "execution_count": 49,
   "metadata": {},
   "outputs": [],
   "source": [
    "#  Load saved model from disk, if necessary\n",
    "lr_hp_2 = joblib.load('saved_models/lr_hp_2.joblib')"
   ]
  },
  {
   "cell_type": "code",
   "execution_count": 92,
   "metadata": {},
   "outputs": [
    {
     "name": "stdout",
     "output_type": "stream",
     "text": [
      "Best average precision score on *test* set: 0.3904\n",
      "Best average precision score on *training* set: 0.3889\n"
     ]
    },
    {
     "data": {
      "text/plain": [
       "0.39044948850259353"
      ]
     },
     "execution_count": 92,
     "metadata": {},
     "output_type": "execute_result"
    }
   ],
   "source": [
    "# Print and save average precision\n",
    "return_save_ap(\n",
    "    lr_hp_2, 'lr_hp_2', X_test_2, y_test,\n",
    "    X_train=X_train_2, y_train=y_train)"
   ]
  },
  {
   "cell_type": "markdown",
   "metadata": {},
   "source": [
    "This confirms our first suspicion: the accuracy is similar but slightly lower (0.3904 compared to 0.3922).  Let's now take a look at the most important features:"
   ]
  },
  {
   "cell_type": "code",
   "execution_count": 103,
   "metadata": {},
   "outputs": [
    {
     "data": {
      "image/png": "[encoded data removed]",
      "text/plain": [
       "<Figure size 864x360 with 2 Axes>"
      ]
     },
     "metadata": {
      "needs_background": "light"
     },
     "output_type": "display_data"
    }
   ],
   "source": [
    "# Compute and save feature importance\n",
    "fi_lr2 = pd.Series(\n",
    "    lr_hp_2.coef_[0], \n",
    "    index=feature_names_2) \\\n",
    "        .sort_values(ascending=False)\n",
    "\n",
    "# Get top and bottom features\n",
    "lr_2_top = fi_lr2.head(10)\n",
    "lr_2_bottom = fi_lr2.tail(10)\n",
    "\n",
    "fig, ax = plt.subplots(1, 2, figsize=(12,5))\n",
    "# Plot top features\n",
    "sns.barplot(x=lr_2_top, y=lr_2_top.index, \n",
    "            color='blue', ax=ax[0])\n",
    "ax[0].set_title('Features INCREASING default risk the most');\n",
    "\n",
    "# Plot bottom features\n",
    "sns.barplot(x=lr_2_bottom, y=lr_2_bottom.index, \n",
    "            color='blue', ax=ax[1])\n",
    "ax[1].set_title('Features DECREASING default risk the most');\n",
    "\n",
    "# Increase horizontal space between plots\n",
    "fig.subplots_adjust(wspace=1)\n",
    "plt.show();"
   ]
  },
  {
   "cell_type": "markdown",
   "metadata": {},
   "source": [
    "Right away, we notice that the top coefficients got considerably smaller in absolute value (by a factor of three). This is a good sign that we might have eliminated multicollinearity sufficiently.\n",
    "\n",
    "The top 5 features *increasing* the default risk contain many of the expected factors, such as a longer loan term (5 years), a higher debt-to-income ratio (\"dti\"), and higher installment-to-income ratio.  It is also not surprising that using the loan for a small business increases the risk.  Regarding the factors *decreasing* the default risk the most, it makes sense to see a shorter loan duration (3 years) or the fact that the applicant has no (\"min_\") tax liens, collections, charge-offs, and delinquent  amount. (Note that these are some of the dummy variables we created in the previous notebook to un-skew variables where the probability mass was concentrated at the minimum value). It is more surprising to see that intending to use the loan to pay a credit card debt *decreases* default risk. The \"cash\" variable refers to the disbursement method, and we do not have any prior expectations what the effect of this would be (the other alternative is direct pay).\n",
    "\n",
    "Overall, thus, the suspicion that the feature importance of the main model (with no columns dropped) is not interpretable seems to be correct.  However, since we primarily are interested in prediction, we will stick with this original model."
   ]
  },
  {
   "cell_type": "markdown",
   "metadata": {},
   "source": [
    "## Random Forests"
   ]
  },
  {
   "cell_type": "markdown",
   "metadata": {},
   "source": [
    "The strength of random forests is that it is able to pick up non-linear effects and interactions between predictors. Compared to the logistic regression and SVMs, it also relies on less assumptions about the distribution of the data, and so is more robust. It generally gives good performance out-of-the-box, but we will still soon it's hyperparameters to further increase its performance. Most of the hyperparameters I will tune adjust the overfitting-underfitting trade-off (the maximum depth, the minimum samples per leaf, and the number of features to use in each tree).\n",
    "\n",
    "Even more than for logistic regression, I am limited by the prior distributions offered by Hyperopt. The main problem is that many of the hyperparameters require integers, so I again had a function that adjusts the parameters by converting the type and, in one case, set a lower bound to make the number of features used positive."
   ]
  },
  {
   "cell_type": "code",
   "execution_count": 20,
   "metadata": {},
   "outputs": [],
   "source": [
    "# Compute sqrt of number of features for baseline max_features\n",
    "sqrt_n_ft = np.sqrt(X_train.shape[1])\n",
    "sqrt_n_ft\n",
    "\n",
    "# Define search space for hyperparameters\n",
    "space = {'criterion': hp.choice('criterion', ['gini', 'entropy']),\n",
    "         'max_depth': hp.uniform('max_depth', 5, 100),\n",
    "         'max_features': hp.normal('max_features',\n",
    "                                    sqrt_n_ft, 0.25*sqrt_n_ft),\n",
    "         'min_samples_leaf': hp.uniform('min n_samples_leaf', 1, 200),\n",
    "         'class_weight': 'balanced',\n",
    "         'n_estimators': 100, \n",
    "         'random_state': 1}"
   ]
  },
  {
   "cell_type": "code",
   "execution_count": null,
   "metadata": {},
   "outputs": [],
   "source": [
    "# Function to convert sampled parameters to integer or make positive, etc., \n",
    "# where necessary\n",
    "def adjust_params_rf(params):\n",
    "    \"\"\" \n",
    "    Adjust parameters where hyperopt did not allow sampling from optimal \n",
    "    distribution.\n",
    "    \"\"\"\n",
    "\n",
    "    # Convert sampled parameters to integer, where  applicable\n",
    "    params['max_depth'] = round(params['max_depth'])\n",
    "    params['max_features'] = round(params['max_features'])\n",
    "    params['min_samples_leaf'] = round(params['min_samples_leaf'])\n",
    "    \n",
    "    # Set upper or lower bunds for parameters, where applicable\n",
    "    if params['max_features'] < 1:\n",
    "        params['max_features'] = 1\n",
    "        \n",
    "    # Return modified parameters\n",
    "    return params"
   ]
  },
  {
   "cell_type": "markdown",
   "metadata": {},
   "source": [
    "We are now ready again to fit the model."
   ]
  },
  {
   "cell_type": "code",
   "execution_count": null,
   "metadata": {},
   "outputs": [],
   "source": [
    "MAX_EVALS = 50\n",
    "N_JOBS = 3\n",
    "\n",
    "# Find best hyperparameters\n",
    "find_best_hp(RandomForestClassifier, space, \n",
    "             model_name='rf_hp', \n",
    "             X_train=X_train, y_train=y_train, \n",
    "             adjust_params=adjust_params_rf, \n",
    "             max_evals=MAX_EVALS, n_jobs=N_JOBS, \n",
    "             n_folds=3)"
   ]
  },
  {
   "cell_type": "code",
   "execution_count": 80,
   "metadata": {},
   "outputs": [],
   "source": [
    "## Load saved model and predictions from disk, if necessary\n",
    "# Model\n",
    "rf_hp = joblib.load('saved_models/rf_hp.joblib')\n",
    "# Class prediction\n",
    "y_rf = joblib.load('predictions_test/y_rf_hp.joblib')\n",
    "# Predicted probability\n",
    "y_proba_rf = joblib.load('predictions_test/y_score_rf_hp.joblib')"
   ]
  },
  {
   "cell_type": "code",
   "execution_count": 44,
   "metadata": {},
   "outputs": [
    {
     "name": "stdout",
     "output_type": "stream",
     "text": [
      "Best average precision score on *test* set: 0.3940\n",
      "Best average precision score on *training* set: 0.6122\n"
     ]
    }
   ],
   "source": [
    "# Print and save average precision; save predictions\n",
    "average_precisions['rf'] = return_save_ap(\n",
    "    rf_hp, 'rf_hp', X_test, y_test,\n",
    "    X_train=X_train, y_train=y_train)"
   ]
  },
  {
   "cell_type": "markdown",
   "metadata": {},
   "source": [
    "We gathered similar test set accuracy as for logistic regression. Note that the training score is much higher than the test score, which would signal trouble for models that employ a more direct way of regularization (In particular, a L1 or L2 penalty). However, in a random forests classifier regularization comes from a combination of two things: Averaging over many (not too correlated) trees, and from adjusting hyperparameters such as the minimum number of samples per leaf. If we just use the former, we would get perfect position on the training set (since we would have a leaf for every observation).  However, this would not mean we are only fitting the noise and no part of the signal, as a perfect accuracy of a logistic regression classifier (on a reasonably large training set) would most likely mean. (The latter case would probably be due to zero degrees of freedom and no regularization).  \n",
    "The fact that the performance of the training set we observe here is in between the test set performance and perfect accuracy means that the hyperparameters we tune do help in adjusting overfitting, and we rely on the fact that we tracked their performance on a separate validation set to be confident that We arrived at hyperparameters that maximize the performance on new data.\n",
    "\n",
    "We will now plot the precision-recall curve again."
   ]
  },
  {
   "cell_type": "code",
   "execution_count": 83,
   "metadata": {},
   "outputs": [
    {
     "data": {
      "image/png": "[encoded data removed]",
      "text/plain": [
       "<Figure size 432x288 with 1 Axes>"
      ]
     },
     "metadata": {
      "needs_background": "light"
     },
     "output_type": "display_data"
    }
   ],
   "source": [
    "# Plot precision recall curve \n",
    "plot_precision_recall(y_proba_rf)"
   ]
  },
  {
   "cell_type": "markdown",
   "metadata": {},
   "source": [
    "These plots show a similar trade-off as logistic regression did earlier."
   ]
  },
  {
   "cell_type": "markdown",
   "metadata": {},
   "source": [
    "Note that these plots are based on our predicted probabilities rather than any hard (class) predictions. By default, scikit-learn will use a threshold of 0.5 to generate hard predictions.  In other words, If a borrower's default risk is greater than 50%, we'll predict that they will default.  However, it may make sense to deviate from this threshold if the cost of false positives and false negatives is asymmetrical. \n",
    "\n",
    "In our case, we probably want to err on the side of caution, because the cost of one default is much higher than the income lost from making one fewer loan. How to precisely weigh these two different costs is a much more complicated issue than we can solve here, in part because we do not of knowledge about all the costs associated with each.  This decision would also be easier if we were able to model the net present value of each loan rather than a simple binary prediction of default or no default, because the cost of default depends in large part on how much a borrower pays back before the default.  Unfortunately though, as explained in the first notebook, we did not have the necessary data to compute this more appropriate target variable. \n",
    "\n",
    "Let's take a look at this trade-off by plotting precision and recall as a function of the probability threshold:"
   ]
  },
  {
   "cell_type": "code",
   "execution_count": 86,
   "metadata": {},
   "outputs": [
    {
     "data": {
      "image/png": "[encoded data removed]",
      "text/plain": [
       "<Figure size 432x288 with 1 Axes>"
      ]
     },
     "metadata": {
      "needs_background": "light"
     },
     "output_type": "display_data"
    }
   ],
   "source": [
    "# Plot effect of decision threshold\n",
    "plot_threshold(y_proba_rf)"
   ]
  },
  {
   "cell_type": "markdown",
   "metadata": {},
   "source": [
    "We see that for the default threshold of 0.5, we happen to be right around our goal of identifying have the borrowers who will default (recall = 0.52), and again achieve the precision of a little over a third (0.37), thus, we will not adjust the threshold for this model.\n",
    "\n",
    "Let's confirm that by looking at the classification report:"
   ]
  },
  {
   "cell_type": "code",
   "execution_count": 131,
   "metadata": {},
   "outputs": [
    {
     "name": "stdout",
     "output_type": "stream",
     "text": [
      "              precision    recall  f1-score   support\n",
      "\n",
      "           0       0.86      0.77      0.81    122083\n",
      "           1       0.37      0.52      0.43     31416\n",
      "\n",
      "   micro avg       0.72      0.72      0.72    153499\n",
      "   macro avg       0.61      0.65      0.62    153499\n",
      "weighted avg       0.76      0.72      0.73    153499\n",
      "\n"
     ]
    }
   ],
   "source": [
    "print(classification_report(y_test, custom_prediction(y_proba_rf, 0.5)))"
   ]
  },
  {
   "cell_type": "markdown",
   "metadata": {},
   "source": [
    "Looks good, so let's save the default prediction."
   ]
  },
  {
   "cell_type": "code",
   "execution_count": 133,
   "metadata": {},
   "outputs": [
    {
     "data": {
      "text/plain": [
       "['predictions_test/y_rf_2.joblib']"
      ]
     },
     "execution_count": 133,
     "metadata": {},
     "output_type": "execute_result"
    }
   ],
   "source": [
    "# Generate hard prediction\n",
    "y_lr_2 = custom_prediction(y_proba_rf, 0.5)\n",
    "\n",
    "# Save  predictions to disk\n",
    "joblib.dump(y_lr_2, 'predictions_test/y_rf_2.joblib')"
   ]
  },
  {
   "cell_type": "markdown",
   "metadata": {},
   "source": [
    "Let's now look at the most important features. As mentioned above, a random forests classifier does not model features as having a linear effect, but rather takes into account non-linearities as well as interactions between features.  Thus, we only get a single score of a feature's overall importance. By contrast, logistic regression told us how big the effect size of each feature was, which allowed us to distinguish features that had a positive effect from features that had a negative effect on default probability. "
   ]
  },
  {
   "cell_type": "code",
   "execution_count": 104,
   "metadata": {
    "scrolled": true
   },
   "outputs": [
    {
     "data": {
      "image/png": "[encoded data removed]",
      "text/plain": [
       "<Figure size 432x288 with 1 Axes>"
      ]
     },
     "metadata": {
      "needs_background": "light"
     },
     "output_type": "display_data"
    }
   ],
   "source": [
    "# Compute and save feature importance\n",
    "fi_rf = pd.Series(\n",
    "    rf_hp.feature_importances_, \n",
    "    index=feature_names) \\\n",
    "        .sort_values(ascending=False)\n",
    "#Print\n",
    "fi_rf\n",
    "\n",
    "# Get most important features\n",
    "rf_top = fi_rf.head(10)\n",
    "\n",
    "# fig, ax = plt.subplots(1, 2, figsize=(12,5))\n",
    "# Plot top features\n",
    "sns.barplot(x=rf_top, y=rf_top.index, \n",
    "            color='blue')\n",
    "plt.title('Most important features');\n",
    "plt.show();"
   ]
  },
  {
   "cell_type": "markdown",
   "metadata": {},
   "source": [
    "\n",
    "It is not surprising to see the FICO score, debt-to-income ratio, installment-to-income ratio, and loan-to income ratio, as well as the loan term as some of the most important predictors.\n",
    "\n",
    "However, this plot also reveals a problem with the data: The data set seems to contain two different variables for the loan term (\"term_5y\" and \"x0_60 months\"). I plan to fix this in the previous notebook that cleaned the data, but since rerunning all the models worry computationally expensive, I hold off on this for now. Except adding a little bit of extra variance, it should not cause any problems since we are using regularization (see the discussion of collinearity above). "
   ]
  },
  {
   "cell_type": "markdown",
   "metadata": {},
   "source": [
    "##  XGBoost"
   ]
  },
  {
   "cell_type": "markdown",
   "metadata": {},
   "source": [
    "Since we have a lot of parameters to tune, we need a smart way of searching over the different parameters to avoids the combinatorial explosion that would result from a simultaneous grid search over all parameters. Doing so more efficiently was the initial motivation for me to explore Bayesian hyperparameter optimization.\n",
    "\n",
    "In the following, I will follow the suggestions from https://www.analyticsvidhya.com/blog/2016/03/complete-guide-parameter-tuning-xgboost-with-codes-python/ for plausible ranges for the hyperparameters.  However, since I will use Bayesian optimization rather than brute force, I am able to avoid the lazy approach of repeatedly optimizing a subset of the parameters at a time. Instead, I will optimize all tree-specific parameters at once, using a relatively higher learning rate to speed up training. Subsequently, following the suggestion from the above blog post, I will reestimate the model with the parameters identified in the previous step, but use a smaller learning rate for another increase in accuracy. \n",
    "\n",
    "During both of these steps, I will use early stopping to determine the optimal number of trees. This is the reason that we needed to create a separate validation set earlier.\n",
    "\n",
    "Note that I will be using XGBoost's native API rather than the Scikit-learn API. This has several benefits, such as being able to use XGBoost's native data format, which increases performance.  Thus, let's start by converting the data."
   ]
  },
  {
   "cell_type": "code",
   "execution_count": 102,
   "metadata": {},
   "outputs": [],
   "source": [
    "# Remove \"<\" from feature names, since this causes problems for xgboost\n",
    "feature_names_xgb = [x.replace('<', '_less_than_') for x in feature_names]\n",
    "\n",
    "# Convert data to DMatrix \n",
    "data_xgb_train = xgb.DMatrix(data=X_train, label=y_train,\n",
    "                             feature_names=feature_names_xgb, nthread=-1)\n",
    "data_xgb_test = xgb.DMatrix(data=X_test, label=y_test,\n",
    "                            feature_names=feature_names_xgb)\n",
    "data_xgb_val = xgb.DMatrix(data=X_val, label=y_val,\n",
    "                            feature_names=feature_names_xgb)"
   ]
  },
  {
   "cell_type": "markdown",
   "metadata": {},
   "source": [
    "For most parameters, we'll use a normal distribution to define their prior distributions to sample from.  Thus, setting the mean and standard deviation for these distributions is pretty straightforward.  However, for the regularization term alpha, we will use a lognormal distribution (analogous to using a logarithmic grid for a brute force search). Since the relationship between its parameters and the scale of the distribution is less intuitive, let's draw a few samples first to inspect if it yields a plausible distribution for the regularization term."
   ]
  },
  {
   "cell_type": "code",
   "execution_count": 96,
   "metadata": {},
   "outputs": [
    {
     "name": "stdout",
     "output_type": "stream",
     "text": [
      "Descriptive statistics:\n",
      " count    100.000000\n",
      "mean       5.440718\n",
      "std       10.882030\n",
      "min        0.002795\n",
      "5%         0.004396\n",
      "50%        0.246079\n",
      "95%       30.298241\n",
      "max       47.284115\n",
      "dtype: float64\n"
     ]
    },
    {
     "data": {
      "image/png": "[encoded data removed]",
      "text/plain": [
       "<Figure size 432x288 with 1 Axes>"
      ]
     },
     "metadata": {
      "needs_background": "light"
     },
     "output_type": "display_data"
    }
   ],
   "source": [
    "# Inspect prior distribution for reg_alpha\n",
    "reg_alpha_distr = hp.loguniform('n_estimators', -6, 4)\n",
    "samples = [pyll.stochastic.sample(reg_alpha_distr) for i in range(100)]\n",
    "\n",
    "# Descriptive statistics\n",
    "print('Descriptive statistics:\\n', \n",
    "      pd.Series(samples).describe(\n",
    "            percentiles=[0.05, 0.5, 0.95]))\n",
    "\n",
    "# Plot\n",
    "pd.Series(samples).plot(kind='hist', bins=100)\n",
    "plt.xlabel('reg_alpha')\n",
    "plt.title('Prior distribution of regularization strength')\n",
    "plt.show()"
   ]
  },
  {
   "cell_type": "markdown",
   "metadata": {},
   "source": [
    "Looking at the minimum, maximum, and median, these values look good, so let's go with these parameters.\n",
    "\n",
    "Now let's decide on an appropriate prior distribution for gamma, the minimum loss reduction that we require to further partition a node. I will use a lognormal distribution bounded between 0 and 0.5.  The challenge is to define this in hyperopt, because it bounds the distribution by the exponential of the upper and lower bounds supplied as the parameters. Thus, in order to get a lower bound of 0, we would have to pass log(0) = -$\\infty$ as the parameter. I solved this problem by passing the log of a small number as the lower bound, and then subtract the small number from the final distribution when adjusting the parameters."
   ]
  },
  {
   "cell_type": "code",
   "execution_count": 69,
   "metadata": {},
   "outputs": [
    {
     "name": "stdout",
     "output_type": "stream",
     "text": [
      "Descriptive statistics:\n",
      " count    1000.000000\n",
      "mean        0.116973\n",
      "std         0.128434\n",
      "min         0.000021\n",
      "5%          0.002049\n",
      "50%         0.060962\n",
      "95%         0.403816\n",
      "max         0.499517\n",
      "dtype: float64\n"
     ]
    },
    {
     "data": {
      "image/png": "[encoded data removed]",
      "text/plain": [
       "<Figure size 432x288 with 1 Axes>"
      ]
     },
     "metadata": {
      "needs_background": "light"
     },
     "output_type": "display_data"
    }
   ],
   "source": [
    "# Inspect prior distribution for gamma\n",
    "small_number = 0.01 # To adjust lower bound \n",
    "gamma_distr = hp.loguniform('n_estimators', \n",
    "                            np.log(small_number), \n",
    "                            np.log(0.5 + small_number))\n",
    "\n",
    "samples = [pyll.stochastic.sample(gamma_distr) - small_number\n",
    "               for i in range(1000)]\n",
    "\n",
    "# Descriptive statistics\n",
    "print('Descriptive statistics:\\n', \n",
    "      pd.Series(samples).describe(\n",
    "      percentiles=[0.05, 0.5, 0.95]))\n",
    "\n",
    "# Plot\n",
    "pd.Series(samples).plot(kind='hist')\n",
    "plt.xlabel('gamma')\n",
    "plt.title('Prior distribution of regularization strength')\n",
    "plt.show()"
   ]
  },
  {
   "cell_type": "markdown",
   "metadata": {},
   "source": [
    "We can now define the search space, consisting again of the prior distributions plus any fixed parameters we want to pass to the classifier."
   ]
  },
  {
   "cell_type": "code",
   "execution_count": 3,
   "metadata": {},
   "outputs": [],
   "source": [
    "small_number = 0.01 # To adjust lower bound for Gamma\n",
    "space = {\n",
    "    # Parameters that we are going to tune (Note that these may be modified\n",
    "    # in objective function to convert to integer or to set min or max.)\n",
    "    'eta':.3,  # Start with a higher learning rate for speed\n",
    "    'objective':'binary:logistic',\n",
    "    'eval_metric':'map',\n",
    "    'scale_pos_weight': 5,  # Balance classes\n",
    "    'max_depth': hp.normal('max_depth', 6, 2),\n",
    "    'min_child_weight': hp.normal('min_child_weight', 4, 2), \n",
    "    'gamma': hp.loguniform('gamma', # small number will be subtracted later\n",
    "                            np.log(small_number), \n",
    "                            np.log(0.5 + small_number)),\n",
    "    'subsample': hp.normal('subsample', 0.75, 0.2), \n",
    "    'colsample_bytree':  hp.normal('colsample_bytree', 0.75, 0.2),\n",
    "    'reg_alpha': hp.loguniform('reg_alpha', -6, 4),\n",
    "    'verbose_eval': False,\n",
    "    'nthread': 3\n",
    "}"
   ]
  },
  {
   "cell_type": "markdown",
   "metadata": {},
   "source": [
    "As mentioned previously, one problem with Hyperopts distribution function is that they do not give much flexibility if our samples need to be integers, and it also does not allow setting upper and lower bounds. Thus, let's define a function to adjust the samples:"
   ]
  },
  {
   "cell_type": "code",
   "execution_count": 94,
   "metadata": {},
   "outputs": [],
   "source": [
    "# Function to convert sampled parameters to integer or make positive, etc., \n",
    "# where necessary\n",
    "def adjust_params_xgb(params):\n",
    "    \"\"\" \n",
    "    Adjust parameters where hyperopt did not allow sampling from optimal \n",
    "    distribution.\n",
    "    \"\"\"\n",
    "\n",
    "    # Convert sampled parameters to integer, where  applicable\n",
    "    params['max_depth'] = round(params['max_depth'])\n",
    "    \n",
    "    # Make sure min_child_weight is positive\n",
    "    if params['min_child_weight'] <= 0:\n",
    "        params['min_child_weight'] = 0 # Set to lower bound\n",
    "   \n",
    "    # Subtract the small number from gamma to set 0 as lower bound\n",
    "    params['gamma'] = params['gamma'] - small_number\n",
    "\n",
    "    # Set upper or lower bunds for parameters, where applicable\n",
    "    if params['max_depth'] <= 2:\n",
    "        params['max_depth'] = 2\n",
    "    if params['subsample'] < 0.05:\n",
    "        params['subsample'] = 0.05\n",
    "    if params['subsample'] > 1:\n",
    "        params['subsample'] = 1\n",
    "    if params['colsample_bytree'] < 0.05: \n",
    "        params['colsample_bytree'] = 0.05\n",
    "    if params['colsample_bytree'] > 1:\n",
    "        params['colsample_bytree'] = 0.75\n",
    "    \n",
    "    # Return modified parameters\n",
    "    return params"
   ]
  },
  {
   "cell_type": "markdown",
   "metadata": {},
   "source": [
    "Since we are not using the sklearn API, we won't be able to reuse the function defined above for Bayesian hyperparameter optimization. Thus, let's adapt the code for XGBoost."
   ]
  },
  {
   "cell_type": "code",
   "execution_count": 7,
   "metadata": {},
   "outputs": [],
   "source": [
    "# CSV file to track progress\n",
    "progress_file_path = 'hp_progress/progress_xgb.csv'\n",
    "with open(progress_file_path, 'w') as file:\n",
    "    writer = csv.writer(file)\n",
    "    # Write header to the file\n",
    "    writer.writerow(['loss', 'params', 'n_trees'])\n",
    "    \n",
    "# Objective function to minimize\n",
    "def objective(params, progress_file_path=progress_file_path,\n",
    "              n_jobs=N_JOBS):\n",
    "    \"\"\"Objective function to minimize\"\"\"\n",
    "    \n",
    "    # Adjust parameters\n",
    "    params = adjust_params_xgb(params)\n",
    "    \n",
    "    # Train model\n",
    "    xgb_ = xgb.train(params, dtrain=data_xgb_train, \n",
    "                num_boost_round=1000,\n",
    "                evals=[(data_xgb_val, \"val\")], \n",
    "                early_stopping_rounds=50)\n",
    "    \n",
    "    # Compute loss as the negative mean of the average precision scores\n",
    "    # (since hyperopt can only minimize a function)\n",
    "    loss = - xgb_.best_score\n",
    "    \n",
    "    # Save results to csv file\n",
    "    with open(progress_file_path, 'a') as file:\n",
    "        writer = csv.writer(file)\n",
    "        writer.writerow([loss, params, xgb_.best_ntree_limit])\n",
    "\n",
    "    # Return results\n",
    "    return {'loss': loss, 'params': params, 'n_trees': xgb_.best_ntree_limit, 'status': STATUS_OK}"
   ]
  },
  {
   "cell_type": "markdown",
   "metadata": {},
   "source": [
    "Now we are ready to carry out the hyperparameters optimization:"
   ]
  },
  {
   "cell_type": "code",
   "execution_count": null,
   "metadata": {},
   "outputs": [],
   "source": [
    "# Set options\n",
    "N_JOBS=3\n",
    "MAX_EVALS = 100\n",
    "\n",
    "# Minimize objective\n",
    "best = fmin(objective, space, algo=tpe.suggest,\n",
    "            max_evals=MAX_EVALS)\n",
    "\n",
    "# Get the values of the optimal parameters\n",
    "best_params = space_eval(space, best)\n",
    "\n",
    "# Save best parameters\n",
    "joblib.dump(best_params, 'saved_models/xgb_best_params.joblib')"
   ]
  },
  {
   "cell_type": "markdown",
   "metadata": {},
   "source": [
    "Let's take a look how the performance changed over time during the hyperparameters optimization:"
   ]
  },
  {
   "cell_type": "code",
   "execution_count": 135,
   "metadata": {},
   "outputs": [
    {
     "name": "stdout",
     "output_type": "stream",
     "text": [
      "Best average precision on *validation* set: 0.405448\n"
     ]
    },
    {
     "data": {
      "image/png": "[encoded data removed]",
      "text/plain": [
       "<Figure size 432x288 with 1 Axes>"
      ]
     },
     "metadata": {
      "needs_background": "light"
     },
     "output_type": "display_data"
    }
   ],
   "source": [
    "# Load full results from progress file\n",
    "xgb_results = pd.read_csv('hp_progress/progress_xgb.csv')\n",
    "\n",
    "# Get validation score\n",
    "# Extract AP for each iteration\n",
    "ap_xgb = - xgb_results.loss\n",
    "\n",
    "print(f'Best average precision on *validation* set: {ap_xgb.max()}')\n",
    "\n",
    "# Plot AP per iteration\n",
    "ap_xgb.plot()\n",
    "plt.title('Performance on validation set')\n",
    "plt.ylabel('Average Precision')\n",
    "plt.xlabel('Iteration');"
   ]
  },
  {
   "cell_type": "markdown",
   "metadata": {},
   "source": [
    "Now that we have identified the best parameters, let's re-estimate the model with a lower learning rate to get another boost in accuracy."
   ]
  },
  {
   "cell_type": "code",
   "execution_count": null,
   "metadata": {},
   "outputs": [],
   "source": [
    "# Set other constants again, if necessary\n",
    "small_number = 0.01\n",
    "# Load and adjust best parameters from disk, if necessary\n",
    "best_params = joblib.load('saved_models/xgb_best_params.joblib')\n",
    "best_params = adjust_params_xgb(best_params)\n",
    "\n",
    "# Decrease learning rate\n",
    "best_params['eta'] = 0.05\n",
    "\n",
    "# Fit the model with the optimal hyperparamters and lower learning rate\n",
    "xgb_best = xgb.train(best_params,\n",
    "                    dtrain=data_xgb_train, \n",
    "                    num_boost_round=500000,\n",
    "                    evals=[(data_xgb_val, \"val\")], \n",
    "                    early_stopping_rounds=5000) "
   ]
  },
  {
   "cell_type": "code",
   "execution_count": 104,
   "metadata": {},
   "outputs": [
    {
     "data": {
      "text/plain": [
       "0.407645"
      ]
     },
     "execution_count": 104,
     "metadata": {},
     "output_type": "execute_result"
    }
   ],
   "source": [
    "# Best performance on *validation* set with smaller learning rate\n",
    "xgb_best.best_score"
   ]
  },
  {
   "cell_type": "markdown",
   "metadata": {},
   "source": [
    "This gave us a small boost in performance. Let's take a look at how many trees were used for this optimal solution:"
   ]
  },
  {
   "cell_type": "code",
   "execution_count": 105,
   "metadata": {},
   "outputs": [
    {
     "data": {
      "text/plain": [
       "19113"
      ]
     },
     "execution_count": 105,
     "metadata": {},
     "output_type": "execute_result"
    }
   ],
   "source": [
    "# Optimal number of trees\n",
    "xgb_best.best_ntree_limit"
   ]
  },
  {
   "cell_type": "markdown",
   "metadata": {},
   "source": [
    "About 19,000 trees were used, so no wonder that this single model takes a couple of hours to train.  \n",
    "The performance figures resolve for XGBoost so far were all based on the validation set, so let's finally compute the average precision score for the test set."
   ]
  },
  {
   "cell_type": "code",
   "execution_count": 109,
   "metadata": {},
   "outputs": [
    {
     "name": "stdout",
     "output_type": "stream",
     "text": [
      "Average precision on test set: 0.41414888290960883\n"
     ]
    }
   ],
   "source": [
    "## Compute average precision for test set of final model\n",
    "# Compute predicitions for test set\n",
    "y_score_xgb = xgb_best.predict(data_xgb_test)\n",
    "# Save best predictions to disk\n",
    "joblib.dump(y_score_xgb, 'predictions_test/y_proba_xgb.joblib')\n",
    "\n",
    "# Save and print AP\n",
    "ap_xgb = average_precision_score(y_test, y_xgb)\n",
    "print(f'Average precision on test set: {ap_xgb}')\n",
    "average_precisions['xgb'] = ap_xgb"
   ]
  },
  {
   "cell_type": "markdown",
   "metadata": {},
   "source": [
    "The average precision of 0.41 is It was considerably higher we see for all other models, which were all around 0.39.  This is not too surprising, since gradient boosting is generally considered the best classifier short of deep learning.\n",
    "\n",
    "We can now plot the position-recall curve."
   ]
  },
  {
   "cell_type": "code",
   "execution_count": 110,
   "metadata": {},
   "outputs": [],
   "source": [
    "# Load predicted probabilities\n",
    "y_proba_xgb = joblib.load(\n",
    "    'predictions_test/y_proba_xgb.joblib')"
   ]
  },
  {
   "cell_type": "code",
   "execution_count": 110,
   "metadata": {},
   "outputs": [
    {
     "data": {
      "text/plain": [
       "['saved_models/xgb_best_params_final.joblib']"
      ]
     },
     "execution_count": 110,
     "metadata": {},
     "output_type": "execute_result"
    }
   ],
   "source": [
    "# Save final iteration of best parameters\n",
    "best_params_final = best_params\n",
    "# Add optimum number of trees to best parameters\n",
    "best_params_final['num_boost_round'] = xgb_best.best_ntree_limit\n",
    "# Remove early stopping, because now we don't need it anymore\n",
    "best_params_final['early_stopping_rounds'] = None\n",
    "# Save (since it's more expensive to recalculate than for the other models)\n",
    "joblib.dump(best_params_final, 'saved_models/xgb_best_params_final.joblib')"
   ]
  },
  {
   "cell_type": "code",
   "execution_count": 111,
   "metadata": {},
   "outputs": [
    {
     "data": {
      "image/png": "[encoded data removed]",
      "text/plain": [
       "<Figure size 432x288 with 1 Axes>"
      ]
     },
     "metadata": {
      "needs_background": "light"
     },
     "output_type": "display_data"
    }
   ],
   "source": [
    "# Plot precision recall curve \n",
    "plot_precision_recall(y_proba_xgb)"
   ]
  },
  {
   "cell_type": "markdown",
   "metadata": {},
   "source": [
    "The precision-recall curve looks similar to before. Without comparing them side-by-side, it's hard to tell that this classifier performs much better. (This is in part because the small increase in average precision of 0.02 is hard to achieve, and is thus already considered \"much\" better.)"
   ]
  },
  {
   "cell_type": "code",
   "execution_count": 112,
   "metadata": {},
   "outputs": [
    {
     "data": {
      "image/png": "[encoded data removed]",
      "text/plain": [
       "<Figure size 432x288 with 1 Axes>"
      ]
     },
     "metadata": {
      "needs_background": "light"
     },
     "output_type": "display_data"
    }
   ],
   "source": [
    "# Plot effect of decision threshold\n",
    "plot_threshold(y_proba_xgb)"
   ]
  },
  {
   "cell_type": "markdown",
   "metadata": {},
   "source": [
    "We see that we need to choose a probability threshold around 0.65 in order to get our desired recall of 50%.  Let's try that and look at the classification report:"
   ]
  },
  {
   "cell_type": "code",
   "execution_count": null,
   "metadata": {},
   "outputs": [],
   "source": [
    "# Make hard predictions\n",
    "y_xgb_2 = custom_prediction(y_proba_xgb, 0.65)\n",
    "# Save new predictions to disk\n",
    "joblib.dump(y_xgb_2, 'predictions_test/y_xgb_2.joblib')"
   ]
  },
  {
   "cell_type": "code",
   "execution_count": 122,
   "metadata": {},
   "outputs": [
    {
     "name": "stdout",
     "output_type": "stream",
     "text": [
      "              precision    recall  f1-score   support\n",
      "\n",
      "           0       0.86      0.81      0.83    122083\n",
      "           1       0.40      0.49      0.44     31416\n",
      "\n",
      "   micro avg       0.74      0.74      0.74    153499\n",
      "   macro avg       0.63      0.65      0.64    153499\n",
      "weighted avg       0.77      0.74      0.75    153499\n",
      "\n"
     ]
    }
   ],
   "source": [
    "# Classification report\n",
    "print(classification_report(y_test, y_xgb_2))"
   ]
  },
  {
   "cell_type": "markdown",
   "metadata": {},
   "source": [
    "This model achieves a recall of 0.49 and a precision of 0.4.\n",
    "\n",
    "Finally, we'll take a look at which features are most important:"
   ]
  },
  {
   "cell_type": "code",
   "execution_count": 111,
   "metadata": {
    "collapsed": true
   },
   "outputs": [
    {
     "data": {
      "text/plain": [
       "log_installment                           3138\n",
       "dti                                       2844\n",
       "lti                                       2701\n",
       "log1p_total_il_high_credit_limit          2484\n",
       "log_yearly_installment_to_inc             2455\n",
       "log1p_tot_cur_bal                         2421\n",
       "log1p_annual_inc                          2411\n",
       "log1p_total_bal_ex_mort_to_inc            2228\n",
       "log1p_revol_bal_to_inc                    2208\n",
       "log_funded_amnt                           2159\n",
       "log1p_avg_cur_bal                         2135\n",
       "log1p_tot_hi_cred_lim                     2097\n",
       "log1p_total_bal_ex_mort                   2071\n",
       "log1p_tot_cur_bal_to_inc                  2000\n",
       "log1p_revol_bal                           1985\n",
       "log_earliest_cr_line_days                 1921\n",
       "log1p_bc_open_to_buy                      1897\n",
       "log1p_total_bc_limit                      1655\n",
       "log1p_total_rev_hi_lim                    1543\n",
       "revol_util                                1529\n",
       "mo_sin_old_il_acct                        1507\n",
       "log_mo_sin_old_rev_tl_op                  1468\n",
       "bc_util                                   1421\n",
       "log1p_mths_since_recent_bc                1226\n",
       "term_5y                                   1195\n",
       "pct_tl_nvr_dlq                            1079\n",
       "fico_range_low                            1070\n",
       "log1p_mo_sin_rcnt_rev_tl_op               1039\n",
       "total_acc                                  956\n",
       "log1p_num_il_tl                            904\n",
       "                                          ... \n",
       "x4_medical                                  51\n",
       "log1p_pub_rec                               50\n",
       "x4_car                                      50\n",
       "x4_wedding                                  47\n",
       "x4_moving                                   42\n",
       "x1_8 years                                  42\n",
       "log1p_tax_liens                             41\n",
       "x1_9 years                                  40\n",
       "x1_6 years                                  32\n",
       "min_collections_12_mths_ex_med              30\n",
       "x6_Cash                                     27\n",
       "log1p_delinq_amnt                           26\n",
       "x4_renewable_energy                         24\n",
       "x5_Joint App                                21\n",
       "x1_5 years                                  20\n",
       "x1_3 years                                  18\n",
       "min_tot_coll_amt                            18\n",
       "log1p_collections_12_mths_ex_med            17\n",
       "log1p_chargeoff_within_12_mths              12\n",
       "x0_ 60 months                               11\n",
       "x4_educational                               9\n",
       "min_delinq_2yrs                              8\n",
       "min_chargeoff_within_12_mths                 7\n",
       "min_tot_coll_amt_to_inc                      6\n",
       "log1p_acc_now_delinq                         5\n",
       "log1p_num_tl_30dpd                           4\n",
       "x6_DirectPay                                 3\n",
       "max_tot_cur_bal_to_inc                       3\n",
       "max_pct_tl_nvr_dlq                           2\n",
       "min_inv_sqrt_1p_mths_since_last_delinq       1\n",
       "Length: 114, dtype: int64"
      ]
     },
     "execution_count": 111,
     "metadata": {},
     "output_type": "execute_result"
    }
   ],
   "source": [
    "# Save feature importances\n",
    "fi_xgb = pd.Series(\n",
    "    xgb_best.get_fscore()) \\\n",
    "            .sort_values(ascending=False)\n",
    "joblib.dump(fi_xgb, 'saved_models/fi_xgb.joblib')"
   ]
  },
  {
   "cell_type": "code",
   "execution_count": 106,
   "metadata": {},
   "outputs": [],
   "source": [
    "# Load feature importance, if necessary\n",
    "fi_xgb = joblib.load('saved_models/fi_xgb.joblib')"
   ]
  },
  {
   "cell_type": "code",
   "execution_count": 107,
   "metadata": {},
   "outputs": [
    {
     "data": {
      "image/png": "[encoded data removed]",
      "text/plain": [
       "<Figure size 432x288 with 1 Axes>"
      ]
     },
     "metadata": {
      "needs_background": "light"
     },
     "output_type": "display_data"
    }
   ],
   "source": [
    "# Get most important features \n",
    "# (remember they are sorted in descending order)\n",
    "xgb_top = feature_importances['xgb'].head(10)\n",
    "\n",
    "# Plot\n",
    "sns.barplot(x=xgb_top, y=xgb_top.index, \n",
    "            color='blue')\n",
    "plt.title('Most important features');\n",
    "plt.show();"
   ]
  },
  {
   "cell_type": "markdown",
   "metadata": {},
   "source": [
    "The most important features are similar to what we saw before. For this model its even more clear that the most important features include a number of variables both as ratios (such as the loan amount-to income ratio and the installment-to-income ratio) as well as on the original scale (loan amount and installment payments). This was the reason that I decided to keep the original variables after creating the ratios, even though they created some collinearity that made the coefficients from the logistic regression uninterpretable, as discussed above. "
   ]
  },
  {
   "cell_type": "markdown",
   "metadata": {},
   "source": [
    "## Save/Load"
   ]
  },
  {
   "cell_type": "markdown",
   "metadata": {},
   "source": [
    "Finally, let's save the dictionary that holds the average precision scores for all models, so we can visualize it in the concluding notebook."
   ]
  },
  {
   "cell_type": "code",
   "execution_count": null,
   "metadata": {},
   "outputs": [],
   "source": [
    "# Save\n",
    "joblib.dump(average_precisions, 'saved_models/average_precisions.joblib')"
   ]
  },
  {
   "cell_type": "code",
   "execution_count": 11,
   "metadata": {},
   "outputs": [],
   "source": [
    "# Load\n",
    "average_precisions = joblib.load('saved_models/average_precisions.joblib')"
   ]
  },
  {
   "cell_type": "code",
   "execution_count": 108,
   "metadata": {},
   "outputs": [
    {
     "data": {
      "text/plain": [
       "{'lr': 0.39224740694750637,\n",
       " 'svm_lin': 0.3913884831950885,\n",
       " 'rf': 0.3939554379468981,\n",
       " 'xgb': 0.41414888290960883}"
      ]
     },
     "execution_count": 108,
     "metadata": {},
     "output_type": "execute_result"
    }
   ],
   "source": [
    "average_precisions"
   ]
  }
 ],
 "metadata": {
  "kernelspec": {
   "display_name": "Python 3",
   "language": "python",
   "name": "python3"
  },
  "language_info": {
   "codemirror_mode": {
    "name": "ipython",
    "version": 3
   },
   "file_extension": ".py",
   "mimetype": "text/x-python",
   "name": "python",
   "nbconvert_exporter": "python",
   "pygments_lexer": "ipython3",
   "version": "3.6.7"
  },
  "toc": {
   "base_numbering": 1,
   "nav_menu": {},
   "number_sections": true,
   "sideBar": true,
   "skip_h1_title": true,
   "title_cell": "Table of Contents",
   "title_sidebar": "Contents",
   "toc_cell": true,
   "toc_position": {
    "height": "47.2px",
    "left": "591.8px",
    "top": "95.6px",
    "width": "211.997px"
   },
   "toc_section_display": true,
   "toc_window_display": true
  }
 },
 "nbformat": 4,
 "nbformat_minor": 2
}
