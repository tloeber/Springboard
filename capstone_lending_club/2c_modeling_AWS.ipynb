{
 "cells": [
  {
   "cell_type": "markdown",
   "metadata": {},
   "source": [
    "## Overview\n",
    "This notebook estimates the more computationally expensive model (those that I could not train within 1-2 days on my laptop). I pursue four strategies to make estimating these models feasible: Firstly, running this bookbook on AWS EC2 lets me take advantage of more powerful hardware. Secondly, I used a single validation set rather than 5-fold cross-validation, which cuts computational time by a factor of 5. In addition, I use only a subset of observations (40,000 to 80,000, i.e. 5-10% of the training set).  Finally, for some of the models, I reduce the dimensionality of the features space using principal components analysis, which allowed using a larger number of observations (80,000)."
   ]
  },
  {
   "cell_type": "markdown",
   "metadata": {},
   "source": [
    "## Load packages and data"
   ]
  },
  {
   "cell_type": "code",
   "execution_count": 1,
   "metadata": {},
   "outputs": [],
   "source": [
    "import pdb \n",
    "import glob\n",
    "import copy\n",
    "import math\n",
    "import pickle\n",
    "import csv\n",
    "\n",
    "import boto3\n",
    "import uuid\n",
    "from hyperopt import fmin, tpe, hp, STATUS_OK, Trials, space_eval, pyll\n",
    "\n",
    "import numpy as np\n",
    "import pandas as pd\n",
    "import scipy as sp\n",
    "\n",
    "import matplotlib as mpl\n",
    "import matplotlib.pyplot as plt\n",
    "import matplotlib.cm as cm\n",
    "import seaborn as sns\n",
    " \n",
    "# from sklearn.compose import ColumnTransformer\n",
    "# from sklearn.pipeline import Pipeline\n",
    "# from sklearn.impute import SimpleImputer\n",
    "# from sklearn.preprocessing import StandardScaler, OneHotEncoder\n",
    "from sklearn.model_selection import train_test_split, \\\n",
    "    GridSearchCV, StratifiedShuffleSplit, ShuffleSplit, \\\n",
    "    cross_val_score, StratifiedKFold\n",
    "\n",
    "from sklearn.decomposition import PCA\n",
    "from sklearn.svm import SVC, LinearSVC\n",
    "\n",
    "from sklearn.metrics import confusion_matrix, classification_report, \\\n",
    "    precision_score, recall_score, \\\n",
    "    precision_recall_curve, average_precision_score, f1_score, \\\n",
    "    roc_curve, auc, roc_auc_score, make_scorer,\\\n",
    "    accuracy_score, balanced_accuracy_score\n",
    "\n",
    "from sklearn.externals import joblib\n",
    "from sklearn.utils import resample\n",
    "from sklearn.utils.fixes import signature\n",
    "\n",
    "\n",
    "# Set up pandas table display\n",
    "pd.set_option('display.width', 120)\n",
    "pd.set_option('display.max_columns', 100)\n",
    "pd.set_option('display.notebook_repr_html', True)\n",
    "\n",
    "# Set plotting options\n",
    "sns.set() # Use seaborn defaults for plotting\n",
    "%matplotlib inline "
   ]
  },
  {
   "cell_type": "markdown",
   "metadata": {},
   "source": [
    "We will use Boto 3 again to interact with S3 from our notebook."
   ]
  },
  {
   "cell_type": "code",
   "execution_count": 14,
   "metadata": {},
   "outputs": [],
   "source": [
    "# Create boto3 resource to interact with S3\n",
    "s3 = boto3.resource('s3')"
   ]
  },
  {
   "cell_type": "markdown",
   "metadata": {},
   "source": [
    "In the previous notebook, we uploaded our preprocessed data from the local machine to a S3 bucket. Let's now download these data to our EC2 instance."
   ]
  },
  {
   "cell_type": "code",
   "execution_count": 15,
   "metadata": {},
   "outputs": [
    {
     "name": "stdout",
     "output_type": "stream",
     "text": [
      "mkdir: cannot create directory ‘data_processed’: File exists\r\n"
     ]
    }
   ],
   "source": [
    "# Create folder to store data\n",
    "!mkdir data_processed  \n",
    "\n",
    "# Download files from S3 bucket\n",
    "bucket_name = 'lending-club-a7b2c3e3-07f7-4444-b258-5bb63c282398'\n",
    "filenames = ['X_train', 'X_test', 'y_train', 'y_test', 'feature_names']\n",
    "for filename in filenames:\n",
    "    s3.Object(bucket_name, f'{filename}.joblib') \\\n",
    "        .download_file(f'data_processed/{filename}.joblib')"
   ]
  },
  {
   "cell_type": "markdown",
   "metadata": {},
   "source": [
    "Now we can load the data from disk."
   ]
  },
  {
   "cell_type": "code",
   "execution_count": 16,
   "metadata": {},
   "outputs": [],
   "source": [
    "# Load preprocessed training and test set, incl. feature names \n",
    "X_train = joblib.load('data_processed/X_train.joblib')\n",
    "X_test = joblib.load('data_processed/X_test.joblib')\n",
    "y_train = joblib.load('data_processed/y_train.joblib')\n",
    "y_test = joblib.load('data_processed/y_test.joblib')\n",
    "feature_names = joblib.load('data_processed/feature_names.joblib')"
   ]
  },
  {
   "cell_type": "code",
   "execution_count": 17,
   "metadata": {},
   "outputs": [
    {
     "data": {
      "text/plain": [
       "0.16258930635240712"
      ]
     },
     "execution_count": 17,
     "metadata": {},
     "output_type": "execute_result"
    }
   ],
   "source": [
    "np.mean(np.apply_along_axis(np.mean,1,X_train))"
   ]
  },
  {
   "cell_type": "code",
   "execution_count": 19,
   "metadata": {},
   "outputs": [
    {
     "data": {
      "text/plain": [
       "(153499,)"
      ]
     },
     "execution_count": 19,
     "metadata": {},
     "output_type": "execute_result"
    }
   ],
   "source": [
    "y_test.shape"
   ]
  },
  {
   "cell_type": "markdown",
   "metadata": {},
   "source": [
    "Since the full data set is too large to fit a SVM with RBF or polynomial kernel, we create smaller subsets with 50,000 observations for the training set (only 10,000 of which will actually be used for training, the remaining will be used for validation)."
   ]
  },
  {
   "cell_type": "code",
   "execution_count": 3,
   "metadata": {},
   "outputs": [],
   "source": [
    "# Create smaller subsets from data for SVMs\n",
    "X_train_s, y_train_s = resample(\n",
    "    X_train, y_train, \n",
    "    replace=False, n_samples=50000, random_state=1)"
   ]
  },
  {
   "cell_type": "markdown",
   "metadata": {},
   "source": [
    "## Dimensionality Reduction"
   ]
  },
  {
   "cell_type": "markdown",
   "metadata": {},
   "source": [
    "Another step to make the models less computationally expensive is to reduce the dimensionality of the data set.  To that end, let's perform principal component analysis to determine whether the data lie in a lower dimensional subspace. "
   ]
  },
  {
   "cell_type": "code",
   "execution_count": 18,
   "metadata": {},
   "outputs": [
    {
     "data": {
      "image/png": "[encoded data removed]",
      "text/plain": [
       "<Figure size 864x504 with 1 Axes>"
      ]
     },
     "metadata": {
      "needs_background": "light"
     },
     "output_type": "display_data"
    }
   ],
   "source": [
    "# Use PCA to assess whether features lie in lower-dimensional subspace\n",
    "pca = PCA()\n",
    "pca.fit(X_train)\n",
    "explained_var = pca.explained_variance_ratio_\n",
    "\n",
    "# Plot results\n",
    "plt.figure(figsize=(12, 7))\n",
    "plt.step(range(1, len(explained_var)+2),\n",
    "         np.hstack([[0], np.cumsum(explained_var)]),\n",
    "         color='black', label='Cumulative')\n",
    "plt.bar(range(1, len(explained_var)+1),\n",
    "        explained_var, \n",
    "        label='per principal component')\n",
    "plt.legend('lowerright')\n",
    "plt.title('Cumulative and per-component explained variance')\n",
    "plt.ylim(0,1.05)\n",
    "plt.xlabel('Number of Component')\n",
    "plt.ylabel('Explained Variance Ratio')\n",
    "plt.show();"
   ]
  },
  {
   "cell_type": "markdown",
   "metadata": {},
   "source": [
    "The above plot shows the explained variance for principal component (blue bars), as well as the cumulative explained variance. This reveals that the first 20 principal components explain about 80% of the variance, and the first 50 principal components explain roughly 95% of the variance. \n",
    "\n",
    "I thus decide that the first 30 principal components, which explain close to 90% of the variance, give a good-enough lower-dimensional representation of the data. This reduction number of dimensions by over three quarters should make the models considerably faster to train."
   ]
  },
  {
   "cell_type": "code",
   "execution_count": 24,
   "metadata": {},
   "outputs": [],
   "source": [
    "# Project data onto the first 30 principal components\n",
    "pca = PCA(n_components=30)\n",
    "X_train_pc = pca.fit_transform(X_train) \n",
    "X_test_pc = pca.transform(X_test)\n",
    "\n",
    "# Create smaller subsets from principal components\n",
    "X_train_pc_s, y_train_pc_s = resample(\n",
    "    X_train_pc, y_train,\n",
    "    replace=False, n_samples=100000, random_state=1)"
   ]
  },
  {
   "cell_type": "markdown",
   "metadata": {},
   "source": [
    "## Predictive models"
   ]
  },
  {
   "cell_type": "markdown",
   "metadata": {},
   "source": [
    "We will again define dictionaries to hold important results from each model (average precision score, classification report, and future importance)."
   ]
  },
  {
   "cell_type": "code",
   "execution_count": 26,
   "metadata": {},
   "outputs": [],
   "source": [
    "# Initialize dictionary to store average precision\n",
    "average_precisions = {}"
   ]
  },
  {
   "cell_type": "code",
   "execution_count": null,
   "metadata": {},
   "outputs": [],
   "source": [
    "# If it already (partially) exist, load it\n",
    "average_precisions = joblib.load(\n",
    "    'saved_models/average_precisions.joblib')"
   ]
  },
  {
   "cell_type": "markdown",
   "metadata": {},
   "source": [
    "Before proceeding to train the models, I switch to a more powerful EC2 instance type. My decision on the most appropriate type was primarily based on two considerations:\n",
    "\n",
    "First, note that the code will be single-threaded, because Hyperopt does not natively support parallelization.  For the other learners in the previous notebook, multi-threading was achieved through scikit-learn's cross validator class. Here however, I only use a *single* validation set, because I will be  training more computationally expensive models. Thus, it is worth trading a slightly higher variance in the validation score for considerable savings in computation.\n",
    "\n",
    "Secondly, note that my models – SVM's with RBF and polynomial kernels – achieve a considerable speed-up if we dedicate a large amount of memory to them.\n",
    "\n",
    "With these considerations in mind, I chose a r5.large instance, as it offered\\s the largest amount of memory (16GB) and one of the highest computational capacities (9 ECUs) of all instances with one or two virtual CPUs. While one CPU would have been sufficient, none of these instances offered enough memory."
   ]
  },
  {
   "cell_type": "markdown",
   "metadata": {},
   "source": [
    "### SVM with RBF-Kernel"
   ]
  },
  {
   "cell_type": "markdown",
   "metadata": {},
   "source": [
    "The strength of an SVM with an RBF kernel is in modeling *non-linear* relationships. Its weakness is that it does not scale well: According to scikit-learn's documentation, it is only recommended up to a couple tens of thousasands of observations. \n",
    "\n",
    "I will tune two hyperparameters, gamma and C. Let's think about what an appropriate prior year distribution for each of these would look like. For gamma, the neighborhood size, we will use a log-normal distribution. As mentioned in the previous note book, this distribution lets us concentrate probability mass on the most likely values in the center, but does so on a logarithmic scale. For the distribution's center, we use scikit-learn's default value, the inverse of the number of features. In our case this amounts to 1/130 for the full data set and 1/30 for the principal components. One potential point of confusion is that – as mentioned in a previous notebook – hyperopt uses the *natural* exponential function, whereas np.logspace (which we would often use with grid search) uses base 10. Therefore, we use log(1/130) and log(1/30) as the center parameter.\n",
    "\n",
    "Setting the variance parameter is less intuitive, so I simply experiment with different values and observe the location of median as well as the 5th and 95th percentile. I choose 3, which results in most values falling within the commonly used range of 0.001 and 1000. "
   ]
  },
  {
   "cell_type": "code",
   "execution_count": 15,
   "metadata": {},
   "outputs": [
    {
     "name": "stdout",
     "output_type": "stream",
     "text": [
      "Descriptive statistics:\n",
      " count    1.000000e+03\n",
      "mean     9.456460e+00\n",
      "std      1.577441e+02\n",
      "min      2.745386e-07\n",
      "5%       9.630072e-05\n",
      "50%      2.852804e-02\n",
      "95%      1.266645e+01\n",
      "max      4.906266e+03\n",
      "dtype: float64\n"
     ]
    },
    {
     "data": {
      "image/png": "[encoded data removed]",
      "text/plain": [
       "<Figure size 432x288 with 1 Axes>"
      ]
     },
     "metadata": {
      "needs_background": "light"
     },
     "output_type": "display_data"
    }
   ],
   "source": [
    "# Inspect prior distribution for gamma (Principal components)\n",
    "gamma_distrdistr = hp.lognormal('C', np.log(1/30), 3.5)\n",
    "samples = [pyll.stochastic.sample(gamma_distrdistr) for i in range(1000)]\n",
    "\n",
    "# Descriptive statistics\n",
    "print('Descriptive statistics:\\n', \n",
    "      pd.Series(samples).describe(percentiles=[0.05, 0.5, 0.95]))\n",
    "\n",
    "# Discard outliers before plotting \n",
    "samples = list(filter(lambda x: x<100, samples))\n",
    "# Plot\n",
    "# sns.distplot(pd.Series(samples))\n",
    "pd.Series(samples).plot(kind='hist', bins=50)\n",
    "# plt.xlim([0,1000])\n",
    "plt.xlabel('gamma_distrdistr')\n",
    "plt.title('Prior distribution of neighborhood size gamma')\n",
    "plt.show()"
   ]
  },
  {
   "cell_type": "code",
   "execution_count": 67,
   "metadata": {},
   "outputs": [
    {
     "name": "stdout",
     "output_type": "stream",
     "text": [
      "Descriptive statistics:\n",
      " count    1.000000e+03\n",
      "mean     1.303583e+01\n",
      "std      3.178367e+02\n",
      "min      9.825670e-09\n",
      "5%       1.250487e-05\n",
      "50%      9.169461e-03\n",
      "95%      4.398888e+00\n",
      "max      9.997066e+03\n",
      "dtype: float64\n"
     ]
    },
    {
     "data": {
      "image/png": "[encoded data removed]",
      "text/plain": [
       "<Figure size 432x288 with 1 Axes>"
      ]
     },
     "metadata": {
      "needs_background": "light"
     },
     "output_type": "display_data"
    }
   ],
   "source": [
    "# Inspect prior distribution for gamma \n",
    "# (Original columns/no principal components)\n",
    "gamma_distrdistr = hp.lognormal('C', np.log(1/130), 4)\n",
    "samples = [pyll.stochastic.sample(gamma_distrdistr) for i in range(1000)]\n",
    "\n",
    "# Descriptive statistics\n",
    "print('Descriptive statistics:\\n', \n",
    "      pd.Series(samples).describe(percentiles=[0.05, 0.5, 0.95]))\n",
    "\n",
    "# Discard outliers before plotting \n",
    "samples = list(filter(lambda x: x<100, samples))\n",
    "# Plot\n",
    "# sns.distplot(pd.Series(samples))\n",
    "pd.Series(samples).plot(kind='hist', bins=50)\n",
    "# plt.xlim([0,1000])\n",
    "plt.xlabel('gamma_distrdistr')\n",
    "plt.title('Prior distribution of neighborhood size gamma')\n",
    "plt.show()"
   ]
  },
  {
   "cell_type": "markdown",
   "metadata": {},
   "source": [
    "For the regularization parameter C, we will also use a lognormal distribution. Since we want to center it at 1, we can simply pass a mean parameter of 0. To find the scale parameter, we experiment again to find reasonable values. Like for gamma, a common range is 0.001 to 1000. I choose a variance parameter of 5, but will later set an upper boundary of 10, which is usually large enough, because larger values take longer to train (up to an order of magnitude).  Since log-normal distributions are characterized by large positive outliers, and since the model is already computationally expensive, setting this upper threshold is useful.  As discussed in a previous notebook, hyperopt does not support setting upper or lower bounds by default.  Therefore, I add a function that adjusts the samples before passing them to the optimization, as well as before using the optimal parameters in other ways. If this threshold turns out to be too low, we will easily notice because the optimal value will be at the threshold. In this unlikely case, we will simply reestimate the model with gamma confined between 10 and 1000."
   ]
  },
  {
   "cell_type": "code",
   "execution_count": null,
   "metadata": {},
   "outputs": [],
   "source": [
    "# Inspect prior distribution for C\n",
    "c_distr = hp.lognormal('C', 0, 3)\n",
    "samples = [pyll.stochastic.sample(c_distr) for i in range(1000)]\n",
    "\n",
    "# Descriptive statistics\n",
    "print('Descriptive statistics:\\n', \n",
    "      pd.Series(samples).describe(\n",
    "          percentiles=[0.05, 0.5, 0.95]))\n",
    "\n",
    "# Discard outliers before plotting\n",
    "samples = list(filter(lambda x: x<100, samples))\n",
    "# Plot\n",
    "pd.Series(samples).plot(kind='hist', bins=50)\n",
    "plt.xlabel('c_distr')\n",
    "plt.title('Prior distribution of regularization strength')\n",
    "plt.show()"
   ]
  },
  {
   "cell_type": "markdown",
   "metadata": {},
   "source": [
    "This is the function that adjusts the parameters, making sure that C is not larger than 10:"
   ]
  },
  {
   "cell_type": "code",
   "execution_count": 14,
   "metadata": {},
   "outputs": [],
   "source": [
    "def adjust_params_svm_rbf(params):\n",
    "    \"\"\" \n",
    "    Adjust parameters where hyperopt did not allow sampling from optimal \n",
    "    distribution.\n",
    "    \"\"\"\n",
    "\n",
    "    # Set min or max thresholds for parameters, where applicable\n",
    "    if params['C'] >= 10:\n",
    "        params['C'] = 10\n",
    "        \n",
    "    # Return modified parameters\n",
    "    return params"
   ]
  },
  {
   "cell_type": "markdown",
   "metadata": {},
   "source": [
    "Now we can combine the prior distributions specified above with other parameters we want to pass to the learner. Since the classes are imbalanced, we tell the classifier to adjust the weights accordingly. We also specify a much larger kernel size than default in order to speed up learning. (I Initially tried even higher values to take full advantage of the available RAM, but experienced instability of the Python kernel.)"
   ]
  },
  {
   "cell_type": "code",
   "execution_count": null,
   "metadata": {},
   "outputs": [],
   "source": [
    "# PRINCIPAL COMPONENTS\n",
    "MAX_EVALS=40\n",
    "\n",
    "# Define search space\n",
    "space = {\n",
    "    'kernel': 'rbf',\n",
    "    'cache_size': 10000, # 10GB\n",
    "    'class_weight': 'balanced',\n",
    "    'C': hp.lognormal('C', 0, 3),\n",
    "    'gamma': hp.lognormal('gamma', np.log(1/30), 3.5)}"
   ]
  },
  {
   "cell_type": "markdown",
   "metadata": {},
   "source": [
    "Now let's define a function that carries out the Bayesian hyperparameter optimization, as explained in more detail in the previous notebook:"
   ]
  },
  {
   "cell_type": "code",
   "execution_count": 15,
   "metadata": {},
   "outputs": [],
   "source": [
    "# Function to carry out hyperparameter optimization\n",
    "def find_best_hp(CLF, space, model_name, \n",
    "                 X_train, y_train, \n",
    "                 adjust_params=None,n_folds=5, n_jobs=-1, max_evals=20):\n",
    "    \"\"\"Find best hyperparameters for a given classifier and search space.\"\"\"\n",
    "    \n",
    "    # Trials object to track progress\n",
    "    trials = Trials()\n",
    "\n",
    "    # CSV file to track progress\n",
    "    progress_file_path = 'hp_progress/progress_' + model_name + '.csv'\n",
    "    with open(progress_file_path, 'w') as file:\n",
    "        writer = csv.writer(file)\n",
    "        # Write header to the file\n",
    "        writer.writerow(['loss', 'params'])\n",
    "\n",
    "    # Objective function to minimize\n",
    "    def objective(params, CLF=CLF, \n",
    "                  progress_file_path=progress_file_path,\n",
    "                  n_folds=n_folds, n_jobs=n_jobs):\n",
    "        \"\"\"Objective function to minimize\"\"\"\n",
    "        \n",
    "        # Adjust parameters, if specified\n",
    "        if adjust_params is not None:\n",
    "            params = adjust_params(params)\n",
    "    \n",
    "        # Instantiate CLF\n",
    "        clf = CLF(**params)\n",
    "        \n",
    "        ## Generate indices for cross-validation\n",
    "        # If only one \"fold\" is desired, split into train and validation set\n",
    "        if n_folds == 1: \n",
    "            cv = StratifiedShuffleSplit(n_splits=1, test_size=.2, \n",
    "                                        random_state=1)\n",
    "        # Otherwise, generate indices for proper cross-validation split\n",
    "        else:  \n",
    "            cv = StratifiedKFold(n_folds, random_state=1)\n",
    "\n",
    "        # Compute average precision through CV / validation set\n",
    "        score = cross_val_score(clf, X_train, y_train, cv=cv,\n",
    "                                scoring='average_precision', n_jobs=n_jobs)\n",
    "        # Compute loss as the negative mean of the average precision scores\n",
    "        # (since hyperopt can only minimize a function)\n",
    "        loss = -score.mean()\n",
    "        \n",
    "        # Save results to csv file\n",
    "        with open(progress_file_path, 'a') as file:\n",
    "            writer = csv.writer(file)\n",
    "            writer.writerow([loss, params])\n",
    "        \n",
    "        # Return results\n",
    "        return {'loss': loss, 'params': params, 'status': STATUS_OK}\n",
    "    \n",
    "    # Minimize objective\n",
    "    best = fmin(objective, space, algo=tpe.suggest,\n",
    "                max_evals=max_evals, trials=trials)\n",
    "\n",
    "    # Get the values of the optimal parameters\n",
    "    best_params = space_eval(space, best)\n",
    "    # Adjust best parameters, if specified\n",
    "    if adjust_params is not None:\n",
    "        best_params = adjust_params(best_params)\n",
    "\n",
    "    # Fit the model with the optimal hyperparamters\n",
    "    clf = CLF(**best_params)\n",
    "    clf.fit(X_train, y_train)\n",
    "    \n",
    "    # Save model to disk\n",
    "    joblib.dump(clf, 'saved_models/' + model_name + '.joblib')\n",
    "    \n",
    "    # Print best parameters\n",
    "    print(best_params)"
   ]
  },
  {
   "cell_type": "code",
   "execution_count": null,
   "metadata": {},
   "outputs": [],
   "source": [
    "# Create directories to store models and progress files\n",
    "!mkdir hp_progress saved_models"
   ]
  },
  {
   "cell_type": "code",
   "execution_count": 22,
   "metadata": {},
   "outputs": [],
   "source": [
    "# Calculate average precision\n",
    "def return_save_ap(clf, model_name, X_test, y_test, \n",
    "                  X_train, y_train, validation_plot=False):\n",
    "    \"\"\"\n",
    "    Returns, saves, and prints average precision score on train and test set; \n",
    "    saves score, As well as predictions, from *test* set. Optionally plots how \n",
    "    average precision changed over iterations (designed for hyperopt).\n",
    "    \"\"\"\n",
    "\n",
    "    # Predict class\n",
    "    y = clf.predict(X_test)\n",
    "    # Save class prediction\n",
    "    joblib.dump(y, f'predictions_test/y_{model_name}.joblib')\n",
    "    \n",
    "    # Predict class probabilities\n",
    "    # Try if classifier supports probability\n",
    "    try:\n",
    "        y_score = clf.predict_proba(X_test)[:,1]\n",
    "        y_score_train = clf.predict_proba(X_train)[:,1]\n",
    "    # If it doesn't, use its decision function\n",
    "    except AttributeError:\n",
    "        y_score = clf.decision_function(X_test)\n",
    "        y_score_train = clf.decision_function(X_train)\n",
    "       \n",
    "    # Save predictions for test set\n",
    "    joblib.dump(y_score, f'predictions_test/y_score_{model_name}.joblib')\n",
    "    \n",
    "    # Calculate average precision\n",
    "    ap_score = average_precision_score(y_test, y_score)\n",
    "    ap_score_train = average_precision_score(y_train, y_score_train)\n",
    "    \n",
    "    # Print AP\n",
    "    print('Best average precision score on *test* set: {:.4f}' \\\n",
    "              .format(ap_score))\n",
    "    print('Best average precision score on *training* set: {:.4f}' \\\n",
    "              .format(ap_score_train))\n",
    "    \n",
    "    # Plot AP, if specified\n",
    "    if validation_plot:\n",
    "        # Load progress file with validation performance\n",
    "        progress_file_path = 'hp_progress/progress_' + model_name + '.csv'\n",
    "        progress_file = pd.read_csv(progress_file_path)\n",
    "\n",
    "        # Extract AP for each iteration\n",
    "        ap = - progress_file.loss\n",
    "        ap.plot()\n",
    "        plt.title('Performance during Cross-Validation')\n",
    "        plt.ylabel('Average Precision')\n",
    "        plt.xlabel('Iteration');\n",
    "        \n",
    "    # Return average precision\n",
    "    return ap_score"
   ]
  },
  {
   "cell_type": "markdown",
   "metadata": {},
   "source": [
    "We are now ready to estimate the model. We will try two different versions, one using 80,000 observations from the principal components, and one using 40,000 observations with the original variables."
   ]
  },
  {
   "cell_type": "markdown",
   "metadata": {},
   "source": [
    "### With principal components:"
   ]
  },
  {
   "cell_type": "code",
   "execution_count": null,
   "metadata": {},
   "outputs": [],
   "source": [
    "# Find best hyperparameters\n",
    "find_best_hp(SVC, space, model_name='svm_rbf_pc_hp',\n",
    "              X_train=X_train_pc_s, y_train=y_train_pc_s, \n",
    "              adjust_params=adjust_params_svm_rbf,\n",
    "              max_evals=MAX_EVALS,n_folds=1, n_jobs=1)"
   ]
  },
  {
   "cell_type": "code",
   "execution_count": 20,
   "metadata": {},
   "outputs": [],
   "source": [
    "# Load saved model from disk, if necessary\n",
    "svm_rbf_pc_hp = joblib.load('saved_models/svm_rbf_pc_hp.joblib')"
   ]
  },
  {
   "cell_type": "code",
   "execution_count": null,
   "metadata": {},
   "outputs": [],
   "source": [
    "# Create folder to store predictions for test set\n",
    "! mkdir predictions_test"
   ]
  },
  {
   "cell_type": "code",
   "execution_count": 27,
   "metadata": {
    "scrolled": false
   },
   "outputs": [
    {
     "name": "stdout",
     "output_type": "stream",
     "text": [
      "Best average precision score on *test* set: 0.3878\n",
      "Best average precision score on *training* set: 0.3874\n"
     ]
    },
    {
     "data": {
      "image/png": "[encoded data removed]",
      "text/plain": [
       "<Figure size 432x288 with 1 Axes>"
      ]
     },
     "metadata": {
      "needs_background": "light"
     },
     "output_type": "display_data"
    }
   ],
   "source": [
    "# Print and save average precision; save predictions\n",
    "average_precisions['svm_rbf_pc'] = return_save_ap(\n",
    "    svm_rbf_pc_hp, 'svm_rbf_pc_hp', X_test_pc, y_test,\n",
    "    X_train=X_train_pc, y_train=y_train,\n",
    "    validation_plot=True)"
   ]
  },
  {
   "cell_type": "code",
   "execution_count": 28,
   "metadata": {},
   "outputs": [],
   "source": [
    "# Load predicted probability, if necessary\n",
    "y_score_svm_rbf_pc = joblib.load('predictions_test/y_score_svm_rbf_pc_hp.joblib')"
   ]
  },
  {
   "cell_type": "markdown",
   "metadata": {},
   "source": [
    "The test set average precision score of 0.388 is similar to – but slightly smaller than – what we got for logistic regression (.392) and random forests (.394). It is somewhat disappointing that we do not exceed the performance of logistic regression, which is very similar to a SVM with a *linear* kernel.  It seems that the greater flexibility of the RBF kernel to pick up nonlinear relationships is more than outweighed by the reduction in sample size we are forced to incur in order to make training the model computationally feasible. \n",
    "\n",
    "The next step is to adjust the decision threshold in order to get the hard predictions (class labels). "
   ]
  },
  {
   "cell_type": "code",
   "execution_count": 29,
   "metadata": {},
   "outputs": [],
   "source": [
    "# Define function to make a prediction with custom threshold\n",
    "def custom_prediction(proba_or_dist, threshold):\n",
    "    \"\"\"\n",
    "    Makes predictions for binary classification from probabilities or distance\n",
    "    to separating hyperplane, given a custom threshold.\n",
    "    \"\"\"\n",
    "\n",
    "    return (proba_or_dist > threshold).astype(int)\n",
    "\n",
    "\n",
    "# Define function to plot effect of threshold on precision and recall\n",
    "def plot_threshold(proba_or_dist, y_true=y_test, thresholds=None):\n",
    "    \"\"\"\n",
    "    Plot precision and recall as a function of decision threshold for an array of\n",
    "    probabilities or distances to separating hyperplane.\n",
    "\n",
    "    If no custom list of thresholds is supplied, it defaults to a grid of length \n",
    "    100, spanning between the minimum and maximum probability/distance. (In\n",
    "    order to avoid thresholds that assign all observations to a single class, \n",
    "    the smallest and largest thresholds are offset by 0.01 from the minimum and \n",
    "    maximum probability/distance.)\n",
    "\n",
    "    Parameters\n",
    "    ----------\n",
    "    proba_or_dist: array-like\n",
    "        Probabilities or distance from separating hyperplane\n",
    "    y_true: array-like\n",
    "        True values of target variable.\n",
    "    thresholds: list-like\n",
    "        Custom thresholds. Optional.  \n",
    "        \n",
    "    Returns\n",
    "    -------\n",
    "        None\n",
    "    \"\"\"\n",
    "    \n",
    "    # Initialize dictionaries to store results\n",
    "    classes = {}\n",
    "    precisions = {}\n",
    "    recalls = {}\n",
    "            \n",
    "    # If no custom thresholds were passed, make grid between minimum and maximum\n",
    "    # values for probability or distance.\n",
    "    if thresholds is None:\n",
    "        thresholds = np.linspace(proba_or_dist.min() + 0.01,\n",
    "                                 proba_or_dist.max() - 0.01, 100)\n",
    "\n",
    "    # Iterate over thresholds\n",
    "    for threshold in thresholds:\n",
    "        # Classify as 1 if probability/distance is greater than threshold, else 0\n",
    "        classes[threshold] = custom_prediction(proba_or_dist, threshold)\n",
    "\n",
    "        # Compute precision and recall\n",
    "        precisions[threshold] = precision_score(y_true, classes[threshold])\n",
    "        recalls[threshold] = recall_score(y_true, classes[threshold])\n",
    "\n",
    "    # Combine precision and recall into a data frame, indexed by threshold\n",
    "    pr_rec = pd.DataFrame({'precision': precisions, 'recall': recalls})\n",
    "\n",
    "    # Plot results\n",
    "    pr_rec.plot()\n",
    "    plt.title('Effect of threshold on Precision and Recall')\n",
    "    plt.xlabel('Threshold')\n",
    "    plt.ylabel('Precision\\nRecall')\n",
    "    plt.show()"
   ]
  },
  {
   "cell_type": "code",
   "execution_count": 30,
   "metadata": {},
   "outputs": [
    {
     "data": {
      "image/png": "[encoded data removed]",
      "text/plain": [
       "<Figure size 432x288 with 1 Axes>"
      ]
     },
     "metadata": {
      "needs_background": "light"
     },
     "output_type": "display_data"
    }
   ],
   "source": [
    "# Plot effect of decision threshold\n",
    "plot_threshold(y_score_svm_rbf_pc)"
   ]
  },
  {
   "cell_type": "markdown",
   "metadata": {},
   "source": [
    "This shows we need to set the decision the threshold at around 0.4.  Let's use this information to generate hard predictions."
   ]
  },
  {
   "cell_type": "code",
   "execution_count": 46,
   "metadata": {},
   "outputs": [
    {
     "data": {
      "text/plain": [
       "['predictions_test/y_svm_rbf_pc_2.joblib']"
      ]
     },
     "execution_count": 46,
     "metadata": {},
     "output_type": "execute_result"
    }
   ],
   "source": [
    "# Make hard predictions\n",
    "y_svm_rbf_pc_2 = custom_prediction(y_score_svm_rbf_pc, 0.4)\n",
    "# Save new predictions to disk\n",
    "joblib.dump(y_svm_rbf_pc_2, 'predictions_test/y_svm_rbf_pc_2.joblib')"
   ]
  },
  {
   "cell_type": "code",
   "execution_count": 47,
   "metadata": {},
   "outputs": [
    {
     "name": "stdout",
     "output_type": "stream",
     "text": [
      "              precision    recall  f1-score   support\n",
      "\n",
      "           0       0.86      0.78      0.82    122083\n",
      "           1       0.37      0.50      0.42     31416\n",
      "\n",
      "   micro avg       0.72      0.72      0.72    153499\n",
      "   macro avg       0.61      0.64      0.62    153499\n",
      "weighted avg       0.76      0.72      0.74    153499\n",
      "\n"
     ]
    }
   ],
   "source": [
    "# Get classification report \n",
    "print(classification_report(y_test, y_svm_rbf_pc_2))"
   ]
  },
  {
   "cell_type": "markdown",
   "metadata": {},
   "source": [
    "We see that we achieved a recall of 0.5 and a precision of 0.37."
   ]
  },
  {
   "cell_type": "markdown",
   "metadata": {},
   "source": [
    "### With original features/no principal components"
   ]
  },
  {
   "cell_type": "markdown",
   "metadata": {},
   "source": [
    "Because of this somewhat disappointing performance of the previous model, we'll reestimate the same model – a SVM with a RBF kernel – but using different features: Instead of the principal components, we will use the original features.  While these contain additional information that was lost during the dimensionality reduction, we are forced to cut our sample size in half to make up for the greater computational cost.  It's impossible to say beforehand if this trade-off is worth it, so we have to try to find out."
   ]
  },
  {
   "cell_type": "code",
   "execution_count": 23,
   "metadata": {},
   "outputs": [
    {
     "name": "stdout",
     "output_type": "stream",
     "text": [
      "{'C': 10, 'cache_size': 10000, 'class_weight': 'balanced', 'gamma': 0.0005498849635490696, 'kernel': 'rbf'}\n"
     ]
    }
   ],
   "source": [
    "# Original columns/no principal components\n",
    "MAX_EVALS=40\n",
    "\n",
    "# Define search space\n",
    "space = {\n",
    "    'kernel': 'rbf',\n",
    "    'cache_size': 10000,  # 10GB\n",
    "    'class_weight': 'balanced',\n",
    "    'C': hp.lognormal('C', 0, 3),\n",
    "    'gamma': hp.lognormal('gamma', np.log(1/130), 3.5)}\n",
    "\n",
    "# Find best hyperparameters\n",
    "find_best_hp(SVC, space, model_name='svm_rbf_hp',\n",
    "              X_train=X_train_s, y_train=y_train_s, \n",
    "              adjust_params=adjust_params_svm_rbf,\n",
    "              max_evals=MAX_EVALS,n_folds=1, n_jobs=1)"
   ]
  },
  {
   "cell_type": "code",
   "execution_count": null,
   "metadata": {},
   "outputs": [],
   "source": [
    "# Load saved model from disk, if necessary\n",
    "svm_rbf_hp = joblib.load('saved_models/svm_rbf_hp.joblib')"
   ]
  },
  {
   "cell_type": "markdown",
   "metadata": {},
   "source": [
    "Let's take a look at the average precision score of our model:"
   ]
  },
  {
   "cell_type": "code",
   "execution_count": 58,
   "metadata": {},
   "outputs": [
    {
     "name": "stdout",
     "output_type": "stream",
     "text": [
      "Best average precision score on *test* set: 0.3983\n",
      "Best average precision score on *training* set: 0.3972\n"
     ]
    },
    {
     "data": {
      "image/png": "[encoded data removed]",
      "text/plain": [
       "<Figure size 432x288 with 1 Axes>"
      ]
     },
     "metadata": {
      "needs_background": "light"
     },
     "output_type": "display_data"
    }
   ],
   "source": [
    "# Print and save average precision; save predictions\n",
    "average_precisions['svm_rbf'] = return_save_ap(\n",
    "    svm_rbf_hp, 'svm_rbf_hp', X_test, y_test,\n",
    "    X_train=X_train, y_train=y_train,\n",
    "    validation_plot=True)"
   ]
  },
  {
   "cell_type": "markdown",
   "metadata": {},
   "source": [
    "Using the original features rather than the principal components gives us a considerable boost in accuracy from 0.386 to 0.398. This means that the model now performs a little better than logistic regression and random forests (though it is still far behind XGBoost's 0.414). Thus, it was worth we use more features rather than more observations.  \n",
    "We will keep both versions for our final ensemble, though. The fact that the two versions use different predictors should de-correlate the prediction sufficiently to justify treating them as separate models (rather than weighing them each by, say, only 50%). \n",
    "\n",
    "Again, we want to adjust the decision the threshold for generating hard predictions:"
   ]
  },
  {
   "cell_type": "code",
   "execution_count": null,
   "metadata": {},
   "outputs": [],
   "source": [
    "# Load predicted probability\n",
    "y_score_svm_rbf = joblib.load('predictions_test/y_score_svm_rbf_hp.joblib')"
   ]
  },
  {
   "cell_type": "code",
   "execution_count": 51,
   "metadata": {},
   "outputs": [
    {
     "data": {
      "image/png": "[encoded data removed]",
      "text/plain": [
       "<Figure size 432x288 with 1 Axes>"
      ]
     },
     "metadata": {
      "needs_background": "light"
     },
     "output_type": "display_data"
    }
   ],
   "source": [
    "# Plot effect of decision threshold\n",
    "plot_threshold(y_score_svm_rbf)"
   ]
  },
  {
   "cell_type": "markdown",
   "metadata": {},
   "source": [
    "This time we pick a decision threshold of 0.35 in order to achieve our target recall of 0.5."
   ]
  },
  {
   "cell_type": "code",
   "execution_count": 52,
   "metadata": {},
   "outputs": [
    {
     "data": {
      "text/plain": [
       "['predictions_test/y_svm_rbf_2.joblib']"
      ]
     },
     "execution_count": 52,
     "metadata": {},
     "output_type": "execute_result"
    }
   ],
   "source": [
    "# Make hard predictions\n",
    "y_svm_rbf_2 = custom_prediction(y_score_svm_rbf, 0.35)\n",
    "# Save new predictions to disk\n",
    "joblib.dump(y_svm_rbf_2, 'predictions_test/y_svm_rbf_2.joblib')"
   ]
  },
  {
   "cell_type": "code",
   "execution_count": 53,
   "metadata": {},
   "outputs": [
    {
     "name": "stdout",
     "output_type": "stream",
     "text": [
      "              precision    recall  f1-score   support\n",
      "\n",
      "           0       0.86      0.79      0.82    122083\n",
      "           1       0.38      0.50      0.43     31416\n",
      "\n",
      "   micro avg       0.73      0.73      0.73    153499\n",
      "   macro avg       0.62      0.64      0.63    153499\n",
      "weighted avg       0.76      0.73      0.74    153499\n",
      "\n"
     ]
    }
   ],
   "source": [
    "# Get classification report \n",
    "print(classification_report(y_test, y_svm_rbf_2))"
   ]
  },
  {
   "cell_type": "markdown",
   "metadata": {},
   "source": [
    "### SVM with Polynomial Kernel"
   ]
  },
  {
   "cell_type": "markdown",
   "metadata": {},
   "source": [
    "The last model we will train is a SVM with a polynomial kernel. Since the SVM with a RBF kernel achieved better performance using the original features rather using the principal components (even though this forced us to cut our training size), we will stick with the original data here. Like before, we use a training size of 40,000.\n",
    "\n",
    "The hyperparameters we tune are again the regularization coefficient C, as well as the degree of the polynomial.  We keep the prior distribution of the former unchanged.  For the degree, we try the values 2, 3, 4, and assign equal prior probability to each. The trade-off for this hyperparameters is that higher degrees allow modeling more complex relationships, but they tend to behave erratically far away from the mean."
   ]
  },
  {
   "cell_type": "code",
   "execution_count": null,
   "metadata": {},
   "outputs": [],
   "source": [
    "# Original columns/no principal components\n",
    "MAX_EVALS=40\n",
    "\n",
    "# Define search space\n",
    "space = {\n",
    "    'kernel': 'poly',\n",
    "    'cache_size': 12000,  # 12GB\n",
    "    'class_weight': 'balanced',\n",
    "    'random_state': 1,\n",
    "    'gamma': 'scale',\n",
    "    'C': hp.lognormal('C', 0, 3),\n",
    "    'degree': hp.choice('degree', [2, 3, 4])\n",
    "}\n",
    "\n",
    "# Find best hyperparameters\n",
    "find_best_hp(SVC, space, model_name='svm_poly_hp',\n",
    "              X_train=X_train_s, y_train=y_train_s,\n",
    "              adjust_params=adjust_params_svm_rbf,  # Reuse             \n",
    "              max_evals=MAX_EVALS, n_folds=1, n_jobs=1)"
   ]
  },
  {
   "cell_type": "code",
   "execution_count": null,
   "metadata": {},
   "outputs": [],
   "source": [
    "# Load saved model from disk, if necessary\n",
    "svm_poly_hp = joblib.load('saved_models/svm_poly_hp.joblib')"
   ]
  },
  {
   "cell_type": "code",
   "execution_count": 57,
   "metadata": {
    "scrolled": true
   },
   "outputs": [
    {
     "name": "stdout",
     "output_type": "stream",
     "text": [
      "Best average precision score on *test* set: 0.3925\n",
      "Best average precision score on *training* set: 0.3907\n"
     ]
    },
    {
     "data": {
      "image/png": "[encoded data removed]",
      "text/plain": [
       "<Figure size 432x288 with 1 Axes>"
      ]
     },
     "metadata": {
      "needs_background": "light"
     },
     "output_type": "display_data"
    }
   ],
   "source": [
    "# Load model\n",
    "svm_poly_hp = joblib.load('saved_models/svm_poly_hp.joblib')\n",
    "\n",
    "# Print and save average precision; save predictions\n",
    "average_precisions['svm_poly'] = return_save_ap(\n",
    "    svm_poly_hp, 'svm_poly_hp', X_test, y_test,\n",
    "    X_train=X_train, y_train=y_train,\n",
    "    validation_plot=True)"
   ]
  },
  {
   "cell_type": "markdown",
   "metadata": {},
   "source": [
    "The average precision of 0.3925 with the polynomial kernel is again very similar (though on the lower end) of what we got before (except to XGBoost, which is far ahead).  \n",
    "\n",
    "The next step is to adjust the decision threshold."
   ]
  },
  {
   "cell_type": "code",
   "execution_count": null,
   "metadata": {},
   "outputs": [],
   "source": [
    "# Load predicted probability\n",
    "y_score_svm_poly = joblib.load('predictions_test/y_score_svm_poly_hp.joblib')"
   ]
  },
  {
   "cell_type": "code",
   "execution_count": 54,
   "metadata": {},
   "outputs": [
    {
     "data": {
      "image/png": "[encoded data removed]",
      "text/plain": [
       "<Figure size 432x288 with 1 Axes>"
      ]
     },
     "metadata": {
      "needs_background": "light"
     },
     "output_type": "display_data"
    }
   ],
   "source": [
    "# Plot effect of decision threshold\n",
    "plot_threshold(y_score_svm_poly, thresholds=np.arange(-3,4,0.2))"
   ]
  },
  {
   "cell_type": "markdown",
   "metadata": {},
   "source": [
    "We choose a threshold of 0.35, which gives us a recall of 0.49 and a precision of 0.38."
   ]
  },
  {
   "cell_type": "code",
   "execution_count": 55,
   "metadata": {},
   "outputs": [
    {
     "data": {
      "text/plain": [
       "['predictions_test/y_svm_poly_2.joblib']"
      ]
     },
     "execution_count": 55,
     "metadata": {},
     "output_type": "execute_result"
    }
   ],
   "source": [
    "# Make hard predictions\n",
    "y_svm_poly_2 = custom_prediction(y_score_svm_poly, 0.35)\n",
    "# Save new predictions to disk\n",
    "joblib.dump(y_svm_poly_2, 'predictions_test/y_svm_poly_2.joblib')"
   ]
  },
  {
   "cell_type": "code",
   "execution_count": 56,
   "metadata": {},
   "outputs": [
    {
     "name": "stdout",
     "output_type": "stream",
     "text": [
      "              precision    recall  f1-score   support\n",
      "\n",
      "           0       0.86      0.79      0.82    122083\n",
      "           1       0.38      0.49      0.43     31416\n",
      "\n",
      "   micro avg       0.73      0.73      0.73    153499\n",
      "   macro avg       0.62      0.64      0.62    153499\n",
      "weighted avg       0.76      0.73      0.74    153499\n",
      "\n"
     ]
    }
   ],
   "source": [
    "# Get classification report \n",
    "print(classification_report(y_test, y_svm_poly_2))"
   ]
  },
  {
   "cell_type": "markdown",
   "metadata": {},
   "source": [
    "## Save/load average precision score"
   ]
  },
  {
   "cell_type": "markdown",
   "metadata": {},
   "source": [
    " Now let's save the average precision scores, so we can access them in the final notebook."
   ]
  },
  {
   "cell_type": "code",
   "execution_count": 60,
   "metadata": {},
   "outputs": [
    {
     "data": {
      "text/plain": [
       "['saved_models/average_precisions.joblib']"
      ]
     },
     "execution_count": 60,
     "metadata": {},
     "output_type": "execute_result"
    }
   ],
   "source": [
    "# Save\n",
    "joblib.dump(average_precisions, 'saved_models/average_precisions.joblib')"
   ]
  },
  {
   "cell_type": "markdown",
   "metadata": {},
   "source": [
    "In the next notebook, we will create an ensemble from these predictions (implemented as a hard-working classifier). "
   ]
  }
 ],
 "metadata": {
  "kernelspec": {
   "display_name": "Python 3",
   "language": "python",
   "name": "python3"
  },
  "language_info": {
   "codemirror_mode": {
    "name": "ipython",
    "version": 3
   },
   "file_extension": ".py",
   "mimetype": "text/x-python",
   "name": "python",
   "nbconvert_exporter": "python",
   "pygments_lexer": "ipython3",
   "version": "3.7.1"
  },
  "toc": {
   "base_numbering": 1,
   "nav_menu": {},
   "number_sections": true,
   "sideBar": true,
   "skip_h1_title": true,
   "title_cell": "Table of Contents",
   "title_sidebar": "Contents",
   "toc_cell": true,
   "toc_position": {
    "height": "calc(100% - 180px)",
    "left": "10px",
    "top": "150px",
    "width": "165px"
   },
   "toc_section_display": true,
   "toc_window_display": true
  }
 },
 "nbformat": 4,
 "nbformat_minor": 2
}
