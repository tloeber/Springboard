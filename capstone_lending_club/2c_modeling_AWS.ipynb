{
 "cells": [
  {
   "cell_type": "markdown",
   "metadata": {
    "toc": true
   },
   "source": [
    "<h1>Table of Contents<span class=\"tocSkip\"></span></h1>\n",
    "<div class=\"toc\"><ul class=\"toc-item\"><li><span><a href=\"#Overview\" data-toc-modified-id=\"Overview-1\"><span class=\"toc-item-num\">1&nbsp;&nbsp;</span>Overview</a></span></li><li><span><a href=\"#Load-packages-and-data\" data-toc-modified-id=\"Load-packages-and-data-2\"><span class=\"toc-item-num\">2&nbsp;&nbsp;</span>Load packages and data</a></span></li><li><span><a href=\"#Dimensionality-Reduction\" data-toc-modified-id=\"Dimensionality-Reduction-3\"><span class=\"toc-item-num\">3&nbsp;&nbsp;</span>Dimensionality Reduction</a></span></li><li><span><a href=\"#Predictive-models\" data-toc-modified-id=\"Predictive-models-4\"><span class=\"toc-item-num\">4&nbsp;&nbsp;</span>Predictive models</a></span><ul class=\"toc-item\"><li><span><a href=\"#SVM-with-RBF-Kernel\" data-toc-modified-id=\"SVM-with-RBF-Kernel-4.1\"><span class=\"toc-item-num\">4.1&nbsp;&nbsp;</span>SVM with RBF-Kernel</a></span><ul class=\"toc-item\"><li><span><a href=\"#With-principal-components:\" data-toc-modified-id=\"With-principal-components:-4.1.1\"><span class=\"toc-item-num\">4.1.1&nbsp;&nbsp;</span>With principal components:</a></span></li><li><span><a href=\"#Original-data/no-principal-components\" data-toc-modified-id=\"Original-data/no-principal-components-4.1.2\"><span class=\"toc-item-num\">4.1.2&nbsp;&nbsp;</span>Original data/no principal components</a></span></li><li><span><a href=\"#Old-version:-Prior-with-gamma-centered-at-1/30\" data-toc-modified-id=\"Old-version:-Prior-with-gamma-centered-at-1/30-4.1.3\"><span class=\"toc-item-num\">4.1.3&nbsp;&nbsp;</span>Old version: Prior with gamma centered at 1/30</a></span></li></ul></li></ul></li><li><span><a href=\"#Save/Load\" data-toc-modified-id=\"Save/Load-5\"><span class=\"toc-item-num\">5&nbsp;&nbsp;</span>Save/Load</a></span></li></ul></div>"
   ]
  },
  {
   "cell_type": "markdown",
   "metadata": {},
   "source": [
    "## Overview\n",
    "This notebook estimates the more computationally expensive model (those that I could not train within 1-2 days on my laptop). I pursue four strategies to make estimating these more complex models feasible: Using only a subset of observations (training set size of 100,000 observations), reducing the number of features by about three quarters using principal component analysis, using a single validation set rather than using k-fold cross-validation, and running the notebook on AWS to use more powerful hardware."
   ]
  },
  {
   "cell_type": "markdown",
   "metadata": {},
   "source": [
    "## Load packages and data"
   ]
  },
  {
   "cell_type": "code",
   "execution_count": 12,
   "metadata": {},
   "outputs": [],
   "source": [
    "import pdb \n",
    "import glob\n",
    "import copy\n",
    "import math\n",
    "import pickle\n",
    "import csv\n",
    "\n",
    "import boto3\n",
    "import uuid\n",
    "from hyperopt import fmin, tpe, hp, STATUS_OK, Trials, space_eval, pyll\n",
    "\n",
    "import numpy as np\n",
    "import pandas as pd\n",
    "import scipy as sp\n",
    "\n",
    "import matplotlib as mpl\n",
    "import matplotlib.pyplot as plt\n",
    "import matplotlib.cm as cm\n",
    "import seaborn as sns\n",
    " \n",
    "from sklearn.compose import ColumnTransformer\n",
    "from sklearn.pipeline import Pipeline\n",
    "from sklearn.impute import SimpleImputer\n",
    "from sklearn.preprocessing import StandardScaler, OneHotEncoder\n",
    "from sklearn.model_selection import train_test_split, \\\n",
    "    GridSearchCV, StratifiedShuffleSplit, ShuffleSplit, \\\n",
    "    cross_val_score, StratifiedKFold\n",
    "\n",
    "from sklearn.decomposition import PCA\n",
    "# from sklearn.linear_model import LogisticRegression, \\\n",
    "#     LogisticRegressionCV, SGDClassifier\n",
    "from sklearn.svm import SVC, LinearSVC\n",
    "# from sklearn.ensemble import RandomForestClassifier\n",
    "\n",
    "from sklearn.metrics import confusion_matrix, classification_report, \\\n",
    "    precision_recall_curve, average_precision_score, f1_score, \\\n",
    "    roc_curve, auc, roc_auc_score, make_scorer,\\\n",
    "    accuracy_score, balanced_accuracy_score\n",
    "\n",
    "from sklearn.externals import joblib\n",
    "from sklearn.utils import resample\n",
    "from sklearn.utils.fixes import signature\n",
    "\n",
    "\n",
    "# Set up pandas table display\n",
    "pd.set_option('display.width', 120)\n",
    "pd.set_option('display.max_columns', 100)\n",
    "pd.set_option('display.notebook_repr_html', True)\n",
    "\n",
    "# Set plotting options\n",
    "sns.set() # Use seaborn defaults for plotting\n",
    "%matplotlib inline "
   ]
  },
  {
   "cell_type": "markdown",
   "metadata": {},
   "source": [
    "We will use Boto 3 again to interact with S3 from our notebook."
   ]
  },
  {
   "cell_type": "code",
   "execution_count": 2,
   "metadata": {},
   "outputs": [],
   "source": [
    "# Create boto3 resource to interact with S3\n",
    "s3 = boto3.resource('s3')"
   ]
  },
  {
   "cell_type": "markdown",
   "metadata": {},
   "source": [
    "In the previous notebook, we uploaded our preprocessed data from the local machine to a S3 bucket. Let's now download these data to our EC2 instance."
   ]
  },
  {
   "cell_type": "code",
   "execution_count": null,
   "metadata": {},
   "outputs": [],
   "source": [
    "# Create folder to store data\n",
    "!mkdir data_processed  \n",
    "\n",
    "# Download files from S3 bucket\n",
    "bucket_name = 'lending-club-a7b2c3e3-07f7-4444-b258-5bb63c282398'\n",
    "filenames = ['X_train', 'X_test', 'y_train', 'y_test', 'feature_names']\n",
    "for filename in filenames:\n",
    "    s3.Object(bucket_name, f'{filename}.joblib') \\\n",
    "        .download_file(f'data_processed/{filename}.joblib')"
   ]
  },
  {
   "cell_type": "markdown",
   "metadata": {},
   "source": [
    "Now we can load the data from disk."
   ]
  },
  {
   "cell_type": "code",
   "execution_count": 13,
   "metadata": {},
   "outputs": [],
   "source": [
    "# Load preprocessed training and test set, incl. feature names \n",
    "X_train = joblib.load('data_processed/X_train.joblib')\n",
    "X_test = joblib.load('data_processed/X_test.joblib')\n",
    "y_train = joblib.load('data_processed/y_train.joblib')\n",
    "y_test = joblib.load('data_processed/y_test.joblib')\n",
    "feature_names = joblib.load('data_processed/feature_names.joblib')"
   ]
  },
  {
   "cell_type": "markdown",
   "metadata": {},
   "source": [
    "Since the full data set is too large to fit a SVM with RBF or polynomial kernel, we create smaller subsets with 50,000 observations for the training set (only 10,000 of which will actually be used for training, the remaining will be used for validation)."
   ]
  },
  {
   "cell_type": "code",
   "execution_count": 3,
   "metadata": {},
   "outputs": [],
   "source": [
    "# Create smaller subsets from data for SVMs\n",
    "X_train_s, y_train_s = resample(\n",
    "    X_train, y_train, \n",
    "    replace=False, n_samples=50000, random_state=1)"
   ]
  },
  {
   "cell_type": "markdown",
   "metadata": {},
   "source": [
    "## Dimensionality Reduction"
   ]
  },
  {
   "cell_type": "markdown",
   "metadata": {},
   "source": [
    "Another step to make the models less computationally expensive is to reduce the dimensionality of the data set.  To that end, let's perform principal component analysis to determine whether the data lie in a lower dimensional subspace. "
   ]
  },
  {
   "cell_type": "code",
   "execution_count": 18,
   "metadata": {},
   "outputs": [
    {
     "data": {
      "image/png": "[encoded data removed]",
      "text/plain": [
       "<Figure size 864x504 with 1 Axes>"
      ]
     },
     "metadata": {
      "needs_background": "light"
     },
     "output_type": "display_data"
    }
   ],
   "source": [
    "# Use PCA to assess whether features lie in lower-dimensional subspace\n",
    "pca = PCA()\n",
    "pca.fit(X_train)\n",
    "explained_var = pca.explained_variance_ratio_\n",
    "\n",
    "# Plot results\n",
    "plt.figure(figsize=(12, 7))\n",
    "plt.step(range(1, len(explained_var)+2),\n",
    "         np.hstack([[0], np.cumsum(explained_var)]),\n",
    "         color='black', label='Cumulative')\n",
    "plt.bar(range(1, len(explained_var)+1),\n",
    "        explained_var, \n",
    "        label='per principal component')\n",
    "plt.legend('lowerright')\n",
    "plt.title('Cumulative and per-component explained variance')\n",
    "plt.ylim(0,1.05)\n",
    "plt.xlabel('Number of Component')\n",
    "plt.ylabel('Explained Variance Ratio')\n",
    "plt.show();"
   ]
  },
  {
   "cell_type": "markdown",
   "metadata": {},
   "source": [
    "The above plot shows the explained variance for principal component (blue bars), as well as the cumulative explained variance. This reveals that the first 20 principal components explain about 80% of the variance, and the first 50 principal components explain roughly 95% of the variance. \n",
    "\n",
    "I thus decide that the first 30 principal components, which explain close to 90% of the variance, give a good-enough lower-dimensional representation of the data. This reduction number of dimensions by over three quarters should make the models considerably faster to train."
   ]
  },
  {
   "cell_type": "code",
   "execution_count": 4,
   "metadata": {},
   "outputs": [],
   "source": [
    "# Project data onto the first 30 principal components\n",
    "pca = PCA(n_components=30)\n",
    "X_train_pc = pca.fit_transform(X_train) \n",
    "X_test_pc = pca.transform(X_test)\n",
    "\n",
    "# Create smaller subsets from principal components\n",
    "X_train_pc_s, y_train_pc_s = resample(\n",
    "    X_train_pc, y_train,\n",
    "    replace=False, n_samples=100000, random_state=1)"
   ]
  },
  {
   "cell_type": "markdown",
   "metadata": {},
   "source": [
    "## Predictive models"
   ]
  },
  {
   "cell_type": "markdown",
   "metadata": {},
   "source": [
    "We will again define dictionaries to hold important results from each model (average precision score, classification report, and future importance)."
   ]
  },
  {
   "cell_type": "code",
   "execution_count": 21,
   "metadata": {},
   "outputs": [],
   "source": [
    "# Initialize dictionaries to store results\n",
    "average_precisions = {}\n",
    "classification_reports = {}\n",
    "classification_reports_default_thresholds = {}\n",
    "feature_importances = {}"
   ]
  },
  {
   "cell_type": "code",
   "execution_count": null,
   "metadata": {},
   "outputs": [],
   "source": [
    "# If these objects already (partially) exist, load them\n",
    "average_precisions = joblib.load(\n",
    "    'saved_models/average_precisions.joblib')\n",
    "feature_importances = joblib.load(\n",
    "    'saved_models/feature_importances.joblib')"
   ]
  },
  {
   "cell_type": "markdown",
   "metadata": {},
   "source": [
    "Before proceeding to train the models, I switch to a more powerful EC2 instance type. My decision on the most appropriate type was primarily based on two considerations:\n",
    "\n",
    "First, note that the code will be single-threaded, because Hyperopt does not natively support parallelization.  For the other learners in the previous notebook, multi-threading was achieved through scikit-learn's cross validator class. Here however, I only use a *single* validation set, because I will be  training more computationally expensive models. Thus, it is worth trading a slightly higher variance in the validation score for considerable savings in computation.\n",
    "\n",
    "Secondly, note that my models – SVM's with RBF and polynomial kernels – achieve a considerable speed-up if we dedicate a large amount of memory to them.\n",
    "\n",
    "With these considerations in mind, I chose a r5.large instance, as it offered\\s the largest amount of memory (16GB) and one of the highest computational capacities (9 ECUs) of all instances with one or two virtual CPUs. While one CPU would have been sufficient, none of these instances offered enough memory."
   ]
  },
  {
   "cell_type": "markdown",
   "metadata": {},
   "source": [
    "### SVM with RBF-Kernel"
   ]
  },
  {
   "cell_type": "markdown",
   "metadata": {},
   "source": [
    "The strength of an SVM with an RBF kernel is in modeling *non-linear* relationships. Its weakness is that it does not scale well: According to scikit-learn's documentation, it is only recommended up to a couple tens of thousasands of observations. \n",
    "\n",
    "I will tune two hyperparameters, gamma and C. Let's think about what an appropriate prior year distribution for each of these would look like. For gamma, the neighborhood size, we will use a log-normal distribution. As mentioned in the previous note book, this distribution lets us concentrate probability mass on the most likely values in the center, but does so on a logarithmic scale. For the distribution's center, we use scikit-learn's default value, the inverse of the number of features. In our case this amounts to 1/130 for the full data set and 1/30 for the principal components. One potential point of confusion is that – as mentioned in a previous notebook – hyperopt uses the *natural* exponential function, whereas np.logspace (which we would often use with grid search) uses base 10. Therefore, we use log(1/130) and log(1/30) as the center parameter.\n",
    "\n",
    "Setting the variance parameter is less intuitive, so I simply experiment with different values and observe the location of median as well as the 5th and 95th percentile. I choose 3, which results in most values falling within the commonly used range of 0.001 and 1000. "
   ]
  },
  {
   "cell_type": "code",
   "execution_count": 15,
   "metadata": {},
   "outputs": [
    {
     "name": "stdout",
     "output_type": "stream",
     "text": [
      "Descriptive statistics:\n",
      " count    1.000000e+03\n",
      "mean     9.456460e+00\n",
      "std      1.577441e+02\n",
      "min      2.745386e-07\n",
      "5%       9.630072e-05\n",
      "50%      2.852804e-02\n",
      "95%      1.266645e+01\n",
      "max      4.906266e+03\n",
      "dtype: float64\n"
     ]
    },
    {
     "data": {
      "image/png": "[encoded data removed]",
      "text/plain": [
       "<Figure size 432x288 with 1 Axes>"
      ]
     },
     "metadata": {
      "needs_background": "light"
     },
     "output_type": "display_data"
    }
   ],
   "source": [
    "# Inspect prior distribution for gamma (Principal components)\n",
    "gamma_distrdistr = hp.lognormal('C', np.log(1/30), 3.5)\n",
    "samples = [pyll.stochastic.sample(gamma_distrdistr) for i in range(1000)]\n",
    "\n",
    "# Descriptive statistics\n",
    "print('Descriptive statistics:\\n', \n",
    "      pd.Series(samples).describe(percentiles=[0.05, 0.5, 0.95]))\n",
    "\n",
    "# Discard outliers before plotting \n",
    "samples = list(filter(lambda x: x<100, samples))\n",
    "# Plot\n",
    "# sns.distplot(pd.Series(samples))\n",
    "pd.Series(samples).plot(kind='hist', bins=50)\n",
    "# plt.xlim([0,1000])\n",
    "plt.xlabel('gamma_distrdistr')\n",
    "plt.title('Prior distribution of neighborhood size gamma')\n",
    "plt.show()"
   ]
  },
  {
   "cell_type": "code",
   "execution_count": 67,
   "metadata": {},
   "outputs": [
    {
     "name": "stdout",
     "output_type": "stream",
     "text": [
      "Descriptive statistics:\n",
      " count    1.000000e+03\n",
      "mean     1.303583e+01\n",
      "std      3.178367e+02\n",
      "min      9.825670e-09\n",
      "5%       1.250487e-05\n",
      "50%      9.169461e-03\n",
      "95%      4.398888e+00\n",
      "max      9.997066e+03\n",
      "dtype: float64\n"
     ]
    },
    {
     "data": {
      "image/png": "[encoded data removed]",
      "text/plain": [
       "<Figure size 432x288 with 1 Axes>"
      ]
     },
     "metadata": {
      "needs_background": "light"
     },
     "output_type": "display_data"
    }
   ],
   "source": [
    "# Inspect prior distribution for gamma \n",
    "# (Original columns/no principal components)\n",
    "gamma_distrdistr = hp.lognormal('C', np.log(1/130), 4)\n",
    "samples = [pyll.stochastic.sample(gamma_distrdistr) for i in range(1000)]\n",
    "\n",
    "# Descriptive statistics\n",
    "print('Descriptive statistics:\\n', \n",
    "      pd.Series(samples).describe(percentiles=[0.05, 0.5, 0.95]))\n",
    "\n",
    "# Discard outliers before plotting \n",
    "samples = list(filter(lambda x: x<100, samples))\n",
    "# Plot\n",
    "# sns.distplot(pd.Series(samples))\n",
    "pd.Series(samples).plot(kind='hist', bins=50)\n",
    "# plt.xlim([0,1000])\n",
    "plt.xlabel('gamma_distrdistr')\n",
    "plt.title('Prior distribution of neighborhood size gamma')\n",
    "plt.show()"
   ]
  },
  {
   "cell_type": "markdown",
   "metadata": {},
   "source": [
    "For the regularization parameter C, we will also use a lognormal distribution. Since we want to center it at 1, we can simply pass a mean parameter of 0. To find the scale parameter, we experiment again to find reasonable values. Like for gamma, a common range is 0.001 to 1000. I choose a variance parameter of 5, but will later set an upper boundary of 10, which is usually large enough, because larger values take longer to train (up to an order of magnitude).  Since log-normal distributions are characterized by large positive outliers, and since the model is already computationally expensive, setting this upper threshold is useful.  As discussed in a previous notebook, hyperopt does not support setting upper or lower bounds by default.  Therefore, I add a function that adjusts the samples before passing them to the optimization, as well as before using the optimal parameters in other ways. If this threshold turns out to be too low, we will easily notice because the optimal value will be at the threshold. In this unlikely case, we will simply reestimate the model with gamma confined between 10 and 1000."
   ]
  },
  {
   "cell_type": "code",
   "execution_count": null,
   "metadata": {},
   "outputs": [],
   "source": [
    "# Inspect prior distribution for C\n",
    "c_distr = hp.lognormal('C', 0, 3)\n",
    "samples = [pyll.stochastic.sample(c_distr) for i in range(1000)]\n",
    "\n",
    "# Descriptive statistics\n",
    "print('Descriptive statistics:\\n', \n",
    "      pd.Series(samples).describe(\n",
    "          percentiles=[0.05, 0.5, 0.95]))\n",
    "\n",
    "# Discard outliers before plotting\n",
    "samples = list(filter(lambda x: x<100, samples))\n",
    "# Plot\n",
    "pd.Series(samples).plot(kind='hist', bins=50)\n",
    "plt.xlabel('c_distr')\n",
    "plt.title('Prior distribution of regularization strength')\n",
    "plt.show()"
   ]
  },
  {
   "cell_type": "markdown",
   "metadata": {},
   "source": [
    "This is the function that adjusts the parameters, making sure that C is not larger than 10:"
   ]
  },
  {
   "cell_type": "code",
   "execution_count": 14,
   "metadata": {},
   "outputs": [],
   "source": [
    "def adjust_params_svm_rbf(params):\n",
    "    \"\"\" \n",
    "    Adjust parameters where hyperopt did not allow sampling from optimal \n",
    "    distribution.\n",
    "    \"\"\"\n",
    "\n",
    "    # Set min or max thresholds for parameters, where applicable\n",
    "    if params['C'] >= 10:\n",
    "        params['C'] = 10\n",
    "        \n",
    "    # Return modified parameters\n",
    "    return params"
   ]
  },
  {
   "cell_type": "markdown",
   "metadata": {},
   "source": [
    "Now let's define a function that carries out the Bayesian hyperparameter optimization, as explained in more detail in the previous notebook:"
   ]
  },
  {
   "cell_type": "code",
   "execution_count": 15,
   "metadata": {},
   "outputs": [],
   "source": [
    "# Function to carry out hyperparameter optimization\n",
    "def find_best_hp(CLF, space, model_name, \n",
    "                 X_train, y_train, \n",
    "                 adjust_params=None,n_folds=5, n_jobs=-1, max_evals=20):\n",
    "    \"\"\"Find best hyperparameters for a given classifier and search space.\"\"\"\n",
    "    \n",
    "    # Trials object to track progress\n",
    "    trials = Trials()\n",
    "\n",
    "    # CSV file to track progress\n",
    "    progress_file_path = 'hp_progress/progress_' + model_name + '.csv'\n",
    "    with open(progress_file_path, 'w') as file:\n",
    "        writer = csv.writer(file)\n",
    "        # Write header to the file\n",
    "        writer.writerow(['loss', 'params'])\n",
    "\n",
    "    # Objective function to minimize\n",
    "    def objective(params, CLF=CLF, \n",
    "                  progress_file_path=progress_file_path,\n",
    "                  n_folds=n_folds, n_jobs=n_jobs):\n",
    "        \"\"\"Objective function to minimize\"\"\"\n",
    "        \n",
    "        # Adjust parameters, if specified\n",
    "        if adjust_params is not None:\n",
    "            params = adjust_params(params)\n",
    "    \n",
    "        # Instantiate CLF\n",
    "        clf = CLF(**params)\n",
    "        \n",
    "        ## Generate indices for cross-validation\n",
    "        # If only one \"fold\" is desired, split into train and validation set\n",
    "        if n_folds == 1: \n",
    "            cv = StratifiedShuffleSplit(n_splits=1, test_size=.2, \n",
    "                                        random_state=1)\n",
    "        # Otherwise, generate indices for proper cross-validation split\n",
    "        else:  \n",
    "            cv = StratifiedKFold(n_folds, random_state=1)\n",
    "\n",
    "        # Compute average precision through CV / validation set\n",
    "        score = cross_val_score(clf, X_train, y_train, cv=cv,\n",
    "                                scoring='average_precision', n_jobs=n_jobs)\n",
    "        # Compute loss as the negative mean of the average precision scores\n",
    "        # (since hyperopt can only minimize a function)\n",
    "        loss = -score.mean()\n",
    "        \n",
    "        # Save results to csv file\n",
    "        with open(progress_file_path, 'a') as file:\n",
    "            writer = csv.writer(file)\n",
    "            writer.writerow([loss, params])\n",
    "        \n",
    "        # Return results\n",
    "        return {'loss': loss, 'params': params, 'status': STATUS_OK}\n",
    "    \n",
    "    # Minimize objective\n",
    "    best = fmin(objective, space, algo=tpe.suggest,\n",
    "                max_evals=max_evals, trials=trials)\n",
    "\n",
    "    # Get the values of the optimal parameters\n",
    "    best_params = space_eval(space, best)\n",
    "    # Adjust best parameters, if specified\n",
    "    if adjust_params is not None:\n",
    "        best_params = adjust_params(best_params)\n",
    "\n",
    "    # Fit the model with the optimal hyperparamters\n",
    "    clf = CLF(**best_params)\n",
    "    clf.fit(X_train, y_train)\n",
    "    \n",
    "    # Save model to disk\n",
    "    joblib.dump(clf, 'saved_models/' + model_name + '.joblib')\n",
    "    \n",
    "    # Print best parameters\n",
    "    print(best_params)"
   ]
  },
  {
   "cell_type": "code",
   "execution_count": null,
   "metadata": {},
   "outputs": [],
   "source": [
    "# Create directories to store models and progress files\n",
    "!mkdir hp_progress saved_models"
   ]
  },
  {
   "cell_type": "markdown",
   "metadata": {},
   "source": [
    "We are now ready to estimate the model. We will try two different versions, one using 80,000 observations from the principal components, and one using 40,000 observations with the original variables."
   ]
  },
  {
   "cell_type": "markdown",
   "metadata": {},
   "source": [
    "#### With principal components:"
   ]
  },
  {
   "cell_type": "code",
   "execution_count": null,
   "metadata": {},
   "outputs": [],
   "source": [
    "# PRINCIPAL COMPONENTS\n",
    "MAX_EVALS=40\n",
    "\n",
    "# Define search space\n",
    "space = {\n",
    "    'kernel': 'rbf',\n",
    "    'cache_size': 10000,\n",
    "    'class_weight': 'balanced',\n",
    "    'C': hp.lognormal('C', 0, 3),\n",
    "    'gamma': hp.lognormal('gamma', np.log(1/30), 3.5)}\n",
    "\n",
    "# Find best hyperparameters\n",
    "find_best_hp(SVC, space, model_name='svm_rbf_pc_hp',\n",
    "              X_train=X_train_pc_s, y_train=y_train_pc_s, \n",
    "              adjust_params=adjust_params_svm_rbf,\n",
    "              max_evals=MAX_EVALS,n_folds=1, n_jobs=1)"
   ]
  },
  {
   "cell_type": "code",
   "execution_count": 10,
   "metadata": {},
   "outputs": [],
   "source": [
    "# Load saved model from disk, if necessary\n",
    "svm_rbf_pc_hp = joblib.load('saved_models/svm_rbf_pc_hp.joblib')"
   ]
  },
  {
   "cell_type": "code",
   "execution_count": 18,
   "metadata": {
    "scrolled": false
   },
   "outputs": [
    {
     "name": "stdout",
     "output_type": "stream",
     "text": [
      "Best average precision score on *test* set: 0.3855\n",
      "Best average precision score on *training* set: 0.3874\n"
     ]
    },
    {
     "ename": "NameError",
     "evalue": "name 'average_precisions' is not defined",
     "output_type": "error",
     "traceback": [
      "\u001b[0;31m---------------------------------------------------------------------------\u001b[0m",
      "\u001b[0;31mNameError\u001b[0m                                 Traceback (most recent call last)",
      "\u001b[0;32m<ipython-input-18-96626bf3d77c>\u001b[0m in \u001b[0;36m<module>\u001b[0;34m\u001b[0m\n\u001b[1;32m      3\u001b[0m     \u001b[0msvm_rbf_pc_hp\u001b[0m\u001b[0;34m,\u001b[0m \u001b[0;34m'svm_rbf_pc_hp'\u001b[0m\u001b[0;34m,\u001b[0m \u001b[0mX_test_pc\u001b[0m\u001b[0;34m,\u001b[0m \u001b[0my_test\u001b[0m\u001b[0;34m,\u001b[0m\u001b[0;34m\u001b[0m\u001b[0;34m\u001b[0m\u001b[0m\n\u001b[1;32m      4\u001b[0m     \u001b[0mX_train\u001b[0m\u001b[0;34m=\u001b[0m\u001b[0mX_train_pc\u001b[0m\u001b[0;34m,\u001b[0m \u001b[0my_train\u001b[0m\u001b[0;34m=\u001b[0m\u001b[0my_train\u001b[0m\u001b[0;34m,\u001b[0m\u001b[0;34m\u001b[0m\u001b[0;34m\u001b[0m\u001b[0m\n\u001b[0;32m----> 5\u001b[0;31m     validation_plot=True)\n\u001b[0m",
      "\u001b[0;31mNameError\u001b[0m: name 'average_precisions' is not defined"
     ]
    },
    {
     "data": {
      "image/png": "[encoded data removed]",
      "text/plain": [
       "<Figure size 432x288 with 1 Axes>"
      ]
     },
     "metadata": {
      "needs_background": "light"
     },
     "output_type": "display_data"
    }
   ],
   "source": [
    "# Print and save average precision; save predictions\n",
    "average_precisions['svm_rbf_pc'] = return_save_ap(\n",
    "    svm_rbf_pc_hp, 'svm_rbf_pc_hp', X_test_pc, y_test,\n",
    "    X_train=X_train_pc, y_train=y_train,\n",
    "    validation_plot=True)"
   ]
  },
  {
   "cell_type": "markdown",
   "metadata": {},
   "source": [
    "#### Original data/no principal components"
   ]
  },
  {
   "cell_type": "code",
   "execution_count": null,
   "metadata": {},
   "outputs": [],
   "source": [
    "# Original columns/no principal components\n",
    "MAX_EVALS=40\n",
    "\n",
    "# Define search space\n",
    "space = {\n",
    "    'kernel': 'rbf',\n",
    "    'cache_size': 10000,  # 10GB\n",
    "    'class_weight': 'balanced',\n",
    "    'C': hp.lognormal('C', 0, 3),\n",
    "    'gamma': hp.lognormal('gamma', np.log(1/130), 3.5)}\n",
    "\n",
    "# Find best hyperparameters\n",
    "find_best_hp(SVC, space, model_name='svm_rbf_hp',\n",
    "              X_train=X_train_s, y_train=y_train_s, \n",
    "              adjust_params=adjust_params_svm_rbf,\n",
    "              max_evals=MAX_EVALS,n_folds=1, n_jobs=1)"
   ]
  },
  {
   "cell_type": "code",
   "execution_count": null,
   "metadata": {},
   "outputs": [],
   "source": [
    "# Load saved model from disk, if necessary\n",
    "svm_rbf_hp = joblib.load('saved_models/svm_rbf_hp.joblib')"
   ]
  },
  {
   "cell_type": "markdown",
   "metadata": {},
   "source": [
    "Let's take a look at the average precision score of our model:"
   ]
  },
  {
   "cell_type": "code",
   "execution_count": null,
   "metadata": {},
   "outputs": [],
   "source": [
    "# Calculate average precision\n",
    "def return_save_ap(clf, model_name, X_test, y_test, \n",
    "                  X_train, y_train, validation_plot=False):\n",
    "    \"\"\"\n",
    "    Returns, saves, and prints average precision score on train and test set; \n",
    "    saves score, As well as predictions, from *test* set. Optionally plots how \n",
    "    average precision changed over iterations (designed for hyperopt).\n",
    "    \"\"\"\n",
    "\n",
    "    # Predict class\n",
    "    y = clf.predict(X_test)\n",
    "    # Save class prediction\n",
    "    joblib.dump(y, f'predictions_test/y_{model_name}.joblib')\n",
    "    \n",
    "    # Predict class probabilities\n",
    "    # Try if classifier supports probability\n",
    "    try:\n",
    "        y_score = clf.predict_proba(X_test)[:,1]\n",
    "        y_score_train = clf.predict_proba(X_train)[:,1]\n",
    "    # If it doesn't, use its decision function\n",
    "    except AttributeError:\n",
    "        y_score = clf.decision_function(X_test)\n",
    "        y_score_train = clf.decision_function(X_train)\n",
    "       \n",
    "    # Save predictions for test set\n",
    "    joblib.dump(y_score, f'predictions_test/y_score_{model_name}.joblib')\n",
    "    \n",
    "    # Calculate average precision\n",
    "    ap_score = average_precision_score(y_test, y_score)\n",
    "    ap_score_train = average_precision_score(y_train, y_score_train)\n",
    "    \n",
    "    # Print AP\n",
    "    print('Best average precision score on *test* set: {:.4f}' \\\n",
    "              .format(ap_score))\n",
    "    print('Best average precision score on *training* set: {:.4f}' \\\n",
    "              .format(ap_score_train))\n",
    "    \n",
    "    # Plot AP, if specified\n",
    "    if validation_plot:\n",
    "        # Load progress file with validation performance\n",
    "        progress_file_path = 'hp_progress/progress_' + model_name + '.csv'\n",
    "        progress_file = pd.read_csv(progress_file_path)\n",
    "\n",
    "        # Extract AP for each iteration\n",
    "        ap = - progress_file.loss\n",
    "        ap.plot()\n",
    "        plt.title('Performance during Cross-Validation')\n",
    "        plt.ylabel('Average Precision')\n",
    "        plt.xlabel('Iteration');\n",
    "        \n",
    "    # Return average precision\n",
    "    return ap_score"
   ]
  },
  {
   "cell_type": "code",
   "execution_count": null,
   "metadata": {},
   "outputs": [],
   "source": [
    "# Create folder to store predictions for test set\n",
    "! mkdir predictions_test"
   ]
  },
  {
   "cell_type": "code",
   "execution_count": null,
   "metadata": {},
   "outputs": [],
   "source": [
    "# Initialize dictionaries to store results\n",
    "average_precisions = {}\n",
    "classification_reports = {}\n",
    "classification_reports_default_thresholds = {}\n",
    "feature_importances = {}"
   ]
  },
  {
   "cell_type": "code",
   "execution_count": null,
   "metadata": {
    "scrolled": true
   },
   "outputs": [],
   "source": [
    "# Print and save average precision; save predictions\n",
    "average_precisions['svm_rbf'] = return_save_ap(\n",
    "    svm_rbfhp, 'svm_rbf_hp', X_test, y_test,\n",
    "    X_train=X_train, y_train=y_train,\n",
    "    validation_plot=True)"
   ]
  },
  {
   "cell_type": "markdown",
   "metadata": {},
   "source": [
    "#### Old version: Prior with gamma centered at 1/30"
   ]
  },
  {
   "cell_type": "code",
   "execution_count": 8,
   "metadata": {},
   "outputs": [
    {
     "name": "stdout",
     "output_type": "stream",
     "text": [
      "{'C': 10, 'cache_size': 10000, 'class_weight': 'balanced', 'gamma': 0.0005310835142891282, 'kernel': 'rbf'}\n"
     ]
    }
   ],
   "source": [
    "# Original columns/no principal components\n",
    "MAX_EVALS=40\n",
    "\n",
    "# Define search space\n",
    "space = {\n",
    "    'kernel': 'rbf',\n",
    "    'cache_size': 10000,  # 10GB\n",
    "    'class_weight': 'balanced',\n",
    "    'C': hp.lognormal('C', 0, 3),\n",
    "    'gamma': hp.lognormal('gamma', np.log(1/30), 3.5)}\n",
    "\n",
    "# Find best hyperparameters\n",
    "find_best_hp(SVC, space, model_name='svm_rbf_hp',\n",
    "              X_train=X_train_s, y_train=y_train_s, \n",
    "              adjust_params=adjust_params_svm_rbf,\n",
    "              max_evals=MAX_EVALS,n_folds=1, n_jobs=1)"
   ]
  },
  {
   "cell_type": "code",
   "execution_count": 4,
   "metadata": {},
   "outputs": [],
   "source": [
    "# Load saved model from disk, if necessary\n",
    "svm_rbf_hp = joblib.load('saved_models/svm_rbf_hp.joblib')"
   ]
  },
  {
   "cell_type": "markdown",
   "metadata": {},
   "source": [
    "Let's take a look at the average precision score of our model:"
   ]
  },
  {
   "cell_type": "code",
   "execution_count": 5,
   "metadata": {},
   "outputs": [],
   "source": [
    "# Calculate average precision\n",
    "def return_save_ap(clf, model_name, X_test, y_test, \n",
    "                  X_train, y_train, validation_plot=False):\n",
    "    \"\"\"\n",
    "    Returns, saves, and prints average precision score on train and test set; \n",
    "    saves score, As well as predictions, from *test* set. Optionally plots how \n",
    "    average precision changed over iterations (designed for hyperopt).\n",
    "    \"\"\"\n",
    "\n",
    "    # Predict class\n",
    "    y = clf.predict(X_test)\n",
    "    # Save class prediction\n",
    "    joblib.dump(y, f'predictions_test/y_{model_name}.joblib')\n",
    "    \n",
    "    # Predict class probabilities\n",
    "    # Try if classifier supports probability\n",
    "    try:\n",
    "        y_score = clf.predict_proba(X_test)[:,1]\n",
    "        y_score_train = clf.predict_proba(X_train)[:,1]\n",
    "    # If it doesn't, use its decision function\n",
    "    except AttributeError:\n",
    "        y_score = clf.decision_function(X_test)\n",
    "        y_score_train = clf.decision_function(X_train)\n",
    "       \n",
    "    # Save predictions for test set\n",
    "    joblib.dump(y_score, f'predictions_test/y_score_{model_name}.joblib')\n",
    "    \n",
    "    # Calculate average precision\n",
    "    ap_score = average_precision_score(y_test, y_score)\n",
    "    ap_score_train = average_precision_score(y_train, y_score_train)\n",
    "    \n",
    "    # Print AP\n",
    "    print('Best average precision score on *test* set: {:.4f}' \\\n",
    "              .format(ap_score))\n",
    "    print('Best average precision score on *training* set: {:.4f}' \\\n",
    "              .format(ap_score_train))\n",
    "    \n",
    "    # Plot AP, if specified\n",
    "    if validation_plot:\n",
    "        # Load progress file with validation performance\n",
    "        progress_file_path = 'hp_progress/progress_' + model_name + '.csv'\n",
    "        progress_file = pd.read_csv(progress_file_path)\n",
    "\n",
    "        # Extract AP for each iteration\n",
    "        ap = - progress_file.loss\n",
    "        ap.plot()\n",
    "        plt.title('Performance during Cross-Validation')\n",
    "        plt.ylabel('Average Precision')\n",
    "        plt.xlabel('Iteration');\n",
    "        \n",
    "    # Return average precision\n",
    "    return ap_score"
   ]
  },
  {
   "cell_type": "code",
   "execution_count": 9,
   "metadata": {},
   "outputs": [],
   "source": [
    "# Create folder to store predictions for test set\n",
    "! mkdir predictions_test"
   ]
  },
  {
   "cell_type": "code",
   "execution_count": 6,
   "metadata": {},
   "outputs": [],
   "source": [
    "# Initialize dictionaries to store results\n",
    "average_precisions = {}\n",
    "classification_reports = {}\n",
    "classification_reports_default_thresholds = {}\n",
    "feature_importances = {}"
   ]
  },
  {
   "cell_type": "code",
   "execution_count": 7,
   "metadata": {
    "scrolled": true
   },
   "outputs": [
    {
     "name": "stdout",
     "output_type": "stream",
     "text": [
      "Best average precision score on *test* set: 0.3965\n",
      "Best average precision score on *training* set: 0.3971\n"
     ]
    },
    {
     "data": {
      "image/png": "[encoded data removed]",
      "text/plain": [
       "<Figure size 432x288 with 1 Axes>"
      ]
     },
     "metadata": {
      "needs_background": "light"
     },
     "output_type": "display_data"
    }
   ],
   "source": [
    "# Print and save average precision; save predictions\n",
    "average_precisions['svm_rbf'] = return_save_ap(\n",
    "    svm_rbfhp, 'svm_rbf_hp', X_test, y_test,\n",
    "    X_train=X_train, y_train=y_train,\n",
    "    validation_plot=True)"
   ]
  },
  {
   "cell_type": "markdown",
   "metadata": {},
   "source": [
    "## Save/Load"
   ]
  },
  {
   "cell_type": "code",
   "execution_count": 21,
   "metadata": {},
   "outputs": [
    {
     "data": {
      "text/plain": [
       "['saved_models/feature_importances.joblib']"
      ]
     },
     "execution_count": 21,
     "metadata": {},
     "output_type": "execute_result"
    }
   ],
   "source": [
    "# Save\n",
    "joblib.dump(average_precisions, 'saved_models/average_precisions.joblib')\n",
    "joblib.dump(feature_importances, 'saved_models/feature_importances.joblib')"
   ]
  },
  {
   "cell_type": "code",
   "execution_count": 11,
   "metadata": {},
   "outputs": [],
   "source": [
    "# Load\n",
    "average_precisions = joblib.load('saved_models/average_precisions.joblib')\n",
    "feature_importances = joblib.load('saved_models/feature_importances.joblib')"
   ]
  },
  {
   "cell_type": "code",
   "execution_count": 12,
   "metadata": {},
   "outputs": [
    {
     "data": {
      "text/plain": [
       "{'lr': 0.39224740694750637,\n",
       " 'svm_lin': 0.3913884831950885,\n",
       " 'rf': 0.3939554379468981,\n",
       " 'xgb': 0.41414888290960883}"
      ]
     },
     "execution_count": 12,
     "metadata": {},
     "output_type": "execute_result"
    }
   ],
   "source": [
    "average_precisions"
   ]
  },
  {
   "cell_type": "code",
   "execution_count": 14,
   "metadata": {},
   "outputs": [
    {
     "data": {
      "text/plain": [
       "dict_keys(['xgb', 'lr'])"
      ]
     },
     "execution_count": 14,
     "metadata": {},
     "output_type": "execute_result"
    }
   ],
   "source": [
    "feature_importances.keys()"
   ]
  },
  {
   "cell_type": "code",
   "execution_count": 9,
   "metadata": {},
   "outputs": [
    {
     "data": {
      "text/plain": [
       "2"
      ]
     },
     "execution_count": 9,
     "metadata": {},
     "output_type": "execute_result"
    }
   ],
   "source": [
    "1+1"
   ]
  }
 ],
 "metadata": {
  "kernelspec": {
   "display_name": "Python 3",
   "language": "python",
   "name": "python3"
  },
  "language_info": {
   "codemirror_mode": {
    "name": "ipython",
    "version": 3
   },
   "file_extension": ".py",
   "mimetype": "text/x-python",
   "name": "python",
   "nbconvert_exporter": "python",
   "pygments_lexer": "ipython3",
   "version": "3.6.7"
  },
  "toc": {
   "base_numbering": 1,
   "nav_menu": {},
   "number_sections": true,
   "sideBar": true,
   "skip_h1_title": true,
   "title_cell": "Table of Contents",
   "title_sidebar": "Contents",
   "toc_cell": true,
   "toc_position": {
    "height": "calc(100% - 180px)",
    "left": "10px",
    "top": "150px",
    "width": "165px"
   },
   "toc_section_display": true,
   "toc_window_display": true
  }
 },
 "nbformat": 4,
 "nbformat_minor": 2
}
