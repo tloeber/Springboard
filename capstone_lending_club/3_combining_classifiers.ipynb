{
 "cells": [
  {
   "cell_type": "markdown",
   "metadata": {
    "toc": true
   },
   "source": [
    "<h1>Table of Contents<span class=\"tocSkip\"></span></h1>\n",
    "<div class=\"toc\"><ul class=\"toc-item\"><li><span><a href=\"#Performance-comparison\" data-toc-modified-id=\"Performance-comparison-1\"><span class=\"toc-item-num\">1&nbsp;&nbsp;</span>Performance comparison</a></span></li><li><span><a href=\"#Ensemble\" data-toc-modified-id=\"Ensemble-2\"><span class=\"toc-item-num\">2&nbsp;&nbsp;</span>Ensemble</a></span></li></ul></div>"
   ]
  },
  {
   "cell_type": "code",
   "execution_count": 95,
   "metadata": {},
   "outputs": [],
   "source": [
    "import pdb \n",
    "import glob\n",
    "import copy\n",
    "import math\n",
    "import pickle\n",
    "import csv\n",
    "import boto3\n",
    "\n",
    "import numpy as np\n",
    "import pandas as pd\n",
    "import scipy as sp\n",
    "\n",
    "import matplotlib as mpl\n",
    "import matplotlib.pyplot as plt\n",
    "import matplotlib.cm as cm\n",
    "import seaborn as sns\n",
    " \n",
    "# from sklearn.compose import ColumnTransformer\n",
    "# from sklearn.pipeline import Pipeline\n",
    "# from sklearn.impute import SimpleImputer\n",
    "# from sklearn.preprocessing import StandardScaler, OneHotEncoder\n",
    "# from sklearn.model_selection import train_test_split, \\\n",
    "#     StratifiedShuffleSplit, cross_val_score, StratifiedKFold, \\\n",
    "#     GridSearchCV, RandomizedSearchCV\n",
    "\n",
    "# from sklearn.decomposition import PCA\n",
    "# from sklearn.linear_model import LogisticRegression, \\\n",
    "#     LogisticRegressionCV, SGDClassifier\n",
    "# from sklearn.svm import SVC, LinearSVC\n",
    "# from sklearn.ensemble import RandomForestClassifier, \\\n",
    "#     ExtraTreesClassifier, VotingClassifier\n",
    "\n",
    "from sklearn.metrics import confusion_matrix, classification_report, \\\n",
    "    precision_recall_curve, average_precision_score, f1_score, \\\n",
    "    roc_curve, auc, roc_auc_score, make_scorer,\\\n",
    "    accuracy_score, balanced_accuracy_score\n",
    "\n",
    "from sklearn.externals import joblib\n",
    "# from sklearn.utils import resample\n",
    "# from sklearn.utils.fixes import signature\n",
    "\n",
    "# Set up pandas table display\n",
    "pd.set_option('display.width', 120)\n",
    "pd.set_option('display.max_columns', 100)\n",
    "pd.set_option('display.notebook_repr_html', True)\n",
    "\n",
    "# Set plotting options\n",
    "sns.set() # Use seaborn defaults for plotting\n",
    "%matplotlib inline \n",
    "\n",
    "# # Load line profiler\n",
    "# %load_ext line_profiler\n",
    "\n",
    "# Adjust number of CPU cores to use\n",
    "# n_jobs=2"
   ]
  },
  {
   "cell_type": "markdown",
   "metadata": {},
   "source": [
    "In this concluding notebook, will first compare the performance of all estimators, And then we will combine their predictions into an ensemble classifier."
   ]
  },
  {
   "cell_type": "markdown",
   "metadata": {},
   "source": [
    "## Performance comparison"
   ]
  },
  {
   "cell_type": "markdown",
   "metadata": {},
   "source": [
    "Let's start by visualizing the performance of each classifier.  To do so, we first need to load and combine the average precision scores from both notebooks (the one run locally in the one run on AWS)."
   ]
  },
  {
   "cell_type": "code",
   "execution_count": 85,
   "metadata": {},
   "outputs": [],
   "source": [
    "# Load average precision scores \n",
    "ap_1 = joblib.load('saved_models/average_precisions.joblib')\n",
    "ap_2 = joblib.load('saved_models/average_precisions-AWS.joblib')\n",
    "# Combine scores and convert to Series and sort\n",
    "ap = pd.Series(  \n",
    "        {**ap_1, **ap_2}) \\\n",
    "        .sort_values(ascending=False)"
   ]
  },
  {
   "cell_type": "markdown",
   "metadata": {},
   "source": [
    "Now we are ready to plot the average precision score for each model:"
   ]
  },
  {
   "cell_type": "code",
   "execution_count": 86,
   "metadata": {},
   "outputs": [
    {
     "data": {
      "image/png": "[encoded data removed]",
      "text/plain": [
       "<Figure size 432x288 with 1 Axes>"
      ]
     },
     "metadata": {
      "needs_background": "light"
     },
     "output_type": "display_data"
    }
   ],
   "source": [
    "# Plot performance\n",
    "model_names = ['XGBoost', 'SVM, RBF kernel',\n",
    "               'Random Forests', 'Logistic Regression', \n",
    "               'SVM, polynomial kernel',\n",
    "               'SVM, RBF kernel (principal components)']\n",
    "sns.barplot(x=ap.values, y=model_names,\n",
    "            orient='h',\n",
    "            color='blue', saturation=.5)\n",
    "plt.xlim(0.35,0.42)\n",
    "plt.title('Performance comparison between all models')\n",
    "plt.xlabel('Average precision score on test set (axis truncated)')\n",
    "plt.show();"
   ]
  },
  {
   "cell_type": "markdown",
   "metadata": {},
   "source": [
    "As we already knew, XGBoost far outperformed the other models.  Note that the x-axis does not started zero, because this would give the misleading picture that the models perform all about equally. Even though XGBoost outperforms the other models only by 0.02, this is actually a substantial improvement, because getting the last boost in accuracy gets increasingly hard. The reason we know that this improvement is indeed noteworthy is that it is large compared to the variance in scores we observe between the rest of the models.\n",
    "\n",
    "This visualization also allows a more nuanced comparison of the other learners. To start with, we see that using principal components did not pay of. Apparently, the information lost by reducing the dimensionality of the feature space more than outweighed the information gained by being able to use a bigger sample size. So let's focus on the other models estimated on the full data set from now on. \n",
    "\n",
    "Another observation is that the SVM with RBF kernel does perform substantially better than logistic regression, random forests, and the SVM with polynomial kernel.  It is reassuring that it was worth it to go to so great length (e.g., using AWS) to make training this model feasible. \n",
    "\n",
    "By contrast, using the polynomial kernel does not provide a similar increase in performance.  This is probably due to the fact that polynomials often behave erratically far away from the mean. Nevertheless, it likely was still worth it to train an expensive model such as this, because it gives us another set of predictions to use in the ensemble. The same can be said about the model trained on the principal components, because the key to deriving benefit from an ensemble is to get predictions that are not to correlated between the different models. "
   ]
  },
  {
   "cell_type": "markdown",
   "metadata": {},
   "source": [
    "## Ensemble"
   ]
  },
  {
   "cell_type": "code",
   "execution_count": 12,
   "metadata": {},
   "outputs": [],
   "source": [
    "# Load true target variable for test set\n",
    "y_test = joblib.load('data_processed/y_test.joblib')"
   ]
  },
  {
   "cell_type": "code",
   "execution_count": 7,
   "metadata": {},
   "outputs": [
    {
     "name": "stdout",
     "output_type": "stream",
     "text": [
      "y_lr_2.joblib\n",
      "y_lr_hp.joblib\n",
      "y_proba_xgb.joblib\n",
      "y_rf_2.joblib\n",
      "y_rf_hp.joblib\n",
      "y_score_lr_hp.joblib\n",
      "y_score_rf_hp.joblib\n",
      "y_score_svm_lin_hp.joblib\n",
      "y_score_svm_rbf_gs_1.joblib\n",
      "y_score_xgb.joblib\n",
      "y_svm_lin_hp.joblib\n",
      "y_svm_poly_2.joblib\n",
      "y_svm_rbf_2.joblib\n",
      "y_svm_rbf_gs_1.joblib\n",
      "y_svm_rbf_pc_2.joblib\n",
      "y_xgb_2.joblib\n"
     ]
    }
   ],
   "source": [
    "! ls ./predictions_test"
   ]
  },
  {
   "cell_type": "code",
   "execution_count": 87,
   "metadata": {},
   "outputs": [],
   "source": [
    "# Load predictions and combine them into a data frame\n",
    "model_names = ['rf', 'lr', 'xgb', \n",
    "               'svm_rbf', 'svm_rbf_pc', 'svm_poly']\n",
    "              \n",
    "y_preds = pd.DataFrame(\n",
    "            {model_name: joblib.load(\n",
    "                f'predictions_test/y_{model_name}_2.joblib')\n",
    "                    for model_name in model_names})"
   ]
  },
  {
   "cell_type": "code",
   "execution_count": 88,
   "metadata": {},
   "outputs": [],
   "source": [
    "# Compute average prediction for each opservation\n",
    "y_pred_mean = y_preds.mean(axis=1)"
   ]
  },
  {
   "cell_type": "code",
   "execution_count": 89,
   "metadata": {
    "scrolled": true
   },
   "outputs": [
    {
     "data": {
      "text/plain": [
       "<matplotlib.axes._subplots.AxesSubplot at 0x1a406fc4fd0>"
      ]
     },
     "execution_count": 89,
     "metadata": {},
     "output_type": "execute_result"
    },
    {
     "data": {
      "image/png": "[encoded data removed]",
      "text/plain": [
       "<Figure size 432x288 with 1 Axes>"
      ]
     },
     "metadata": {
      "needs_background": "light"
     },
     "output_type": "display_data"
    }
   ],
   "source": [
    "y_pred_mean.hist()"
   ]
  },
  {
   "cell_type": "code",
   "execution_count": 97,
   "metadata": {},
   "outputs": [
    {
     "data": {
      "text/plain": [
       "<matplotlib.axes._subplots.AxesSubplot at 0x1a478d2ada0>"
      ]
     },
     "execution_count": 97,
     "metadata": {},
     "output_type": "execute_result"
    },
    {
     "data": {
      "image/png": "[encoded data removed]",
      "text/plain": [
       "<Figure size 432x288 with 2 Axes>"
      ]
     },
     "metadata": {
      "needs_background": "light"
     },
     "output_type": "display_data"
    }
   ],
   "source": [
    "# Correlation between models\n",
    "corr = y_preds.corr()\n",
    "sns.heatmap(corr,\n",
    "           annot=True,\n",
    "           cmap='Blues',\n",
    "           vmin=0.65)"
   ]
  },
  {
   "cell_type": "code",
   "execution_count": 96,
   "metadata": {},
   "outputs": [
    {
     "data": {
      "text/plain": [
       "0.33374228805349926"
      ]
     },
     "execution_count": 96,
     "metadata": {},
     "output_type": "execute_result"
    }
   ],
   "source": [
    "# AP (lower than individual models because we dont have enough threshholds)\n",
    "average_precision_score(y_test, \n",
    "                        y_pred_mean)"
   ]
  }
 ],
 "metadata": {
  "kernelspec": {
   "display_name": "Python 3",
   "language": "python",
   "name": "python3"
  },
  "language_info": {
   "codemirror_mode": {
    "name": "ipython",
    "version": 3
   },
   "file_extension": ".py",
   "mimetype": "text/x-python",
   "name": "python",
   "nbconvert_exporter": "python",
   "pygments_lexer": "ipython3",
   "version": "3.6.7"
  },
  "toc": {
   "base_numbering": 1,
   "nav_menu": {},
   "number_sections": true,
   "sideBar": true,
   "skip_h1_title": true,
   "title_cell": "Table of Contents",
   "title_sidebar": "Contents",
   "toc_cell": true,
   "toc_position": {},
   "toc_section_display": true,
   "toc_window_display": true
  }
 },
 "nbformat": 4,
 "nbformat_minor": 2
}
