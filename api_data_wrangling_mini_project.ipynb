{
 "cells": [
  {
   "cell_type": "markdown",
   "metadata": {},
   "source": [
    "This exercise will require you to pull some data from the Qunadl API. Qaundl is currently the most widely used aggregator of financial market data."
   ]
  },
  {
   "cell_type": "markdown",
   "metadata": {},
   "source": [
    "As a first step, you will need to register a free account on the http://www.quandl.com website."
   ]
  },
  {
   "cell_type": "markdown",
   "metadata": {},
   "source": [
    "After you register, you will be provided with a unique API key, that you should store:"
   ]
  },
  {
   "cell_type": "code",
   "execution_count": 2,
   "metadata": {},
   "outputs": [],
   "source": [
    "# Store the API key as a string - according to PEP8, constants are always named in all upper case\n",
    "exec(open ('../../config.py').read ()) # Load file where API keys are stored\n",
    "API_KEY = QUANDL_API_KEY"
   ]
  },
  {
   "cell_type": "markdown",
   "metadata": {},
   "source": [
    "Qaundl has a large number of data sources, but, unfortunately, most of them require a Premium subscription. Still, there are also a good number of free datasets."
   ]
  },
  {
   "cell_type": "markdown",
   "metadata": {},
   "source": [
    "For this mini project, we will focus on equities data from the Frankfurt Stock Exhange (FSE), which is available for free. We'll try and analyze the stock prices of a company called Carl Zeiss Meditec, which manufactures tools for eye examinations, as well as medical lasers for laser eye surgery: https://www.zeiss.com/meditec/int/home.html. The company is listed under the stock ticker AFX_X."
   ]
  },
  {
   "cell_type": "markdown",
   "metadata": {},
   "source": [
    "You can find the detailed Quandl API instructions here: https://docs.quandl.com/docs/time-series"
   ]
  },
  {
   "cell_type": "markdown",
   "metadata": {},
   "source": [
    "While there is a dedicated Python package for connecting to the Quandl API, we would prefer that you use the *requests* package, which can be easily downloaded using *pip* or *conda*. You can find the documentation for the package here: http://docs.python-requests.org/en/master/ "
   ]
  },
  {
   "cell_type": "markdown",
   "metadata": {},
   "source": [
    "Finally, apart from the *requests* package, you are encouraged to not use any third party Python packages, such as *pandas*, and instead focus on what's available in the Python Standard Library (the *collections* module might come in handy: https://pymotw.com/3/collections/).\n",
    "Also, since you won't have access to DataFrames, you are encouraged to us Python's native data structures - preferably dictionaries, though some questions can also be answered using lists.\n",
    "You can read more on these data structures here: https://docs.python.org/3/tutorial/datastructures.html"
   ]
  },
  {
   "cell_type": "markdown",
   "metadata": {},
   "source": [
    "Keep in mind that the JSON responses you will be getting from the API map almost one-to-one to Python's dictionaries. Unfortunately, they can be very nested, so make sure you read up on indexing dictionaries in the documentation provided above."
   ]
  },
  {
   "cell_type": "code",
   "execution_count": 3,
   "metadata": {},
   "outputs": [],
   "source": [
    "# First, import the relevant modules\n",
    "import requests\n",
    "from collections import namedtuple"
   ]
  },
  {
   "cell_type": "code",
   "execution_count": 4,
   "metadata": {},
   "outputs": [],
   "source": [
    "# Now, call the Quandl API and pull out a small sample of the data (only one day) to get a glimpse\n",
    "# into the JSON structure that will be returned\n",
    "url= 'https://www.quandl.com/api/v3/datasets/FSE/AFX_X.json?&start_date=2018-08-21&end_date=2018-08-21&api_key={}' \\\n",
    "        .format(API_KEY)\n",
    "r = requests.get(url)"
   ]
  },
  {
   "cell_type": "code",
   "execution_count": 5,
   "metadata": {},
   "outputs": [
    {
     "name": "stdout",
     "output_type": "stream",
     "text": [
      "id :\n",
      " 10095370 \n",
      "\n",
      "dataset_code :\n",
      " AFX_X \n",
      "\n",
      "database_code :\n",
      " FSE \n",
      "\n",
      "name :\n",
      " Carl Zeiss Meditec (AFX_X) \n",
      "\n",
      "description :\n",
      " Stock Prices for Carl Zeiss Meditec (AFX) from the Frankfurt Stock Exchange.<br><br>Trading System: Xetra<br><br>ISIN: DE0005313704 \n",
      "\n",
      "refreshed_at :\n",
      " 2018-08-22T22:28:34.024Z \n",
      "\n",
      "newest_available_date :\n",
      " 2018-08-22 \n",
      "\n",
      "oldest_available_date :\n",
      " 2000-06-07 \n",
      "\n",
      "column_names :\n",
      " ['Date', 'Open', 'High', 'Low', 'Close', 'Change', 'Traded Volume', 'Turnover', 'Last Price of the Day', 'Daily Traded Units', 'Daily Turnover'] \n",
      "\n",
      "frequency :\n",
      " daily \n",
      "\n",
      "type :\n",
      " Time Series \n",
      "\n",
      "premium :\n",
      " False \n",
      "\n",
      "limit :\n",
      " None \n",
      "\n",
      "transform :\n",
      " None \n",
      "\n",
      "column_index :\n",
      " None \n",
      "\n",
      "start_date :\n",
      " 2018-08-21 \n",
      "\n",
      "end_date :\n",
      " 2018-08-21 \n",
      "\n",
      "data :\n",
      " [['2018-08-21', None, 74.55, 73.0, 73.9, None, 75511.0, 5575558.0, None, None, None]] \n",
      "\n",
      "collapse :\n",
      " None \n",
      "\n",
      "order :\n",
      " None \n",
      "\n",
      "database_id :\n",
      " 6129 \n",
      "\n"
     ]
    }
   ],
   "source": [
    "# Inspect the JSON structure of the object you created, and take note of how nested it is,\n",
    "# as well as the overall structure\n",
    "\n",
    "# The top level dictionary only has one key ('dataset'), so let's focus on its value, which is another dictionary.\n",
    "for key, value in r.json()['dataset'].items(): \n",
    "    print(key, \":\\n\", value, \"\\n\")"
   ]
  },
  {
   "cell_type": "markdown",
   "metadata": {},
   "source": [
    "##  These are your tasks for this mini project:"
   ]
  },
  {
   "cell_type": "markdown",
   "metadata": {
    "collapsed": true
   },
   "source": [
    "**1. Collect data from the Franfurt Stock Exchange, for the ticker AFX_X, for the whole year 2017 (keep in mind that the date format is YYYY-MM-DD).**"
   ]
  },
  {
   "cell_type": "code",
   "execution_count": 6,
   "metadata": {},
   "outputs": [],
   "source": [
    "url= 'https://www.quandl.com/api/v3/datasets/FSE/AFX_X.json?&start_date=2017-01-01&end_date=2017-12-31&api_key={}'.format(API_KEY)\n",
    "r = requests.get(url)"
   ]
  },
  {
   "cell_type": "markdown",
   "metadata": {},
   "source": [
    "**2. Convert the returned JSON object into a Python dictionary.**"
   ]
  },
  {
   "cell_type": "code",
   "execution_count": 7,
   "metadata": {},
   "outputs": [],
   "source": [
    "r_json = r.json()"
   ]
  },
  {
   "cell_type": "markdown",
   "metadata": {},
   "source": [
    "**3. Calculate what the highest and lowest opening prices were for the stock in this period.**"
   ]
  },
  {
   "cell_type": "markdown",
   "metadata": {},
   "source": [
    "The challenge is that the object that contains the data of interest is a list of lists.  To make accessing the relevant data easier, I start by converting this object into a named tuple."
   ]
  },
  {
   "cell_type": "code",
   "execution_count": 8,
   "metadata": {},
   "outputs": [],
   "source": [
    "# Replace spaces in column names\n",
    "names = [name.replace(' ', '_') for name in r_json['dataset']['column_names']]\n",
    "\n",
    "# Create namedtuple class enter an empty list where to store instances\n",
    "Data = namedtuple('data', names)\n",
    "all_data =[]\n",
    "\n",
    "# Create namedtuple out of 'dataset' (which currently is a list of list) and append to list.\n",
    "for observation in r_json['dataset']['data']:\n",
    "    all_data.append(Data._make(observation))"
   ]
  },
  {
   "cell_type": "code",
   "execution_count": 9,
   "metadata": {},
   "outputs": [
    {
     "data": {
      "text/plain": [
       "[data(Date='2017-12-29', Open=51.76, High=51.94, Low=51.45, Close=51.76, Change=None, Traded_Volume=34640.0, Turnover=1792304.0, Last_Price_of_the_Day=None, Daily_Traded_Units=None, Daily_Turnover=None),\n",
       " data(Date='2017-12-28', Open=51.65, High=51.82, Low=51.43, Close=51.6, Change=None, Traded_Volume=40660.0, Turnover=2099024.0, Last_Price_of_the_Day=None, Daily_Traded_Units=None, Daily_Turnover=None),\n",
       " data(Date='2017-12-27', Open=51.45, High=51.89, Low=50.76, Close=51.82, Change=None, Traded_Volume=57452.0, Turnover=2957018.0, Last_Price_of_the_Day=None, Daily_Traded_Units=None, Daily_Turnover=None),\n",
       " data(Date='2017-12-22', Open=51.05, High=51.5, Low=50.92, Close=51.32, Change=None, Traded_Volume=71165.0, Turnover=3641949.0, Last_Price_of_the_Day=None, Daily_Traded_Units=None, Daily_Turnover=None),\n",
       " data(Date='2017-12-21', Open=51.16, High=51.52, Low=50.9, Close=51.4, Change=None, Traded_Volume=120649.0, Turnover=6179433.0, Last_Price_of_the_Day=None, Daily_Traded_Units=None, Daily_Turnover=None),\n",
       " data(Date='2017-12-20', Open=51.88, High=52.04, Low=51.2, Close=51.27, Change=None, Traded_Volume=50587.0, Turnover=2610258.0, Last_Price_of_the_Day=None, Daily_Traded_Units=None, Daily_Turnover=None),\n",
       " data(Date='2017-12-19', Open=52.73, High=52.73, Low=51.07, Close=51.66, Change=None, Traded_Volume=137313.0, Turnover=7102361.0, Last_Price_of_the_Day=None, Daily_Traded_Units=None, Daily_Turnover=None),\n",
       " data(Date='2017-12-18', Open=52.37, High=52.75, Low=51.61, Close=52.62, Change=None, Traded_Volume=129733.0, Turnover=6770499.0, Last_Price_of_the_Day=None, Daily_Traded_Units=None, Daily_Turnover=None),\n",
       " data(Date='2017-12-15', Open=52.7, High=52.7, Low=51.64, Close=52.01, Change=None, Traded_Volume=204080.0, Turnover=10596319.0, Last_Price_of_the_Day=None, Daily_Traded_Units=None, Daily_Turnover=None),\n",
       " data(Date='2017-12-14', Open=53.11, High=53.54, Low=52.15, Close=52.67, Change=None, Traded_Volume=132981.0, Turnover=7016953.0, Last_Price_of_the_Day=None, Daily_Traded_Units=None, Daily_Turnover=None),\n",
       " data(Date='2017-12-13', Open=52.64, High=53.35, Low=52.48, Close=53.09, Change=None, Traded_Volume=128434.0, Turnover=6801159.0, Last_Price_of_the_Day=None, Daily_Traded_Units=None, Daily_Turnover=None),\n",
       " data(Date='2017-12-12', Open=52.29, High=53.1, Low=51.82, Close=52.43, Change=None, Traded_Volume=87911.0, Turnover=4615924.0, Last_Price_of_the_Day=None, Daily_Traded_Units=None, Daily_Turnover=None),\n",
       " data(Date='2017-12-11', Open=52.28, High=52.45, Low=51.26, Close=52.14, Change=None, Traded_Volume=71817.0, Turnover=3724193.0, Last_Price_of_the_Day=None, Daily_Traded_Units=None, Daily_Turnover=None),\n",
       " data(Date='2017-12-08', Open=51.5, High=52.83, Low=51.28, Close=52.12, Change=None, Traded_Volume=109157.0, Turnover=5690648.0, Last_Price_of_the_Day=None, Daily_Traded_Units=None, Daily_Turnover=None),\n",
       " data(Date='2017-12-07', Open=50.89, High=51.47, Low=50.81, Close=51.47, Change=None, Traded_Volume=48123.0, Turnover=2463848.0, Last_Price_of_the_Day=None, Daily_Traded_Units=None, Daily_Turnover=None),\n",
       " data(Date='2017-12-06', Open=50.8, High=51.11, Low=50.39, Close=50.89, Change=None, Traded_Volume=88730.0, Turnover=4504075.0, Last_Price_of_the_Day=None, Daily_Traded_Units=None, Daily_Turnover=None),\n",
       " data(Date='2017-12-05', Open=51.21, High=51.38, Low=50.4, Close=51.25, Change=None, Traded_Volume=83023.0, Turnover=4231971.0, Last_Price_of_the_Day=None, Daily_Traded_Units=None, Daily_Turnover=None),\n",
       " data(Date='2017-12-04', Open=49.5, High=51.23, Low=49.5, Close=51.14, Change=None, Traded_Volume=94385.0, Turnover=4800027.0, Last_Price_of_the_Day=None, Daily_Traded_Units=None, Daily_Turnover=None),\n",
       " data(Date='2017-12-01', Open=49.52, High=50.49, Low=49.17, Close=49.86, Change=None, Traded_Volume=101733.0, Turnover=5065932.0, Last_Price_of_the_Day=None, Daily_Traded_Units=None, Daily_Turnover=None),\n",
       " data(Date='2017-11-30', Open=48.64, High=49.84, Low=48.28, Close=49.7, Change=None, Traded_Volume=123019.0, Turnover=6085171.0, Last_Price_of_the_Day=None, Daily_Traded_Units=None, Daily_Turnover=None),\n",
       " data(Date='2017-11-29', Open=49.64, High=49.64, Low=48.7, Close=48.75, Change=None, Traded_Volume=67342.0, Turnover=3292223.0, Last_Price_of_the_Day=None, Daily_Traded_Units=None, Daily_Turnover=None),\n",
       " data(Date='2017-11-28', Open=49.09, High=49.89, Low=49.03, Close=49.25, Change=None, Traded_Volume=42669.0, Turnover=2107358.0, Last_Price_of_the_Day=None, Daily_Traded_Units=None, Daily_Turnover=None),\n",
       " data(Date='2017-11-27', Open=49.13, High=49.73, Low=48.96, Close=49.2, Change=None, Traded_Volume=102180.0, Turnover=5055762.0, Last_Price_of_the_Day=None, Daily_Traded_Units=None, Daily_Turnover=None),\n",
       " data(Date='2017-11-24', Open=49.11, High=49.41, Low=48.87, Close=49.11, Change=None, Traded_Volume=50350.0, Turnover=2472842.0, Last_Price_of_the_Day=None, Daily_Traded_Units=None, Daily_Turnover=None),\n",
       " data(Date='2017-11-23', Open=48.8, High=49.46, Low=48.45, Close=49.2, Change=None, Traded_Volume=38834.0, Turnover=1909352.0, Last_Price_of_the_Day=None, Daily_Traded_Units=None, Daily_Turnover=None),\n",
       " data(Date='2017-11-22', Open=48.4, High=49.61, Low=48.39, Close=48.8, Change=None, Traded_Volume=91142.0, Turnover=4478093.0, Last_Price_of_the_Day=None, Daily_Traded_Units=None, Daily_Turnover=None),\n",
       " data(Date='2017-11-21', Open=47.25, High=48.59, Low=46.78, Close=48.39, Change=None, Traded_Volume=78502.0, Turnover=3782098.0, Last_Price_of_the_Day=None, Daily_Traded_Units=None, Daily_Turnover=None),\n",
       " data(Date='2017-11-20', Open=46.57, High=47.38, Low=46.54, Close=47.04, Change=None, Traded_Volume=97252.0, Turnover=4563515.0, Last_Price_of_the_Day=None, Daily_Traded_Units=None, Daily_Turnover=None),\n",
       " data(Date='2017-11-17', Open=47.03, High=47.15, Low=46.8, Close=46.84, Change=None, Traded_Volume=54107.0, Turnover=2540820.0, Last_Price_of_the_Day=None, Daily_Traded_Units=None, Daily_Turnover=None),\n",
       " data(Date='2017-11-16', Open=47.09, High=47.23, Low=46.55, Close=47.03, Change=None, Traded_Volume=89373.0, Turnover=4195732.0, Last_Price_of_the_Day=None, Daily_Traded_Units=None, Daily_Turnover=None),\n",
       " data(Date='2017-11-15', Open=47.98, High=48.01, Low=46.75, Close=47.05, Change=None, Traded_Volume=67593.0, Turnover=3188321.0, Last_Price_of_the_Day=None, Daily_Traded_Units=None, Daily_Turnover=None),\n",
       " data(Date='2017-11-14', Open=48.4, High=48.9, Low=47.84, Close=48.0, Change=None, Traded_Volume=67672.0, Turnover=3259979.0, Last_Price_of_the_Day=None, Daily_Traded_Units=None, Daily_Turnover=None),\n",
       " data(Date='2017-11-13', Open=48.38, High=48.61, Low=47.76, Close=48.34, Change=None, Traded_Volume=76286.0, Turnover=3681337.0, Last_Price_of_the_Day=None, Daily_Traded_Units=None, Daily_Turnover=None),\n",
       " data(Date='2017-11-10', Open=47.3, High=48.89, Low=47.16, Close=48.34, Change=None, Traded_Volume=90245.0, Turnover=4361552.0, Last_Price_of_the_Day=None, Daily_Traded_Units=None, Daily_Turnover=None),\n",
       " data(Date='2017-11-09', Open=47.65, High=48.06, Low=47.09, Close=47.21, Change=None, Traded_Volume=120268.0, Turnover=5712034.0, Last_Price_of_the_Day=None, Daily_Traded_Units=None, Daily_Turnover=None),\n",
       " data(Date='2017-11-08', Open=46.42, High=47.72, Low=46.42, Close=47.47, Change=None, Traded_Volume=94195.0, Turnover=4463935.0, Last_Price_of_the_Day=None, Daily_Traded_Units=None, Daily_Turnover=None),\n",
       " data(Date='2017-11-07', Open=46.16, High=46.33, Low=45.84, Close=46.26, Change=None, Traded_Volume=48152.0, Turnover=2224221.0, Last_Price_of_the_Day=None, Daily_Traded_Units=None, Daily_Turnover=None),\n",
       " data(Date='2017-11-06', Open=45.81, High=46.09, Low=45.76, Close=45.99, Change=None, Traded_Volume=60716.0, Turnover=2789220.0, Last_Price_of_the_Day=None, Daily_Traded_Units=None, Daily_Turnover=None),\n",
       " data(Date='2017-11-03', Open=45.0, High=46.04, Low=44.83, Close=45.97, Change=None, Traded_Volume=56911.0, Turnover=2603498.0, Last_Price_of_the_Day=None, Daily_Traded_Units=None, Daily_Turnover=None),\n",
       " data(Date='2017-11-02', Open=45.88, High=46.06, Low=45.18, Close=45.27, Change=None, Traded_Volume=37958.0, Turnover=1724840.0, Last_Price_of_the_Day=None, Daily_Traded_Units=None, Daily_Turnover=None),\n",
       " data(Date='2017-11-01', Open=46.29, High=46.55, Low=45.97, Close=46.04, Change=None, Traded_Volume=56319.0, Turnover=2603859.0, Last_Price_of_the_Day=None, Daily_Traded_Units=None, Daily_Turnover=None),\n",
       " data(Date='2017-10-30', Open=46.53, High=46.65, Low=45.61, Close=45.76, Change=None, Traded_Volume=56245.0, Turnover=2585397.0, Last_Price_of_the_Day=None, Daily_Traded_Units=None, Daily_Turnover=None),\n",
       " data(Date='2017-10-27', Open=45.48, High=46.42, Low=45.46, Close=46.41, Change=None, Traded_Volume=74472.0, Turnover=3434087.0, Last_Price_of_the_Day=None, Daily_Traded_Units=None, Daily_Turnover=None),\n",
       " data(Date='2017-10-26', Open=45.2, High=45.41, Low=44.91, Close=45.41, Change=None, Traded_Volume=56319.0, Turnover=2548078.0, Last_Price_of_the_Day=None, Daily_Traded_Units=None, Daily_Turnover=None),\n",
       " data(Date='2017-10-25', Open=45.01, High=45.06, Low=44.7, Close=45.0, Change=None, Traded_Volume=47730.0, Turnover=2145697.0, Last_Price_of_the_Day=None, Daily_Traded_Units=None, Daily_Turnover=None),\n",
       " data(Date='2017-10-24', Open=45.16, High=45.27, Low=44.75, Close=44.85, Change=None, Traded_Volume=43042.0, Turnover=1937616.0, Last_Price_of_the_Day=None, Daily_Traded_Units=None, Daily_Turnover=None),\n",
       " data(Date='2017-10-23', Open=44.9, High=45.34, Low=44.89, Close=45.0, Change=None, Traded_Volume=43375.0, Turnover=1952918.0, Last_Price_of_the_Day=None, Daily_Traded_Units=None, Daily_Turnover=None),\n",
       " data(Date='2017-10-20', Open=45.08, High=45.34, Low=44.76, Close=44.87, Change=None, Traded_Volume=55707.0, Turnover=2503853.0, Last_Price_of_the_Day=None, Daily_Traded_Units=None, Daily_Turnover=None),\n",
       " data(Date='2017-10-19', Open=45.72, High=45.85, Low=44.79, Close=45.0, Change=None, Traded_Volume=59991.0, Turnover=2703085.0, Last_Price_of_the_Day=None, Daily_Traded_Units=None, Daily_Turnover=None),\n",
       " data(Date='2017-10-18', Open=46.01, High=46.2, Low=45.61, Close=45.77, Change=None, Traded_Volume=45263.0, Turnover=2076951.0, Last_Price_of_the_Day=None, Daily_Traded_Units=None, Daily_Turnover=None),\n",
       " data(Date='2017-10-17', Open=45.8, High=46.06, Low=45.37, Close=45.96, Change=None, Traded_Volume=65837.0, Turnover=3014080.0, Last_Price_of_the_Day=None, Daily_Traded_Units=None, Daily_Turnover=None),\n",
       " data(Date='2017-10-16', Open=45.61, High=45.75, Low=45.3, Close=45.55, Change=None, Traded_Volume=49246.0, Turnover=2243129.0, Last_Price_of_the_Day=None, Daily_Traded_Units=None, Daily_Turnover=None),\n",
       " data(Date='2017-10-13', Open=45.5, High=45.7, Low=45.37, Close=45.4, Change=None, Traded_Volume=43362.0, Turnover=1971801.0, Last_Price_of_the_Day=None, Daily_Traded_Units=None, Daily_Turnover=None),\n",
       " data(Date='2017-10-12', Open=45.58, High=45.58, Low=45.17, Close=45.43, Change=None, Traded_Volume=49180.0, Turnover=2233481.0, Last_Price_of_the_Day=None, Daily_Traded_Units=None, Daily_Turnover=None),\n",
       " data(Date='2017-10-11', Open=45.97, High=45.97, Low=45.25, Close=45.29, Change=None, Traded_Volume=69455.0, Turnover=3158321.0, Last_Price_of_the_Day=None, Daily_Traded_Units=None, Daily_Turnover=None),\n",
       " data(Date='2017-10-10', Open=45.64, High=46.04, Low=45.57, Close=45.84, Change=None, Traded_Volume=65860.0, Turnover=3016658.0, Last_Price_of_the_Day=None, Daily_Traded_Units=None, Daily_Turnover=None),\n",
       " data(Date='2017-10-09', Open=46.2, High=46.2, Low=45.6, Close=45.74, Change=None, Traded_Volume=44059.0, Turnover=2015453.0, Last_Price_of_the_Day=None, Daily_Traded_Units=None, Daily_Turnover=None),\n",
       " data(Date='2017-10-06', Open=46.19, High=46.19, Low=45.69, Close=46.0, Change=None, Traded_Volume=66760.0, Turnover=3066198.0, Last_Price_of_the_Day=None, Daily_Traded_Units=None, Daily_Turnover=None),\n",
       " data(Date='2017-10-05', Open=46.01, High=46.09, Low=45.63, Close=46.05, Change=None, Traded_Volume=94804.0, Turnover=4352002.0, Last_Price_of_the_Day=None, Daily_Traded_Units=None, Daily_Turnover=None),\n",
       " data(Date='2017-10-04', Open=45.36, High=46.17, Low=45.22, Close=46.11, Change=None, Traded_Volume=115706.0, Turnover=5313199.0, Last_Price_of_the_Day=None, Daily_Traded_Units=None, Daily_Turnover=None),\n",
       " data(Date='2017-10-02', Open=44.51, High=44.98, Low=44.18, Close=44.98, Change=None, Traded_Volume=95313.0, Turnover=4265024.0, Last_Price_of_the_Day=None, Daily_Traded_Units=None, Daily_Turnover=None),\n",
       " data(Date='2017-09-29', Open=43.58, High=44.17, Low=43.3, Close=44.17, Change=None, Traded_Volume=99821.0, Turnover=4384796.0, Last_Price_of_the_Day=None, Daily_Traded_Units=None, Daily_Turnover=None),\n",
       " data(Date='2017-09-28', Open=42.0, High=43.56, Low=42.0, Close=43.56, Change=None, Traded_Volume=157234.0, Turnover=6775569.0, Last_Price_of_the_Day=None, Daily_Traded_Units=None, Daily_Turnover=None),\n",
       " data(Date='2017-09-27', Open=42.35, High=42.49, Low=41.78, Close=42.04, Change=None, Traded_Volume=76600.0, Turnover=3219861.0, Last_Price_of_the_Day=None, Daily_Traded_Units=None, Daily_Turnover=None),\n",
       " data(Date='2017-09-26', Open=42.3, High=42.57, Low=42.11, Close=42.37, Change=None, Traded_Volume=51321.0, Turnover=2175381.0, Last_Price_of_the_Day=None, Daily_Traded_Units=None, Daily_Turnover=None),\n",
       " data(Date='2017-09-25', Open=42.3, High=42.3, Low=41.96, Close=42.07, Change=None, Traded_Volume=56224.0, Turnover=2366453.0, Last_Price_of_the_Day=None, Daily_Traded_Units=None, Daily_Turnover=None),\n",
       " data(Date='2017-09-22', Open=41.48, High=42.38, Low=41.48, Close=42.06, Change=None, Traded_Volume=79955.0, Turnover=3362517.0, Last_Price_of_the_Day=None, Daily_Traded_Units=None, Daily_Turnover=None),\n",
       " data(Date='2017-09-21', Open=42.29, High=42.29, Low=41.39, Close=41.46, Change=None, Traded_Volume=105194.0, Turnover=4378409.0, Last_Price_of_the_Day=None, Daily_Traded_Units=None, Daily_Turnover=None),\n",
       " data(Date='2017-09-20', Open=42.54, High=42.54, Low=41.99, Close=41.99, Change=None, Traded_Volume=57838.0, Turnover=2440557.0, Last_Price_of_the_Day=None, Daily_Traded_Units=None, Daily_Turnover=None),\n",
       " data(Date='2017-09-19', Open=42.65, High=42.65, Low=42.13, Close=42.44, Change=None, Traded_Volume=65546.0, Turnover=2777065.0, Last_Price_of_the_Day=None, Daily_Traded_Units=None, Daily_Turnover=None),\n",
       " data(Date='2017-09-18', Open=42.5, High=42.63, Low=42.23, Close=42.27, Change=None, Traded_Volume=44037.0, Turnover=1864954.0, Last_Price_of_the_Day=None, Daily_Traded_Units=None, Daily_Turnover=None),\n",
       " data(Date='2017-09-15', Open=42.29, High=42.81, Low=42.25, Close=42.42, Change=None, Traded_Volume=107144.0, Turnover=4555791.0, Last_Price_of_the_Day=None, Daily_Traded_Units=None, Daily_Turnover=None),\n",
       " data(Date='2017-09-14', Open=42.35, High=42.8, Low=42.35, Close=42.52, Change=None, Traded_Volume=65157.0, Turnover=2770696.0, Last_Price_of_the_Day=None, Daily_Traded_Units=None, Daily_Turnover=None),\n",
       " data(Date='2017-09-13', Open=42.49, High=42.69, Low=42.22, Close=42.45, Change=None, Traded_Volume=68801.0, Turnover=2921240.0, Last_Price_of_the_Day=None, Daily_Traded_Units=None, Daily_Turnover=None),\n",
       " data(Date='2017-09-12', Open=43.21, High=43.34, Low=42.62, Close=42.73, Change=None, Traded_Volume=52828.0, Turnover=2259924.0, Last_Price_of_the_Day=None, Daily_Traded_Units=None, Daily_Turnover=None),\n",
       " data(Date='2017-09-11', Open=42.81, High=42.89, Low=42.56, Close=42.85, Change=None, Traded_Volume=103273.0, Turnover=4415614.0, Last_Price_of_the_Day=None, Daily_Traded_Units=None, Daily_Turnover=None),\n",
       " data(Date='2017-09-08', Open=42.7, High=42.75, Low=42.56, Close=42.67, Change=None, Traded_Volume=59881.0, Turnover=2553977.0, Last_Price_of_the_Day=None, Daily_Traded_Units=None, Daily_Turnover=None),\n",
       " data(Date='2017-09-07', Open=43.0, High=43.02, Low=42.67, Close=42.77, Change=None, Traded_Volume=64320.0, Turnover=2751388.0, Last_Price_of_the_Day=None, Daily_Traded_Units=None, Daily_Turnover=None),\n",
       " data(Date='2017-09-06', Open=42.66, High=42.71, Low=42.34, Close=42.55, Change=None, Traded_Volume=71006.0, Turnover=3020229.0, Last_Price_of_the_Day=None, Daily_Traded_Units=None, Daily_Turnover=None),\n",
       " data(Date='2017-09-05', Open=43.0, High=43.19, Low=42.55, Close=42.62, Change=None, Traded_Volume=66351.0, Turnover=2846115.0, Last_Price_of_the_Day=None, Daily_Traded_Units=None, Daily_Turnover=None),\n",
       " data(Date='2017-09-04', Open=42.38, High=42.75, Low=41.95, Close=42.6, Change=None, Traded_Volume=105288.0, Turnover=4471634.0, Last_Price_of_the_Day=None, Daily_Traded_Units=None, Daily_Turnover=None),\n",
       " data(Date='2017-09-01', Open=42.16, High=43.06, Low=42.07, Close=42.41, Change=None, Traded_Volume=151474.0, Turnover=6453558.0, Last_Price_of_the_Day=None, Daily_Traded_Units=None, Daily_Turnover=None),\n",
       " data(Date='2017-08-31', Open=42.0, High=42.08, Low=41.12, Close=41.9, Change=None, Traded_Volume=157888.0, Turnover=6580200.0, Last_Price_of_the_Day=None, Daily_Traded_Units=None, Daily_Turnover=None),\n",
       " data(Date='2017-08-30', Open=42.0, High=42.2, Low=41.49, Close=41.94, Change=None, Traded_Volume=97804.0, Turnover=4090262.0, Last_Price_of_the_Day=None, Daily_Traded_Units=None, Daily_Turnover=None),\n",
       " data(Date='2017-08-29', Open=41.71, High=41.98, Low=41.33, Close=41.85, Change=None, Traded_Volume=98156.0, Turnover=4094452.0, Last_Price_of_the_Day=None, Daily_Traded_Units=None, Daily_Turnover=None),\n",
       " data(Date='2017-08-28', Open=42.11, High=42.25, Low=41.86, Close=41.91, Change=None, Traded_Volume=47130.0, Turnover=1978704.0, Last_Price_of_the_Day=None, Daily_Traded_Units=None, Daily_Turnover=None),\n",
       " data(Date='2017-08-25', Open=42.64, High=42.64, Low=42.05, Close=42.14, Change=None, Traded_Volume=69734.0, Turnover=2948016.0, Last_Price_of_the_Day=None, Daily_Traded_Units=None, Daily_Turnover=None),\n",
       " data(Date='2017-08-24', Open=42.72, High=43.05, Low=42.63, Close=42.69, Change=None, Traded_Volume=65213.0, Turnover=2792319.0, Last_Price_of_the_Day=None, Daily_Traded_Units=None, Daily_Turnover=None),\n",
       " data(Date='2017-08-23', Open=42.82, High=43.17, Low=42.6, Close=42.71, Change=None, Traded_Volume=70269.0, Turnover=3011578.0, Last_Price_of_the_Day=None, Daily_Traded_Units=None, Daily_Turnover=None),\n",
       " data(Date='2017-08-22', Open=42.46, High=42.96, Low=42.4, Close=42.71, Change=None, Traded_Volume=95376.0, Turnover=4075646.0, Last_Price_of_the_Day=None, Daily_Traded_Units=None, Daily_Turnover=None),\n",
       " data(Date='2017-08-21', Open=42.42, High=42.76, Low=42.2, Close=42.26, Change=None, Traded_Volume=68812.0, Turnover=2922972.0, Last_Price_of_the_Day=None, Daily_Traded_Units=None, Daily_Turnover=None),\n",
       " data(Date='2017-08-18', Open=42.28, High=42.6, Low=42.01, Close=42.41, Change=None, Traded_Volume=72886.0, Turnover=3092377.0, Last_Price_of_the_Day=None, Daily_Traded_Units=None, Daily_Turnover=None),\n",
       " data(Date='2017-08-17', Open=41.88, High=43.01, Low=41.76, Close=42.5, Change=None, Traded_Volume=131361.0, Turnover=5583704.0, Last_Price_of_the_Day=None, Daily_Traded_Units=None, Daily_Turnover=None),\n",
       " data(Date='2017-08-16', Open=42.4, High=42.62, Low=41.98, Close=42.05, Change=None, Traded_Volume=104676.0, Turnover=4408312.0, Last_Price_of_the_Day=None, Daily_Traded_Units=None, Daily_Turnover=None),\n",
       " data(Date='2017-08-15', Open=42.53, High=42.53, Low=42.2, Close=42.28, Change=None, Traded_Volume=64334.0, Turnover=2721852.0, Last_Price_of_the_Day=None, Daily_Traded_Units=None, Daily_Turnover=None),\n",
       " data(Date='2017-08-14', Open=42.12, High=42.69, Low=42.01, Close=42.3, Change=None, Traded_Volume=127682.0, Turnover=5416963.0, Last_Price_of_the_Day=None, Daily_Traded_Units=None, Daily_Turnover=None),\n",
       " data(Date='2017-08-11', Open=41.3, High=41.94, Low=40.96, Close=41.94, Change=None, Traded_Volume=183412.0, Turnover=7604144.0, Last_Price_of_the_Day=None, Daily_Traded_Units=None, Daily_Turnover=None),\n",
       " data(Date='2017-08-10', Open=41.73, High=41.99, Low=41.14, Close=41.68, Change=None, Traded_Volume=175161.0, Turnover=7303562.0, Last_Price_of_the_Day=None, Daily_Traded_Units=None, Daily_Turnover=None),\n",
       " data(Date='2017-08-09', Open=43.5, High=43.5, Low=41.64, Close=41.81, Change=None, Traded_Volume=355857.0, Turnover=15003956.0, Last_Price_of_the_Day=None, Daily_Traded_Units=None, Daily_Turnover=None),\n",
       " data(Date='2017-08-08', Open=44.9, High=45.09, Low=44.15, Close=44.37, Change=None, Traded_Volume=156168.0, Turnover=6941408.0, Last_Price_of_the_Day=None, Daily_Traded_Units=None, Daily_Turnover=None),\n",
       " data(Date='2017-08-07', Open=45.85, High=46.34, Low=44.02, Close=44.96, Change=None, Traded_Volume=164543.0, Turnover=7378816.0, Last_Price_of_the_Day=None, Daily_Traded_Units=None, Daily_Turnover=None),\n",
       " data(Date='2017-08-04', Open=45.13, High=45.13, Low=44.36, Close=45.07, Change=None, Traded_Volume=96202.0, Turnover=4306911.0, Last_Price_of_the_Day=None, Daily_Traded_Units=None, Daily_Turnover=None),\n",
       " data(Date='2017-08-03', Open=45.34, High=45.54, Low=44.91, Close=44.97, Change=None, Traded_Volume=77854.0, Turnover=3517146.0, Last_Price_of_the_Day=None, Daily_Traded_Units=None, Daily_Turnover=None),\n",
       " data(Date='2017-08-02', Open=45.25, High=45.77, Low=44.9, Close=45.56, Change=None, Traded_Volume=187468.0, Turnover=8528548.0, Last_Price_of_the_Day=None, Daily_Traded_Units=None, Daily_Turnover=None),\n",
       " data(Date='2017-08-01', Open=45.24, High=45.54, Low=45.1, Close=45.45, Change=None, Traded_Volume=74975.0, Turnover=3399891.0, Last_Price_of_the_Day=None, Daily_Traded_Units=None, Daily_Turnover=None),\n",
       " data(Date='2017-07-31', Open=44.94, High=45.75, Low=44.94, Close=45.3, Change=None, Traded_Volume=62672.0, Turnover=2844210.0, Last_Price_of_the_Day=None, Daily_Traded_Units=None, Daily_Turnover=None),\n",
       " data(Date='2017-07-28', Open=45.26, High=45.29, Low=44.75, Close=44.97, Change=None, Traded_Volume=114006.0, Turnover=5127247.0, Last_Price_of_the_Day=None, Daily_Traded_Units=None, Daily_Turnover=None),\n",
       " data(Date='2017-07-27', Open=45.16, High=45.45, Low=45.15, Close=45.25, Change=None, Traded_Volume=50557.0, Turnover=2290284.0, Last_Price_of_the_Day=None, Daily_Traded_Units=None, Daily_Turnover=None),\n",
       " data(Date='2017-07-26', Open=44.91, High=45.33, Low=44.46, Close=45.16, Change=None, Traded_Volume=81970.0, Turnover=3688510.0, Last_Price_of_the_Day=None, Daily_Traded_Units=None, Daily_Turnover=None),\n",
       " data(Date='2017-07-25', Open=44.7, High=45.04, Low=44.63, Close=44.82, Change=None, Traded_Volume=112224.0, Turnover=5033312.0, Last_Price_of_the_Day=None, Daily_Traded_Units=None, Daily_Turnover=None),\n",
       " data(Date='2017-07-24', Open=45.31, High=45.31, Low=44.49, Close=44.61, Change=None, Traded_Volume=104282.0, Turnover=4661866.0, Last_Price_of_the_Day=None, Daily_Traded_Units=None, Daily_Turnover=None),\n",
       " data(Date='2017-07-21', Open=45.57, High=45.88, Low=45.04, Close=45.44, Change=None, Traded_Volume=73422.0, Turnover=3334695.0, Last_Price_of_the_Day=None, Daily_Traded_Units=None, Daily_Turnover=None),\n",
       " data(Date='2017-07-20', Open=45.74, High=45.96, Low=45.23, Close=45.66, Change=None, Traded_Volume=87399.0, Turnover=3986488.0, Last_Price_of_the_Day=None, Daily_Traded_Units=None, Daily_Turnover=None),\n",
       " data(Date='2017-07-19', Open=45.06, High=45.72, Low=44.94, Close=45.57, Change=None, Traded_Volume=71971.0, Turnover=3273001.0, Last_Price_of_the_Day=None, Daily_Traded_Units=None, Daily_Turnover=None),\n",
       " data(Date='2017-07-18', Open=45.5, High=45.55, Low=44.7, Close=45.0, Change=None, Traded_Volume=104003.0, Turnover=4684627.0, Last_Price_of_the_Day=None, Daily_Traded_Units=None, Daily_Turnover=None),\n",
       " data(Date='2017-07-17', Open=45.6, High=46.23, Low=45.29, Close=45.6, Change=None, Traded_Volume=104995.0, Turnover=4801806.0, Last_Price_of_the_Day=None, Daily_Traded_Units=None, Daily_Turnover=None),\n",
       " data(Date='2017-07-14', Open=45.07, High=45.56, Low=44.83, Close=45.53, Change=None, Traded_Volume=67375.0, Turnover=3054060.0, Last_Price_of_the_Day=None, Daily_Traded_Units=None, Daily_Turnover=None),\n",
       " data(Date='2017-07-13', Open=44.67, High=45.18, Low=44.67, Close=44.95, Change=None, Traded_Volume=82745.0, Turnover=3718928.0, Last_Price_of_the_Day=None, Daily_Traded_Units=None, Daily_Turnover=None),\n",
       " data(Date='2017-07-12', Open=44.29, High=45.05, Low=43.89, Close=44.95, Change=None, Traded_Volume=115705.0, Turnover=5133971.0, Last_Price_of_the_Day=None, Daily_Traded_Units=None, Daily_Turnover=None),\n",
       " data(Date='2017-07-11', Open=44.94, High=44.94, Low=44.08, Close=44.2, Change=None, Traded_Volume=90538.0, Turnover=4010457.0, Last_Price_of_the_Day=None, Daily_Traded_Units=None, Daily_Turnover=None),\n",
       " data(Date='2017-07-10', Open=44.64, High=45.18, Low=44.51, Close=44.7, Change=None, Traded_Volume=71868.0, Turnover=3221218.0, Last_Price_of_the_Day=None, Daily_Traded_Units=None, Daily_Turnover=None),\n",
       " data(Date='2017-07-07', Open=44.79, High=44.79, Low=44.25, Close=44.53, Change=None, Traded_Volume=47999.0, Turnover=2136578.0, Last_Price_of_the_Day=None, Daily_Traded_Units=None, Daily_Turnover=None),\n",
       " data(Date='2017-07-06', Open=45.5, High=45.5, Low=44.15, Close=44.62, Change=None, Traded_Volume=66116.0, Turnover=2952605.0, Last_Price_of_the_Day=None, Daily_Traded_Units=None, Daily_Turnover=None),\n",
       " data(Date='2017-07-05', Open=44.67, High=45.36, Low=44.44, Close=45.19, Change=None, Traded_Volume=48706.0, Turnover=2189436.0, Last_Price_of_the_Day=None, Daily_Traded_Units=None, Daily_Turnover=None),\n",
       " data(Date='2017-07-04', Open=45.83, High=45.83, Low=44.74, Close=44.8, Change=None, Traded_Volume=50549.0, Turnover=2273551.0, Last_Price_of_the_Day=None, Daily_Traded_Units=None, Daily_Turnover=None),\n",
       " data(Date='2017-07-03', Open=45.29, High=45.83, Low=45.06, Close=45.75, Change=None, Traded_Volume=71381.0, Turnover=3251502.0, Last_Price_of_the_Day=None, Daily_Traded_Units=None, Daily_Turnover=None),\n",
       " data(Date='2017-06-30', Open=45.01, High=45.74, Low=45.0, Close=45.44, Change=None, Traded_Volume=136112.0, Turnover=6187148.0, Last_Price_of_the_Day=None, Daily_Traded_Units=None, Daily_Turnover=None),\n",
       " data(Date='2017-06-29', Open=45.73, High=45.81, Low=45.11, Close=45.2, Change=None, Traded_Volume=134965.0, Turnover=6132452.0, Last_Price_of_the_Day=None, Daily_Traded_Units=None, Daily_Turnover=None),\n",
       " data(Date='2017-06-28', Open=46.68, High=46.68, Low=45.41, Close=45.68, Change=None, Traded_Volume=117165.0, Turnover=5381488.0, Last_Price_of_the_Day=None, Daily_Traded_Units=None, Daily_Turnover=None),\n",
       " data(Date='2017-06-27', Open=47.23, High=47.33, Low=46.39, Close=46.83, Change=None, Traded_Volume=82492.0, Turnover=3866344.0, Last_Price_of_the_Day=None, Daily_Traded_Units=None, Daily_Turnover=None),\n",
       " data(Date='2017-06-26', Open=46.95, High=47.63, Low=46.91, Close=47.21, Change=None, Traded_Volume=73322.0, Turnover=3465639.0, Last_Price_of_the_Day=None, Daily_Traded_Units=None, Daily_Turnover=None),\n",
       " data(Date='2017-06-23', Open=47.29, High=47.4, Low=46.79, Close=46.99, Change=None, Traded_Volume=80586.0, Turnover=3792498.0, Last_Price_of_the_Day=None, Daily_Traded_Units=None, Daily_Turnover=None),\n",
       " data(Date='2017-06-22', Open=47.03, High=47.4, Low=46.75, Close=47.29, Change=None, Traded_Volume=56071.0, Turnover=2640508.0, Last_Price_of_the_Day=None, Daily_Traded_Units=None, Daily_Turnover=None),\n",
       " data(Date='2017-06-21', Open=47.46, High=47.48, Low=46.53, Close=46.99, Change=None, Traded_Volume=89752.0, Turnover=4206563.0, Last_Price_of_the_Day=None, Daily_Traded_Units=None, Daily_Turnover=None),\n",
       " data(Date='2017-06-20', Open=46.48, High=47.43, Low=46.27, Close=47.37, Change=None, Traded_Volume=108334.0, Turnover=5109730.0, Last_Price_of_the_Day=None, Daily_Traded_Units=None, Daily_Turnover=None),\n",
       " data(Date='2017-06-19', Open=46.9, High=46.9, Low=46.25, Close=46.64, Change=None, Traded_Volume=70056.0, Turnover=3260381.0, Last_Price_of_the_Day=None, Daily_Traded_Units=None, Daily_Turnover=None),\n",
       " data(Date='2017-06-16', Open=45.66, High=46.8, Low=45.66, Close=46.63, Change=None, Traded_Volume=202214.0, Turnover=9411695.0, Last_Price_of_the_Day=None, Daily_Traded_Units=None, Daily_Turnover=None),\n",
       " data(Date='2017-06-15', Open=46.34, High=46.34, Low=45.21, Close=45.67, Change=None, Traded_Volume=101733.0, Turnover=4635593.0, Last_Price_of_the_Day=None, Daily_Traded_Units=None, Daily_Turnover=None),\n",
       " data(Date='2017-06-14', Open=46.52, High=46.86, Low=46.05, Close=46.33, Change=None, Traded_Volume=83741.0, Turnover=3881453.0, Last_Price_of_the_Day=None, Daily_Traded_Units=None, Daily_Turnover=None),\n",
       " data(Date='2017-06-13', Open=46.5, High=46.51, Low=46.03, Close=46.32, Change=None, Traded_Volume=107644.0, Turnover=4981185.0, Last_Price_of_the_Day=None, Daily_Traded_Units=None, Daily_Turnover=None),\n",
       " data(Date='2017-06-12', Open=47.31, High=47.43, Low=45.89, Close=46.31, Change=None, Traded_Volume=112942.0, Turnover=5238390.0, Last_Price_of_the_Day=None, Daily_Traded_Units=None, Daily_Turnover=None),\n",
       " data(Date='2017-06-09', Open=46.77, High=47.44, Low=46.55, Close=47.44, Change=None, Traded_Volume=99674.0, Turnover=4702170.0, Last_Price_of_the_Day=None, Daily_Traded_Units=None, Daily_Turnover=None),\n",
       " data(Date='2017-06-08', Open=47.8, High=47.8, Low=46.27, Close=46.27, Change=None, Traded_Volume=1945.0, Turnover=90599.0, Last_Price_of_the_Day=None, Daily_Traded_Units=None, Daily_Turnover=None),\n",
       " data(Date='2017-06-07', Open=47.01, High=47.43, Low=47.01, Close=47.43, Change=None, Traded_Volume=1081.0, Turnover=51021.0, Last_Price_of_the_Day=None, Daily_Traded_Units=None, Daily_Turnover=None),\n",
       " data(Date='2017-06-06', Open=47.12, High=47.45, Low=46.21, Close=47.43, Change=None, Traded_Volume=686.0, Turnover=32083.0, Last_Price_of_the_Day=None, Daily_Traded_Units=None, Daily_Turnover=None),\n",
       " data(Date='2017-06-02', Open=46.8, High=46.99, Low=46.72, Close=46.99, Change=None, Traded_Volume=290.0, Turnover=13584.0, Last_Price_of_the_Day=None, Daily_Traded_Units=None, Daily_Turnover=None),\n",
       " data(Date='2017-06-01', Open=46.12, High=46.52, Low=45.89, Close=46.52, Change=None, Traded_Volume=106513.0, Turnover=4930686.0, Last_Price_of_the_Day=None, Daily_Traded_Units=None, Daily_Turnover=None),\n",
       " data(Date='2017-05-31', Open=45.22, High=46.26, Low=45.22, Close=45.86, Change=None, Traded_Volume=522.0, Turnover=24044.0, Last_Price_of_the_Day=None, Daily_Traded_Units=None, Daily_Turnover=None),\n",
       " data(Date='2017-05-30', Open=45.05, High=46.02, Low=45.05, Close=46.02, Change=None, Traded_Volume=587.0, Turnover=26792.0, Last_Price_of_the_Day=None, Daily_Traded_Units=None, Daily_Turnover=None),\n",
       " data(Date='2017-05-29', Open=45.61, High=45.61, Low=45.24, Close=45.32, Change=None, Traded_Volume=112.0, Turnover=5089.0, Last_Price_of_the_Day=None, Daily_Traded_Units=None, Daily_Turnover=None),\n",
       " data(Date='2017-05-26', Open=44.8, High=45.36, Low=44.71, Close=45.3, Change=None, Traded_Volume=74453.0, Turnover=3360707.0, Last_Price_of_the_Day=None, Daily_Traded_Units=None, Daily_Turnover=None),\n",
       " data(Date='2017-05-25', Open=44.8, High=44.87, Low=44.29, Close=44.78, Change=None, Traded_Volume=49970.0, Turnover=2231857.0, Last_Price_of_the_Day=None, Daily_Traded_Units=None, Daily_Turnover=None),\n",
       " data(Date='2017-05-24', Open=43.92, High=44.67, Low=43.92, Close=44.53, Change=None, Traded_Volume=111923.0, Turnover=4971343.0, Last_Price_of_the_Day=None, Daily_Traded_Units=None, Daily_Turnover=None),\n",
       " data(Date='2017-05-23', Open=43.67, High=44.13, Low=43.55, Close=43.9, Change=None, Traded_Volume=38308.0, Turnover=1681904.0, Last_Price_of_the_Day=None, Daily_Traded_Units=None, Daily_Turnover=None),\n",
       " data(Date='2017-05-22', Open=44.16, High=44.22, Low=43.44, Close=43.84, Change=None, Traded_Volume=70856.0, Turnover=3103013.0, Last_Price_of_the_Day=None, Daily_Traded_Units=None, Daily_Turnover=None),\n",
       " data(Date='2017-05-19', Open=43.74, High=44.12, Low=43.74, Close=44.12, Change=None, Traded_Volume=45.0, Turnover=1980.0, Last_Price_of_the_Day=None, Daily_Traded_Units=None, Daily_Turnover=None),\n",
       " data(Date='2017-05-18', Open=44.0, High=44.3, Low=43.29, Close=43.98, Change=None, Traded_Volume=166160.0, Turnover=7277314.0, Last_Price_of_the_Day=None, Daily_Traded_Units=None, Daily_Turnover=None),\n",
       " data(Date='2017-05-17', Open=45.06, High=45.34, Low=44.01, Close=44.19, Change=None, Traded_Volume=149515.0, Turnover=6664744.0, Last_Price_of_the_Day=None, Daily_Traded_Units=None, Daily_Turnover=None),\n",
       " data(Date='2017-05-16', Open=45.15, High=45.36, Low=44.56, Close=45.31, Change=None, Traded_Volume=101476.0, Turnover=4567885.0, Last_Price_of_the_Day=None, Daily_Traded_Units=None, Daily_Turnover=None),\n",
       " data(Date='2017-05-15', Open=45.09, High=45.78, Low=44.31, Close=45.14, Change=None, Traded_Volume=193702.0, Turnover=8734286.0, Last_Price_of_the_Day=None, Daily_Traded_Units=None, Daily_Turnover=None),\n",
       " data(Date='2017-05-12', Open=45.18, High=45.18, Low=44.16, Close=44.99, Change=None, Traded_Volume=159495.0, Turnover=7113519.0, Last_Price_of_the_Day=None, Daily_Traded_Units=None, Daily_Turnover=None),\n",
       " data(Date='2017-05-11', Open=43.4, High=46.06, Low=43.25, Close=45.0, Change=None, Traded_Volume=189125.0, Turnover=8496322.0, Last_Price_of_the_Day=None, Daily_Traded_Units=None, Daily_Turnover=None),\n",
       " data(Date='2017-05-10', Open=43.5, High=43.6, Low=42.53, Close=43.28, Change=None, Traded_Volume=91858.0, Turnover=3958630.0, Last_Price_of_the_Day=None, Daily_Traded_Units=None, Daily_Turnover=None),\n",
       " data(Date='2017-05-09', Open=41.83, High=43.55, Low=41.82, Close=43.3, Change=None, Traded_Volume=151439.0, Turnover=6538516.0, Last_Price_of_the_Day=None, Daily_Traded_Units=None, Daily_Turnover=None),\n",
       " data(Date='2017-05-08', Open=43.0, High=43.0, Low=42.04, Close=42.24, Change=None, Traded_Volume=97456.0, Turnover=4128048.0, Last_Price_of_the_Day=None, Daily_Traded_Units=None, Daily_Turnover=None),\n",
       " data(Date='2017-05-05', Open=42.52, High=42.91, Low=42.38, Close=42.75, Change=None, Traded_Volume=78512.0, Turnover=3353971.0, Last_Price_of_the_Day=None, Daily_Traded_Units=None, Daily_Turnover=None),\n",
       " data(Date='2017-05-04', Open=41.86, High=42.5, Low=41.71, Close=42.5, Change=None, Traded_Volume=82058.0, Turnover=3465505.0, Last_Price_of_the_Day=None, Daily_Traded_Units=None, Daily_Turnover=None),\n",
       " data(Date='2017-05-03', Open=42.2, High=42.29, Low=41.78, Close=41.9, Change=None, Traded_Volume=65266.0, Turnover=2738394.0, Last_Price_of_the_Day=None, Daily_Traded_Units=None, Daily_Turnover=None),\n",
       " data(Date='2017-05-02', Open=41.89, High=42.23, Low=41.76, Close=42.15, Change=None, Traded_Volume=86559.0, Turnover=3636583.0, Last_Price_of_the_Day=None, Daily_Traded_Units=None, Daily_Turnover=None),\n",
       " data(Date='2017-05-01', Open=None, High=42.245, Low=41.655, Close=41.72, Change=-0.44, Traded_Volume=86348.0, Turnover=3606589.0, Last_Price_of_the_Day=None, Daily_Traded_Units=None, Daily_Turnover=None),\n",
       " data(Date='2017-04-28', Open=42.17, High=42.25, Low=41.66, Close=41.72, Change=None, Traded_Volume=86348.0, Turnover=3606589.0, Last_Price_of_the_Day=None, Daily_Traded_Units=None, Daily_Turnover=None),\n",
       " data(Date='2017-04-27', Open=41.51, High=42.24, Low=41.51, Close=42.16, Change=None, Traded_Volume=151683.0, Turnover=6380639.0, Last_Price_of_the_Day=None, Daily_Traded_Units=None, Daily_Turnover=None),\n",
       " data(Date='2017-04-26', Open=41.88, High=41.94, Low=41.4, Close=41.5, Change=None, Traded_Volume=65847.0, Turnover=2743109.0, Last_Price_of_the_Day=None, Daily_Traded_Units=None, Daily_Turnover=None),\n",
       " data(Date='2017-04-25', Open=41.93, High=42.18, Low=41.66, Close=41.89, Change=None, Traded_Volume=85973.0, Turnover=3604204.0, Last_Price_of_the_Day=None, Daily_Traded_Units=None, Daily_Turnover=None),\n",
       " data(Date='2017-04-24', Open=42.01, High=42.02, Low=41.23, Close=41.81, Change=None, Traded_Volume=102084.0, Turnover=4247032.0, Last_Price_of_the_Day=None, Daily_Traded_Units=None, Daily_Turnover=None),\n",
       " data(Date='2017-04-21', Open=41.97, High=42.14, Low=41.01, Close=41.32, Change=None, Traded_Volume=186784.0, Turnover=7728103.0, Last_Price_of_the_Day=None, Daily_Traded_Units=None, Daily_Turnover=None),\n",
       " data(Date='2017-04-20', Open=42.5, High=42.64, Low=41.52, Close=41.93, Change=None, Traded_Volume=223621.0, Turnover=9418192.0, Last_Price_of_the_Day=None, Daily_Traded_Units=None, Daily_Turnover=None),\n",
       " data(Date='2017-04-19', Open=41.94, High=42.61, Low=41.94, Close=42.61, Change=None, Traded_Volume=92722.0, Turnover=3930856.0, Last_Price_of_the_Day=None, Daily_Traded_Units=None, Daily_Turnover=None),\n",
       " data(Date='2017-04-18', Open=42.24, High=42.4, Low=41.54, Close=42.0, Change=None, Traded_Volume=133057.0, Turnover=5587565.0, Last_Price_of_the_Day=None, Daily_Traded_Units=None, Daily_Turnover=None),\n",
       " data(Date='2017-04-17', Open=None, High=42.48, Low=41.985, Close=42.2, Change=None, Traded_Volume=88416.0, Turnover=3734717.0, Last_Price_of_the_Day=None, Daily_Traded_Units=None, Daily_Turnover=None),\n",
       " data(Date='2017-04-14', Open=None, High=42.48, Low=41.985, Close=42.2, Change=None, Traded_Volume=88416.0, Turnover=3734717.0, Last_Price_of_the_Day=None, Daily_Traded_Units=None, Daily_Turnover=None),\n",
       " data(Date='2017-04-13', Open=42.06, High=42.48, Low=41.99, Close=42.2, Change=None, Traded_Volume=88416.0, Turnover=3734717.0, Last_Price_of_the_Day=None, Daily_Traded_Units=None, Daily_Turnover=None),\n",
       " data(Date='2017-04-12', Open=42.02, High=42.45, Low=41.84, Close=42.2, Change=None, Traded_Volume=158278.0, Turnover=6672547.0, Last_Price_of_the_Day=None, Daily_Traded_Units=None, Daily_Turnover=None),\n",
       " data(Date='2017-04-11', Open=41.62, High=42.03, Low=41.53, Close=41.75, Change=None, Traded_Volume=107817.0, Turnover=4501109.0, Last_Price_of_the_Day=None, Daily_Traded_Units=None, Daily_Turnover=None),\n",
       " data(Date='2017-04-10', Open=41.46, High=41.68, Low=41.31, Close=41.68, Change=None, Traded_Volume=62297.0, Turnover=2585922.0, Last_Price_of_the_Day=None, Daily_Traded_Units=None, Daily_Turnover=None),\n",
       " data(Date='2017-04-07', Open=40.9, High=41.42, Low=40.84, Close=41.42, Change=None, Traded_Volume=81255.0, Turnover=3344628.0, Last_Price_of_the_Day=None, Daily_Traded_Units=None, Daily_Turnover=None),\n",
       " data(Date='2017-04-06', Open=40.96, High=41.25, Low=40.83, Close=41.05, Change=None, Traded_Volume=96794.0, Turnover=3968681.0, Last_Price_of_the_Day=None, Daily_Traded_Units=None, Daily_Turnover=None),\n",
       " data(Date='2017-04-05', Open=41.1, High=41.34, Low=40.79, Close=41.1, Change=None, Traded_Volume=156005.0, Turnover=6404780.0, Last_Price_of_the_Day=None, Daily_Traded_Units=None, Daily_Turnover=None),\n",
       " data(Date='2017-04-04', Open=39.5, High=40.88, Low=39.48, Close=40.81, Change=None, Traded_Volume=193156.0, Turnover=7822665.0, Last_Price_of_the_Day=None, Daily_Traded_Units=None, Daily_Turnover=None),\n",
       " data(Date='2017-04-03', Open=40.15, High=40.15, Low=39.54, Close=39.64, Change=None, Traded_Volume=127973.0, Turnover=5081376.0, Last_Price_of_the_Day=None, Daily_Traded_Units=None, Daily_Turnover=None),\n",
       " data(Date='2017-03-31', Open=39.77, High=40.07, Low=39.42, Close=39.98, Change=None, Traded_Volume=95382.0, Turnover=3795061.0, Last_Price_of_the_Day=None, Daily_Traded_Units=None, Daily_Turnover=None),\n",
       " data(Date='2017-03-30', Open=40.02, High=40.14, Low=39.42, Close=39.75, Change=None, Traded_Volume=189201.0, Turnover=7541354.0, Last_Price_of_the_Day=None, Daily_Traded_Units=None, Daily_Turnover=None),\n",
       " data(Date='2017-03-29', Open=39.39, High=40.01, Low=39.05, Close=40.01, Change=None, Traded_Volume=335406.0, Turnover=13349426.0, Last_Price_of_the_Day=None, Daily_Traded_Units=None, Daily_Turnover=None),\n",
       " data(Date='2017-03-28', Open=38.95, High=39.35, Low=38.79, Close=39.22, Change=None, Traded_Volume=115075.0, Turnover=4505494.0, Last_Price_of_the_Day=None, Daily_Traded_Units=None, Daily_Turnover=None),\n",
       " data(Date='2017-03-27', Open=38.73, High=39.1, Low=38.53, Close=38.85, Change=None, Traded_Volume=191515.0, Turnover=7446952.0, Last_Price_of_the_Day=None, Daily_Traded_Units=None, Daily_Turnover=None),\n",
       " data(Date='2017-03-24', Open=38.94, High=39.02, Low=38.6, Close=38.94, Change=None, Traded_Volume=210926.0, Turnover=8205507.0, Last_Price_of_the_Day=None, Daily_Traded_Units=None, Daily_Turnover=None),\n",
       " data(Date='2017-03-23', Open=39.01, High=39.25, Low=38.63, Close=38.96, Change=None, Traded_Volume=169971.0, Turnover=6621807.0, Last_Price_of_the_Day=None, Daily_Traded_Units=None, Daily_Turnover=None),\n",
       " data(Date='2017-03-22', Open=38.25, High=39.02, Low=37.53, Close=38.94, Change=None, Traded_Volume=670349.0, Turnover=25910543.0, Last_Price_of_the_Day=None, Daily_Traded_Units=None, Daily_Turnover=None),\n",
       " data(Date='2017-03-21', Open=41.8, High=41.83, Low=40.97, Close=40.98, Change=None, Traded_Volume=56906.0, Turnover=2349965.0, Last_Price_of_the_Day=None, Daily_Traded_Units=None, Daily_Turnover=None),\n",
       " data(Date='2017-03-20', Open=41.26, High=42.17, Low=41.26, Close=41.97, Change=None, Traded_Volume=97572.0, Turnover=4074891.0, Last_Price_of_the_Day=None, Daily_Traded_Units=None, Daily_Turnover=None),\n",
       " data(Date='2017-03-17', Open=41.47, High=41.59, Low=41.16, Close=41.34, Change=None, Traded_Volume=90109.0, Turnover=3734232.0, Last_Price_of_the_Day=None, Daily_Traded_Units=None, Daily_Turnover=None),\n",
       " data(Date='2017-03-16', Open=41.4, High=41.57, Low=41.09, Close=41.46, Change=None, Traded_Volume=55799.0, Turnover=2308423.0, Last_Price_of_the_Day=None, Daily_Traded_Units=None, Daily_Turnover=None),\n",
       " data(Date='2017-03-15', Open=41.4, High=41.5, Low=40.91, Close=41.25, Change=None, Traded_Volume=60324.0, Turnover=2488650.0, Last_Price_of_the_Day=None, Daily_Traded_Units=None, Daily_Turnover=None),\n",
       " data(Date='2017-03-14', Open=41.2, High=41.5, Low=41.2, Close=41.3, Change=None, Traded_Volume=60420.0, Turnover=2498025.0, Last_Price_of_the_Day=None, Daily_Traded_Units=None, Daily_Turnover=None),\n",
       " data(Date='2017-03-13', Open=41.4, High=41.46, Low=41.08, Close=41.3, Change=None, Traded_Volume=44803.0, Turnover=1850251.0, Last_Price_of_the_Day=None, Daily_Traded_Units=None, Daily_Turnover=None),\n",
       " data(Date='2017-03-10', Open=41.53, High=41.53, Low=41.16, Close=41.4, Change=None, Traded_Volume=38518.0, Turnover=1592270.0, Last_Price_of_the_Day=None, Daily_Traded_Units=None, Daily_Turnover=None),\n",
       " data(Date='2017-03-09', Open=41.61, High=41.61, Low=41.16, Close=41.4, Change=None, Traded_Volume=43988.0, Turnover=1819182.0, Last_Price_of_the_Day=None, Daily_Traded_Units=None, Daily_Turnover=None),\n",
       " data(Date='2017-03-08', Open=41.13, High=41.71, Low=40.95, Close=41.68, Change=None, Traded_Volume=45111.0, Turnover=1870935.0, Last_Price_of_the_Day=None, Daily_Traded_Units=None, Daily_Turnover=None),\n",
       " data(Date='2017-03-07', Open=41.5, High=41.8, Low=41.25, Close=41.42, Change=None, Traded_Volume=61925.0, Turnover=2569608.0, Last_Price_of_the_Day=None, Daily_Traded_Units=None, Daily_Turnover=None),\n",
       " data(Date='2017-03-06', Open=41.25, High=41.4, Low=40.81, Close=41.4, Change=None, Traded_Volume=46510.0, Turnover=1916799.0, Last_Price_of_the_Day=None, Daily_Traded_Units=None, Daily_Turnover=None),\n",
       " data(Date='2017-03-03', Open=41.12, High=41.22, Low=40.84, Close=41.18, Change=None, Traded_Volume=40800.0, Turnover=1675587.0, Last_Price_of_the_Day=None, Daily_Traded_Units=None, Daily_Turnover=None),\n",
       " data(Date='2017-03-02', Open=41.38, High=41.39, Low=40.76, Close=41.17, Change=None, Traded_Volume=49863.0, Turnover=2048153.0, Last_Price_of_the_Day=None, Daily_Traded_Units=None, Daily_Turnover=None),\n",
       " data(Date='2017-03-01', Open=41.19, High=41.57, Low=40.9, Close=41.2, Change=None, Traded_Volume=86753.0, Turnover=3569796.0, Last_Price_of_the_Day=None, Daily_Traded_Units=None, Daily_Turnover=None),\n",
       " data(Date='2017-02-28', Open=40.38, High=40.95, Low=40.38, Close=40.84, Change=None, Traded_Volume=67440.0, Turnover=2747011.0, Last_Price_of_the_Day=None, Daily_Traded_Units=None, Daily_Turnover=None),\n",
       " data(Date='2017-02-27', Open=39.75, High=40.64, Low=39.75, Close=40.39, Change=None, Traded_Volume=62655.0, Turnover=2520260.0, Last_Price_of_the_Day=None, Daily_Traded_Units=None, Daily_Turnover=None),\n",
       " data(Date='2017-02-24', Open=39.77, High=40.14, Low=38.91, Close=39.74, Change=None, Traded_Volume=101294.0, Turnover=4015150.0, Last_Price_of_the_Day=None, Daily_Traded_Units=None, Daily_Turnover=None),\n",
       " data(Date='2017-02-23', Open=39.72, High=39.98, Low=39.38, Close=39.79, Change=None, Traded_Volume=81945.0, Turnover=3260642.0, Last_Price_of_the_Day=None, Daily_Traded_Units=None, Daily_Turnover=None),\n",
       " data(Date='2017-02-22', Open=39.6, High=39.75, Low=39.27, Close=39.7, Change=None, Traded_Volume=77619.0, Turnover=3066894.0, Last_Price_of_the_Day=None, Daily_Traded_Units=None, Daily_Turnover=None),\n",
       " data(Date='2017-02-21', Open=38.85, High=39.57, Low=38.85, Close=39.45, Change=None, Traded_Volume=46070.0, Turnover=1808350.0, Last_Price_of_the_Day=None, Daily_Traded_Units=None, Daily_Turnover=None),\n",
       " data(Date='2017-02-20', Open=39.25, High=39.25, Low=38.81, Close=38.98, Change=None, Traded_Volume=37014.0, Turnover=1444138.0, Last_Price_of_the_Day=None, Daily_Traded_Units=None, Daily_Turnover=None),\n",
       " data(Date='2017-02-17', Open=38.8, High=39.03, Low=38.48, Close=39.02, Change=None, Traded_Volume=60583.0, Turnover=2352961.0, Last_Price_of_the_Day=None, Daily_Traded_Units=None, Daily_Turnover=None),\n",
       " data(Date='2017-02-16', Open=38.8, High=39.2, Low=38.25, Close=38.71, Change=None, Traded_Volume=84682.0, Turnover=3282322.0, Last_Price_of_the_Day=None, Daily_Traded_Units=None, Daily_Turnover=None),\n",
       " data(Date='2017-02-15', Open=38.5, High=38.93, Low=38.4, Close=38.72, Change=None, Traded_Volume=77420.0, Turnover=2996861.0, Last_Price_of_the_Day=None, Daily_Traded_Units=None, Daily_Turnover=None),\n",
       " data(Date='2017-02-14', Open=38.81, High=38.86, Low=38.0, Close=38.37, Change=None, Traded_Volume=82601.0, Turnover=3163898.0, Last_Price_of_the_Day=None, Daily_Traded_Units=None, Daily_Turnover=None),\n",
       " data(Date='2017-02-13', Open=37.37, High=39.36, Low=37.35, Close=38.53, Change=None, Traded_Volume=177171.0, Turnover=6804028.0, Last_Price_of_the_Day=None, Daily_Traded_Units=None, Daily_Turnover=None),\n",
       " data(Date='2017-02-10', Open=36.65, High=37.5, Low=36.57, Close=37.06, Change=None, Traded_Volume=115843.0, Turnover=4291017.0, Last_Price_of_the_Day=None, Daily_Traded_Units=None, Daily_Turnover=None),\n",
       " data(Date='2017-02-09', Open=36.2, High=36.25, Low=35.77, Close=36.25, Change=None, Traded_Volume=67781.0, Turnover=2445428.0, Last_Price_of_the_Day=None, Daily_Traded_Units=None, Daily_Turnover=None),\n",
       " data(Date='2017-02-08', Open=35.98, High=36.14, Low=35.84, Close=36.05, Change=None, Traded_Volume=39731.0, Turnover=1431205.0, Last_Price_of_the_Day=None, Daily_Traded_Units=None, Daily_Turnover=None),\n",
       " data(Date='2017-02-07', Open=35.56, High=36.05, Low=35.36, Close=35.89, Change=None, Traded_Volume=67410.0, Turnover=2410818.0, Last_Price_of_the_Day=None, Daily_Traded_Units=None, Daily_Turnover=None),\n",
       " data(Date='2017-02-06', Open=36.06, High=36.15, Low=35.6, Close=35.64, Change=None, Traded_Volume=41911.0, Turnover=1496794.0, Last_Price_of_the_Day=None, Daily_Traded_Units=None, Daily_Turnover=None),\n",
       " data(Date='2017-02-03', Open=36.02, High=36.2, Low=35.73, Close=36.1, Change=None, Traded_Volume=40705.0, Turnover=1464712.0, Last_Price_of_the_Day=None, Daily_Traded_Units=None, Daily_Turnover=None),\n",
       " data(Date='2017-02-02', Open=35.95, High=36.2, Low=35.7, Close=36.07, Change=None, Traded_Volume=54279.0, Turnover=1953176.0, Last_Price_of_the_Day=None, Daily_Traded_Units=None, Daily_Turnover=None),\n",
       " data(Date='2017-02-01', Open=34.75, High=36.0, Low=34.75, Close=35.94, Change=None, Traded_Volume=85137.0, Turnover=3038172.0, Last_Price_of_the_Day=None, Daily_Traded_Units=None, Daily_Turnover=None),\n",
       " data(Date='2017-01-31', Open=35.24, High=35.24, Low=34.56, Close=34.56, Change=None, Traded_Volume=63371.0, Turnover=2199583.0, Last_Price_of_the_Day=None, Daily_Traded_Units=None, Daily_Turnover=None),\n",
       " data(Date='2017-01-30', Open=35.38, High=35.59, Low=34.95, Close=35.15, Change=None, Traded_Volume=69603.0, Turnover=2457762.0, Last_Price_of_the_Day=None, Daily_Traded_Units=None, Daily_Turnover=None),\n",
       " data(Date='2017-01-27', Open=34.83, High=35.43, Low=34.81, Close=35.3, Change=None, Traded_Volume=69657.0, Turnover=2444913.0, Last_Price_of_the_Day=None, Daily_Traded_Units=None, Daily_Turnover=None),\n",
       " data(Date='2017-01-26', Open=35.07, High=35.58, Low=34.8, Close=34.89, Change=None, Traded_Volume=64103.0, Turnover=2249375.0, Last_Price_of_the_Day=None, Daily_Traded_Units=None, Daily_Turnover=None),\n",
       " data(Date='2017-01-25', Open=34.42, High=34.86, Low=34.03, Close=34.83, Change=None, Traded_Volume=56240.0, Turnover=1947147.0, Last_Price_of_the_Day=None, Daily_Traded_Units=None, Daily_Turnover=None),\n",
       " data(Date='2017-01-24', Open=34.0, High=34.35, Low=33.85, Close=34.22, Change=None, Traded_Volume=48797.0, Turnover=1666086.0, Last_Price_of_the_Day=None, Daily_Traded_Units=None, Daily_Turnover=None),\n",
       " data(Date='2017-01-23', Open=34.04, High=34.12, Low=33.62, Close=34.06, Change=None, Traded_Volume=55333.0, Turnover=1877957.0, Last_Price_of_the_Day=None, Daily_Traded_Units=None, Daily_Turnover=None),\n",
       " data(Date='2017-01-20', Open=34.54, High=34.59, Low=34.05, Close=34.17, Change=None, Traded_Volume=80246.0, Turnover=2743474.0, Last_Price_of_the_Day=None, Daily_Traded_Units=None, Daily_Turnover=None),\n",
       " data(Date='2017-01-19', Open=35.04, High=35.04, Low=34.42, Close=34.5, Change=None, Traded_Volume=73105.0, Turnover=2526731.0, Last_Price_of_the_Day=None, Daily_Traded_Units=None, Daily_Turnover=None),\n",
       " data(Date='2017-01-18', Open=35.04, High=35.51, Low=34.8, Close=34.9, Change=None, Traded_Volume=65931.0, Turnover=2311608.0, Last_Price_of_the_Day=None, Daily_Traded_Units=None, Daily_Turnover=None),\n",
       " data(Date='2017-01-17', Open=35.06, High=35.19, Low=34.79, Close=34.99, Change=None, Traded_Volume=39195.0, Turnover=1369857.0, Last_Price_of_the_Day=None, Daily_Traded_Units=None, Daily_Turnover=None),\n",
       " data(Date='2017-01-16', Open=34.85, High=35.24, Low=34.56, Close=35.07, Change=None, Traded_Volume=47879.0, Turnover=1678679.0, Last_Price_of_the_Day=None, Daily_Traded_Units=None, Daily_Turnover=None),\n",
       " data(Date='2017-01-13', Open=34.98, High=34.98, Low=34.6, Close=34.85, Change=None, Traded_Volume=59367.0, Turnover=2065534.0, Last_Price_of_the_Day=None, Daily_Traded_Units=None, Daily_Turnover=None),\n",
       " data(Date='2017-01-12', Open=35.38, High=35.38, Low=34.31, Close=34.9, Change=None, Traded_Volume=163860.0, Turnover=5703427.0, Last_Price_of_the_Day=None, Daily_Traded_Units=None, Daily_Turnover=None),\n",
       " data(Date='2017-01-11', Open=34.95, High=36.0, Low=34.84, Close=35.42, Change=None, Traded_Volume=123530.0, Turnover=4369079.0, Last_Price_of_the_Day=None, Daily_Traded_Units=None, Daily_Turnover=None),\n",
       " data(Date='2017-01-10', Open=34.8, High=34.98, Low=34.46, Close=34.91, Change=None, Traded_Volume=43976.0, Turnover=1528055.0, Last_Price_of_the_Day=None, Daily_Traded_Units=None, Daily_Turnover=None),\n",
       " data(Date='2017-01-09', Open=35.29, High=35.35, Low=34.43, Close=34.67, Change=None, Traded_Volume=62225.0, Turnover=2157182.0, Last_Price_of_the_Day=None, Daily_Traded_Units=None, Daily_Turnover=None),\n",
       " data(Date='2017-01-06', Open=34.91, High=35.21, Low=34.91, Close=35.04, Change=None, Traded_Volume=27507.0, Turnover=964046.0, Last_Price_of_the_Day=None, Daily_Traded_Units=None, Daily_Turnover=None),\n",
       " data(Date='2017-01-05', Open=35.02, High=35.2, Low=34.73, Close=35.06, Change=None, Traded_Volume=48412.0, Turnover=1692326.0, Last_Price_of_the_Day=None, Daily_Traded_Units=None, Daily_Turnover=None),\n",
       " data(Date='2017-01-04', Open=35.48, High=35.51, Low=34.75, Close=35.19, Change=None, Traded_Volume=54408.0, Turnover=1906810.0, Last_Price_of_the_Day=None, Daily_Traded_Units=None, Daily_Turnover=None),\n",
       " data(Date='2017-01-03', Open=35.9, High=35.93, Low=35.34, Close=35.48, Change=None, Traded_Volume=70618.0, Turnover=2515473.0, Last_Price_of_the_Day=None, Daily_Traded_Units=None, Daily_Turnover=None),\n",
       " data(Date='2017-01-02', Open=34.99, High=35.94, Low=34.99, Close=35.8, Change=None, Traded_Volume=44700.0, Turnover=1590561.0, Last_Price_of_the_Day=None, Daily_Traded_Units=None, Daily_Turnover=None)]"
      ]
     },
     "execution_count": 9,
     "metadata": {},
     "output_type": "execute_result"
    }
   ],
   "source": [
    "all_data"
   ]
  },
  {
   "cell_type": "code",
   "execution_count": 34,
   "metadata": {},
   "outputs": [
    {
     "name": "stdout",
     "output_type": "stream",
     "text": [
      "Extrema(highest_open=53.11, highest_date='2017-12-14', lowest_open=34.0, lowest_date='2017-01-24')\n"
     ]
    }
   ],
   "source": [
    "# Create another nametuple class to store highest and lowest opening prices, as well as the respective dates\n",
    "Extrema = namedtuple('Extrema', ['highest_open', 'highest_date', 'lowest_open', 'lowest_date'])\n",
    "\n",
    "# Instantiate it and filled with the first observation\n",
    "extrema = Extrema._make([all_data[0].Open, all_data[0].Date, all_data[0].Open, all_data[0].Date])\n",
    "\n",
    "# Loop over the remaining observations to find actual opening highs and lows\n",
    "for observation in all_data[1:]:\n",
    "    try:\n",
    "        if observation.Open > extrema.highest_open:\n",
    "            extrema = Extrema._make([observation.Open, observation.Date, extrema.lowest_open, extrema.lowest_date])\n",
    "        elif observation.Open < extrema.lowest_open:\n",
    "            extrema = Extrema._make([extrema.highest_open, extrema.highest_date, observation.Open, observation.Date])\n",
    "    \n",
    "    # If the opening value is missing, continue to the next observation\n",
    "    except TypeError:\n",
    "        continue\n",
    "    \n",
    "print(extrema)"
   ]
  },
  {
   "cell_type": "markdown",
   "metadata": {},
   "source": [
    "4. What was the largest change in any one day (based on High and Low price)?\n",
    "5. What was the largest change between any two days (based on Closing Price)?\n",
    "6. What was the average daily trading volume during this year?\n",
    "7. (Optional) What was the median trading volume during this year. (Note: you may need to implement your own function for calculating the median.)"
   ]
  }
 ],
 "metadata": {
  "kernelspec": {
   "display_name": "Python 3",
   "language": "python",
   "name": "python3"
  }
 },
 "nbformat": 4,
 "nbformat_minor": 2
}
